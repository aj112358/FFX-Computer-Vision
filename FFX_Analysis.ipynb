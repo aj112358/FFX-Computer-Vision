{
 "cells": [
  {
   "cell_type": "code",
   "execution_count": 99,
   "metadata": {},
   "outputs": [],
   "source": [
    "import pandas as pd\n",
    "import matplotlib.pyplot as plt\n",
    "import numpy as np\n",
    "import datetime as dt\n",
    "import seaborn as sns\n",
    "sns.set(style=\"darkgrid\")"
   ]
  },
  {
   "cell_type": "code",
   "execution_count": 103,
   "metadata": {},
   "outputs": [],
   "source": [
    "import datetime\n",
    "from datetime import datetime"
   ]
  },
  {
   "cell_type": "code",
   "execution_count": 35,
   "metadata": {},
   "outputs": [],
   "source": [
    "ffx = pandas.read_csv(\"ffxLighting.txt\", sep = \" \")"
   ]
  },
  {
   "cell_type": "code",
   "execution_count": 39,
   "metadata": {},
   "outputs": [],
   "source": [
    "ffx2 = pandas.read_csv(\"ffxLighting_new_july1.txt\")"
   ]
  },
  {
   "cell_type": "code",
   "execution_count": 37,
   "metadata": {},
   "outputs": [
    {
     "data": {
      "text/html": [
       "<div>\n",
       "<style scoped>\n",
       "    .dataframe tbody tr th:only-of-type {\n",
       "        vertical-align: middle;\n",
       "    }\n",
       "\n",
       "    .dataframe tbody tr th {\n",
       "        vertical-align: top;\n",
       "    }\n",
       "\n",
       "    .dataframe thead th {\n",
       "        text-align: right;\n",
       "    }\n",
       "</style>\n",
       "<table border=\"1\" class=\"dataframe\">\n",
       "  <thead>\n",
       "    <tr style=\"text-align: right;\">\n",
       "      <th></th>\n",
       "      <th>count,</th>\n",
       "      <th>date</th>\n",
       "      <th>timings</th>\n",
       "    </tr>\n",
       "  </thead>\n",
       "  <tbody>\n",
       "    <tr>\n",
       "      <th>0</th>\n",
       "      <td>1,</td>\n",
       "      <td>2020-06-28</td>\n",
       "      <td>16:40:11.538763</td>\n",
       "    </tr>\n",
       "    <tr>\n",
       "      <th>1</th>\n",
       "      <td>2,</td>\n",
       "      <td>2020-06-28</td>\n",
       "      <td>16:40:17.543537</td>\n",
       "    </tr>\n",
       "    <tr>\n",
       "      <th>2</th>\n",
       "      <td>3,</td>\n",
       "      <td>2020-06-28</td>\n",
       "      <td>16:40:28.666688</td>\n",
       "    </tr>\n",
       "    <tr>\n",
       "      <th>3</th>\n",
       "      <td>4,</td>\n",
       "      <td>2020-06-28</td>\n",
       "      <td>16:40:34.640885</td>\n",
       "    </tr>\n",
       "    <tr>\n",
       "      <th>4</th>\n",
       "      <td>5,</td>\n",
       "      <td>2020-06-28</td>\n",
       "      <td>16:40:45.889237</td>\n",
       "    </tr>\n",
       "  </tbody>\n",
       "</table>\n",
       "</div>"
      ],
      "text/plain": [
       "  count,        date          timings\n",
       "0     1,  2020-06-28  16:40:11.538763\n",
       "1     2,  2020-06-28  16:40:17.543537\n",
       "2     3,  2020-06-28  16:40:28.666688\n",
       "3     4,  2020-06-28  16:40:34.640885\n",
       "4     5,  2020-06-28  16:40:45.889237"
      ]
     },
     "execution_count": 37,
     "metadata": {},
     "output_type": "execute_result"
    }
   ],
   "source": [
    "ffx.head()"
   ]
  },
  {
   "cell_type": "code",
   "execution_count": 41,
   "metadata": {},
   "outputs": [
    {
     "data": {
      "text/html": [
       "<div>\n",
       "<style scoped>\n",
       "    .dataframe tbody tr th:only-of-type {\n",
       "        vertical-align: middle;\n",
       "    }\n",
       "\n",
       "    .dataframe tbody tr th {\n",
       "        vertical-align: top;\n",
       "    }\n",
       "\n",
       "    .dataframe thead th {\n",
       "        text-align: right;\n",
       "    }\n",
       "</style>\n",
       "<table border=\"1\" class=\"dataframe\">\n",
       "  <thead>\n",
       "    <tr style=\"text-align: right;\">\n",
       "      <th></th>\n",
       "      <th>count</th>\n",
       "      <th>timings</th>\n",
       "    </tr>\n",
       "  </thead>\n",
       "  <tbody>\n",
       "    <tr>\n",
       "      <th>0</th>\n",
       "      <td>1</td>\n",
       "      <td>2020-07-01 22:18:22.806651</td>\n",
       "    </tr>\n",
       "    <tr>\n",
       "      <th>1</th>\n",
       "      <td>2</td>\n",
       "      <td>2020-07-01 22:18:49.157322</td>\n",
       "    </tr>\n",
       "    <tr>\n",
       "      <th>2</th>\n",
       "      <td>3</td>\n",
       "      <td>2020-07-01 22:18:55.197844</td>\n",
       "    </tr>\n",
       "    <tr>\n",
       "      <th>3</th>\n",
       "      <td>4</td>\n",
       "      <td>2020-07-01 22:19:06.378970</td>\n",
       "    </tr>\n",
       "    <tr>\n",
       "      <th>4</th>\n",
       "      <td>5</td>\n",
       "      <td>2020-07-01 22:19:12.418819</td>\n",
       "    </tr>\n",
       "  </tbody>\n",
       "</table>\n",
       "</div>"
      ],
      "text/plain": [
       "   count                      timings\n",
       "0      1   2020-07-01 22:18:22.806651\n",
       "1      2   2020-07-01 22:18:49.157322\n",
       "2      3   2020-07-01 22:18:55.197844\n",
       "3      4   2020-07-01 22:19:06.378970\n",
       "4      5   2020-07-01 22:19:12.418819"
      ]
     },
     "execution_count": 41,
     "metadata": {},
     "output_type": "execute_result"
    }
   ],
   "source": [
    "ffx2.head()"
   ]
  },
  {
   "cell_type": "code",
   "execution_count": 45,
   "metadata": {},
   "outputs": [
    {
     "data": {
      "text/plain": [
       "(1859, 2)"
      ]
     },
     "execution_count": 45,
     "metadata": {},
     "output_type": "execute_result"
    }
   ],
   "source": [
    "ffx2.shape"
   ]
  },
  {
   "cell_type": "code",
   "execution_count": 46,
   "metadata": {},
   "outputs": [
    {
     "data": {
      "text/plain": [
       "Index(['count', ' timings'], dtype='object')"
      ]
     },
     "execution_count": 46,
     "metadata": {},
     "output_type": "execute_result"
    }
   ],
   "source": [
    "ffx2.columns"
   ]
  },
  {
   "cell_type": "code",
   "execution_count": 48,
   "metadata": {},
   "outputs": [
    {
     "data": {
      "text/plain": [
       "0        2020-07-01 22:18:22.806651\n",
       "1        2020-07-01 22:18:49.157322\n",
       "2        2020-07-01 22:18:55.197844\n",
       "3        2020-07-01 22:19:06.378970\n",
       "4        2020-07-01 22:19:12.418819\n",
       "                   ...             \n",
       "1854     2020-07-02 02:43:49.553087\n",
       "1855     2020-07-02 02:44:00.693588\n",
       "1856     2020-07-02 02:44:06.734364\n",
       "1857     2020-07-02 02:44:17.871546\n",
       "1858     2020-07-02 02:44:23.952632\n",
       "Name:  timings, Length: 1859, dtype: object"
      ]
     },
     "execution_count": 48,
     "metadata": {},
     "output_type": "execute_result"
    }
   ],
   "source": [
    "ffx2[\" timings\"]"
   ]
  },
  {
   "cell_type": "code",
   "execution_count": 50,
   "metadata": {},
   "outputs": [
    {
     "data": {
      "text/plain": [
       "' 2020-07-01 22:18:22.806651'"
      ]
     },
     "execution_count": 50,
     "metadata": {},
     "output_type": "execute_result"
    }
   ],
   "source": [
    "ffx2[\" timings\"][0]"
   ]
  },
  {
   "cell_type": "code",
   "execution_count": 51,
   "metadata": {},
   "outputs": [
    {
     "data": {
      "text/plain": [
       "str"
      ]
     },
     "execution_count": 51,
     "metadata": {},
     "output_type": "execute_result"
    }
   ],
   "source": [
    "type(ffx2[\" timings\"][0])"
   ]
  },
  {
   "cell_type": "markdown",
   "metadata": {},
   "source": [
    "Need to get rid of the stupid space in the timings column!!!!"
   ]
  },
  {
   "cell_type": "code",
   "execution_count": 52,
   "metadata": {},
   "outputs": [],
   "source": [
    "ffx2[\"datetime_samples\"] = ffx2[\" timings\"].apply(lambda string: string[1:])"
   ]
  },
  {
   "cell_type": "code",
   "execution_count": 53,
   "metadata": {},
   "outputs": [
    {
     "data": {
      "text/html": [
       "<div>\n",
       "<style scoped>\n",
       "    .dataframe tbody tr th:only-of-type {\n",
       "        vertical-align: middle;\n",
       "    }\n",
       "\n",
       "    .dataframe tbody tr th {\n",
       "        vertical-align: top;\n",
       "    }\n",
       "\n",
       "    .dataframe thead th {\n",
       "        text-align: right;\n",
       "    }\n",
       "</style>\n",
       "<table border=\"1\" class=\"dataframe\">\n",
       "  <thead>\n",
       "    <tr style=\"text-align: right;\">\n",
       "      <th></th>\n",
       "      <th>count</th>\n",
       "      <th>timings</th>\n",
       "      <th>datetime_samples</th>\n",
       "    </tr>\n",
       "  </thead>\n",
       "  <tbody>\n",
       "    <tr>\n",
       "      <th>0</th>\n",
       "      <td>1</td>\n",
       "      <td>2020-07-01 22:18:22.806651</td>\n",
       "      <td>2020-07-01 22:18:22.806651</td>\n",
       "    </tr>\n",
       "    <tr>\n",
       "      <th>1</th>\n",
       "      <td>2</td>\n",
       "      <td>2020-07-01 22:18:49.157322</td>\n",
       "      <td>2020-07-01 22:18:49.157322</td>\n",
       "    </tr>\n",
       "    <tr>\n",
       "      <th>2</th>\n",
       "      <td>3</td>\n",
       "      <td>2020-07-01 22:18:55.197844</td>\n",
       "      <td>2020-07-01 22:18:55.197844</td>\n",
       "    </tr>\n",
       "    <tr>\n",
       "      <th>3</th>\n",
       "      <td>4</td>\n",
       "      <td>2020-07-01 22:19:06.378970</td>\n",
       "      <td>2020-07-01 22:19:06.378970</td>\n",
       "    </tr>\n",
       "    <tr>\n",
       "      <th>4</th>\n",
       "      <td>5</td>\n",
       "      <td>2020-07-01 22:19:12.418819</td>\n",
       "      <td>2020-07-01 22:19:12.418819</td>\n",
       "    </tr>\n",
       "  </tbody>\n",
       "</table>\n",
       "</div>"
      ],
      "text/plain": [
       "   count                      timings            datetime_samples\n",
       "0      1   2020-07-01 22:18:22.806651  2020-07-01 22:18:22.806651\n",
       "1      2   2020-07-01 22:18:49.157322  2020-07-01 22:18:49.157322\n",
       "2      3   2020-07-01 22:18:55.197844  2020-07-01 22:18:55.197844\n",
       "3      4   2020-07-01 22:19:06.378970  2020-07-01 22:19:06.378970\n",
       "4      5   2020-07-01 22:19:12.418819  2020-07-01 22:19:12.418819"
      ]
     },
     "execution_count": 53,
     "metadata": {},
     "output_type": "execute_result"
    }
   ],
   "source": [
    "ffx2.head()"
   ]
  },
  {
   "cell_type": "code",
   "execution_count": 54,
   "metadata": {},
   "outputs": [
    {
     "data": {
      "text/plain": [
       "'2020-07-01 22:18:22.806651'"
      ]
     },
     "execution_count": 54,
     "metadata": {},
     "output_type": "execute_result"
    }
   ],
   "source": [
    "ffx2[\"datetime_samples\"][0]"
   ]
  },
  {
   "cell_type": "code",
   "execution_count": 56,
   "metadata": {},
   "outputs": [
    {
     "data": {
      "text/plain": [
       "str"
      ]
     },
     "execution_count": 56,
     "metadata": {},
     "output_type": "execute_result"
    }
   ],
   "source": [
    "# type(ffx2[\"datetime_samples\"]) # Series type\n",
    "type(ffx2[\"datetime_samples\"][0]) #str type"
   ]
  },
  {
   "cell_type": "code",
   "execution_count": 60,
   "metadata": {},
   "outputs": [],
   "source": [
    "ffx2[\"datetime_values\"] = pd.to_datetime(ffx2[\"datetime_samples\"])"
   ]
  },
  {
   "cell_type": "code",
   "execution_count": 66,
   "metadata": {},
   "outputs": [
    {
     "data": {
      "text/html": [
       "<div>\n",
       "<style scoped>\n",
       "    .dataframe tbody tr th:only-of-type {\n",
       "        vertical-align: middle;\n",
       "    }\n",
       "\n",
       "    .dataframe tbody tr th {\n",
       "        vertical-align: top;\n",
       "    }\n",
       "\n",
       "    .dataframe thead th {\n",
       "        text-align: right;\n",
       "    }\n",
       "</style>\n",
       "<table border=\"1\" class=\"dataframe\">\n",
       "  <thead>\n",
       "    <tr style=\"text-align: right;\">\n",
       "      <th></th>\n",
       "      <th>count</th>\n",
       "      <th>timings</th>\n",
       "      <th>datetime_samples</th>\n",
       "      <th>datetime_values</th>\n",
       "    </tr>\n",
       "  </thead>\n",
       "  <tbody>\n",
       "    <tr>\n",
       "      <th>0</th>\n",
       "      <td>1</td>\n",
       "      <td>2020-07-01 22:18:22.806651</td>\n",
       "      <td>2020-07-01 22:18:22.806651</td>\n",
       "      <td>2020-07-01 22:18:22.806651</td>\n",
       "    </tr>\n",
       "    <tr>\n",
       "      <th>1</th>\n",
       "      <td>2</td>\n",
       "      <td>2020-07-01 22:18:49.157322</td>\n",
       "      <td>2020-07-01 22:18:49.157322</td>\n",
       "      <td>2020-07-01 22:18:49.157322</td>\n",
       "    </tr>\n",
       "    <tr>\n",
       "      <th>2</th>\n",
       "      <td>3</td>\n",
       "      <td>2020-07-01 22:18:55.197844</td>\n",
       "      <td>2020-07-01 22:18:55.197844</td>\n",
       "      <td>2020-07-01 22:18:55.197844</td>\n",
       "    </tr>\n",
       "    <tr>\n",
       "      <th>3</th>\n",
       "      <td>4</td>\n",
       "      <td>2020-07-01 22:19:06.378970</td>\n",
       "      <td>2020-07-01 22:19:06.378970</td>\n",
       "      <td>2020-07-01 22:19:06.378970</td>\n",
       "    </tr>\n",
       "    <tr>\n",
       "      <th>4</th>\n",
       "      <td>5</td>\n",
       "      <td>2020-07-01 22:19:12.418819</td>\n",
       "      <td>2020-07-01 22:19:12.418819</td>\n",
       "      <td>2020-07-01 22:19:12.418819</td>\n",
       "    </tr>\n",
       "  </tbody>\n",
       "</table>\n",
       "</div>"
      ],
      "text/plain": [
       "   count                      timings            datetime_samples  \\\n",
       "0      1   2020-07-01 22:18:22.806651  2020-07-01 22:18:22.806651   \n",
       "1      2   2020-07-01 22:18:49.157322  2020-07-01 22:18:49.157322   \n",
       "2      3   2020-07-01 22:18:55.197844  2020-07-01 22:18:55.197844   \n",
       "3      4   2020-07-01 22:19:06.378970  2020-07-01 22:19:06.378970   \n",
       "4      5   2020-07-01 22:19:12.418819  2020-07-01 22:19:12.418819   \n",
       "\n",
       "             datetime_values  \n",
       "0 2020-07-01 22:18:22.806651  \n",
       "1 2020-07-01 22:18:49.157322  \n",
       "2 2020-07-01 22:18:55.197844  \n",
       "3 2020-07-01 22:19:06.378970  \n",
       "4 2020-07-01 22:19:12.418819  "
      ]
     },
     "execution_count": 66,
     "metadata": {},
     "output_type": "execute_result"
    }
   ],
   "source": [
    "ffx2.head()"
   ]
  },
  {
   "cell_type": "code",
   "execution_count": 67,
   "metadata": {},
   "outputs": [
    {
     "data": {
      "text/plain": [
       "0      2020-07-01 22:18:22.806651\n",
       "1      2020-07-01 22:18:49.157322\n",
       "2      2020-07-01 22:18:55.197844\n",
       "3      2020-07-01 22:19:06.378970\n",
       "4      2020-07-01 22:19:12.418819\n",
       "                  ...            \n",
       "1854   2020-07-02 02:43:49.553087\n",
       "1855   2020-07-02 02:44:00.693588\n",
       "1856   2020-07-02 02:44:06.734364\n",
       "1857   2020-07-02 02:44:17.871546\n",
       "1858   2020-07-02 02:44:23.952632\n",
       "Name: datetime_values, Length: 1859, dtype: datetime64[ns]"
      ]
     },
     "execution_count": 67,
     "metadata": {},
     "output_type": "execute_result"
    }
   ],
   "source": [
    "ffx2[\"datetime_values\"]"
   ]
  },
  {
   "cell_type": "code",
   "execution_count": 62,
   "metadata": {},
   "outputs": [
    {
     "data": {
      "text/plain": [
       "Timestamp('2020-07-01 22:18:22.806651')"
      ]
     },
     "execution_count": 62,
     "metadata": {},
     "output_type": "execute_result"
    }
   ],
   "source": [
    "ffx2[\"datetime_values\"][0]"
   ]
  },
  {
   "cell_type": "code",
   "execution_count": 105,
   "metadata": {},
   "outputs": [
    {
     "data": {
      "text/plain": [
       "pandas._libs.tslibs.timestamps.Timestamp"
      ]
     },
     "execution_count": 105,
     "metadata": {},
     "output_type": "execute_result"
    }
   ],
   "source": [
    "type(ffx2[\"datetime_values\"][0])"
   ]
  },
  {
   "cell_type": "code",
   "execution_count": 106,
   "metadata": {},
   "outputs": [
    {
     "data": {
      "text/plain": [
       "Timedelta('0 days 00:00:26.350671')"
      ]
     },
     "execution_count": 106,
     "metadata": {},
     "output_type": "execute_result"
    }
   ],
   "source": [
    "ffx2[\"datetime_values\"][1]-ffx2[\"datetime_values\"][0]"
   ]
  },
  {
   "cell_type": "code",
   "execution_count": 71,
   "metadata": {},
   "outputs": [],
   "source": [
    "ffx2[\"date\"] = ffx2[\"datetime_values\"].apply(lambda x: x.date())"
   ]
  },
  {
   "cell_type": "code",
   "execution_count": 73,
   "metadata": {},
   "outputs": [
    {
     "data": {
      "text/html": [
       "<div>\n",
       "<style scoped>\n",
       "    .dataframe tbody tr th:only-of-type {\n",
       "        vertical-align: middle;\n",
       "    }\n",
       "\n",
       "    .dataframe tbody tr th {\n",
       "        vertical-align: top;\n",
       "    }\n",
       "\n",
       "    .dataframe thead th {\n",
       "        text-align: right;\n",
       "    }\n",
       "</style>\n",
       "<table border=\"1\" class=\"dataframe\">\n",
       "  <thead>\n",
       "    <tr style=\"text-align: right;\">\n",
       "      <th></th>\n",
       "      <th>count</th>\n",
       "      <th>timings</th>\n",
       "      <th>datetime_samples</th>\n",
       "      <th>datetime_values</th>\n",
       "      <th>date</th>\n",
       "    </tr>\n",
       "  </thead>\n",
       "  <tbody>\n",
       "    <tr>\n",
       "      <th>0</th>\n",
       "      <td>1</td>\n",
       "      <td>2020-07-01 22:18:22.806651</td>\n",
       "      <td>2020-07-01 22:18:22.806651</td>\n",
       "      <td>2020-07-01 22:18:22.806651</td>\n",
       "      <td>2020-07-01</td>\n",
       "    </tr>\n",
       "    <tr>\n",
       "      <th>1</th>\n",
       "      <td>2</td>\n",
       "      <td>2020-07-01 22:18:49.157322</td>\n",
       "      <td>2020-07-01 22:18:49.157322</td>\n",
       "      <td>2020-07-01 22:18:49.157322</td>\n",
       "      <td>2020-07-01</td>\n",
       "    </tr>\n",
       "    <tr>\n",
       "      <th>2</th>\n",
       "      <td>3</td>\n",
       "      <td>2020-07-01 22:18:55.197844</td>\n",
       "      <td>2020-07-01 22:18:55.197844</td>\n",
       "      <td>2020-07-01 22:18:55.197844</td>\n",
       "      <td>2020-07-01</td>\n",
       "    </tr>\n",
       "    <tr>\n",
       "      <th>3</th>\n",
       "      <td>4</td>\n",
       "      <td>2020-07-01 22:19:06.378970</td>\n",
       "      <td>2020-07-01 22:19:06.378970</td>\n",
       "      <td>2020-07-01 22:19:06.378970</td>\n",
       "      <td>2020-07-01</td>\n",
       "    </tr>\n",
       "    <tr>\n",
       "      <th>4</th>\n",
       "      <td>5</td>\n",
       "      <td>2020-07-01 22:19:12.418819</td>\n",
       "      <td>2020-07-01 22:19:12.418819</td>\n",
       "      <td>2020-07-01 22:19:12.418819</td>\n",
       "      <td>2020-07-01</td>\n",
       "    </tr>\n",
       "    <tr>\n",
       "      <th>...</th>\n",
       "      <td>...</td>\n",
       "      <td>...</td>\n",
       "      <td>...</td>\n",
       "      <td>...</td>\n",
       "      <td>...</td>\n",
       "    </tr>\n",
       "    <tr>\n",
       "      <th>1854</th>\n",
       "      <td>1855</td>\n",
       "      <td>2020-07-02 02:43:49.553087</td>\n",
       "      <td>2020-07-02 02:43:49.553087</td>\n",
       "      <td>2020-07-02 02:43:49.553087</td>\n",
       "      <td>2020-07-02</td>\n",
       "    </tr>\n",
       "    <tr>\n",
       "      <th>1855</th>\n",
       "      <td>1856</td>\n",
       "      <td>2020-07-02 02:44:00.693588</td>\n",
       "      <td>2020-07-02 02:44:00.693588</td>\n",
       "      <td>2020-07-02 02:44:00.693588</td>\n",
       "      <td>2020-07-02</td>\n",
       "    </tr>\n",
       "    <tr>\n",
       "      <th>1856</th>\n",
       "      <td>1857</td>\n",
       "      <td>2020-07-02 02:44:06.734364</td>\n",
       "      <td>2020-07-02 02:44:06.734364</td>\n",
       "      <td>2020-07-02 02:44:06.734364</td>\n",
       "      <td>2020-07-02</td>\n",
       "    </tr>\n",
       "    <tr>\n",
       "      <th>1857</th>\n",
       "      <td>1858</td>\n",
       "      <td>2020-07-02 02:44:17.871546</td>\n",
       "      <td>2020-07-02 02:44:17.871546</td>\n",
       "      <td>2020-07-02 02:44:17.871546</td>\n",
       "      <td>2020-07-02</td>\n",
       "    </tr>\n",
       "    <tr>\n",
       "      <th>1858</th>\n",
       "      <td>1859</td>\n",
       "      <td>2020-07-02 02:44:23.952632</td>\n",
       "      <td>2020-07-02 02:44:23.952632</td>\n",
       "      <td>2020-07-02 02:44:23.952632</td>\n",
       "      <td>2020-07-02</td>\n",
       "    </tr>\n",
       "  </tbody>\n",
       "</table>\n",
       "<p>1859 rows × 5 columns</p>\n",
       "</div>"
      ],
      "text/plain": [
       "      count                      timings            datetime_samples  \\\n",
       "0         1   2020-07-01 22:18:22.806651  2020-07-01 22:18:22.806651   \n",
       "1         2   2020-07-01 22:18:49.157322  2020-07-01 22:18:49.157322   \n",
       "2         3   2020-07-01 22:18:55.197844  2020-07-01 22:18:55.197844   \n",
       "3         4   2020-07-01 22:19:06.378970  2020-07-01 22:19:06.378970   \n",
       "4         5   2020-07-01 22:19:12.418819  2020-07-01 22:19:12.418819   \n",
       "...     ...                          ...                         ...   \n",
       "1854   1855   2020-07-02 02:43:49.553087  2020-07-02 02:43:49.553087   \n",
       "1855   1856   2020-07-02 02:44:00.693588  2020-07-02 02:44:00.693588   \n",
       "1856   1857   2020-07-02 02:44:06.734364  2020-07-02 02:44:06.734364   \n",
       "1857   1858   2020-07-02 02:44:17.871546  2020-07-02 02:44:17.871546   \n",
       "1858   1859   2020-07-02 02:44:23.952632  2020-07-02 02:44:23.952632   \n",
       "\n",
       "                datetime_values        date  \n",
       "0    2020-07-01 22:18:22.806651  2020-07-01  \n",
       "1    2020-07-01 22:18:49.157322  2020-07-01  \n",
       "2    2020-07-01 22:18:55.197844  2020-07-01  \n",
       "3    2020-07-01 22:19:06.378970  2020-07-01  \n",
       "4    2020-07-01 22:19:12.418819  2020-07-01  \n",
       "...                         ...         ...  \n",
       "1854 2020-07-02 02:43:49.553087  2020-07-02  \n",
       "1855 2020-07-02 02:44:00.693588  2020-07-02  \n",
       "1856 2020-07-02 02:44:06.734364  2020-07-02  \n",
       "1857 2020-07-02 02:44:17.871546  2020-07-02  \n",
       "1858 2020-07-02 02:44:23.952632  2020-07-02  \n",
       "\n",
       "[1859 rows x 5 columns]"
      ]
     },
     "execution_count": 73,
     "metadata": {},
     "output_type": "execute_result"
    }
   ],
   "source": [
    "ffx2"
   ]
  },
  {
   "cell_type": "code",
   "execution_count": 74,
   "metadata": {},
   "outputs": [],
   "source": [
    "ffx2[\"time\"] = ffx2[\"datetime_values\"].apply(lambda x: x.time())"
   ]
  },
  {
   "cell_type": "code",
   "execution_count": 94,
   "metadata": {},
   "outputs": [],
   "source": [
    "# ffx2"
   ]
  },
  {
   "cell_type": "code",
   "execution_count": 97,
   "metadata": {},
   "outputs": [
    {
     "data": {
      "text/plain": [
       "datetime.time(22, 18, 22, 806651)"
      ]
     },
     "execution_count": 97,
     "metadata": {},
     "output_type": "execute_result"
    }
   ],
   "source": [
    "x = ffx2[\"time\"][0]\n",
    "x"
   ]
  },
  {
   "cell_type": "code",
   "execution_count": 109,
   "metadata": {},
   "outputs": [
    {
     "data": {
      "text/plain": [
       "datetime.time"
      ]
     },
     "execution_count": 109,
     "metadata": {},
     "output_type": "execute_result"
    }
   ],
   "source": [
    "type(ffx2[\"time\"][0])"
   ]
  },
  {
   "cell_type": "code",
   "execution_count": 123,
   "metadata": {},
   "outputs": [],
   "source": [
    "t1 = ffx2[\"datetime_values\"][1857]\n",
    "t2 = ffx2[\"datetime_values\"][1858]"
   ]
  },
  {
   "cell_type": "code",
   "execution_count": 124,
   "metadata": {},
   "outputs": [
    {
     "data": {
      "text/plain": [
       "Timedelta('0 days 00:00:06.081086')"
      ]
     },
     "execution_count": 124,
     "metadata": {},
     "output_type": "execute_result"
    }
   ],
   "source": [
    "### Don't need to do this because I can just\n",
    "### use the \"datetime_values\" column to find\n",
    "### the time differences\n",
    "t2-t1"
   ]
  },
  {
   "cell_type": "code",
   "execution_count": 122,
   "metadata": {},
   "outputs": [
    {
     "data": {
      "text/html": [
       "<div>\n",
       "<style scoped>\n",
       "    .dataframe tbody tr th:only-of-type {\n",
       "        vertical-align: middle;\n",
       "    }\n",
       "\n",
       "    .dataframe tbody tr th {\n",
       "        vertical-align: top;\n",
       "    }\n",
       "\n",
       "    .dataframe thead th {\n",
       "        text-align: right;\n",
       "    }\n",
       "</style>\n",
       "<table border=\"1\" class=\"dataframe\">\n",
       "  <thead>\n",
       "    <tr style=\"text-align: right;\">\n",
       "      <th></th>\n",
       "      <th>count</th>\n",
       "      <th>timings</th>\n",
       "      <th>datetime_samples</th>\n",
       "      <th>datetime_values</th>\n",
       "      <th>date</th>\n",
       "      <th>time</th>\n",
       "      <th>deltaT</th>\n",
       "    </tr>\n",
       "  </thead>\n",
       "  <tbody>\n",
       "    <tr>\n",
       "      <th>0</th>\n",
       "      <td>1</td>\n",
       "      <td>2020-07-01 22:18:22.806651</td>\n",
       "      <td>2020-07-01 22:18:22.806651</td>\n",
       "      <td>2020-07-01 22:18:22.806651</td>\n",
       "      <td>2020-07-01</td>\n",
       "      <td>22:18:22.806651</td>\n",
       "      <td>None</td>\n",
       "    </tr>\n",
       "    <tr>\n",
       "      <th>1</th>\n",
       "      <td>2</td>\n",
       "      <td>2020-07-01 22:18:49.157322</td>\n",
       "      <td>2020-07-01 22:18:49.157322</td>\n",
       "      <td>2020-07-01 22:18:49.157322</td>\n",
       "      <td>2020-07-01</td>\n",
       "      <td>22:18:49.157322</td>\n",
       "      <td>None</td>\n",
       "    </tr>\n",
       "    <tr>\n",
       "      <th>2</th>\n",
       "      <td>3</td>\n",
       "      <td>2020-07-01 22:18:55.197844</td>\n",
       "      <td>2020-07-01 22:18:55.197844</td>\n",
       "      <td>2020-07-01 22:18:55.197844</td>\n",
       "      <td>2020-07-01</td>\n",
       "      <td>22:18:55.197844</td>\n",
       "      <td>None</td>\n",
       "    </tr>\n",
       "    <tr>\n",
       "      <th>3</th>\n",
       "      <td>4</td>\n",
       "      <td>2020-07-01 22:19:06.378970</td>\n",
       "      <td>2020-07-01 22:19:06.378970</td>\n",
       "      <td>2020-07-01 22:19:06.378970</td>\n",
       "      <td>2020-07-01</td>\n",
       "      <td>22:19:06.378970</td>\n",
       "      <td>None</td>\n",
       "    </tr>\n",
       "    <tr>\n",
       "      <th>4</th>\n",
       "      <td>5</td>\n",
       "      <td>2020-07-01 22:19:12.418819</td>\n",
       "      <td>2020-07-01 22:19:12.418819</td>\n",
       "      <td>2020-07-01 22:19:12.418819</td>\n",
       "      <td>2020-07-01</td>\n",
       "      <td>22:19:12.418819</td>\n",
       "      <td>None</td>\n",
       "    </tr>\n",
       "    <tr>\n",
       "      <th>...</th>\n",
       "      <td>...</td>\n",
       "      <td>...</td>\n",
       "      <td>...</td>\n",
       "      <td>...</td>\n",
       "      <td>...</td>\n",
       "      <td>...</td>\n",
       "      <td>...</td>\n",
       "    </tr>\n",
       "    <tr>\n",
       "      <th>1854</th>\n",
       "      <td>1855</td>\n",
       "      <td>2020-07-02 02:43:49.553087</td>\n",
       "      <td>2020-07-02 02:43:49.553087</td>\n",
       "      <td>2020-07-02 02:43:49.553087</td>\n",
       "      <td>2020-07-02</td>\n",
       "      <td>02:43:49.553087</td>\n",
       "      <td>None</td>\n",
       "    </tr>\n",
       "    <tr>\n",
       "      <th>1855</th>\n",
       "      <td>1856</td>\n",
       "      <td>2020-07-02 02:44:00.693588</td>\n",
       "      <td>2020-07-02 02:44:00.693588</td>\n",
       "      <td>2020-07-02 02:44:00.693588</td>\n",
       "      <td>2020-07-02</td>\n",
       "      <td>02:44:00.693588</td>\n",
       "      <td>None</td>\n",
       "    </tr>\n",
       "    <tr>\n",
       "      <th>1856</th>\n",
       "      <td>1857</td>\n",
       "      <td>2020-07-02 02:44:06.734364</td>\n",
       "      <td>2020-07-02 02:44:06.734364</td>\n",
       "      <td>2020-07-02 02:44:06.734364</td>\n",
       "      <td>2020-07-02</td>\n",
       "      <td>02:44:06.734364</td>\n",
       "      <td>None</td>\n",
       "    </tr>\n",
       "    <tr>\n",
       "      <th>1857</th>\n",
       "      <td>1858</td>\n",
       "      <td>2020-07-02 02:44:17.871546</td>\n",
       "      <td>2020-07-02 02:44:17.871546</td>\n",
       "      <td>2020-07-02 02:44:17.871546</td>\n",
       "      <td>2020-07-02</td>\n",
       "      <td>02:44:17.871546</td>\n",
       "      <td>None</td>\n",
       "    </tr>\n",
       "    <tr>\n",
       "      <th>1858</th>\n",
       "      <td>1859</td>\n",
       "      <td>2020-07-02 02:44:23.952632</td>\n",
       "      <td>2020-07-02 02:44:23.952632</td>\n",
       "      <td>2020-07-02 02:44:23.952632</td>\n",
       "      <td>2020-07-02</td>\n",
       "      <td>02:44:23.952632</td>\n",
       "      <td>None</td>\n",
       "    </tr>\n",
       "  </tbody>\n",
       "</table>\n",
       "<p>1859 rows × 7 columns</p>\n",
       "</div>"
      ],
      "text/plain": [
       "      count                      timings            datetime_samples  \\\n",
       "0         1   2020-07-01 22:18:22.806651  2020-07-01 22:18:22.806651   \n",
       "1         2   2020-07-01 22:18:49.157322  2020-07-01 22:18:49.157322   \n",
       "2         3   2020-07-01 22:18:55.197844  2020-07-01 22:18:55.197844   \n",
       "3         4   2020-07-01 22:19:06.378970  2020-07-01 22:19:06.378970   \n",
       "4         5   2020-07-01 22:19:12.418819  2020-07-01 22:19:12.418819   \n",
       "...     ...                          ...                         ...   \n",
       "1854   1855   2020-07-02 02:43:49.553087  2020-07-02 02:43:49.553087   \n",
       "1855   1856   2020-07-02 02:44:00.693588  2020-07-02 02:44:00.693588   \n",
       "1856   1857   2020-07-02 02:44:06.734364  2020-07-02 02:44:06.734364   \n",
       "1857   1858   2020-07-02 02:44:17.871546  2020-07-02 02:44:17.871546   \n",
       "1858   1859   2020-07-02 02:44:23.952632  2020-07-02 02:44:23.952632   \n",
       "\n",
       "                datetime_values        date             time deltaT  \n",
       "0    2020-07-01 22:18:22.806651  2020-07-01  22:18:22.806651   None  \n",
       "1    2020-07-01 22:18:49.157322  2020-07-01  22:18:49.157322   None  \n",
       "2    2020-07-01 22:18:55.197844  2020-07-01  22:18:55.197844   None  \n",
       "3    2020-07-01 22:19:06.378970  2020-07-01  22:19:06.378970   None  \n",
       "4    2020-07-01 22:19:12.418819  2020-07-01  22:19:12.418819   None  \n",
       "...                         ...         ...              ...    ...  \n",
       "1854 2020-07-02 02:43:49.553087  2020-07-02  02:43:49.553087   None  \n",
       "1855 2020-07-02 02:44:00.693588  2020-07-02  02:44:00.693588   None  \n",
       "1856 2020-07-02 02:44:06.734364  2020-07-02  02:44:06.734364   None  \n",
       "1857 2020-07-02 02:44:17.871546  2020-07-02  02:44:17.871546   None  \n",
       "1858 2020-07-02 02:44:23.952632  2020-07-02  02:44:23.952632   None  \n",
       "\n",
       "[1859 rows x 7 columns]"
      ]
     },
     "execution_count": 122,
     "metadata": {},
     "output_type": "execute_result"
    }
   ],
   "source": [
    "ffx2"
   ]
  },
  {
   "cell_type": "code",
   "execution_count": 133,
   "metadata": {},
   "outputs": [],
   "source": [
    "# ffx2[\"deltaT\"] = [ffx2[\"datetime_values\"][i+1]-ffx2[\"datetime_values\"][i] for i in range(0,1858)].append(t2-t1)\n",
    "\n",
    "\n",
    "ffx2[\"deltaT\"] = ffx2[\"datetime_values\"] - ffx2[\"datetime_values\"].shift(1)"
   ]
  },
  {
   "cell_type": "code",
   "execution_count": 134,
   "metadata": {},
   "outputs": [
    {
     "data": {
      "text/html": [
       "<div>\n",
       "<style scoped>\n",
       "    .dataframe tbody tr th:only-of-type {\n",
       "        vertical-align: middle;\n",
       "    }\n",
       "\n",
       "    .dataframe tbody tr th {\n",
       "        vertical-align: top;\n",
       "    }\n",
       "\n",
       "    .dataframe thead th {\n",
       "        text-align: right;\n",
       "    }\n",
       "</style>\n",
       "<table border=\"1\" class=\"dataframe\">\n",
       "  <thead>\n",
       "    <tr style=\"text-align: right;\">\n",
       "      <th></th>\n",
       "      <th>count</th>\n",
       "      <th>timings</th>\n",
       "      <th>datetime_samples</th>\n",
       "      <th>datetime_values</th>\n",
       "      <th>date</th>\n",
       "      <th>time</th>\n",
       "      <th>deltaT</th>\n",
       "    </tr>\n",
       "  </thead>\n",
       "  <tbody>\n",
       "    <tr>\n",
       "      <th>0</th>\n",
       "      <td>1</td>\n",
       "      <td>2020-07-01 22:18:22.806651</td>\n",
       "      <td>2020-07-01 22:18:22.806651</td>\n",
       "      <td>2020-07-01 22:18:22.806651</td>\n",
       "      <td>2020-07-01</td>\n",
       "      <td>22:18:22.806651</td>\n",
       "      <td>NaT</td>\n",
       "    </tr>\n",
       "    <tr>\n",
       "      <th>1</th>\n",
       "      <td>2</td>\n",
       "      <td>2020-07-01 22:18:49.157322</td>\n",
       "      <td>2020-07-01 22:18:49.157322</td>\n",
       "      <td>2020-07-01 22:18:49.157322</td>\n",
       "      <td>2020-07-01</td>\n",
       "      <td>22:18:49.157322</td>\n",
       "      <td>00:00:26.350671</td>\n",
       "    </tr>\n",
       "    <tr>\n",
       "      <th>2</th>\n",
       "      <td>3</td>\n",
       "      <td>2020-07-01 22:18:55.197844</td>\n",
       "      <td>2020-07-01 22:18:55.197844</td>\n",
       "      <td>2020-07-01 22:18:55.197844</td>\n",
       "      <td>2020-07-01</td>\n",
       "      <td>22:18:55.197844</td>\n",
       "      <td>00:00:06.040522</td>\n",
       "    </tr>\n",
       "    <tr>\n",
       "      <th>3</th>\n",
       "      <td>4</td>\n",
       "      <td>2020-07-01 22:19:06.378970</td>\n",
       "      <td>2020-07-01 22:19:06.378970</td>\n",
       "      <td>2020-07-01 22:19:06.378970</td>\n",
       "      <td>2020-07-01</td>\n",
       "      <td>22:19:06.378970</td>\n",
       "      <td>00:00:11.181126</td>\n",
       "    </tr>\n",
       "    <tr>\n",
       "      <th>4</th>\n",
       "      <td>5</td>\n",
       "      <td>2020-07-01 22:19:12.418819</td>\n",
       "      <td>2020-07-01 22:19:12.418819</td>\n",
       "      <td>2020-07-01 22:19:12.418819</td>\n",
       "      <td>2020-07-01</td>\n",
       "      <td>22:19:12.418819</td>\n",
       "      <td>00:00:06.039849</td>\n",
       "    </tr>\n",
       "    <tr>\n",
       "      <th>...</th>\n",
       "      <td>...</td>\n",
       "      <td>...</td>\n",
       "      <td>...</td>\n",
       "      <td>...</td>\n",
       "      <td>...</td>\n",
       "      <td>...</td>\n",
       "      <td>...</td>\n",
       "    </tr>\n",
       "    <tr>\n",
       "      <th>1854</th>\n",
       "      <td>1855</td>\n",
       "      <td>2020-07-02 02:43:49.553087</td>\n",
       "      <td>2020-07-02 02:43:49.553087</td>\n",
       "      <td>2020-07-02 02:43:49.553087</td>\n",
       "      <td>2020-07-02</td>\n",
       "      <td>02:43:49.553087</td>\n",
       "      <td>00:00:06.050874</td>\n",
       "    </tr>\n",
       "    <tr>\n",
       "      <th>1855</th>\n",
       "      <td>1856</td>\n",
       "      <td>2020-07-02 02:44:00.693588</td>\n",
       "      <td>2020-07-02 02:44:00.693588</td>\n",
       "      <td>2020-07-02 02:44:00.693588</td>\n",
       "      <td>2020-07-02</td>\n",
       "      <td>02:44:00.693588</td>\n",
       "      <td>00:00:11.140501</td>\n",
       "    </tr>\n",
       "    <tr>\n",
       "      <th>1856</th>\n",
       "      <td>1857</td>\n",
       "      <td>2020-07-02 02:44:06.734364</td>\n",
       "      <td>2020-07-02 02:44:06.734364</td>\n",
       "      <td>2020-07-02 02:44:06.734364</td>\n",
       "      <td>2020-07-02</td>\n",
       "      <td>02:44:06.734364</td>\n",
       "      <td>00:00:06.040776</td>\n",
       "    </tr>\n",
       "    <tr>\n",
       "      <th>1857</th>\n",
       "      <td>1858</td>\n",
       "      <td>2020-07-02 02:44:17.871546</td>\n",
       "      <td>2020-07-02 02:44:17.871546</td>\n",
       "      <td>2020-07-02 02:44:17.871546</td>\n",
       "      <td>2020-07-02</td>\n",
       "      <td>02:44:17.871546</td>\n",
       "      <td>00:00:11.137182</td>\n",
       "    </tr>\n",
       "    <tr>\n",
       "      <th>1858</th>\n",
       "      <td>1859</td>\n",
       "      <td>2020-07-02 02:44:23.952632</td>\n",
       "      <td>2020-07-02 02:44:23.952632</td>\n",
       "      <td>2020-07-02 02:44:23.952632</td>\n",
       "      <td>2020-07-02</td>\n",
       "      <td>02:44:23.952632</td>\n",
       "      <td>00:00:06.081086</td>\n",
       "    </tr>\n",
       "  </tbody>\n",
       "</table>\n",
       "<p>1859 rows × 7 columns</p>\n",
       "</div>"
      ],
      "text/plain": [
       "      count                      timings            datetime_samples  \\\n",
       "0         1   2020-07-01 22:18:22.806651  2020-07-01 22:18:22.806651   \n",
       "1         2   2020-07-01 22:18:49.157322  2020-07-01 22:18:49.157322   \n",
       "2         3   2020-07-01 22:18:55.197844  2020-07-01 22:18:55.197844   \n",
       "3         4   2020-07-01 22:19:06.378970  2020-07-01 22:19:06.378970   \n",
       "4         5   2020-07-01 22:19:12.418819  2020-07-01 22:19:12.418819   \n",
       "...     ...                          ...                         ...   \n",
       "1854   1855   2020-07-02 02:43:49.553087  2020-07-02 02:43:49.553087   \n",
       "1855   1856   2020-07-02 02:44:00.693588  2020-07-02 02:44:00.693588   \n",
       "1856   1857   2020-07-02 02:44:06.734364  2020-07-02 02:44:06.734364   \n",
       "1857   1858   2020-07-02 02:44:17.871546  2020-07-02 02:44:17.871546   \n",
       "1858   1859   2020-07-02 02:44:23.952632  2020-07-02 02:44:23.952632   \n",
       "\n",
       "                datetime_values        date             time          deltaT  \n",
       "0    2020-07-01 22:18:22.806651  2020-07-01  22:18:22.806651             NaT  \n",
       "1    2020-07-01 22:18:49.157322  2020-07-01  22:18:49.157322 00:00:26.350671  \n",
       "2    2020-07-01 22:18:55.197844  2020-07-01  22:18:55.197844 00:00:06.040522  \n",
       "3    2020-07-01 22:19:06.378970  2020-07-01  22:19:06.378970 00:00:11.181126  \n",
       "4    2020-07-01 22:19:12.418819  2020-07-01  22:19:12.418819 00:00:06.039849  \n",
       "...                         ...         ...              ...             ...  \n",
       "1854 2020-07-02 02:43:49.553087  2020-07-02  02:43:49.553087 00:00:06.050874  \n",
       "1855 2020-07-02 02:44:00.693588  2020-07-02  02:44:00.693588 00:00:11.140501  \n",
       "1856 2020-07-02 02:44:06.734364  2020-07-02  02:44:06.734364 00:00:06.040776  \n",
       "1857 2020-07-02 02:44:17.871546  2020-07-02  02:44:17.871546 00:00:11.137182  \n",
       "1858 2020-07-02 02:44:23.952632  2020-07-02  02:44:23.952632 00:00:06.081086  \n",
       "\n",
       "[1859 rows x 7 columns]"
      ]
     },
     "execution_count": 134,
     "metadata": {},
     "output_type": "execute_result"
    }
   ],
   "source": [
    "ffx2"
   ]
  },
  {
   "cell_type": "code",
   "execution_count": null,
   "metadata": {},
   "outputs": [],
   "source": []
  },
  {
   "cell_type": "code",
   "execution_count": 87,
   "metadata": {},
   "outputs": [],
   "source": []
  },
  {
   "cell_type": "code",
   "execution_count": null,
   "metadata": {},
   "outputs": [],
   "source": []
  },
  {
   "cell_type": "code",
   "execution_count": null,
   "metadata": {},
   "outputs": [],
   "source": []
  },
  {
   "cell_type": "code",
   "execution_count": null,
   "metadata": {},
   "outputs": [],
   "source": []
  },
  {
   "cell_type": "code",
   "execution_count": null,
   "metadata": {},
   "outputs": [],
   "source": []
  },
  {
   "cell_type": "code",
   "execution_count": null,
   "metadata": {},
   "outputs": [],
   "source": []
  },
  {
   "cell_type": "code",
   "execution_count": null,
   "metadata": {},
   "outputs": [],
   "source": []
  },
  {
   "cell_type": "code",
   "execution_count": null,
   "metadata": {},
   "outputs": [],
   "source": []
  },
  {
   "cell_type": "code",
   "execution_count": null,
   "metadata": {},
   "outputs": [],
   "source": []
  },
  {
   "cell_type": "code",
   "execution_count": 4,
   "metadata": {},
   "outputs": [
    {
     "data": {
      "text/plain": [
       "(1135, 3)"
      ]
     },
     "execution_count": 4,
     "metadata": {},
     "output_type": "execute_result"
    }
   ],
   "source": [
    "ffx.shape"
   ]
  },
  {
   "cell_type": "code",
   "execution_count": 5,
   "metadata": {},
   "outputs": [
    {
     "data": {
      "text/plain": [
       "0          1,\n",
       "1          2,\n",
       "2          3,\n",
       "3          4,\n",
       "4          5,\n",
       "        ...  \n",
       "1130    1131,\n",
       "1131    1132,\n",
       "1132    1133,\n",
       "1133    1134,\n",
       "1134    1135,\n",
       "Name: count,, Length: 1135, dtype: object"
      ]
     },
     "execution_count": 5,
     "metadata": {},
     "output_type": "execute_result"
    }
   ],
   "source": [
    "counts = ffx['count,']\n",
    "counts"
   ]
  },
  {
   "cell_type": "code",
   "execution_count": 6,
   "metadata": {},
   "outputs": [
    {
     "data": {
      "text/plain": [
       "str"
      ]
     },
     "execution_count": 6,
     "metadata": {},
     "output_type": "execute_result"
    }
   ],
   "source": [
    "type(counts[1])"
   ]
  },
  {
   "cell_type": "code",
   "execution_count": 7,
   "metadata": {},
   "outputs": [
    {
     "data": {
      "text/plain": [
       "0    16:40:11.538763\n",
       "1    16:40:17.543537\n",
       "2    16:40:28.666688\n",
       "3    16:40:34.640885\n",
       "4    16:40:45.889237\n",
       "Name: timings, dtype: object"
      ]
     },
     "execution_count": 7,
     "metadata": {},
     "output_type": "execute_result"
    }
   ],
   "source": [
    "timings = ffx['timings']\n",
    "timings.head()"
   ]
  },
  {
   "cell_type": "code",
   "execution_count": 8,
   "metadata": {},
   "outputs": [
    {
     "data": {
      "text/plain": [
       "str"
      ]
     },
     "execution_count": 8,
     "metadata": {},
     "output_type": "execute_result"
    }
   ],
   "source": [
    "# type(timings) #--> Series\n",
    "type(timings[1]) #--> String"
   ]
  },
  {
   "cell_type": "code",
   "execution_count": 9,
   "metadata": {},
   "outputs": [
    {
     "data": {
      "text/plain": [
       "0   2020-07-18 16:40:11.538763\n",
       "1   2020-07-18 16:40:17.543537\n",
       "2   2020-07-18 16:40:28.666688\n",
       "3   2020-07-18 16:40:34.640885\n",
       "4   2020-07-18 16:40:45.889237\n",
       "Name: timings, dtype: datetime64[ns]"
      ]
     },
     "execution_count": 9,
     "metadata": {},
     "output_type": "execute_result"
    }
   ],
   "source": [
    "timings2 = pandas.to_datetime(timings)\n",
    "timings2.head()"
   ]
  },
  {
   "cell_type": "code",
   "execution_count": 10,
   "metadata": {},
   "outputs": [
    {
     "data": {
      "text/plain": [
       "Timedelta('0 days 00:01:25.972024')"
      ]
     },
     "execution_count": 10,
     "metadata": {},
     "output_type": "execute_result"
    }
   ],
   "source": [
    "# type(timings2[1]) #--> Timestamp\n",
    "# type(timings2[1]-timings2[0]) #--> Timedelta\n",
    "timings2[10]-timings2[0]"
   ]
  },
  {
   "cell_type": "code",
   "execution_count": 11,
   "metadata": {},
   "outputs": [
    {
     "data": {
      "text/plain": [
       "85.972024"
      ]
     },
     "execution_count": 11,
     "metadata": {},
     "output_type": "execute_result"
    }
   ],
   "source": [
    "(timings2[10]-timings2[0]).seconds + (timings2[10]-timings2[0]).microseconds/10**6"
   ]
  },
  {
   "cell_type": "code",
   "execution_count": 12,
   "metadata": {},
   "outputs": [
    {
     "data": {
      "text/plain": [
       "[11.161345,\n",
       " 6.028735,\n",
       " 9.928159,\n",
       " 4.703491,\n",
       " 17.482524,\n",
       " 5.76188,\n",
       " 2.099216,\n",
       " 13.488353,\n",
       " 7.549916,\n",
       " 7.530026,\n",
       " 13.164871,\n",
       " 15.150477,\n",
       " 0.100886,\n",
       " 11.145616,\n",
       " 90.83839,\n",
       " 84.988222,\n",
       " 5.739437,\n",
       " 37.298455,\n",
       " 5.767361]"
      ]
     },
     "execution_count": 12,
     "metadata": {},
     "output_type": "execute_result"
    }
   ],
   "source": [
    "time_diff = [(timings2[i+1]-timings2[i]).seconds + (timings2[i+1]-timings2[i]).microseconds/10**6 for i in range(0, 1134)]\n",
    "# len(time_diff) #--> 1134\n",
    "time_diff[1115:]"
   ]
  },
  {
   "cell_type": "code",
   "execution_count": 13,
   "metadata": {},
   "outputs": [
    {
     "data": {
      "text/plain": [
       "[5.958367, 11.229467, 5.934609, 11.204492, 6.020151, 11.161345, 6.028735]"
      ]
     },
     "execution_count": 13,
     "metadata": {},
     "output_type": "execute_result"
    }
   ],
   "source": [
    "# Need to remove last 17 entries of time_diff list\n",
    "y = time_diff[:len(time_diff)-17]\n",
    "y[1110:]\n",
    "# len(y) #-->1117"
   ]
  },
  {
   "cell_type": "code",
   "execution_count": 14,
   "metadata": {},
   "outputs": [
    {
     "data": {
      "text/plain": [
       "1117"
      ]
     },
     "execution_count": 14,
     "metadata": {},
     "output_type": "execute_result"
    }
   ],
   "source": [
    "# Removing last 17 corresponding entries in counts list\n",
    "# and an extra one to make it the same size as time_diff\n",
    "\n",
    "x = counts[:len(counts)-18]\n",
    "len(x)"
   ]
  },
  {
   "cell_type": "code",
   "execution_count": 15,
   "metadata": {},
   "outputs": [],
   "source": [
    "# fig = plt.figure()\n",
    "\n",
    "# axes = fig.add_axes([0,0,1,1])\n",
    "# axes.set_xlabel(\"Counts\")\n",
    "# axes.set_ylabel(\"Time Differences\")\n",
    "\n",
    "# # axes.plot(x, y)\n"
   ]
  },
  {
   "cell_type": "code",
   "execution_count": 16,
   "metadata": {},
   "outputs": [
    {
     "data": {
      "text/plain": [
       "<matplotlib.collections.PathCollection at 0x1df127fb088>"
      ]
     },
     "execution_count": 16,
     "metadata": {},
     "output_type": "execute_result"
    },
    {
     "data": {
      "image/png": "[encoded data removed]",
      "text/plain": [
       "<Figure size 432x288 with 1 Axes>"
      ]
     },
     "metadata": {},
     "output_type": "display_data"
    }
   ],
   "source": [
    "plt.scatter(x,y)"
   ]
  },
  {
   "cell_type": "code",
   "execution_count": 17,
   "metadata": {},
   "outputs": [
    {
     "data": {
      "text/plain": [
       "8.591925512085956"
      ]
     },
     "execution_count": 17,
     "metadata": {},
     "output_type": "execute_result"
    }
   ],
   "source": [
    "average_time = sum(y)/len(y)\n",
    "average_time"
   ]
  },
  {
   "cell_type": "code",
   "execution_count": 18,
   "metadata": {},
   "outputs": [
    {
     "data": {
      "text/plain": [
       "[11.123151, 11.248352, 11.216055, 11.190219, 11.205676]"
      ]
     },
     "execution_count": 18,
     "metadata": {},
     "output_type": "execute_result"
    }
   ],
   "source": [
    "above_average = [time for time in y if time > average_time]\n",
    "above_average[:5]\n",
    "# len(above_average) #--> 558"
   ]
  },
  {
   "cell_type": "code",
   "execution_count": 19,
   "metadata": {},
   "outputs": [
    {
     "data": {
      "text/plain": [
       "[6.004774, 5.974197, 5.966099, 5.983968, 6.059533]"
      ]
     },
     "execution_count": 19,
     "metadata": {},
     "output_type": "execute_result"
    }
   ],
   "source": [
    "below_average = [time for time in y if time < average_time]\n",
    "below_average[:5]\n",
    "# len(below_average) #--> 559"
   ]
  },
  {
   "cell_type": "code",
   "execution_count": 20,
   "metadata": {},
   "outputs": [
    {
     "data": {
      "text/plain": [
       "558"
      ]
     },
     "execution_count": 20,
     "metadata": {},
     "output_type": "execute_result"
    }
   ],
   "source": [
    "count_above = [count for (count, time) in zip(x,y) if time > average_time]\n",
    "count_above # --> ALL EVEN NUMBERS!!\n",
    "len(count_above)"
   ]
  },
  {
   "cell_type": "code",
   "execution_count": 21,
   "metadata": {},
   "outputs": [
    {
     "data": {
      "text/plain": [
       "11.180059645161284"
      ]
     },
     "execution_count": 21,
     "metadata": {},
     "output_type": "execute_result"
    }
   ],
   "source": [
    "avg_of_above = sum(above_average)/len(above_average)\n",
    "avg_of_above"
   ]
  },
  {
   "cell_type": "code",
   "execution_count": 22,
   "metadata": {},
   "outputs": [
    {
     "data": {
      "text/plain": [
       "0.045959886334317"
      ]
     },
     "execution_count": 22,
     "metadata": {},
     "output_type": "execute_result"
    }
   ],
   "source": [
    "std_above = np.std(above_average)\n",
    "std_above"
   ]
  },
  {
   "cell_type": "code",
   "execution_count": 23,
   "metadata": {},
   "outputs": [
    {
     "data": {
      "text/plain": [
       "6.00842131484794"
      ]
     },
     "execution_count": 23,
     "metadata": {},
     "output_type": "execute_result"
    }
   ],
   "source": [
    "avg_of_below = sum(below_average)/len(below_average)\n",
    "avg_of_below"
   ]
  },
  {
   "cell_type": "code",
   "execution_count": 24,
   "metadata": {},
   "outputs": [
    {
     "data": {
      "text/plain": [
       "0.03166719025701298"
      ]
     },
     "execution_count": 24,
     "metadata": {},
     "output_type": "execute_result"
    }
   ],
   "source": [
    "std_below = np.std(below_average)\n",
    "std_below"
   ]
  },
  {
   "cell_type": "code",
   "execution_count": 25,
   "metadata": {},
   "outputs": [
    {
     "data": {
      "text/plain": [
       "559"
      ]
     },
     "execution_count": 25,
     "metadata": {},
     "output_type": "execute_result"
    }
   ],
   "source": [
    "count_below = [count for (count, time) in zip(x,y) if time < average_time]\n",
    "count_below # --> ALL EVEN NUMBERS!!\n",
    "len(count_below)"
   ]
  },
  {
   "cell_type": "code",
   "execution_count": 26,
   "metadata": {},
   "outputs": [
    {
     "data": {
      "text/plain": [
       "<matplotlib.collections.PathCollection at 0x1df131aefc8>"
      ]
     },
     "execution_count": 26,
     "metadata": {},
     "output_type": "execute_result"
    },
    {
     "data": {
      "image/png": "[encoded data removed]",
      "text/plain": [
       "<Figure size 432x288 with 1 Axes>"
      ]
     },
     "metadata": {},
     "output_type": "display_data"
    }
   ],
   "source": [
    "plt.scatter(count_above, above_average)"
   ]
  },
  {
   "cell_type": "code",
   "execution_count": 27,
   "metadata": {},
   "outputs": [
    {
     "data": {
      "text/plain": [
       "<matplotlib.collections.PathCollection at 0x1df1485f108>"
      ]
     },
     "execution_count": 27,
     "metadata": {},
     "output_type": "execute_result"
    },
    {
     "data": {
      "image/png": "[encoded data removed]",
      "text/plain": [
       "<Figure size 432x288 with 1 Axes>"
      ]
     },
     "metadata": {},
     "output_type": "display_data"
    }
   ],
   "source": [
    "plt.scatter(count_below, below_average)"
   ]
  },
  {
   "cell_type": "code",
   "execution_count": 28,
   "metadata": {
    "scrolled": true
   },
   "outputs": [
    {
     "data": {
      "text/plain": [
       "(array([  1.,   4.,   7.,  15.,  15.,  51.,  40.,  42., 100.,  44.,  44.,\n",
       "         60.,  41.,  37.,  22.,  21.,   7.,   3.,   2.,   2.]),\n",
       " array([11.052347 , 11.0657464, 11.0791458, 11.0925452, 11.1059446,\n",
       "        11.119344 , 11.1327434, 11.1461428, 11.1595422, 11.1729416,\n",
       "        11.186341 , 11.1997404, 11.2131398, 11.2265392, 11.2399386,\n",
       "        11.253338 , 11.2667374, 11.2801368, 11.2935362, 11.3069356,\n",
       "        11.320335 ]),\n",
       " <a list of 20 Patch objects>)"
      ]
     },
     "execution_count": 28,
     "metadata": {},
     "output_type": "execute_result"
    },
    {
     "data": {
      "image/png": "[encoded data removed]",
      "text/plain": [
       "<Figure size 432x288 with 1 Axes>"
      ]
     },
     "metadata": {},
     "output_type": "display_data"
    }
   ],
   "source": [
    "num_bins = 20\n",
    "plt.hist(above_average, bins = num_bins)"
   ]
  },
  {
   "cell_type": "code",
   "execution_count": 29,
   "metadata": {},
   "outputs": [
    {
     "data": {
      "text/plain": [
       "(array([  2.,   0.,   2.,  13.,  32.,  21.,  25.,  40., 115.,  73.,  57.,\n",
       "         46.,  49.,  40.,  18.,  10.,   9.,   1.,   4.,   2.]),\n",
       " array([5.909511 , 5.9196815, 5.929852 , 5.9400225, 5.950193 , 5.9603635,\n",
       "        5.970534 , 5.9807045, 5.990875 , 6.0010455, 6.011216 , 6.0213865,\n",
       "        6.031557 , 6.0417275, 6.051898 , 6.0620685, 6.072239 , 6.0824095,\n",
       "        6.09258  , 6.1027505, 6.112921 ]),\n",
       " <a list of 20 Patch objects>)"
      ]
     },
     "execution_count": 29,
     "metadata": {},
     "output_type": "execute_result"
    },
    {
     "data": {
      "image/png": "[encoded data removed]",
      "text/plain": [
       "<Figure size 432x288 with 1 Axes>"
      ]
     },
     "metadata": {},
     "output_type": "display_data"
    }
   ],
   "source": [
    "num_bins = 20\n",
    "plt.hist(below_average, bins = num_bins)"
   ]
  },
  {
   "cell_type": "code",
   "execution_count": 30,
   "metadata": {},
   "outputs": [
    {
     "data": {
      "text/plain": [
       "['2,', '4,', '6,', '8,', '10,']"
      ]
     },
     "execution_count": 30,
     "metadata": {},
     "output_type": "execute_result"
    }
   ],
   "source": [
    "count_above[:5]"
   ]
  },
  {
   "cell_type": "code",
   "execution_count": 31,
   "metadata": {},
   "outputs": [],
   "source": [
    "def all_even_or_odd(array):\n",
    "\n",
    "    remainders = list(map(lambda x: int(x[:-1]) % 2, array))\n",
    "    \n",
    "    if remainders.count(1) == len(array):\n",
    "        return \"The array contains all odd integers\"\n",
    "    elif remainders.count(0) == len(array):\n",
    "        return \"The array contains all even integers\"\n",
    "    else:\n",
    "        return \"The array contains both even and odd integers\""
   ]
  },
  {
   "cell_type": "code",
   "execution_count": 32,
   "metadata": {},
   "outputs": [
    {
     "data": {
      "text/plain": [
       "'The array contains all even integers'"
      ]
     },
     "execution_count": 32,
     "metadata": {},
     "output_type": "execute_result"
    }
   ],
   "source": [
    "all_even_or_odd(count_above)"
   ]
  },
  {
   "cell_type": "code",
   "execution_count": 33,
   "metadata": {},
   "outputs": [
    {
     "data": {
      "text/plain": [
       "'The array contains all odd integers'"
      ]
     },
     "execution_count": 33,
     "metadata": {},
     "output_type": "execute_result"
    }
   ],
   "source": [
    "all_even_or_odd(count_below)"
   ]
  },
  {
   "cell_type": "code",
   "execution_count": null,
   "metadata": {},
   "outputs": [],
   "source": []
  }
 ],
 "metadata": {
  "kernelspec": {
   "display_name": "Python 3",
   "language": "python",
   "name": "python3"
  },
  "language_info": {
   "codemirror_mode": {
    "name": "ipython",
    "version": 3
   },
   "file_extension": ".py",
   "mimetype": "text/x-python",
   "name": "python",
   "nbconvert_exporter": "python",
   "pygments_lexer": "ipython3",
   "version": "3.7.6"
  }
 },
 "nbformat": 4,
 "nbformat_minor": 4
}
