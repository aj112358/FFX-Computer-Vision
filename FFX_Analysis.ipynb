{
 "cells": [
  {
   "cell_type": "markdown",
   "metadata": {},
   "source": [
    "Importing all needed Python modules"
   ]
  },
  {
   "cell_type": "code",
   "execution_count": 1,
   "metadata": {},
   "outputs": [],
   "source": [
    "import pandas as pd\n",
    "import matplotlib.pyplot as plt\n",
    "import numpy as np\n",
    "import datetime as dt\n",
    "import seaborn as sns\n",
    "sns.set(style=\"darkgrid\")"
   ]
  },
  {
   "cell_type": "code",
   "execution_count": 2,
   "metadata": {},
   "outputs": [],
   "source": [
    "import datetime\n",
    "from datetime import datetime"
   ]
  },
  {
   "cell_type": "code",
   "execution_count": 3,
   "metadata": {},
   "outputs": [],
   "source": [
    "# Used to execute multple code lines in a single cell\n",
    "from IPython.core.interactiveshell import InteractiveShell\n",
    "InteractiveShell.ast_node_interactivity = \"all\""
   ]
  },
  {
   "cell_type": "code",
   "execution_count": 4,
   "metadata": {},
   "outputs": [],
   "source": [
    "# Used to display dataframes horizontally (instead of vertically)\n",
    "# NOT USED! Instead I used the solution here:\n",
    "# https://stackoverflow.com/a/50899244\n",
    "#\n",
    "from IPython.display import display_html\n",
    "def display_side_by_side(*args):\n",
    "    html_str=''\n",
    "    for df in args:\n",
    "        html_str+=df.to_html()\n",
    "    display_html(html_str.replace('table','table style=\"display:inline\"'),raw=True)"
   ]
  },
  {
   "cell_type": "code",
   "execution_count": 5,
   "metadata": {},
   "outputs": [
    {
     "data": {
      "text/html": [
       "        <script type=\"text/javascript\">\n",
       "        window.PlotlyConfig = {MathJaxConfig: 'local'};\n",
       "        if (window.MathJax) {MathJax.Hub.Config({SVG: {font: \"STIX-Web\"}});}\n",
       "        if (typeof require !== 'undefined') {\n",
       "        require.undef(\"plotly\");\n",
       "        requirejs.config({\n",
       "            paths: {\n",
       "                'plotly': ['https://cdn.plot.ly/plotly-latest.min']\n",
       "            }\n",
       "        });\n",
       "        require(['plotly'], function(Plotly) {\n",
       "            window._Plotly = Plotly;\n",
       "        });\n",
       "        }\n",
       "        </script>\n",
       "        "
      ]
     },
     "metadata": {},
     "output_type": "display_data"
    },
    {
     "data": {
      "text/html": [
       "        <script type=\"text/javascript\">\n",
       "        window.PlotlyConfig = {MathJaxConfig: 'local'};\n",
       "        if (window.MathJax) {MathJax.Hub.Config({SVG: {font: \"STIX-Web\"}});}\n",
       "        if (typeof require !== 'undefined') {\n",
       "        require.undef(\"plotly\");\n",
       "        requirejs.config({\n",
       "            paths: {\n",
       "                'plotly': ['https://cdn.plot.ly/plotly-latest.min']\n",
       "            }\n",
       "        });\n",
       "        require(['plotly'], function(Plotly) {\n",
       "            window._Plotly = Plotly;\n",
       "        });\n",
       "        }\n",
       "        </script>\n",
       "        "
      ]
     },
     "metadata": {},
     "output_type": "display_data"
    }
   ],
   "source": [
    "import chart_studio.plotly as py\n",
    "import cufflinks as cf\n",
    "from plotly.offline import download_plotlyjs, init_notebook_mode, plot, iplot\n",
    "init_notebook_mode(connected=True)\n",
    "cf.go_offline()"
   ]
  },
  {
   "cell_type": "markdown",
   "metadata": {},
   "source": [
    "Importing Raw Data Files"
   ]
  },
  {
   "cell_type": "code",
   "execution_count": 6,
   "metadata": {},
   "outputs": [],
   "source": [
    "ffx = pd.read_csv(\"ffxLighting_original_june28.txt\")"
   ]
  },
  {
   "cell_type": "code",
   "execution_count": 7,
   "metadata": {},
   "outputs": [],
   "source": [
    "ffx2 = pd.read_csv(\"ffxLighting_new_july1.txt\")"
   ]
  },
  {
   "cell_type": "code",
   "execution_count": 8,
   "metadata": {},
   "outputs": [],
   "source": [
    "ffx3 = pd.read_csv(\"gray_file_july1.txt\")"
   ]
  },
  {
   "cell_type": "markdown",
   "metadata": {},
   "source": [
    "Initial Look At The Data"
   ]
  },
  {
   "cell_type": "code",
   "execution_count": 9,
   "metadata": {},
   "outputs": [
    {
     "data": {
      "text/html": [
       "<div>\n",
       "<style scoped>\n",
       "    .dataframe tbody tr th:only-of-type {\n",
       "        vertical-align: middle;\n",
       "    }\n",
       "\n",
       "    .dataframe tbody tr th {\n",
       "        vertical-align: top;\n",
       "    }\n",
       "\n",
       "    .dataframe thead th {\n",
       "        text-align: right;\n",
       "    }\n",
       "</style>\n",
       "<table border=\"1\" class=\"dataframe\">\n",
       "  <thead>\n",
       "    <tr style=\"text-align: right;\">\n",
       "      <th></th>\n",
       "      <th>count</th>\n",
       "      <th>timings</th>\n",
       "    </tr>\n",
       "  </thead>\n",
       "  <tbody>\n",
       "    <tr>\n",
       "      <th>0</th>\n",
       "      <td>1</td>\n",
       "      <td>2020-06-28 16:40:11.538763</td>\n",
       "    </tr>\n",
       "    <tr>\n",
       "      <th>1</th>\n",
       "      <td>2</td>\n",
       "      <td>2020-06-28 16:40:17.543537</td>\n",
       "    </tr>\n",
       "    <tr>\n",
       "      <th>2</th>\n",
       "      <td>3</td>\n",
       "      <td>2020-06-28 16:40:28.666688</td>\n",
       "    </tr>\n",
       "    <tr>\n",
       "      <th>3</th>\n",
       "      <td>4</td>\n",
       "      <td>2020-06-28 16:40:34.640885</td>\n",
       "    </tr>\n",
       "    <tr>\n",
       "      <th>4</th>\n",
       "      <td>5</td>\n",
       "      <td>2020-06-28 16:40:45.889237</td>\n",
       "    </tr>\n",
       "  </tbody>\n",
       "</table>\n",
       "</div>"
      ],
      "text/plain": [
       "   count                      timings\n",
       "0      1   2020-06-28 16:40:11.538763\n",
       "1      2   2020-06-28 16:40:17.543537\n",
       "2      3   2020-06-28 16:40:28.666688\n",
       "3      4   2020-06-28 16:40:34.640885\n",
       "4      5   2020-06-28 16:40:45.889237"
      ]
     },
     "execution_count": 9,
     "metadata": {},
     "output_type": "execute_result"
    },
    {
     "data": {
      "text/html": [
       "<div>\n",
       "<style scoped>\n",
       "    .dataframe tbody tr th:only-of-type {\n",
       "        vertical-align: middle;\n",
       "    }\n",
       "\n",
       "    .dataframe tbody tr th {\n",
       "        vertical-align: top;\n",
       "    }\n",
       "\n",
       "    .dataframe thead th {\n",
       "        text-align: right;\n",
       "    }\n",
       "</style>\n",
       "<table border=\"1\" class=\"dataframe\">\n",
       "  <thead>\n",
       "    <tr style=\"text-align: right;\">\n",
       "      <th></th>\n",
       "      <th>count</th>\n",
       "      <th>timings</th>\n",
       "    </tr>\n",
       "  </thead>\n",
       "  <tbody>\n",
       "    <tr>\n",
       "      <th>0</th>\n",
       "      <td>1</td>\n",
       "      <td>2020-07-01 22:18:22.806651</td>\n",
       "    </tr>\n",
       "    <tr>\n",
       "      <th>1</th>\n",
       "      <td>2</td>\n",
       "      <td>2020-07-01 22:18:49.157322</td>\n",
       "    </tr>\n",
       "    <tr>\n",
       "      <th>2</th>\n",
       "      <td>3</td>\n",
       "      <td>2020-07-01 22:18:55.197844</td>\n",
       "    </tr>\n",
       "    <tr>\n",
       "      <th>3</th>\n",
       "      <td>4</td>\n",
       "      <td>2020-07-01 22:19:06.378970</td>\n",
       "    </tr>\n",
       "    <tr>\n",
       "      <th>4</th>\n",
       "      <td>5</td>\n",
       "      <td>2020-07-01 22:19:12.418819</td>\n",
       "    </tr>\n",
       "  </tbody>\n",
       "</table>\n",
       "</div>"
      ],
      "text/plain": [
       "   count                      timings\n",
       "0      1   2020-07-01 22:18:22.806651\n",
       "1      2   2020-07-01 22:18:49.157322\n",
       "2      3   2020-07-01 22:18:55.197844\n",
       "3      4   2020-07-01 22:19:06.378970\n",
       "4      5   2020-07-01 22:19:12.418819"
      ]
     },
     "execution_count": 9,
     "metadata": {},
     "output_type": "execute_result"
    },
    {
     "data": {
      "text/html": [
       "<div>\n",
       "<style scoped>\n",
       "    .dataframe tbody tr th:only-of-type {\n",
       "        vertical-align: middle;\n",
       "    }\n",
       "\n",
       "    .dataframe tbody tr th {\n",
       "        vertical-align: top;\n",
       "    }\n",
       "\n",
       "    .dataframe thead th {\n",
       "        text-align: right;\n",
       "    }\n",
       "</style>\n",
       "<table border=\"1\" class=\"dataframe\">\n",
       "  <thead>\n",
       "    <tr style=\"text-align: right;\">\n",
       "      <th></th>\n",
       "      <th>grayscale</th>\n",
       "      <th>timings</th>\n",
       "    </tr>\n",
       "  </thead>\n",
       "  <tbody>\n",
       "    <tr>\n",
       "      <th>0</th>\n",
       "      <td>235.556693</td>\n",
       "      <td>2020-07-01 22:18:21.991453</td>\n",
       "    </tr>\n",
       "    <tr>\n",
       "      <th>1</th>\n",
       "      <td>235.544079</td>\n",
       "      <td>2020-07-01 22:18:22.187393</td>\n",
       "    </tr>\n",
       "    <tr>\n",
       "      <th>2</th>\n",
       "      <td>229.834134</td>\n",
       "      <td>2020-07-01 22:18:22.202118</td>\n",
       "    </tr>\n",
       "    <tr>\n",
       "      <th>3</th>\n",
       "      <td>229.882272</td>\n",
       "      <td>2020-07-01 22:18:22.219390</td>\n",
       "    </tr>\n",
       "    <tr>\n",
       "      <th>4</th>\n",
       "      <td>229.889206</td>\n",
       "      <td>2020-07-01 22:18:22.234170</td>\n",
       "    </tr>\n",
       "  </tbody>\n",
       "</table>\n",
       "</div>"
      ],
      "text/plain": [
       "    grayscale                      timings\n",
       "0  235.556693   2020-07-01 22:18:21.991453\n",
       "1  235.544079   2020-07-01 22:18:22.187393\n",
       "2  229.834134   2020-07-01 22:18:22.202118\n",
       "3  229.882272   2020-07-01 22:18:22.219390\n",
       "4  229.889206   2020-07-01 22:18:22.234170"
      ]
     },
     "execution_count": 9,
     "metadata": {},
     "output_type": "execute_result"
    }
   ],
   "source": [
    "ffx.head()\n",
    "ffx2.head()\n",
    "ffx3.head()"
   ]
  },
  {
   "cell_type": "code",
   "execution_count": 10,
   "metadata": {},
   "outputs": [
    {
     "data": {
      "text/plain": [
       "1"
      ]
     },
     "execution_count": 10,
     "metadata": {},
     "output_type": "execute_result"
    },
    {
     "data": {
      "text/plain": [
       "' 2020-06-28 16:40:11.538763'"
      ]
     },
     "execution_count": 10,
     "metadata": {},
     "output_type": "execute_result"
    }
   ],
   "source": [
    "ffx[\"count\"][0]\n",
    "ffx[\" timings\"][0]"
   ]
  },
  {
   "cell_type": "code",
   "execution_count": 11,
   "metadata": {},
   "outputs": [
    {
     "data": {
      "text/plain": [
       "numpy.int64"
      ]
     },
     "execution_count": 11,
     "metadata": {},
     "output_type": "execute_result"
    },
    {
     "data": {
      "text/plain": [
       "str"
      ]
     },
     "execution_count": 11,
     "metadata": {},
     "output_type": "execute_result"
    }
   ],
   "source": [
    "type(ffx[\"count\"][0])\n",
    "type(ffx[\" timings\"][0])"
   ]
  },
  {
   "cell_type": "code",
   "execution_count": 12,
   "metadata": {},
   "outputs": [
    {
     "data": {
      "text/plain": [
       "1"
      ]
     },
     "execution_count": 12,
     "metadata": {},
     "output_type": "execute_result"
    },
    {
     "data": {
      "text/plain": [
       "' 2020-07-01 22:18:22.806651'"
      ]
     },
     "execution_count": 12,
     "metadata": {},
     "output_type": "execute_result"
    }
   ],
   "source": [
    "ffx2[\"count\"][0]\n",
    "ffx2[\" timings\"][0]"
   ]
  },
  {
   "cell_type": "code",
   "execution_count": 13,
   "metadata": {},
   "outputs": [
    {
     "data": {
      "text/plain": [
       "235.55669270833332"
      ]
     },
     "execution_count": 13,
     "metadata": {},
     "output_type": "execute_result"
    },
    {
     "data": {
      "text/plain": [
       "' 2020-07-01 22:18:21.991453'"
      ]
     },
     "execution_count": 13,
     "metadata": {},
     "output_type": "execute_result"
    }
   ],
   "source": [
    "ffx3[\"grayscale\"][0]\n",
    "ffx3[\" timings\"][0]"
   ]
  },
  {
   "cell_type": "markdown",
   "metadata": {},
   "source": [
    "Getting General Info About Raw Data (NOTE: The Stupid Space!!!)"
   ]
  },
  {
   "cell_type": "code",
   "execution_count": 14,
   "metadata": {},
   "outputs": [
    {
     "name": "stdout",
     "output_type": "stream",
     "text": [
      "<class 'pandas.core.frame.DataFrame'>\n",
      "RangeIndex: 1135 entries, 0 to 1134\n",
      "Data columns (total 2 columns):\n",
      " #   Column    Non-Null Count  Dtype \n",
      "---  ------    --------------  ----- \n",
      " 0   count     1135 non-null   int64 \n",
      " 1    timings  1135 non-null   object\n",
      "dtypes: int64(1), object(1)\n",
      "memory usage: 17.9+ KB\n"
     ]
    }
   ],
   "source": [
    "ffx.info()"
   ]
  },
  {
   "cell_type": "code",
   "execution_count": 15,
   "metadata": {},
   "outputs": [
    {
     "name": "stdout",
     "output_type": "stream",
     "text": [
      "<class 'pandas.core.frame.DataFrame'>\n",
      "RangeIndex: 1859 entries, 0 to 1858\n",
      "Data columns (total 2 columns):\n",
      " #   Column    Non-Null Count  Dtype \n",
      "---  ------    --------------  ----- \n",
      " 0   count     1859 non-null   int64 \n",
      " 1    timings  1859 non-null   object\n",
      "dtypes: int64(1), object(1)\n",
      "memory usage: 29.2+ KB\n"
     ]
    }
   ],
   "source": [
    "ffx2.info()"
   ]
  },
  {
   "cell_type": "code",
   "execution_count": 16,
   "metadata": {},
   "outputs": [
    {
     "name": "stdout",
     "output_type": "stream",
     "text": [
      "<class 'pandas.core.frame.DataFrame'>\n",
      "RangeIndex: 399539 entries, 0 to 399538\n",
      "Data columns (total 2 columns):\n",
      " #   Column     Non-Null Count   Dtype  \n",
      "---  ------     --------------   -----  \n",
      " 0   grayscale  399539 non-null  float64\n",
      " 1    timings   399539 non-null  object \n",
      "dtypes: float64(1), object(1)\n",
      "memory usage: 6.1+ MB\n"
     ]
    }
   ],
   "source": [
    "ffx3.info()"
   ]
  },
  {
   "cell_type": "code",
   "execution_count": 17,
   "metadata": {},
   "outputs": [
    {
     "data": {
      "text/plain": [
       "str"
      ]
     },
     "execution_count": 17,
     "metadata": {},
     "output_type": "execute_result"
    },
    {
     "data": {
      "text/plain": [
       "str"
      ]
     },
     "execution_count": 17,
     "metadata": {},
     "output_type": "execute_result"
    },
    {
     "data": {
      "text/plain": [
       "str"
      ]
     },
     "execution_count": 17,
     "metadata": {},
     "output_type": "execute_result"
    }
   ],
   "source": [
    "# All date/time column data is \"str\" !!!\n",
    "type(ffx[\" timings\"][0])\n",
    "type(ffx2[\" timings\"][0])\n",
    "type(ffx3[\" timings\"][0])"
   ]
  },
  {
   "cell_type": "markdown",
   "metadata": {},
   "source": [
    "# **Cleaning Data for ffx (original data)**"
   ]
  },
  {
   "cell_type": "markdown",
   "metadata": {},
   "source": [
    "Need to first get rid of the stupid space (in column header)!"
   ]
  },
  {
   "cell_type": "code",
   "execution_count": 18,
   "metadata": {},
   "outputs": [
    {
     "data": {
      "text/html": [
       "<div>\n",
       "<style scoped>\n",
       "    .dataframe tbody tr th:only-of-type {\n",
       "        vertical-align: middle;\n",
       "    }\n",
       "\n",
       "    .dataframe tbody tr th {\n",
       "        vertical-align: top;\n",
       "    }\n",
       "\n",
       "    .dataframe thead th {\n",
       "        text-align: right;\n",
       "    }\n",
       "</style>\n",
       "<table border=\"1\" class=\"dataframe\">\n",
       "  <thead>\n",
       "    <tr style=\"text-align: right;\">\n",
       "      <th></th>\n",
       "      <th>count</th>\n",
       "      <th>timings</th>\n",
       "    </tr>\n",
       "  </thead>\n",
       "  <tbody>\n",
       "    <tr>\n",
       "      <th>0</th>\n",
       "      <td>1</td>\n",
       "      <td>2020-06-28 16:40:11.538763</td>\n",
       "    </tr>\n",
       "    <tr>\n",
       "      <th>1</th>\n",
       "      <td>2</td>\n",
       "      <td>2020-06-28 16:40:17.543537</td>\n",
       "    </tr>\n",
       "    <tr>\n",
       "      <th>2</th>\n",
       "      <td>3</td>\n",
       "      <td>2020-06-28 16:40:28.666688</td>\n",
       "    </tr>\n",
       "    <tr>\n",
       "      <th>3</th>\n",
       "      <td>4</td>\n",
       "      <td>2020-06-28 16:40:34.640885</td>\n",
       "    </tr>\n",
       "    <tr>\n",
       "      <th>4</th>\n",
       "      <td>5</td>\n",
       "      <td>2020-06-28 16:40:45.889237</td>\n",
       "    </tr>\n",
       "  </tbody>\n",
       "</table>\n",
       "</div>"
      ],
      "text/plain": [
       "   count                      timings\n",
       "0      1   2020-06-28 16:40:11.538763\n",
       "1      2   2020-06-28 16:40:17.543537\n",
       "2      3   2020-06-28 16:40:28.666688\n",
       "3      4   2020-06-28 16:40:34.640885\n",
       "4      5   2020-06-28 16:40:45.889237"
      ]
     },
     "execution_count": 18,
     "metadata": {},
     "output_type": "execute_result"
    },
    {
     "data": {
      "text/plain": [
       "Index(['count', ' timings'], dtype='object')"
      ]
     },
     "execution_count": 18,
     "metadata": {},
     "output_type": "execute_result"
    },
    {
     "data": {
      "text/plain": [
       "' 2020-06-28 16:40:11.538763'"
      ]
     },
     "execution_count": 18,
     "metadata": {},
     "output_type": "execute_result"
    }
   ],
   "source": [
    "ffx.head()\n",
    "ffx.columns\n",
    "ffx[\" timings\"][0]"
   ]
  },
  {
   "cell_type": "code",
   "execution_count": 19,
   "metadata": {},
   "outputs": [
    {
     "data": {
      "text/plain": [
       "Index(['count', 'timings'], dtype='object')"
      ]
     },
     "execution_count": 19,
     "metadata": {},
     "output_type": "execute_result"
    }
   ],
   "source": [
    "ffx.rename(mapper={\" timings\": \"timings\"}, axis=1, inplace=True)\n",
    "ffx.columns"
   ]
  },
  {
   "cell_type": "markdown",
   "metadata": {},
   "source": [
    "Need to get rid of spaces in the \"timings\" DATA as well!!!"
   ]
  },
  {
   "cell_type": "code",
   "execution_count": 20,
   "metadata": {},
   "outputs": [
    {
     "data": {
      "text/plain": [
       "' 2020-06-28 16:40:11.538763'"
      ]
     },
     "execution_count": 20,
     "metadata": {},
     "output_type": "execute_result"
    },
    {
     "data": {
      "text/plain": [
       "str"
      ]
     },
     "execution_count": 20,
     "metadata": {},
     "output_type": "execute_result"
    }
   ],
   "source": [
    "ffx[\"timings\"][0]\n",
    "type(ffx[\"timings\"][0])"
   ]
  },
  {
   "cell_type": "code",
   "execution_count": 21,
   "metadata": {},
   "outputs": [],
   "source": [
    "ffx[\"timings\"] = ffx[\"timings\"].apply(lambda string: string[1:])"
   ]
  },
  {
   "cell_type": "code",
   "execution_count": 22,
   "metadata": {},
   "outputs": [
    {
     "data": {
      "text/plain": [
       "'2020-06-28 16:40:11.538763'"
      ]
     },
     "execution_count": 22,
     "metadata": {},
     "output_type": "execute_result"
    },
    {
     "data": {
      "text/plain": [
       "str"
      ]
     },
     "execution_count": 22,
     "metadata": {},
     "output_type": "execute_result"
    }
   ],
   "source": [
    "ffx[\"timings\"][0]\n",
    "type(ffx[\"timings\"][0])"
   ]
  },
  {
   "cell_type": "code",
   "execution_count": 23,
   "metadata": {
    "scrolled": true
   },
   "outputs": [
    {
     "data": {
      "text/html": [
       "<div>\n",
       "<style scoped>\n",
       "    .dataframe tbody tr th:only-of-type {\n",
       "        vertical-align: middle;\n",
       "    }\n",
       "\n",
       "    .dataframe tbody tr th {\n",
       "        vertical-align: top;\n",
       "    }\n",
       "\n",
       "    .dataframe thead th {\n",
       "        text-align: right;\n",
       "    }\n",
       "</style>\n",
       "<table border=\"1\" class=\"dataframe\">\n",
       "  <thead>\n",
       "    <tr style=\"text-align: right;\">\n",
       "      <th></th>\n",
       "      <th>count</th>\n",
       "      <th>timings</th>\n",
       "    </tr>\n",
       "  </thead>\n",
       "  <tbody>\n",
       "    <tr>\n",
       "      <th>0</th>\n",
       "      <td>1</td>\n",
       "      <td>2020-06-28 16:40:11.538763</td>\n",
       "    </tr>\n",
       "    <tr>\n",
       "      <th>1</th>\n",
       "      <td>2</td>\n",
       "      <td>2020-06-28 16:40:17.543537</td>\n",
       "    </tr>\n",
       "    <tr>\n",
       "      <th>2</th>\n",
       "      <td>3</td>\n",
       "      <td>2020-06-28 16:40:28.666688</td>\n",
       "    </tr>\n",
       "    <tr>\n",
       "      <th>3</th>\n",
       "      <td>4</td>\n",
       "      <td>2020-06-28 16:40:34.640885</td>\n",
       "    </tr>\n",
       "    <tr>\n",
       "      <th>4</th>\n",
       "      <td>5</td>\n",
       "      <td>2020-06-28 16:40:45.889237</td>\n",
       "    </tr>\n",
       "  </tbody>\n",
       "</table>\n",
       "</div>"
      ],
      "text/plain": [
       "   count                     timings\n",
       "0      1  2020-06-28 16:40:11.538763\n",
       "1      2  2020-06-28 16:40:17.543537\n",
       "2      3  2020-06-28 16:40:28.666688\n",
       "3      4  2020-06-28 16:40:34.640885\n",
       "4      5  2020-06-28 16:40:45.889237"
      ]
     },
     "execution_count": 23,
     "metadata": {},
     "output_type": "execute_result"
    }
   ],
   "source": [
    "ffx.head()"
   ]
  },
  {
   "cell_type": "markdown",
   "metadata": {},
   "source": [
    "Look for null values? (I already know there aren't any)"
   ]
  },
  {
   "cell_type": "code",
   "execution_count": 24,
   "metadata": {},
   "outputs": [
    {
     "data": {
      "text/plain": [
       "count      1135\n",
       "timings    1135\n",
       "dtype: int64"
      ]
     },
     "execution_count": 24,
     "metadata": {},
     "output_type": "execute_result"
    },
    {
     "data": {
      "text/plain": [
       "count      1135\n",
       "timings    1135\n",
       "dtype: int64"
      ]
     },
     "execution_count": 24,
     "metadata": {},
     "output_type": "execute_result"
    }
   ],
   "source": [
    "ffx.count()\n",
    "ffx.isnull().count()"
   ]
  },
  {
   "cell_type": "markdown",
   "metadata": {},
   "source": [
    "I happen to know that some values at the tail of the dataframe is not needed (it was recorded while I was dismantling the data capture setup). We will find the bad data, and remove the respective rows.\n",
    "\n",
    "Based on the project, we will most likely be more interested in time differences between lightning strikes.\n",
    "\n",
    "**SO! We must first change the timings data to 'datetime/timedelta' objects**"
   ]
  },
  {
   "cell_type": "code",
   "execution_count": 25,
   "metadata": {},
   "outputs": [
    {
     "data": {
      "text/html": [
       "<div>\n",
       "<style scoped>\n",
       "    .dataframe tbody tr th:only-of-type {\n",
       "        vertical-align: middle;\n",
       "    }\n",
       "\n",
       "    .dataframe tbody tr th {\n",
       "        vertical-align: top;\n",
       "    }\n",
       "\n",
       "    .dataframe thead th {\n",
       "        text-align: right;\n",
       "    }\n",
       "</style>\n",
       "<table border=\"1\" class=\"dataframe\">\n",
       "  <thead>\n",
       "    <tr style=\"text-align: right;\">\n",
       "      <th></th>\n",
       "      <th>count</th>\n",
       "      <th>timings</th>\n",
       "    </tr>\n",
       "  </thead>\n",
       "  <tbody>\n",
       "    <tr>\n",
       "      <th>0</th>\n",
       "      <td>1</td>\n",
       "      <td>2020-06-28 16:40:11.538763</td>\n",
       "    </tr>\n",
       "    <tr>\n",
       "      <th>1</th>\n",
       "      <td>2</td>\n",
       "      <td>2020-06-28 16:40:17.543537</td>\n",
       "    </tr>\n",
       "    <tr>\n",
       "      <th>2</th>\n",
       "      <td>3</td>\n",
       "      <td>2020-06-28 16:40:28.666688</td>\n",
       "    </tr>\n",
       "    <tr>\n",
       "      <th>3</th>\n",
       "      <td>4</td>\n",
       "      <td>2020-06-28 16:40:34.640885</td>\n",
       "    </tr>\n",
       "    <tr>\n",
       "      <th>4</th>\n",
       "      <td>5</td>\n",
       "      <td>2020-06-28 16:40:45.889237</td>\n",
       "    </tr>\n",
       "  </tbody>\n",
       "</table>\n",
       "</div>"
      ],
      "text/plain": [
       "   count                     timings\n",
       "0      1  2020-06-28 16:40:11.538763\n",
       "1      2  2020-06-28 16:40:17.543537\n",
       "2      3  2020-06-28 16:40:28.666688\n",
       "3      4  2020-06-28 16:40:34.640885\n",
       "4      5  2020-06-28 16:40:45.889237"
      ]
     },
     "execution_count": 25,
     "metadata": {},
     "output_type": "execute_result"
    },
    {
     "data": {
      "text/plain": [
       "'2020-06-28 16:40:11.538763'"
      ]
     },
     "execution_count": 25,
     "metadata": {},
     "output_type": "execute_result"
    },
    {
     "data": {
      "text/plain": [
       "str"
      ]
     },
     "execution_count": 25,
     "metadata": {},
     "output_type": "execute_result"
    }
   ],
   "source": [
    "ffx.head()\n",
    "ffx[\"timings\"][0]\n",
    "type(ffx[\"timings\"][0])"
   ]
  },
  {
   "cell_type": "code",
   "execution_count": 26,
   "metadata": {},
   "outputs": [
    {
     "data": {
      "text/html": [
       "<div>\n",
       "<style scoped>\n",
       "    .dataframe tbody tr th:only-of-type {\n",
       "        vertical-align: middle;\n",
       "    }\n",
       "\n",
       "    .dataframe tbody tr th {\n",
       "        vertical-align: top;\n",
       "    }\n",
       "\n",
       "    .dataframe thead th {\n",
       "        text-align: right;\n",
       "    }\n",
       "</style>\n",
       "<table border=\"1\" class=\"dataframe\">\n",
       "  <thead>\n",
       "    <tr style=\"text-align: right;\">\n",
       "      <th></th>\n",
       "      <th>count</th>\n",
       "      <th>timings</th>\n",
       "      <th>Datetime</th>\n",
       "    </tr>\n",
       "  </thead>\n",
       "  <tbody>\n",
       "    <tr>\n",
       "      <th>0</th>\n",
       "      <td>1</td>\n",
       "      <td>2020-06-28 16:40:11.538763</td>\n",
       "      <td>2020-06-28 16:40:11.538763</td>\n",
       "    </tr>\n",
       "    <tr>\n",
       "      <th>1</th>\n",
       "      <td>2</td>\n",
       "      <td>2020-06-28 16:40:17.543537</td>\n",
       "      <td>2020-06-28 16:40:17.543537</td>\n",
       "    </tr>\n",
       "    <tr>\n",
       "      <th>2</th>\n",
       "      <td>3</td>\n",
       "      <td>2020-06-28 16:40:28.666688</td>\n",
       "      <td>2020-06-28 16:40:28.666688</td>\n",
       "    </tr>\n",
       "    <tr>\n",
       "      <th>3</th>\n",
       "      <td>4</td>\n",
       "      <td>2020-06-28 16:40:34.640885</td>\n",
       "      <td>2020-06-28 16:40:34.640885</td>\n",
       "    </tr>\n",
       "    <tr>\n",
       "      <th>4</th>\n",
       "      <td>5</td>\n",
       "      <td>2020-06-28 16:40:45.889237</td>\n",
       "      <td>2020-06-28 16:40:45.889237</td>\n",
       "    </tr>\n",
       "  </tbody>\n",
       "</table>\n",
       "</div>"
      ],
      "text/plain": [
       "   count                     timings                   Datetime\n",
       "0      1  2020-06-28 16:40:11.538763 2020-06-28 16:40:11.538763\n",
       "1      2  2020-06-28 16:40:17.543537 2020-06-28 16:40:17.543537\n",
       "2      3  2020-06-28 16:40:28.666688 2020-06-28 16:40:28.666688\n",
       "3      4  2020-06-28 16:40:34.640885 2020-06-28 16:40:34.640885\n",
       "4      5  2020-06-28 16:40:45.889237 2020-06-28 16:40:45.889237"
      ]
     },
     "execution_count": 26,
     "metadata": {},
     "output_type": "execute_result"
    },
    {
     "data": {
      "text/plain": [
       "Timestamp('2020-06-28 16:40:11.538763')"
      ]
     },
     "execution_count": 26,
     "metadata": {},
     "output_type": "execute_result"
    },
    {
     "data": {
      "text/plain": [
       "pandas._libs.tslibs.timestamps.Timestamp"
      ]
     },
     "execution_count": 26,
     "metadata": {},
     "output_type": "execute_result"
    }
   ],
   "source": [
    "ffx[\"Datetime\"] = pd.to_datetime(ffx[\"timings\"])\n",
    "ffx.head()\n",
    "ffx[\"Datetime\"][0]\n",
    "type(ffx[\"Datetime\"][0])"
   ]
  },
  {
   "cell_type": "markdown",
   "metadata": {},
   "source": [
    "Now that everything is converted to actual \"datetime\" dtype, we can look for our bad data. It's somewhere at the end, remember!"
   ]
  },
  {
   "cell_type": "code",
   "execution_count": 27,
   "metadata": {},
   "outputs": [
    {
     "data": {
      "text/html": [
       "<div>\n",
       "<style scoped>\n",
       "    .dataframe tbody tr th:only-of-type {\n",
       "        vertical-align: middle;\n",
       "    }\n",
       "\n",
       "    .dataframe tbody tr th {\n",
       "        vertical-align: top;\n",
       "    }\n",
       "\n",
       "    .dataframe thead th {\n",
       "        text-align: right;\n",
       "    }\n",
       "</style>\n",
       "<table border=\"1\" class=\"dataframe\">\n",
       "  <thead>\n",
       "    <tr style=\"text-align: right;\">\n",
       "      <th></th>\n",
       "      <th>count</th>\n",
       "      <th>timings</th>\n",
       "      <th>Datetime</th>\n",
       "    </tr>\n",
       "  </thead>\n",
       "  <tbody>\n",
       "    <tr>\n",
       "      <th>1100</th>\n",
       "      <td>1101</td>\n",
       "      <td>2020-06-28 19:17:45.300614</td>\n",
       "      <td>2020-06-28 19:17:45.300614</td>\n",
       "    </tr>\n",
       "    <tr>\n",
       "      <th>1101</th>\n",
       "      <td>1102</td>\n",
       "      <td>2020-06-28 19:17:51.295674</td>\n",
       "      <td>2020-06-28 19:17:51.295674</td>\n",
       "    </tr>\n",
       "    <tr>\n",
       "      <th>1102</th>\n",
       "      <td>1103</td>\n",
       "      <td>2020-06-28 19:18:02.442681</td>\n",
       "      <td>2020-06-28 19:18:02.442681</td>\n",
       "    </tr>\n",
       "    <tr>\n",
       "      <th>1103</th>\n",
       "      <td>1104</td>\n",
       "      <td>2020-06-28 19:18:08.487168</td>\n",
       "      <td>2020-06-28 19:18:08.487168</td>\n",
       "    </tr>\n",
       "    <tr>\n",
       "      <th>1104</th>\n",
       "      <td>1105</td>\n",
       "      <td>2020-06-28 19:18:19.587722</td>\n",
       "      <td>2020-06-28 19:18:19.587722</td>\n",
       "    </tr>\n",
       "    <tr>\n",
       "      <th>1105</th>\n",
       "      <td>1106</td>\n",
       "      <td>2020-06-28 19:18:25.632636</td>\n",
       "      <td>2020-06-28 19:18:25.632636</td>\n",
       "    </tr>\n",
       "    <tr>\n",
       "      <th>1106</th>\n",
       "      <td>1107</td>\n",
       "      <td>2020-06-28 19:18:36.770161</td>\n",
       "      <td>2020-06-28 19:18:36.770161</td>\n",
       "    </tr>\n",
       "    <tr>\n",
       "      <th>1107</th>\n",
       "      <td>1108</td>\n",
       "      <td>2020-06-28 19:18:42.812585</td>\n",
       "      <td>2020-06-28 19:18:42.812585</td>\n",
       "    </tr>\n",
       "    <tr>\n",
       "      <th>1108</th>\n",
       "      <td>1109</td>\n",
       "      <td>2020-06-28 19:18:53.944019</td>\n",
       "      <td>2020-06-28 19:18:53.944019</td>\n",
       "    </tr>\n",
       "    <tr>\n",
       "      <th>1109</th>\n",
       "      <td>1110</td>\n",
       "      <td>2020-06-28 19:18:59.994721</td>\n",
       "      <td>2020-06-28 19:18:59.994721</td>\n",
       "    </tr>\n",
       "    <tr>\n",
       "      <th>1110</th>\n",
       "      <td>1111</td>\n",
       "      <td>2020-06-28 19:19:11.182394</td>\n",
       "      <td>2020-06-28 19:19:11.182394</td>\n",
       "    </tr>\n",
       "    <tr>\n",
       "      <th>1111</th>\n",
       "      <td>1112</td>\n",
       "      <td>2020-06-28 19:19:17.140761</td>\n",
       "      <td>2020-06-28 19:19:17.140761</td>\n",
       "    </tr>\n",
       "    <tr>\n",
       "      <th>1112</th>\n",
       "      <td>1113</td>\n",
       "      <td>2020-06-28 19:19:28.370228</td>\n",
       "      <td>2020-06-28 19:19:28.370228</td>\n",
       "    </tr>\n",
       "    <tr>\n",
       "      <th>1113</th>\n",
       "      <td>1114</td>\n",
       "      <td>2020-06-28 19:19:34.304837</td>\n",
       "      <td>2020-06-28 19:19:34.304837</td>\n",
       "    </tr>\n",
       "    <tr>\n",
       "      <th>1114</th>\n",
       "      <td>1115</td>\n",
       "      <td>2020-06-28 19:19:45.509329</td>\n",
       "      <td>2020-06-28 19:19:45.509329</td>\n",
       "    </tr>\n",
       "    <tr>\n",
       "      <th>1115</th>\n",
       "      <td>1116</td>\n",
       "      <td>2020-06-28 19:19:51.529480</td>\n",
       "      <td>2020-06-28 19:19:51.529480</td>\n",
       "    </tr>\n",
       "    <tr>\n",
       "      <th>1116</th>\n",
       "      <td>1117</td>\n",
       "      <td>2020-06-28 19:20:02.690825</td>\n",
       "      <td>2020-06-28 19:20:02.690825</td>\n",
       "    </tr>\n",
       "    <tr>\n",
       "      <th>1117</th>\n",
       "      <td>1118</td>\n",
       "      <td>2020-06-28 19:20:08.719560</td>\n",
       "      <td>2020-06-28 19:20:08.719560</td>\n",
       "    </tr>\n",
       "    <tr>\n",
       "      <th>1118</th>\n",
       "      <td>1119</td>\n",
       "      <td>2020-06-28 19:20:18.647719</td>\n",
       "      <td>2020-06-28 19:20:18.647719</td>\n",
       "    </tr>\n",
       "    <tr>\n",
       "      <th>1119</th>\n",
       "      <td>1120</td>\n",
       "      <td>2020-06-28 19:20:23.351210</td>\n",
       "      <td>2020-06-28 19:20:23.351210</td>\n",
       "    </tr>\n",
       "    <tr>\n",
       "      <th>1120</th>\n",
       "      <td>1121</td>\n",
       "      <td>2020-06-28 19:20:40.833734</td>\n",
       "      <td>2020-06-28 19:20:40.833734</td>\n",
       "    </tr>\n",
       "    <tr>\n",
       "      <th>1121</th>\n",
       "      <td>1122</td>\n",
       "      <td>2020-06-28 19:20:46.595614</td>\n",
       "      <td>2020-06-28 19:20:46.595614</td>\n",
       "    </tr>\n",
       "    <tr>\n",
       "      <th>1122</th>\n",
       "      <td>1123</td>\n",
       "      <td>2020-06-28 19:20:48.694830</td>\n",
       "      <td>2020-06-28 19:20:48.694830</td>\n",
       "    </tr>\n",
       "    <tr>\n",
       "      <th>1123</th>\n",
       "      <td>1124</td>\n",
       "      <td>2020-06-28 19:21:02.183183</td>\n",
       "      <td>2020-06-28 19:21:02.183183</td>\n",
       "    </tr>\n",
       "    <tr>\n",
       "      <th>1124</th>\n",
       "      <td>1125</td>\n",
       "      <td>2020-06-28 19:21:09.733099</td>\n",
       "      <td>2020-06-28 19:21:09.733099</td>\n",
       "    </tr>\n",
       "    <tr>\n",
       "      <th>1125</th>\n",
       "      <td>1126</td>\n",
       "      <td>2020-06-28 19:21:17.263125</td>\n",
       "      <td>2020-06-28 19:21:17.263125</td>\n",
       "    </tr>\n",
       "    <tr>\n",
       "      <th>1126</th>\n",
       "      <td>1127</td>\n",
       "      <td>2020-06-28 19:21:30.427996</td>\n",
       "      <td>2020-06-28 19:21:30.427996</td>\n",
       "    </tr>\n",
       "    <tr>\n",
       "      <th>1127</th>\n",
       "      <td>1128</td>\n",
       "      <td>2020-06-28 19:21:45.578473</td>\n",
       "      <td>2020-06-28 19:21:45.578473</td>\n",
       "    </tr>\n",
       "    <tr>\n",
       "      <th>1128</th>\n",
       "      <td>1129</td>\n",
       "      <td>2020-06-28 19:21:45.679359</td>\n",
       "      <td>2020-06-28 19:21:45.679359</td>\n",
       "    </tr>\n",
       "    <tr>\n",
       "      <th>1129</th>\n",
       "      <td>1130</td>\n",
       "      <td>2020-06-28 19:21:56.824975</td>\n",
       "      <td>2020-06-28 19:21:56.824975</td>\n",
       "    </tr>\n",
       "    <tr>\n",
       "      <th>1130</th>\n",
       "      <td>1131</td>\n",
       "      <td>2020-06-28 19:23:27.663365</td>\n",
       "      <td>2020-06-28 19:23:27.663365</td>\n",
       "    </tr>\n",
       "    <tr>\n",
       "      <th>1131</th>\n",
       "      <td>1132</td>\n",
       "      <td>2020-06-28 19:24:52.651587</td>\n",
       "      <td>2020-06-28 19:24:52.651587</td>\n",
       "    </tr>\n",
       "    <tr>\n",
       "      <th>1132</th>\n",
       "      <td>1133</td>\n",
       "      <td>2020-06-28 19:24:58.391024</td>\n",
       "      <td>2020-06-28 19:24:58.391024</td>\n",
       "    </tr>\n",
       "    <tr>\n",
       "      <th>1133</th>\n",
       "      <td>1134</td>\n",
       "      <td>2020-06-28 19:25:35.689479</td>\n",
       "      <td>2020-06-28 19:25:35.689479</td>\n",
       "    </tr>\n",
       "    <tr>\n",
       "      <th>1134</th>\n",
       "      <td>1135</td>\n",
       "      <td>2020-06-28 19:25:41.456840</td>\n",
       "      <td>2020-06-28 19:25:41.456840</td>\n",
       "    </tr>\n",
       "  </tbody>\n",
       "</table>\n",
       "</div>"
      ],
      "text/plain": [
       "      count                     timings                   Datetime\n",
       "1100   1101  2020-06-28 19:17:45.300614 2020-06-28 19:17:45.300614\n",
       "1101   1102  2020-06-28 19:17:51.295674 2020-06-28 19:17:51.295674\n",
       "1102   1103  2020-06-28 19:18:02.442681 2020-06-28 19:18:02.442681\n",
       "1103   1104  2020-06-28 19:18:08.487168 2020-06-28 19:18:08.487168\n",
       "1104   1105  2020-06-28 19:18:19.587722 2020-06-28 19:18:19.587722\n",
       "1105   1106  2020-06-28 19:18:25.632636 2020-06-28 19:18:25.632636\n",
       "1106   1107  2020-06-28 19:18:36.770161 2020-06-28 19:18:36.770161\n",
       "1107   1108  2020-06-28 19:18:42.812585 2020-06-28 19:18:42.812585\n",
       "1108   1109  2020-06-28 19:18:53.944019 2020-06-28 19:18:53.944019\n",
       "1109   1110  2020-06-28 19:18:59.994721 2020-06-28 19:18:59.994721\n",
       "1110   1111  2020-06-28 19:19:11.182394 2020-06-28 19:19:11.182394\n",
       "1111   1112  2020-06-28 19:19:17.140761 2020-06-28 19:19:17.140761\n",
       "1112   1113  2020-06-28 19:19:28.370228 2020-06-28 19:19:28.370228\n",
       "1113   1114  2020-06-28 19:19:34.304837 2020-06-28 19:19:34.304837\n",
       "1114   1115  2020-06-28 19:19:45.509329 2020-06-28 19:19:45.509329\n",
       "1115   1116  2020-06-28 19:19:51.529480 2020-06-28 19:19:51.529480\n",
       "1116   1117  2020-06-28 19:20:02.690825 2020-06-28 19:20:02.690825\n",
       "1117   1118  2020-06-28 19:20:08.719560 2020-06-28 19:20:08.719560\n",
       "1118   1119  2020-06-28 19:20:18.647719 2020-06-28 19:20:18.647719\n",
       "1119   1120  2020-06-28 19:20:23.351210 2020-06-28 19:20:23.351210\n",
       "1120   1121  2020-06-28 19:20:40.833734 2020-06-28 19:20:40.833734\n",
       "1121   1122  2020-06-28 19:20:46.595614 2020-06-28 19:20:46.595614\n",
       "1122   1123  2020-06-28 19:20:48.694830 2020-06-28 19:20:48.694830\n",
       "1123   1124  2020-06-28 19:21:02.183183 2020-06-28 19:21:02.183183\n",
       "1124   1125  2020-06-28 19:21:09.733099 2020-06-28 19:21:09.733099\n",
       "1125   1126  2020-06-28 19:21:17.263125 2020-06-28 19:21:17.263125\n",
       "1126   1127  2020-06-28 19:21:30.427996 2020-06-28 19:21:30.427996\n",
       "1127   1128  2020-06-28 19:21:45.578473 2020-06-28 19:21:45.578473\n",
       "1128   1129  2020-06-28 19:21:45.679359 2020-06-28 19:21:45.679359\n",
       "1129   1130  2020-06-28 19:21:56.824975 2020-06-28 19:21:56.824975\n",
       "1130   1131  2020-06-28 19:23:27.663365 2020-06-28 19:23:27.663365\n",
       "1131   1132  2020-06-28 19:24:52.651587 2020-06-28 19:24:52.651587\n",
       "1132   1133  2020-06-28 19:24:58.391024 2020-06-28 19:24:58.391024\n",
       "1133   1134  2020-06-28 19:25:35.689479 2020-06-28 19:25:35.689479\n",
       "1134   1135  2020-06-28 19:25:41.456840 2020-06-28 19:25:41.456840"
      ]
     },
     "execution_count": 27,
     "metadata": {},
     "output_type": "execute_result"
    }
   ],
   "source": [
    "ffx[1100:]"
   ]
  },
  {
   "cell_type": "code",
   "execution_count": 28,
   "metadata": {},
   "outputs": [],
   "source": [
    "# count_column = f'{ffx[\"count\"][i+1]}---{ffx[\"count\"][i]}'\n",
    "# time_diff_column = ffx[\"Datetime\"][i+1]-ffx[\"Datetime\"][i]"
   ]
  },
  {
   "cell_type": "code",
   "execution_count": 29,
   "metadata": {},
   "outputs": [],
   "source": [
    "bad_time_diff = pd.DataFrame([(f'{ffx[\"count\"][i+1]}---{ffx[\"count\"][i]}', ffx[\"Datetime\"][i+1]-ffx[\"Datetime\"][i]) for i in range(1100,1134)])"
   ]
  },
  {
   "cell_type": "code",
   "execution_count": 30,
   "metadata": {
    "scrolled": true
   },
   "outputs": [
    {
     "data": {
      "text/html": [
       "<div>\n",
       "<style scoped>\n",
       "    .dataframe tbody tr th:only-of-type {\n",
       "        vertical-align: middle;\n",
       "    }\n",
       "\n",
       "    .dataframe tbody tr th {\n",
       "        vertical-align: top;\n",
       "    }\n",
       "\n",
       "    .dataframe thead th {\n",
       "        text-align: right;\n",
       "    }\n",
       "</style>\n",
       "<table border=\"1\" class=\"dataframe\">\n",
       "  <thead>\n",
       "    <tr style=\"text-align: right;\">\n",
       "      <th></th>\n",
       "      <th>0</th>\n",
       "      <th>1</th>\n",
       "    </tr>\n",
       "  </thead>\n",
       "  <tbody>\n",
       "    <tr>\n",
       "      <th>0</th>\n",
       "      <td>1102---1101</td>\n",
       "      <td>00:00:05.995060</td>\n",
       "    </tr>\n",
       "    <tr>\n",
       "      <th>1</th>\n",
       "      <td>1103---1102</td>\n",
       "      <td>00:00:11.147007</td>\n",
       "    </tr>\n",
       "    <tr>\n",
       "      <th>2</th>\n",
       "      <td>1104---1103</td>\n",
       "      <td>00:00:06.044487</td>\n",
       "    </tr>\n",
       "    <tr>\n",
       "      <th>3</th>\n",
       "      <td>1105---1104</td>\n",
       "      <td>00:00:11.100554</td>\n",
       "    </tr>\n",
       "    <tr>\n",
       "      <th>4</th>\n",
       "      <td>1106---1105</td>\n",
       "      <td>00:00:06.044914</td>\n",
       "    </tr>\n",
       "    <tr>\n",
       "      <th>5</th>\n",
       "      <td>1107---1106</td>\n",
       "      <td>00:00:11.137525</td>\n",
       "    </tr>\n",
       "    <tr>\n",
       "      <th>6</th>\n",
       "      <td>1108---1107</td>\n",
       "      <td>00:00:06.042424</td>\n",
       "    </tr>\n",
       "    <tr>\n",
       "      <th>7</th>\n",
       "      <td>1109---1108</td>\n",
       "      <td>00:00:11.131434</td>\n",
       "    </tr>\n",
       "    <tr>\n",
       "      <th>8</th>\n",
       "      <td>1110---1109</td>\n",
       "      <td>00:00:06.050702</td>\n",
       "    </tr>\n",
       "    <tr>\n",
       "      <th>9</th>\n",
       "      <td>1111---1110</td>\n",
       "      <td>00:00:11.187673</td>\n",
       "    </tr>\n",
       "    <tr>\n",
       "      <th>10</th>\n",
       "      <td>1112---1111</td>\n",
       "      <td>00:00:05.958367</td>\n",
       "    </tr>\n",
       "    <tr>\n",
       "      <th>11</th>\n",
       "      <td>1113---1112</td>\n",
       "      <td>00:00:11.229467</td>\n",
       "    </tr>\n",
       "    <tr>\n",
       "      <th>12</th>\n",
       "      <td>1114---1113</td>\n",
       "      <td>00:00:05.934609</td>\n",
       "    </tr>\n",
       "    <tr>\n",
       "      <th>13</th>\n",
       "      <td>1115---1114</td>\n",
       "      <td>00:00:11.204492</td>\n",
       "    </tr>\n",
       "    <tr>\n",
       "      <th>14</th>\n",
       "      <td>1116---1115</td>\n",
       "      <td>00:00:06.020151</td>\n",
       "    </tr>\n",
       "    <tr>\n",
       "      <th>15</th>\n",
       "      <td>1117---1116</td>\n",
       "      <td>00:00:11.161345</td>\n",
       "    </tr>\n",
       "    <tr>\n",
       "      <th>16</th>\n",
       "      <td>1118---1117</td>\n",
       "      <td>00:00:06.028735</td>\n",
       "    </tr>\n",
       "    <tr>\n",
       "      <th>17</th>\n",
       "      <td>1119---1118</td>\n",
       "      <td>00:00:09.928159</td>\n",
       "    </tr>\n",
       "    <tr>\n",
       "      <th>18</th>\n",
       "      <td>1120---1119</td>\n",
       "      <td>00:00:04.703491</td>\n",
       "    </tr>\n",
       "    <tr>\n",
       "      <th>19</th>\n",
       "      <td>1121---1120</td>\n",
       "      <td>00:00:17.482524</td>\n",
       "    </tr>\n",
       "    <tr>\n",
       "      <th>20</th>\n",
       "      <td>1122---1121</td>\n",
       "      <td>00:00:05.761880</td>\n",
       "    </tr>\n",
       "    <tr>\n",
       "      <th>21</th>\n",
       "      <td>1123---1122</td>\n",
       "      <td>00:00:02.099216</td>\n",
       "    </tr>\n",
       "    <tr>\n",
       "      <th>22</th>\n",
       "      <td>1124---1123</td>\n",
       "      <td>00:00:13.488353</td>\n",
       "    </tr>\n",
       "    <tr>\n",
       "      <th>23</th>\n",
       "      <td>1125---1124</td>\n",
       "      <td>00:00:07.549916</td>\n",
       "    </tr>\n",
       "    <tr>\n",
       "      <th>24</th>\n",
       "      <td>1126---1125</td>\n",
       "      <td>00:00:07.530026</td>\n",
       "    </tr>\n",
       "    <tr>\n",
       "      <th>25</th>\n",
       "      <td>1127---1126</td>\n",
       "      <td>00:00:13.164871</td>\n",
       "    </tr>\n",
       "    <tr>\n",
       "      <th>26</th>\n",
       "      <td>1128---1127</td>\n",
       "      <td>00:00:15.150477</td>\n",
       "    </tr>\n",
       "    <tr>\n",
       "      <th>27</th>\n",
       "      <td>1129---1128</td>\n",
       "      <td>00:00:00.100886</td>\n",
       "    </tr>\n",
       "    <tr>\n",
       "      <th>28</th>\n",
       "      <td>1130---1129</td>\n",
       "      <td>00:00:11.145616</td>\n",
       "    </tr>\n",
       "    <tr>\n",
       "      <th>29</th>\n",
       "      <td>1131---1130</td>\n",
       "      <td>00:01:30.838390</td>\n",
       "    </tr>\n",
       "    <tr>\n",
       "      <th>30</th>\n",
       "      <td>1132---1131</td>\n",
       "      <td>00:01:24.988222</td>\n",
       "    </tr>\n",
       "    <tr>\n",
       "      <th>31</th>\n",
       "      <td>1133---1132</td>\n",
       "      <td>00:00:05.739437</td>\n",
       "    </tr>\n",
       "    <tr>\n",
       "      <th>32</th>\n",
       "      <td>1134---1133</td>\n",
       "      <td>00:00:37.298455</td>\n",
       "    </tr>\n",
       "    <tr>\n",
       "      <th>33</th>\n",
       "      <td>1135---1134</td>\n",
       "      <td>00:00:05.767361</td>\n",
       "    </tr>\n",
       "  </tbody>\n",
       "</table>\n",
       "</div>"
      ],
      "text/plain": [
       "              0               1\n",
       "0   1102---1101 00:00:05.995060\n",
       "1   1103---1102 00:00:11.147007\n",
       "2   1104---1103 00:00:06.044487\n",
       "3   1105---1104 00:00:11.100554\n",
       "4   1106---1105 00:00:06.044914\n",
       "5   1107---1106 00:00:11.137525\n",
       "6   1108---1107 00:00:06.042424\n",
       "7   1109---1108 00:00:11.131434\n",
       "8   1110---1109 00:00:06.050702\n",
       "9   1111---1110 00:00:11.187673\n",
       "10  1112---1111 00:00:05.958367\n",
       "11  1113---1112 00:00:11.229467\n",
       "12  1114---1113 00:00:05.934609\n",
       "13  1115---1114 00:00:11.204492\n",
       "14  1116---1115 00:00:06.020151\n",
       "15  1117---1116 00:00:11.161345\n",
       "16  1118---1117 00:00:06.028735\n",
       "17  1119---1118 00:00:09.928159\n",
       "18  1120---1119 00:00:04.703491\n",
       "19  1121---1120 00:00:17.482524\n",
       "20  1122---1121 00:00:05.761880\n",
       "21  1123---1122 00:00:02.099216\n",
       "22  1124---1123 00:00:13.488353\n",
       "23  1125---1124 00:00:07.549916\n",
       "24  1126---1125 00:00:07.530026\n",
       "25  1127---1126 00:00:13.164871\n",
       "26  1128---1127 00:00:15.150477\n",
       "27  1129---1128 00:00:00.100886\n",
       "28  1130---1129 00:00:11.145616\n",
       "29  1131---1130 00:01:30.838390\n",
       "30  1132---1131 00:01:24.988222\n",
       "31  1133---1132 00:00:05.739437\n",
       "32  1134---1133 00:00:37.298455\n",
       "33  1135---1134 00:00:05.767361"
      ]
     },
     "execution_count": 30,
     "metadata": {},
     "output_type": "execute_result"
    }
   ],
   "source": [
    "bad_time_diff"
   ]
  },
  {
   "cell_type": "markdown",
   "metadata": {},
   "source": [
    "We can see in the above datafram that the time differences stop following the pattern starting with index 17. This means that the datapoints with count of **1119 and onward** are the bad data."
   ]
  },
  {
   "cell_type": "markdown",
   "metadata": {},
   "source": [
    "So, in our ffx dataframe, let us now delete the rows with 'count' starting at 1119 and greater. *This translates to indices of **1118** and greater!*"
   ]
  },
  {
   "cell_type": "code",
   "execution_count": 31,
   "metadata": {},
   "outputs": [
    {
     "data": {
      "text/plain": [
       "(1135, 3)"
      ]
     },
     "execution_count": 31,
     "metadata": {},
     "output_type": "execute_result"
    }
   ],
   "source": [
    "ffx.shape"
   ]
  },
  {
   "cell_type": "code",
   "execution_count": 32,
   "metadata": {},
   "outputs": [],
   "source": [
    "ffx_cleaned = ffx.drop(ffx[ffx[\"count\"] >= 1119].index, axis=0)"
   ]
  },
  {
   "cell_type": "code",
   "execution_count": 33,
   "metadata": {},
   "outputs": [
    {
     "data": {
      "text/html": [
       "<div>\n",
       "<style scoped>\n",
       "    .dataframe tbody tr th:only-of-type {\n",
       "        vertical-align: middle;\n",
       "    }\n",
       "\n",
       "    .dataframe tbody tr th {\n",
       "        vertical-align: top;\n",
       "    }\n",
       "\n",
       "    .dataframe thead th {\n",
       "        text-align: right;\n",
       "    }\n",
       "</style>\n",
       "<table border=\"1\" class=\"dataframe\">\n",
       "  <thead>\n",
       "    <tr style=\"text-align: right;\">\n",
       "      <th></th>\n",
       "      <th>count</th>\n",
       "      <th>timings</th>\n",
       "      <th>Datetime</th>\n",
       "    </tr>\n",
       "  </thead>\n",
       "  <tbody>\n",
       "    <tr>\n",
       "      <th>0</th>\n",
       "      <td>1</td>\n",
       "      <td>2020-06-28 16:40:11.538763</td>\n",
       "      <td>2020-06-28 16:40:11.538763</td>\n",
       "    </tr>\n",
       "    <tr>\n",
       "      <th>1</th>\n",
       "      <td>2</td>\n",
       "      <td>2020-06-28 16:40:17.543537</td>\n",
       "      <td>2020-06-28 16:40:17.543537</td>\n",
       "    </tr>\n",
       "    <tr>\n",
       "      <th>2</th>\n",
       "      <td>3</td>\n",
       "      <td>2020-06-28 16:40:28.666688</td>\n",
       "      <td>2020-06-28 16:40:28.666688</td>\n",
       "    </tr>\n",
       "    <tr>\n",
       "      <th>3</th>\n",
       "      <td>4</td>\n",
       "      <td>2020-06-28 16:40:34.640885</td>\n",
       "      <td>2020-06-28 16:40:34.640885</td>\n",
       "    </tr>\n",
       "    <tr>\n",
       "      <th>4</th>\n",
       "      <td>5</td>\n",
       "      <td>2020-06-28 16:40:45.889237</td>\n",
       "      <td>2020-06-28 16:40:45.889237</td>\n",
       "    </tr>\n",
       "    <tr>\n",
       "      <th>...</th>\n",
       "      <td>...</td>\n",
       "      <td>...</td>\n",
       "      <td>...</td>\n",
       "    </tr>\n",
       "    <tr>\n",
       "      <th>1113</th>\n",
       "      <td>1114</td>\n",
       "      <td>2020-06-28 19:19:34.304837</td>\n",
       "      <td>2020-06-28 19:19:34.304837</td>\n",
       "    </tr>\n",
       "    <tr>\n",
       "      <th>1114</th>\n",
       "      <td>1115</td>\n",
       "      <td>2020-06-28 19:19:45.509329</td>\n",
       "      <td>2020-06-28 19:19:45.509329</td>\n",
       "    </tr>\n",
       "    <tr>\n",
       "      <th>1115</th>\n",
       "      <td>1116</td>\n",
       "      <td>2020-06-28 19:19:51.529480</td>\n",
       "      <td>2020-06-28 19:19:51.529480</td>\n",
       "    </tr>\n",
       "    <tr>\n",
       "      <th>1116</th>\n",
       "      <td>1117</td>\n",
       "      <td>2020-06-28 19:20:02.690825</td>\n",
       "      <td>2020-06-28 19:20:02.690825</td>\n",
       "    </tr>\n",
       "    <tr>\n",
       "      <th>1117</th>\n",
       "      <td>1118</td>\n",
       "      <td>2020-06-28 19:20:08.719560</td>\n",
       "      <td>2020-06-28 19:20:08.719560</td>\n",
       "    </tr>\n",
       "  </tbody>\n",
       "</table>\n",
       "<p>1118 rows × 3 columns</p>\n",
       "</div>"
      ],
      "text/plain": [
       "      count                     timings                   Datetime\n",
       "0         1  2020-06-28 16:40:11.538763 2020-06-28 16:40:11.538763\n",
       "1         2  2020-06-28 16:40:17.543537 2020-06-28 16:40:17.543537\n",
       "2         3  2020-06-28 16:40:28.666688 2020-06-28 16:40:28.666688\n",
       "3         4  2020-06-28 16:40:34.640885 2020-06-28 16:40:34.640885\n",
       "4         5  2020-06-28 16:40:45.889237 2020-06-28 16:40:45.889237\n",
       "...     ...                         ...                        ...\n",
       "1113   1114  2020-06-28 19:19:34.304837 2020-06-28 19:19:34.304837\n",
       "1114   1115  2020-06-28 19:19:45.509329 2020-06-28 19:19:45.509329\n",
       "1115   1116  2020-06-28 19:19:51.529480 2020-06-28 19:19:51.529480\n",
       "1116   1117  2020-06-28 19:20:02.690825 2020-06-28 19:20:02.690825\n",
       "1117   1118  2020-06-28 19:20:08.719560 2020-06-28 19:20:08.719560\n",
       "\n",
       "[1118 rows x 3 columns]"
      ]
     },
     "execution_count": 33,
     "metadata": {},
     "output_type": "execute_result"
    }
   ],
   "source": [
    "ffx_cleaned"
   ]
  },
  {
   "cell_type": "markdown",
   "metadata": {},
   "source": [
    "# **Cleaning Data for ffx2 (newer data)**"
   ]
  },
  {
   "cell_type": "markdown",
   "metadata": {},
   "source": [
    "We now essentially do the same thing for the ffx2 dataframe"
   ]
  },
  {
   "cell_type": "code",
   "execution_count": 34,
   "metadata": {},
   "outputs": [
    {
     "data": {
      "text/html": [
       "<div>\n",
       "<style scoped>\n",
       "    .dataframe tbody tr th:only-of-type {\n",
       "        vertical-align: middle;\n",
       "    }\n",
       "\n",
       "    .dataframe tbody tr th {\n",
       "        vertical-align: top;\n",
       "    }\n",
       "\n",
       "    .dataframe thead th {\n",
       "        text-align: right;\n",
       "    }\n",
       "</style>\n",
       "<table border=\"1\" class=\"dataframe\">\n",
       "  <thead>\n",
       "    <tr style=\"text-align: right;\">\n",
       "      <th></th>\n",
       "      <th>count</th>\n",
       "      <th>timings</th>\n",
       "    </tr>\n",
       "  </thead>\n",
       "  <tbody>\n",
       "    <tr>\n",
       "      <th>0</th>\n",
       "      <td>1</td>\n",
       "      <td>2020-07-01 22:18:22.806651</td>\n",
       "    </tr>\n",
       "    <tr>\n",
       "      <th>1</th>\n",
       "      <td>2</td>\n",
       "      <td>2020-07-01 22:18:49.157322</td>\n",
       "    </tr>\n",
       "    <tr>\n",
       "      <th>2</th>\n",
       "      <td>3</td>\n",
       "      <td>2020-07-01 22:18:55.197844</td>\n",
       "    </tr>\n",
       "    <tr>\n",
       "      <th>3</th>\n",
       "      <td>4</td>\n",
       "      <td>2020-07-01 22:19:06.378970</td>\n",
       "    </tr>\n",
       "    <tr>\n",
       "      <th>4</th>\n",
       "      <td>5</td>\n",
       "      <td>2020-07-01 22:19:12.418819</td>\n",
       "    </tr>\n",
       "  </tbody>\n",
       "</table>\n",
       "</div>"
      ],
      "text/plain": [
       "   count                      timings\n",
       "0      1   2020-07-01 22:18:22.806651\n",
       "1      2   2020-07-01 22:18:49.157322\n",
       "2      3   2020-07-01 22:18:55.197844\n",
       "3      4   2020-07-01 22:19:06.378970\n",
       "4      5   2020-07-01 22:19:12.418819"
      ]
     },
     "execution_count": 34,
     "metadata": {},
     "output_type": "execute_result"
    },
    {
     "data": {
      "text/plain": [
       "Index(['count', ' timings'], dtype='object')"
      ]
     },
     "execution_count": 34,
     "metadata": {},
     "output_type": "execute_result"
    },
    {
     "data": {
      "text/plain": [
       "' 2020-07-01 22:18:22.806651'"
      ]
     },
     "execution_count": 34,
     "metadata": {},
     "output_type": "execute_result"
    }
   ],
   "source": [
    "ffx2.head()\n",
    "ffx2.columns\n",
    "ffx2[\" timings\"][0]"
   ]
  },
  {
   "cell_type": "code",
   "execution_count": 35,
   "metadata": {},
   "outputs": [
    {
     "data": {
      "text/plain": [
       "Index(['count', 'timings'], dtype='object')"
      ]
     },
     "execution_count": 35,
     "metadata": {},
     "output_type": "execute_result"
    }
   ],
   "source": [
    "ffx2.rename(mapper={\" timings\": \"timings\"}, axis=1, inplace=True)\n",
    "ffx2.columns"
   ]
  },
  {
   "cell_type": "markdown",
   "metadata": {},
   "source": [
    "Need to get rid of spaces in the \"timings\" DATA as well!!!"
   ]
  },
  {
   "cell_type": "code",
   "execution_count": 36,
   "metadata": {},
   "outputs": [
    {
     "data": {
      "text/plain": [
       "' 2020-07-01 22:18:22.806651'"
      ]
     },
     "execution_count": 36,
     "metadata": {},
     "output_type": "execute_result"
    },
    {
     "data": {
      "text/plain": [
       "str"
      ]
     },
     "execution_count": 36,
     "metadata": {},
     "output_type": "execute_result"
    }
   ],
   "source": [
    "ffx2[\"timings\"][0]\n",
    "type(ffx2[\"timings\"][0])"
   ]
  },
  {
   "cell_type": "code",
   "execution_count": 37,
   "metadata": {},
   "outputs": [],
   "source": [
    "ffx2[\"timings\"] = ffx2[\"timings\"].apply(lambda string: string[1:])"
   ]
  },
  {
   "cell_type": "code",
   "execution_count": 38,
   "metadata": {},
   "outputs": [
    {
     "data": {
      "text/plain": [
       "'2020-07-01 22:18:22.806651'"
      ]
     },
     "execution_count": 38,
     "metadata": {},
     "output_type": "execute_result"
    },
    {
     "data": {
      "text/plain": [
       "str"
      ]
     },
     "execution_count": 38,
     "metadata": {},
     "output_type": "execute_result"
    }
   ],
   "source": [
    "ffx2[\"timings\"][0]\n",
    "type(ffx2[\"timings\"][0])"
   ]
  },
  {
   "cell_type": "code",
   "execution_count": 39,
   "metadata": {},
   "outputs": [
    {
     "data": {
      "text/html": [
       "<div>\n",
       "<style scoped>\n",
       "    .dataframe tbody tr th:only-of-type {\n",
       "        vertical-align: middle;\n",
       "    }\n",
       "\n",
       "    .dataframe tbody tr th {\n",
       "        vertical-align: top;\n",
       "    }\n",
       "\n",
       "    .dataframe thead th {\n",
       "        text-align: right;\n",
       "    }\n",
       "</style>\n",
       "<table border=\"1\" class=\"dataframe\">\n",
       "  <thead>\n",
       "    <tr style=\"text-align: right;\">\n",
       "      <th></th>\n",
       "      <th>count</th>\n",
       "      <th>timings</th>\n",
       "    </tr>\n",
       "  </thead>\n",
       "  <tbody>\n",
       "    <tr>\n",
       "      <th>0</th>\n",
       "      <td>1</td>\n",
       "      <td>2020-07-01 22:18:22.806651</td>\n",
       "    </tr>\n",
       "    <tr>\n",
       "      <th>1</th>\n",
       "      <td>2</td>\n",
       "      <td>2020-07-01 22:18:49.157322</td>\n",
       "    </tr>\n",
       "    <tr>\n",
       "      <th>2</th>\n",
       "      <td>3</td>\n",
       "      <td>2020-07-01 22:18:55.197844</td>\n",
       "    </tr>\n",
       "    <tr>\n",
       "      <th>3</th>\n",
       "      <td>4</td>\n",
       "      <td>2020-07-01 22:19:06.378970</td>\n",
       "    </tr>\n",
       "    <tr>\n",
       "      <th>4</th>\n",
       "      <td>5</td>\n",
       "      <td>2020-07-01 22:19:12.418819</td>\n",
       "    </tr>\n",
       "  </tbody>\n",
       "</table>\n",
       "</div>"
      ],
      "text/plain": [
       "   count                     timings\n",
       "0      1  2020-07-01 22:18:22.806651\n",
       "1      2  2020-07-01 22:18:49.157322\n",
       "2      3  2020-07-01 22:18:55.197844\n",
       "3      4  2020-07-01 22:19:06.378970\n",
       "4      5  2020-07-01 22:19:12.418819"
      ]
     },
     "execution_count": 39,
     "metadata": {},
     "output_type": "execute_result"
    }
   ],
   "source": [
    "ffx2.head()"
   ]
  },
  {
   "cell_type": "markdown",
   "metadata": {},
   "source": [
    "Look for null values? (I already know there aren't any)"
   ]
  },
  {
   "cell_type": "code",
   "execution_count": 40,
   "metadata": {},
   "outputs": [
    {
     "data": {
      "text/plain": [
       "count      1859\n",
       "timings    1859\n",
       "dtype: int64"
      ]
     },
     "execution_count": 40,
     "metadata": {},
     "output_type": "execute_result"
    },
    {
     "data": {
      "text/plain": [
       "count      1859\n",
       "timings    1859\n",
       "dtype: int64"
      ]
     },
     "execution_count": 40,
     "metadata": {},
     "output_type": "execute_result"
    }
   ],
   "source": [
    "ffx2.count()\n",
    "ffx2.isnull().count()"
   ]
  },
  {
   "cell_type": "markdown",
   "metadata": {},
   "source": [
    "We now look for more bad data at the end of this second dataframe.\n",
    "\n",
    "**SO! We must first change the timings data to 'datetime/timedelta' objects**"
   ]
  },
  {
   "cell_type": "code",
   "execution_count": 41,
   "metadata": {},
   "outputs": [
    {
     "data": {
      "text/html": [
       "<div>\n",
       "<style scoped>\n",
       "    .dataframe tbody tr th:only-of-type {\n",
       "        vertical-align: middle;\n",
       "    }\n",
       "\n",
       "    .dataframe tbody tr th {\n",
       "        vertical-align: top;\n",
       "    }\n",
       "\n",
       "    .dataframe thead th {\n",
       "        text-align: right;\n",
       "    }\n",
       "</style>\n",
       "<table border=\"1\" class=\"dataframe\">\n",
       "  <thead>\n",
       "    <tr style=\"text-align: right;\">\n",
       "      <th></th>\n",
       "      <th>count</th>\n",
       "      <th>timings</th>\n",
       "    </tr>\n",
       "  </thead>\n",
       "  <tbody>\n",
       "    <tr>\n",
       "      <th>0</th>\n",
       "      <td>1</td>\n",
       "      <td>2020-07-01 22:18:22.806651</td>\n",
       "    </tr>\n",
       "    <tr>\n",
       "      <th>1</th>\n",
       "      <td>2</td>\n",
       "      <td>2020-07-01 22:18:49.157322</td>\n",
       "    </tr>\n",
       "    <tr>\n",
       "      <th>2</th>\n",
       "      <td>3</td>\n",
       "      <td>2020-07-01 22:18:55.197844</td>\n",
       "    </tr>\n",
       "    <tr>\n",
       "      <th>3</th>\n",
       "      <td>4</td>\n",
       "      <td>2020-07-01 22:19:06.378970</td>\n",
       "    </tr>\n",
       "    <tr>\n",
       "      <th>4</th>\n",
       "      <td>5</td>\n",
       "      <td>2020-07-01 22:19:12.418819</td>\n",
       "    </tr>\n",
       "  </tbody>\n",
       "</table>\n",
       "</div>"
      ],
      "text/plain": [
       "   count                     timings\n",
       "0      1  2020-07-01 22:18:22.806651\n",
       "1      2  2020-07-01 22:18:49.157322\n",
       "2      3  2020-07-01 22:18:55.197844\n",
       "3      4  2020-07-01 22:19:06.378970\n",
       "4      5  2020-07-01 22:19:12.418819"
      ]
     },
     "execution_count": 41,
     "metadata": {},
     "output_type": "execute_result"
    },
    {
     "data": {
      "text/plain": [
       "'2020-07-01 22:18:22.806651'"
      ]
     },
     "execution_count": 41,
     "metadata": {},
     "output_type": "execute_result"
    },
    {
     "data": {
      "text/plain": [
       "str"
      ]
     },
     "execution_count": 41,
     "metadata": {},
     "output_type": "execute_result"
    }
   ],
   "source": [
    "ffx2.head()\n",
    "ffx2[\"timings\"][0]\n",
    "type(ffx2[\"timings\"][0])"
   ]
  },
  {
   "cell_type": "code",
   "execution_count": 42,
   "metadata": {},
   "outputs": [
    {
     "data": {
      "text/html": [
       "<div>\n",
       "<style scoped>\n",
       "    .dataframe tbody tr th:only-of-type {\n",
       "        vertical-align: middle;\n",
       "    }\n",
       "\n",
       "    .dataframe tbody tr th {\n",
       "        vertical-align: top;\n",
       "    }\n",
       "\n",
       "    .dataframe thead th {\n",
       "        text-align: right;\n",
       "    }\n",
       "</style>\n",
       "<table border=\"1\" class=\"dataframe\">\n",
       "  <thead>\n",
       "    <tr style=\"text-align: right;\">\n",
       "      <th></th>\n",
       "      <th>count</th>\n",
       "      <th>timings</th>\n",
       "      <th>Datetime</th>\n",
       "    </tr>\n",
       "  </thead>\n",
       "  <tbody>\n",
       "    <tr>\n",
       "      <th>0</th>\n",
       "      <td>1</td>\n",
       "      <td>2020-07-01 22:18:22.806651</td>\n",
       "      <td>2020-07-01 22:18:22.806651</td>\n",
       "    </tr>\n",
       "    <tr>\n",
       "      <th>1</th>\n",
       "      <td>2</td>\n",
       "      <td>2020-07-01 22:18:49.157322</td>\n",
       "      <td>2020-07-01 22:18:49.157322</td>\n",
       "    </tr>\n",
       "    <tr>\n",
       "      <th>2</th>\n",
       "      <td>3</td>\n",
       "      <td>2020-07-01 22:18:55.197844</td>\n",
       "      <td>2020-07-01 22:18:55.197844</td>\n",
       "    </tr>\n",
       "    <tr>\n",
       "      <th>3</th>\n",
       "      <td>4</td>\n",
       "      <td>2020-07-01 22:19:06.378970</td>\n",
       "      <td>2020-07-01 22:19:06.378970</td>\n",
       "    </tr>\n",
       "    <tr>\n",
       "      <th>4</th>\n",
       "      <td>5</td>\n",
       "      <td>2020-07-01 22:19:12.418819</td>\n",
       "      <td>2020-07-01 22:19:12.418819</td>\n",
       "    </tr>\n",
       "  </tbody>\n",
       "</table>\n",
       "</div>"
      ],
      "text/plain": [
       "   count                     timings                   Datetime\n",
       "0      1  2020-07-01 22:18:22.806651 2020-07-01 22:18:22.806651\n",
       "1      2  2020-07-01 22:18:49.157322 2020-07-01 22:18:49.157322\n",
       "2      3  2020-07-01 22:18:55.197844 2020-07-01 22:18:55.197844\n",
       "3      4  2020-07-01 22:19:06.378970 2020-07-01 22:19:06.378970\n",
       "4      5  2020-07-01 22:19:12.418819 2020-07-01 22:19:12.418819"
      ]
     },
     "execution_count": 42,
     "metadata": {},
     "output_type": "execute_result"
    },
    {
     "data": {
      "text/plain": [
       "Timestamp('2020-07-01 22:18:22.806651')"
      ]
     },
     "execution_count": 42,
     "metadata": {},
     "output_type": "execute_result"
    },
    {
     "data": {
      "text/plain": [
       "pandas._libs.tslibs.timestamps.Timestamp"
      ]
     },
     "execution_count": 42,
     "metadata": {},
     "output_type": "execute_result"
    }
   ],
   "source": [
    "ffx2[\"Datetime\"] = pd.to_datetime(ffx2[\"timings\"])\n",
    "ffx2.head()\n",
    "ffx2[\"Datetime\"][0]\n",
    "type(ffx2[\"Datetime\"][0])"
   ]
  },
  {
   "cell_type": "markdown",
   "metadata": {},
   "source": [
    "Now that everything is converted to actual \"datetime\" dtype, we can look for our bad data. It's somewhere at the end, remember!"
   ]
  },
  {
   "cell_type": "code",
   "execution_count": 43,
   "metadata": {},
   "outputs": [
    {
     "data": {
      "text/plain": [
       "(1859, 3)"
      ]
     },
     "execution_count": 43,
     "metadata": {},
     "output_type": "execute_result"
    }
   ],
   "source": [
    "ffx2.shape"
   ]
  },
  {
   "cell_type": "code",
   "execution_count": 44,
   "metadata": {
    "scrolled": true
   },
   "outputs": [
    {
     "data": {
      "text/html": [
       "<div>\n",
       "<style scoped>\n",
       "    .dataframe tbody tr th:only-of-type {\n",
       "        vertical-align: middle;\n",
       "    }\n",
       "\n",
       "    .dataframe tbody tr th {\n",
       "        vertical-align: top;\n",
       "    }\n",
       "\n",
       "    .dataframe thead th {\n",
       "        text-align: right;\n",
       "    }\n",
       "</style>\n",
       "<table border=\"1\" class=\"dataframe\">\n",
       "  <thead>\n",
       "    <tr style=\"text-align: right;\">\n",
       "      <th></th>\n",
       "      <th>count</th>\n",
       "      <th>timings</th>\n",
       "      <th>Datetime</th>\n",
       "    </tr>\n",
       "  </thead>\n",
       "  <tbody>\n",
       "    <tr>\n",
       "      <th>1800</th>\n",
       "      <td>1801</td>\n",
       "      <td>2020-07-02 02:36:05.809157</td>\n",
       "      <td>2020-07-02 02:36:05.809157</td>\n",
       "    </tr>\n",
       "    <tr>\n",
       "      <th>1801</th>\n",
       "      <td>1802</td>\n",
       "      <td>2020-07-02 02:36:16.975040</td>\n",
       "      <td>2020-07-02 02:36:16.975040</td>\n",
       "    </tr>\n",
       "    <tr>\n",
       "      <th>1802</th>\n",
       "      <td>1803</td>\n",
       "      <td>2020-07-02 02:36:23.085504</td>\n",
       "      <td>2020-07-02 02:36:23.085504</td>\n",
       "    </tr>\n",
       "    <tr>\n",
       "      <th>1803</th>\n",
       "      <td>1804</td>\n",
       "      <td>2020-07-02 02:36:34.280783</td>\n",
       "      <td>2020-07-02 02:36:34.280783</td>\n",
       "    </tr>\n",
       "    <tr>\n",
       "      <th>1804</th>\n",
       "      <td>1805</td>\n",
       "      <td>2020-07-02 02:36:40.280914</td>\n",
       "      <td>2020-07-02 02:36:40.280914</td>\n",
       "    </tr>\n",
       "    <tr>\n",
       "      <th>1805</th>\n",
       "      <td>1806</td>\n",
       "      <td>2020-07-02 02:36:51.466740</td>\n",
       "      <td>2020-07-02 02:36:51.466740</td>\n",
       "    </tr>\n",
       "    <tr>\n",
       "      <th>1806</th>\n",
       "      <td>1807</td>\n",
       "      <td>2020-07-02 02:36:57.463870</td>\n",
       "      <td>2020-07-02 02:36:57.463870</td>\n",
       "    </tr>\n",
       "    <tr>\n",
       "      <th>1807</th>\n",
       "      <td>1808</td>\n",
       "      <td>2020-07-02 02:37:08.601668</td>\n",
       "      <td>2020-07-02 02:37:08.601668</td>\n",
       "    </tr>\n",
       "    <tr>\n",
       "      <th>1808</th>\n",
       "      <td>1809</td>\n",
       "      <td>2020-07-02 02:37:14.614440</td>\n",
       "      <td>2020-07-02 02:37:14.614440</td>\n",
       "    </tr>\n",
       "    <tr>\n",
       "      <th>1809</th>\n",
       "      <td>1810</td>\n",
       "      <td>2020-07-02 02:37:25.823447</td>\n",
       "      <td>2020-07-02 02:37:25.823447</td>\n",
       "    </tr>\n",
       "    <tr>\n",
       "      <th>1810</th>\n",
       "      <td>1811</td>\n",
       "      <td>2020-07-02 02:37:31.766625</td>\n",
       "      <td>2020-07-02 02:37:31.766625</td>\n",
       "    </tr>\n",
       "    <tr>\n",
       "      <th>1811</th>\n",
       "      <td>1812</td>\n",
       "      <td>2020-07-02 02:37:42.967681</td>\n",
       "      <td>2020-07-02 02:37:42.967681</td>\n",
       "    </tr>\n",
       "    <tr>\n",
       "      <th>1812</th>\n",
       "      <td>1813</td>\n",
       "      <td>2020-07-02 02:37:48.940907</td>\n",
       "      <td>2020-07-02 02:37:48.940907</td>\n",
       "    </tr>\n",
       "    <tr>\n",
       "      <th>1813</th>\n",
       "      <td>1814</td>\n",
       "      <td>2020-07-02 02:38:00.161451</td>\n",
       "      <td>2020-07-02 02:38:00.161451</td>\n",
       "    </tr>\n",
       "    <tr>\n",
       "      <th>1814</th>\n",
       "      <td>1815</td>\n",
       "      <td>2020-07-02 02:38:06.146659</td>\n",
       "      <td>2020-07-02 02:38:06.146659</td>\n",
       "    </tr>\n",
       "    <tr>\n",
       "      <th>1815</th>\n",
       "      <td>1816</td>\n",
       "      <td>2020-07-02 02:38:17.319818</td>\n",
       "      <td>2020-07-02 02:38:17.319818</td>\n",
       "    </tr>\n",
       "    <tr>\n",
       "      <th>1816</th>\n",
       "      <td>1817</td>\n",
       "      <td>2020-07-02 02:38:23.315053</td>\n",
       "      <td>2020-07-02 02:38:23.315053</td>\n",
       "    </tr>\n",
       "    <tr>\n",
       "      <th>1817</th>\n",
       "      <td>1818</td>\n",
       "      <td>2020-07-02 02:38:34.443383</td>\n",
       "      <td>2020-07-02 02:38:34.443383</td>\n",
       "    </tr>\n",
       "    <tr>\n",
       "      <th>1818</th>\n",
       "      <td>1819</td>\n",
       "      <td>2020-07-02 02:38:40.443189</td>\n",
       "      <td>2020-07-02 02:38:40.443189</td>\n",
       "    </tr>\n",
       "    <tr>\n",
       "      <th>1819</th>\n",
       "      <td>1820</td>\n",
       "      <td>2020-07-02 02:38:51.612622</td>\n",
       "      <td>2020-07-02 02:38:51.612622</td>\n",
       "    </tr>\n",
       "    <tr>\n",
       "      <th>1820</th>\n",
       "      <td>1821</td>\n",
       "      <td>2020-07-02 02:38:57.653621</td>\n",
       "      <td>2020-07-02 02:38:57.653621</td>\n",
       "    </tr>\n",
       "    <tr>\n",
       "      <th>1821</th>\n",
       "      <td>1822</td>\n",
       "      <td>2020-07-02 02:39:08.839529</td>\n",
       "      <td>2020-07-02 02:39:08.839529</td>\n",
       "    </tr>\n",
       "    <tr>\n",
       "      <th>1822</th>\n",
       "      <td>1823</td>\n",
       "      <td>2020-07-02 02:39:14.845780</td>\n",
       "      <td>2020-07-02 02:39:14.845780</td>\n",
       "    </tr>\n",
       "    <tr>\n",
       "      <th>1823</th>\n",
       "      <td>1824</td>\n",
       "      <td>2020-07-02 02:39:26.038668</td>\n",
       "      <td>2020-07-02 02:39:26.038668</td>\n",
       "    </tr>\n",
       "    <tr>\n",
       "      <th>1824</th>\n",
       "      <td>1825</td>\n",
       "      <td>2020-07-02 02:39:32.032336</td>\n",
       "      <td>2020-07-02 02:39:32.032336</td>\n",
       "    </tr>\n",
       "    <tr>\n",
       "      <th>1825</th>\n",
       "      <td>1826</td>\n",
       "      <td>2020-07-02 02:39:43.171411</td>\n",
       "      <td>2020-07-02 02:39:43.171411</td>\n",
       "    </tr>\n",
       "    <tr>\n",
       "      <th>1826</th>\n",
       "      <td>1827</td>\n",
       "      <td>2020-07-02 02:39:49.168498</td>\n",
       "      <td>2020-07-02 02:39:49.168498</td>\n",
       "    </tr>\n",
       "    <tr>\n",
       "      <th>1827</th>\n",
       "      <td>1828</td>\n",
       "      <td>2020-07-02 02:40:00.337813</td>\n",
       "      <td>2020-07-02 02:40:00.337813</td>\n",
       "    </tr>\n",
       "    <tr>\n",
       "      <th>1828</th>\n",
       "      <td>1829</td>\n",
       "      <td>2020-07-02 02:40:06.300207</td>\n",
       "      <td>2020-07-02 02:40:06.300207</td>\n",
       "    </tr>\n",
       "    <tr>\n",
       "      <th>1829</th>\n",
       "      <td>1830</td>\n",
       "      <td>2020-07-02 02:40:17.474511</td>\n",
       "      <td>2020-07-02 02:40:17.474511</td>\n",
       "    </tr>\n",
       "    <tr>\n",
       "      <th>1830</th>\n",
       "      <td>1831</td>\n",
       "      <td>2020-07-02 02:40:23.491116</td>\n",
       "      <td>2020-07-02 02:40:23.491116</td>\n",
       "    </tr>\n",
       "    <tr>\n",
       "      <th>1831</th>\n",
       "      <td>1832</td>\n",
       "      <td>2020-07-02 02:40:34.655328</td>\n",
       "      <td>2020-07-02 02:40:34.655328</td>\n",
       "    </tr>\n",
       "    <tr>\n",
       "      <th>1832</th>\n",
       "      <td>1833</td>\n",
       "      <td>2020-07-02 02:40:40.639362</td>\n",
       "      <td>2020-07-02 02:40:40.639362</td>\n",
       "    </tr>\n",
       "    <tr>\n",
       "      <th>1833</th>\n",
       "      <td>1834</td>\n",
       "      <td>2020-07-02 02:40:51.762696</td>\n",
       "      <td>2020-07-02 02:40:51.762696</td>\n",
       "    </tr>\n",
       "    <tr>\n",
       "      <th>1834</th>\n",
       "      <td>1835</td>\n",
       "      <td>2020-07-02 02:40:57.810347</td>\n",
       "      <td>2020-07-02 02:40:57.810347</td>\n",
       "    </tr>\n",
       "    <tr>\n",
       "      <th>1835</th>\n",
       "      <td>1836</td>\n",
       "      <td>2020-07-02 02:41:08.957955</td>\n",
       "      <td>2020-07-02 02:41:08.957955</td>\n",
       "    </tr>\n",
       "    <tr>\n",
       "      <th>1836</th>\n",
       "      <td>1837</td>\n",
       "      <td>2020-07-02 02:41:14.907468</td>\n",
       "      <td>2020-07-02 02:41:14.907468</td>\n",
       "    </tr>\n",
       "    <tr>\n",
       "      <th>1837</th>\n",
       "      <td>1838</td>\n",
       "      <td>2020-07-02 02:41:26.112848</td>\n",
       "      <td>2020-07-02 02:41:26.112848</td>\n",
       "    </tr>\n",
       "    <tr>\n",
       "      <th>1838</th>\n",
       "      <td>1839</td>\n",
       "      <td>2020-07-02 02:41:32.109817</td>\n",
       "      <td>2020-07-02 02:41:32.109817</td>\n",
       "    </tr>\n",
       "    <tr>\n",
       "      <th>1839</th>\n",
       "      <td>1840</td>\n",
       "      <td>2020-07-02 02:41:43.275314</td>\n",
       "      <td>2020-07-02 02:41:43.275314</td>\n",
       "    </tr>\n",
       "    <tr>\n",
       "      <th>1840</th>\n",
       "      <td>1841</td>\n",
       "      <td>2020-07-02 02:41:49.272011</td>\n",
       "      <td>2020-07-02 02:41:49.272011</td>\n",
       "    </tr>\n",
       "    <tr>\n",
       "      <th>1841</th>\n",
       "      <td>1842</td>\n",
       "      <td>2020-07-02 02:42:00.502697</td>\n",
       "      <td>2020-07-02 02:42:00.502697</td>\n",
       "    </tr>\n",
       "    <tr>\n",
       "      <th>1842</th>\n",
       "      <td>1843</td>\n",
       "      <td>2020-07-02 02:42:06.423066</td>\n",
       "      <td>2020-07-02 02:42:06.423066</td>\n",
       "    </tr>\n",
       "    <tr>\n",
       "      <th>1843</th>\n",
       "      <td>1844</td>\n",
       "      <td>2020-07-02 02:42:17.643730</td>\n",
       "      <td>2020-07-02 02:42:17.643730</td>\n",
       "    </tr>\n",
       "    <tr>\n",
       "      <th>1844</th>\n",
       "      <td>1845</td>\n",
       "      <td>2020-07-02 02:42:23.632338</td>\n",
       "      <td>2020-07-02 02:42:23.632338</td>\n",
       "    </tr>\n",
       "    <tr>\n",
       "      <th>1845</th>\n",
       "      <td>1846</td>\n",
       "      <td>2020-07-02 02:42:34.833444</td>\n",
       "      <td>2020-07-02 02:42:34.833444</td>\n",
       "    </tr>\n",
       "    <tr>\n",
       "      <th>1846</th>\n",
       "      <td>1847</td>\n",
       "      <td>2020-07-02 02:42:40.850787</td>\n",
       "      <td>2020-07-02 02:42:40.850787</td>\n",
       "    </tr>\n",
       "    <tr>\n",
       "      <th>1847</th>\n",
       "      <td>1848</td>\n",
       "      <td>2020-07-02 02:42:52.054505</td>\n",
       "      <td>2020-07-02 02:42:52.054505</td>\n",
       "    </tr>\n",
       "    <tr>\n",
       "      <th>1848</th>\n",
       "      <td>1849</td>\n",
       "      <td>2020-07-02 02:42:58.061336</td>\n",
       "      <td>2020-07-02 02:42:58.061336</td>\n",
       "    </tr>\n",
       "    <tr>\n",
       "      <th>1849</th>\n",
       "      <td>1850</td>\n",
       "      <td>2020-07-02 02:43:09.160875</td>\n",
       "      <td>2020-07-02 02:43:09.160875</td>\n",
       "    </tr>\n",
       "    <tr>\n",
       "      <th>1850</th>\n",
       "      <td>1851</td>\n",
       "      <td>2020-07-02 02:43:15.195384</td>\n",
       "      <td>2020-07-02 02:43:15.195384</td>\n",
       "    </tr>\n",
       "    <tr>\n",
       "      <th>1851</th>\n",
       "      <td>1852</td>\n",
       "      <td>2020-07-02 02:43:26.293734</td>\n",
       "      <td>2020-07-02 02:43:26.293734</td>\n",
       "    </tr>\n",
       "    <tr>\n",
       "      <th>1852</th>\n",
       "      <td>1853</td>\n",
       "      <td>2020-07-02 02:43:32.305496</td>\n",
       "      <td>2020-07-02 02:43:32.305496</td>\n",
       "    </tr>\n",
       "    <tr>\n",
       "      <th>1853</th>\n",
       "      <td>1854</td>\n",
       "      <td>2020-07-02 02:43:43.502213</td>\n",
       "      <td>2020-07-02 02:43:43.502213</td>\n",
       "    </tr>\n",
       "    <tr>\n",
       "      <th>1854</th>\n",
       "      <td>1855</td>\n",
       "      <td>2020-07-02 02:43:49.553087</td>\n",
       "      <td>2020-07-02 02:43:49.553087</td>\n",
       "    </tr>\n",
       "    <tr>\n",
       "      <th>1855</th>\n",
       "      <td>1856</td>\n",
       "      <td>2020-07-02 02:44:00.693588</td>\n",
       "      <td>2020-07-02 02:44:00.693588</td>\n",
       "    </tr>\n",
       "    <tr>\n",
       "      <th>1856</th>\n",
       "      <td>1857</td>\n",
       "      <td>2020-07-02 02:44:06.734364</td>\n",
       "      <td>2020-07-02 02:44:06.734364</td>\n",
       "    </tr>\n",
       "    <tr>\n",
       "      <th>1857</th>\n",
       "      <td>1858</td>\n",
       "      <td>2020-07-02 02:44:17.871546</td>\n",
       "      <td>2020-07-02 02:44:17.871546</td>\n",
       "    </tr>\n",
       "    <tr>\n",
       "      <th>1858</th>\n",
       "      <td>1859</td>\n",
       "      <td>2020-07-02 02:44:23.952632</td>\n",
       "      <td>2020-07-02 02:44:23.952632</td>\n",
       "    </tr>\n",
       "  </tbody>\n",
       "</table>\n",
       "</div>"
      ],
      "text/plain": [
       "      count                     timings                   Datetime\n",
       "1800   1801  2020-07-02 02:36:05.809157 2020-07-02 02:36:05.809157\n",
       "1801   1802  2020-07-02 02:36:16.975040 2020-07-02 02:36:16.975040\n",
       "1802   1803  2020-07-02 02:36:23.085504 2020-07-02 02:36:23.085504\n",
       "1803   1804  2020-07-02 02:36:34.280783 2020-07-02 02:36:34.280783\n",
       "1804   1805  2020-07-02 02:36:40.280914 2020-07-02 02:36:40.280914\n",
       "1805   1806  2020-07-02 02:36:51.466740 2020-07-02 02:36:51.466740\n",
       "1806   1807  2020-07-02 02:36:57.463870 2020-07-02 02:36:57.463870\n",
       "1807   1808  2020-07-02 02:37:08.601668 2020-07-02 02:37:08.601668\n",
       "1808   1809  2020-07-02 02:37:14.614440 2020-07-02 02:37:14.614440\n",
       "1809   1810  2020-07-02 02:37:25.823447 2020-07-02 02:37:25.823447\n",
       "1810   1811  2020-07-02 02:37:31.766625 2020-07-02 02:37:31.766625\n",
       "1811   1812  2020-07-02 02:37:42.967681 2020-07-02 02:37:42.967681\n",
       "1812   1813  2020-07-02 02:37:48.940907 2020-07-02 02:37:48.940907\n",
       "1813   1814  2020-07-02 02:38:00.161451 2020-07-02 02:38:00.161451\n",
       "1814   1815  2020-07-02 02:38:06.146659 2020-07-02 02:38:06.146659\n",
       "1815   1816  2020-07-02 02:38:17.319818 2020-07-02 02:38:17.319818\n",
       "1816   1817  2020-07-02 02:38:23.315053 2020-07-02 02:38:23.315053\n",
       "1817   1818  2020-07-02 02:38:34.443383 2020-07-02 02:38:34.443383\n",
       "1818   1819  2020-07-02 02:38:40.443189 2020-07-02 02:38:40.443189\n",
       "1819   1820  2020-07-02 02:38:51.612622 2020-07-02 02:38:51.612622\n",
       "1820   1821  2020-07-02 02:38:57.653621 2020-07-02 02:38:57.653621\n",
       "1821   1822  2020-07-02 02:39:08.839529 2020-07-02 02:39:08.839529\n",
       "1822   1823  2020-07-02 02:39:14.845780 2020-07-02 02:39:14.845780\n",
       "1823   1824  2020-07-02 02:39:26.038668 2020-07-02 02:39:26.038668\n",
       "1824   1825  2020-07-02 02:39:32.032336 2020-07-02 02:39:32.032336\n",
       "1825   1826  2020-07-02 02:39:43.171411 2020-07-02 02:39:43.171411\n",
       "1826   1827  2020-07-02 02:39:49.168498 2020-07-02 02:39:49.168498\n",
       "1827   1828  2020-07-02 02:40:00.337813 2020-07-02 02:40:00.337813\n",
       "1828   1829  2020-07-02 02:40:06.300207 2020-07-02 02:40:06.300207\n",
       "1829   1830  2020-07-02 02:40:17.474511 2020-07-02 02:40:17.474511\n",
       "1830   1831  2020-07-02 02:40:23.491116 2020-07-02 02:40:23.491116\n",
       "1831   1832  2020-07-02 02:40:34.655328 2020-07-02 02:40:34.655328\n",
       "1832   1833  2020-07-02 02:40:40.639362 2020-07-02 02:40:40.639362\n",
       "1833   1834  2020-07-02 02:40:51.762696 2020-07-02 02:40:51.762696\n",
       "1834   1835  2020-07-02 02:40:57.810347 2020-07-02 02:40:57.810347\n",
       "1835   1836  2020-07-02 02:41:08.957955 2020-07-02 02:41:08.957955\n",
       "1836   1837  2020-07-02 02:41:14.907468 2020-07-02 02:41:14.907468\n",
       "1837   1838  2020-07-02 02:41:26.112848 2020-07-02 02:41:26.112848\n",
       "1838   1839  2020-07-02 02:41:32.109817 2020-07-02 02:41:32.109817\n",
       "1839   1840  2020-07-02 02:41:43.275314 2020-07-02 02:41:43.275314\n",
       "1840   1841  2020-07-02 02:41:49.272011 2020-07-02 02:41:49.272011\n",
       "1841   1842  2020-07-02 02:42:00.502697 2020-07-02 02:42:00.502697\n",
       "1842   1843  2020-07-02 02:42:06.423066 2020-07-02 02:42:06.423066\n",
       "1843   1844  2020-07-02 02:42:17.643730 2020-07-02 02:42:17.643730\n",
       "1844   1845  2020-07-02 02:42:23.632338 2020-07-02 02:42:23.632338\n",
       "1845   1846  2020-07-02 02:42:34.833444 2020-07-02 02:42:34.833444\n",
       "1846   1847  2020-07-02 02:42:40.850787 2020-07-02 02:42:40.850787\n",
       "1847   1848  2020-07-02 02:42:52.054505 2020-07-02 02:42:52.054505\n",
       "1848   1849  2020-07-02 02:42:58.061336 2020-07-02 02:42:58.061336\n",
       "1849   1850  2020-07-02 02:43:09.160875 2020-07-02 02:43:09.160875\n",
       "1850   1851  2020-07-02 02:43:15.195384 2020-07-02 02:43:15.195384\n",
       "1851   1852  2020-07-02 02:43:26.293734 2020-07-02 02:43:26.293734\n",
       "1852   1853  2020-07-02 02:43:32.305496 2020-07-02 02:43:32.305496\n",
       "1853   1854  2020-07-02 02:43:43.502213 2020-07-02 02:43:43.502213\n",
       "1854   1855  2020-07-02 02:43:49.553087 2020-07-02 02:43:49.553087\n",
       "1855   1856  2020-07-02 02:44:00.693588 2020-07-02 02:44:00.693588\n",
       "1856   1857  2020-07-02 02:44:06.734364 2020-07-02 02:44:06.734364\n",
       "1857   1858  2020-07-02 02:44:17.871546 2020-07-02 02:44:17.871546\n",
       "1858   1859  2020-07-02 02:44:23.952632 2020-07-02 02:44:23.952632"
      ]
     },
     "execution_count": 44,
     "metadata": {},
     "output_type": "execute_result"
    }
   ],
   "source": [
    "ffx2[1800:]"
   ]
  },
  {
   "cell_type": "code",
   "execution_count": 45,
   "metadata": {},
   "outputs": [],
   "source": [
    "# count_column = f'{ffx2[\"count\"][i+1]}---{ffx2[\"count\"][i]}'\n",
    "# time_diff_column = ffx2[\"Datetime\"][i+1]-ffx2[\"Datetime\"][i]"
   ]
  },
  {
   "cell_type": "code",
   "execution_count": 46,
   "metadata": {},
   "outputs": [],
   "source": [
    "bad_time_diff2 = pd.DataFrame([(f'{ffx2[\"count\"][i+1]}---{ffx2[\"count\"][i]}', ffx2[\"Datetime\"][i+1]-ffx2[\"Datetime\"][i]) for i in range(1800,1858)])"
   ]
  },
  {
   "cell_type": "code",
   "execution_count": 47,
   "metadata": {
    "scrolled": true
   },
   "outputs": [
    {
     "data": {
      "text/html": [
       "<div>\n",
       "<style scoped>\n",
       "    .dataframe tbody tr th:only-of-type {\n",
       "        vertical-align: middle;\n",
       "    }\n",
       "\n",
       "    .dataframe tbody tr th {\n",
       "        vertical-align: top;\n",
       "    }\n",
       "\n",
       "    .dataframe thead th {\n",
       "        text-align: right;\n",
       "    }\n",
       "</style>\n",
       "<table border=\"1\" class=\"dataframe\">\n",
       "  <thead>\n",
       "    <tr style=\"text-align: right;\">\n",
       "      <th></th>\n",
       "      <th>0</th>\n",
       "      <th>1</th>\n",
       "    </tr>\n",
       "  </thead>\n",
       "  <tbody>\n",
       "    <tr>\n",
       "      <th>0</th>\n",
       "      <td>1802---1801</td>\n",
       "      <td>00:00:11.165883</td>\n",
       "    </tr>\n",
       "    <tr>\n",
       "      <th>1</th>\n",
       "      <td>1803---1802</td>\n",
       "      <td>00:00:06.110464</td>\n",
       "    </tr>\n",
       "    <tr>\n",
       "      <th>2</th>\n",
       "      <td>1804---1803</td>\n",
       "      <td>00:00:11.195279</td>\n",
       "    </tr>\n",
       "    <tr>\n",
       "      <th>3</th>\n",
       "      <td>1805---1804</td>\n",
       "      <td>00:00:06.000131</td>\n",
       "    </tr>\n",
       "    <tr>\n",
       "      <th>4</th>\n",
       "      <td>1806---1805</td>\n",
       "      <td>00:00:11.185826</td>\n",
       "    </tr>\n",
       "    <tr>\n",
       "      <th>5</th>\n",
       "      <td>1807---1806</td>\n",
       "      <td>00:00:05.997130</td>\n",
       "    </tr>\n",
       "    <tr>\n",
       "      <th>6</th>\n",
       "      <td>1808---1807</td>\n",
       "      <td>00:00:11.137798</td>\n",
       "    </tr>\n",
       "    <tr>\n",
       "      <th>7</th>\n",
       "      <td>1809---1808</td>\n",
       "      <td>00:00:06.012772</td>\n",
       "    </tr>\n",
       "    <tr>\n",
       "      <th>8</th>\n",
       "      <td>1810---1809</td>\n",
       "      <td>00:00:11.209007</td>\n",
       "    </tr>\n",
       "    <tr>\n",
       "      <th>9</th>\n",
       "      <td>1811---1810</td>\n",
       "      <td>00:00:05.943178</td>\n",
       "    </tr>\n",
       "    <tr>\n",
       "      <th>10</th>\n",
       "      <td>1812---1811</td>\n",
       "      <td>00:00:11.201056</td>\n",
       "    </tr>\n",
       "    <tr>\n",
       "      <th>11</th>\n",
       "      <td>1813---1812</td>\n",
       "      <td>00:00:05.973226</td>\n",
       "    </tr>\n",
       "    <tr>\n",
       "      <th>12</th>\n",
       "      <td>1814---1813</td>\n",
       "      <td>00:00:11.220544</td>\n",
       "    </tr>\n",
       "    <tr>\n",
       "      <th>13</th>\n",
       "      <td>1815---1814</td>\n",
       "      <td>00:00:05.985208</td>\n",
       "    </tr>\n",
       "    <tr>\n",
       "      <th>14</th>\n",
       "      <td>1816---1815</td>\n",
       "      <td>00:00:11.173159</td>\n",
       "    </tr>\n",
       "    <tr>\n",
       "      <th>15</th>\n",
       "      <td>1817---1816</td>\n",
       "      <td>00:00:05.995235</td>\n",
       "    </tr>\n",
       "    <tr>\n",
       "      <th>16</th>\n",
       "      <td>1818---1817</td>\n",
       "      <td>00:00:11.128330</td>\n",
       "    </tr>\n",
       "    <tr>\n",
       "      <th>17</th>\n",
       "      <td>1819---1818</td>\n",
       "      <td>00:00:05.999806</td>\n",
       "    </tr>\n",
       "    <tr>\n",
       "      <th>18</th>\n",
       "      <td>1820---1819</td>\n",
       "      <td>00:00:11.169433</td>\n",
       "    </tr>\n",
       "    <tr>\n",
       "      <th>19</th>\n",
       "      <td>1821---1820</td>\n",
       "      <td>00:00:06.040999</td>\n",
       "    </tr>\n",
       "    <tr>\n",
       "      <th>20</th>\n",
       "      <td>1822---1821</td>\n",
       "      <td>00:00:11.185908</td>\n",
       "    </tr>\n",
       "    <tr>\n",
       "      <th>21</th>\n",
       "      <td>1823---1822</td>\n",
       "      <td>00:00:06.006251</td>\n",
       "    </tr>\n",
       "    <tr>\n",
       "      <th>22</th>\n",
       "      <td>1824---1823</td>\n",
       "      <td>00:00:11.192888</td>\n",
       "    </tr>\n",
       "    <tr>\n",
       "      <th>23</th>\n",
       "      <td>1825---1824</td>\n",
       "      <td>00:00:05.993668</td>\n",
       "    </tr>\n",
       "    <tr>\n",
       "      <th>24</th>\n",
       "      <td>1826---1825</td>\n",
       "      <td>00:00:11.139075</td>\n",
       "    </tr>\n",
       "    <tr>\n",
       "      <th>25</th>\n",
       "      <td>1827---1826</td>\n",
       "      <td>00:00:05.997087</td>\n",
       "    </tr>\n",
       "    <tr>\n",
       "      <th>26</th>\n",
       "      <td>1828---1827</td>\n",
       "      <td>00:00:11.169315</td>\n",
       "    </tr>\n",
       "    <tr>\n",
       "      <th>27</th>\n",
       "      <td>1829---1828</td>\n",
       "      <td>00:00:05.962394</td>\n",
       "    </tr>\n",
       "    <tr>\n",
       "      <th>28</th>\n",
       "      <td>1830---1829</td>\n",
       "      <td>00:00:11.174304</td>\n",
       "    </tr>\n",
       "    <tr>\n",
       "      <th>29</th>\n",
       "      <td>1831---1830</td>\n",
       "      <td>00:00:06.016605</td>\n",
       "    </tr>\n",
       "    <tr>\n",
       "      <th>30</th>\n",
       "      <td>1832---1831</td>\n",
       "      <td>00:00:11.164212</td>\n",
       "    </tr>\n",
       "    <tr>\n",
       "      <th>31</th>\n",
       "      <td>1833---1832</td>\n",
       "      <td>00:00:05.984034</td>\n",
       "    </tr>\n",
       "    <tr>\n",
       "      <th>32</th>\n",
       "      <td>1834---1833</td>\n",
       "      <td>00:00:11.123334</td>\n",
       "    </tr>\n",
       "    <tr>\n",
       "      <th>33</th>\n",
       "      <td>1835---1834</td>\n",
       "      <td>00:00:06.047651</td>\n",
       "    </tr>\n",
       "    <tr>\n",
       "      <th>34</th>\n",
       "      <td>1836---1835</td>\n",
       "      <td>00:00:11.147608</td>\n",
       "    </tr>\n",
       "    <tr>\n",
       "      <th>35</th>\n",
       "      <td>1837---1836</td>\n",
       "      <td>00:00:05.949513</td>\n",
       "    </tr>\n",
       "    <tr>\n",
       "      <th>36</th>\n",
       "      <td>1838---1837</td>\n",
       "      <td>00:00:11.205380</td>\n",
       "    </tr>\n",
       "    <tr>\n",
       "      <th>37</th>\n",
       "      <td>1839---1838</td>\n",
       "      <td>00:00:05.996969</td>\n",
       "    </tr>\n",
       "    <tr>\n",
       "      <th>38</th>\n",
       "      <td>1840---1839</td>\n",
       "      <td>00:00:11.165497</td>\n",
       "    </tr>\n",
       "    <tr>\n",
       "      <th>39</th>\n",
       "      <td>1841---1840</td>\n",
       "      <td>00:00:05.996697</td>\n",
       "    </tr>\n",
       "    <tr>\n",
       "      <th>40</th>\n",
       "      <td>1842---1841</td>\n",
       "      <td>00:00:11.230686</td>\n",
       "    </tr>\n",
       "    <tr>\n",
       "      <th>41</th>\n",
       "      <td>1843---1842</td>\n",
       "      <td>00:00:05.920369</td>\n",
       "    </tr>\n",
       "    <tr>\n",
       "      <th>42</th>\n",
       "      <td>1844---1843</td>\n",
       "      <td>00:00:11.220664</td>\n",
       "    </tr>\n",
       "    <tr>\n",
       "      <th>43</th>\n",
       "      <td>1845---1844</td>\n",
       "      <td>00:00:05.988608</td>\n",
       "    </tr>\n",
       "    <tr>\n",
       "      <th>44</th>\n",
       "      <td>1846---1845</td>\n",
       "      <td>00:00:11.201106</td>\n",
       "    </tr>\n",
       "    <tr>\n",
       "      <th>45</th>\n",
       "      <td>1847---1846</td>\n",
       "      <td>00:00:06.017343</td>\n",
       "    </tr>\n",
       "    <tr>\n",
       "      <th>46</th>\n",
       "      <td>1848---1847</td>\n",
       "      <td>00:00:11.203718</td>\n",
       "    </tr>\n",
       "    <tr>\n",
       "      <th>47</th>\n",
       "      <td>1849---1848</td>\n",
       "      <td>00:00:06.006831</td>\n",
       "    </tr>\n",
       "    <tr>\n",
       "      <th>48</th>\n",
       "      <td>1850---1849</td>\n",
       "      <td>00:00:11.099539</td>\n",
       "    </tr>\n",
       "    <tr>\n",
       "      <th>49</th>\n",
       "      <td>1851---1850</td>\n",
       "      <td>00:00:06.034509</td>\n",
       "    </tr>\n",
       "    <tr>\n",
       "      <th>50</th>\n",
       "      <td>1852---1851</td>\n",
       "      <td>00:00:11.098350</td>\n",
       "    </tr>\n",
       "    <tr>\n",
       "      <th>51</th>\n",
       "      <td>1853---1852</td>\n",
       "      <td>00:00:06.011762</td>\n",
       "    </tr>\n",
       "    <tr>\n",
       "      <th>52</th>\n",
       "      <td>1854---1853</td>\n",
       "      <td>00:00:11.196717</td>\n",
       "    </tr>\n",
       "    <tr>\n",
       "      <th>53</th>\n",
       "      <td>1855---1854</td>\n",
       "      <td>00:00:06.050874</td>\n",
       "    </tr>\n",
       "    <tr>\n",
       "      <th>54</th>\n",
       "      <td>1856---1855</td>\n",
       "      <td>00:00:11.140501</td>\n",
       "    </tr>\n",
       "    <tr>\n",
       "      <th>55</th>\n",
       "      <td>1857---1856</td>\n",
       "      <td>00:00:06.040776</td>\n",
       "    </tr>\n",
       "    <tr>\n",
       "      <th>56</th>\n",
       "      <td>1858---1857</td>\n",
       "      <td>00:00:11.137182</td>\n",
       "    </tr>\n",
       "    <tr>\n",
       "      <th>57</th>\n",
       "      <td>1859---1858</td>\n",
       "      <td>00:00:06.081086</td>\n",
       "    </tr>\n",
       "  </tbody>\n",
       "</table>\n",
       "</div>"
      ],
      "text/plain": [
       "              0               1\n",
       "0   1802---1801 00:00:11.165883\n",
       "1   1803---1802 00:00:06.110464\n",
       "2   1804---1803 00:00:11.195279\n",
       "3   1805---1804 00:00:06.000131\n",
       "4   1806---1805 00:00:11.185826\n",
       "5   1807---1806 00:00:05.997130\n",
       "6   1808---1807 00:00:11.137798\n",
       "7   1809---1808 00:00:06.012772\n",
       "8   1810---1809 00:00:11.209007\n",
       "9   1811---1810 00:00:05.943178\n",
       "10  1812---1811 00:00:11.201056\n",
       "11  1813---1812 00:00:05.973226\n",
       "12  1814---1813 00:00:11.220544\n",
       "13  1815---1814 00:00:05.985208\n",
       "14  1816---1815 00:00:11.173159\n",
       "15  1817---1816 00:00:05.995235\n",
       "16  1818---1817 00:00:11.128330\n",
       "17  1819---1818 00:00:05.999806\n",
       "18  1820---1819 00:00:11.169433\n",
       "19  1821---1820 00:00:06.040999\n",
       "20  1822---1821 00:00:11.185908\n",
       "21  1823---1822 00:00:06.006251\n",
       "22  1824---1823 00:00:11.192888\n",
       "23  1825---1824 00:00:05.993668\n",
       "24  1826---1825 00:00:11.139075\n",
       "25  1827---1826 00:00:05.997087\n",
       "26  1828---1827 00:00:11.169315\n",
       "27  1829---1828 00:00:05.962394\n",
       "28  1830---1829 00:00:11.174304\n",
       "29  1831---1830 00:00:06.016605\n",
       "30  1832---1831 00:00:11.164212\n",
       "31  1833---1832 00:00:05.984034\n",
       "32  1834---1833 00:00:11.123334\n",
       "33  1835---1834 00:00:06.047651\n",
       "34  1836---1835 00:00:11.147608\n",
       "35  1837---1836 00:00:05.949513\n",
       "36  1838---1837 00:00:11.205380\n",
       "37  1839---1838 00:00:05.996969\n",
       "38  1840---1839 00:00:11.165497\n",
       "39  1841---1840 00:00:05.996697\n",
       "40  1842---1841 00:00:11.230686\n",
       "41  1843---1842 00:00:05.920369\n",
       "42  1844---1843 00:00:11.220664\n",
       "43  1845---1844 00:00:05.988608\n",
       "44  1846---1845 00:00:11.201106\n",
       "45  1847---1846 00:00:06.017343\n",
       "46  1848---1847 00:00:11.203718\n",
       "47  1849---1848 00:00:06.006831\n",
       "48  1850---1849 00:00:11.099539\n",
       "49  1851---1850 00:00:06.034509\n",
       "50  1852---1851 00:00:11.098350\n",
       "51  1853---1852 00:00:06.011762\n",
       "52  1854---1853 00:00:11.196717\n",
       "53  1855---1854 00:00:06.050874\n",
       "54  1856---1855 00:00:11.140501\n",
       "55  1857---1856 00:00:06.040776\n",
       "56  1858---1857 00:00:11.137182\n",
       "57  1859---1858 00:00:06.081086"
      ]
     },
     "execution_count": 47,
     "metadata": {},
     "output_type": "execute_result"
    }
   ],
   "source": [
    "bad_time_diff2"
   ]
  },
  {
   "cell_type": "markdown",
   "metadata": {},
   "source": [
    "I guess it turns out there is no bad data in this dataset. Cool!\n",
    "\n",
    "Hence, we have finished the cleaning of our second dataset. Let's just rename it."
   ]
  },
  {
   "cell_type": "markdown",
   "metadata": {},
   "source": [
    "OOPS!!! I just realized that I should also probably check the beginning datapoints too - because there might be some bad data while my data collection apparatus was starting up..."
   ]
  },
  {
   "cell_type": "code",
   "execution_count": 48,
   "metadata": {},
   "outputs": [
    {
     "data": {
      "text/html": [
       "<div>\n",
       "<style scoped>\n",
       "    .dataframe tbody tr th:only-of-type {\n",
       "        vertical-align: middle;\n",
       "    }\n",
       "\n",
       "    .dataframe tbody tr th {\n",
       "        vertical-align: top;\n",
       "    }\n",
       "\n",
       "    .dataframe thead th {\n",
       "        text-align: right;\n",
       "    }\n",
       "</style>\n",
       "<table border=\"1\" class=\"dataframe\">\n",
       "  <thead>\n",
       "    <tr style=\"text-align: right;\">\n",
       "      <th></th>\n",
       "      <th>count</th>\n",
       "      <th>timings</th>\n",
       "      <th>Datetime</th>\n",
       "    </tr>\n",
       "  </thead>\n",
       "  <tbody>\n",
       "    <tr>\n",
       "      <th>0</th>\n",
       "      <td>1</td>\n",
       "      <td>2020-07-01 22:18:22.806651</td>\n",
       "      <td>2020-07-01 22:18:22.806651</td>\n",
       "    </tr>\n",
       "    <tr>\n",
       "      <th>1</th>\n",
       "      <td>2</td>\n",
       "      <td>2020-07-01 22:18:49.157322</td>\n",
       "      <td>2020-07-01 22:18:49.157322</td>\n",
       "    </tr>\n",
       "    <tr>\n",
       "      <th>2</th>\n",
       "      <td>3</td>\n",
       "      <td>2020-07-01 22:18:55.197844</td>\n",
       "      <td>2020-07-01 22:18:55.197844</td>\n",
       "    </tr>\n",
       "    <tr>\n",
       "      <th>3</th>\n",
       "      <td>4</td>\n",
       "      <td>2020-07-01 22:19:06.378970</td>\n",
       "      <td>2020-07-01 22:19:06.378970</td>\n",
       "    </tr>\n",
       "    <tr>\n",
       "      <th>4</th>\n",
       "      <td>5</td>\n",
       "      <td>2020-07-01 22:19:12.418819</td>\n",
       "      <td>2020-07-01 22:19:12.418819</td>\n",
       "    </tr>\n",
       "    <tr>\n",
       "      <th>5</th>\n",
       "      <td>6</td>\n",
       "      <td>2020-07-01 22:19:23.520136</td>\n",
       "      <td>2020-07-01 22:19:23.520136</td>\n",
       "    </tr>\n",
       "    <tr>\n",
       "      <th>6</th>\n",
       "      <td>7</td>\n",
       "      <td>2020-07-01 22:19:29.611230</td>\n",
       "      <td>2020-07-01 22:19:29.611230</td>\n",
       "    </tr>\n",
       "    <tr>\n",
       "      <th>7</th>\n",
       "      <td>8</td>\n",
       "      <td>2020-07-01 22:19:40.801496</td>\n",
       "      <td>2020-07-01 22:19:40.801496</td>\n",
       "    </tr>\n",
       "    <tr>\n",
       "      <th>8</th>\n",
       "      <td>9</td>\n",
       "      <td>2020-07-01 22:19:46.788705</td>\n",
       "      <td>2020-07-01 22:19:46.788705</td>\n",
       "    </tr>\n",
       "    <tr>\n",
       "      <th>9</th>\n",
       "      <td>10</td>\n",
       "      <td>2020-07-01 22:19:57.940598</td>\n",
       "      <td>2020-07-01 22:19:57.940598</td>\n",
       "    </tr>\n",
       "  </tbody>\n",
       "</table>\n",
       "</div>"
      ],
      "text/plain": [
       "   count                     timings                   Datetime\n",
       "0      1  2020-07-01 22:18:22.806651 2020-07-01 22:18:22.806651\n",
       "1      2  2020-07-01 22:18:49.157322 2020-07-01 22:18:49.157322\n",
       "2      3  2020-07-01 22:18:55.197844 2020-07-01 22:18:55.197844\n",
       "3      4  2020-07-01 22:19:06.378970 2020-07-01 22:19:06.378970\n",
       "4      5  2020-07-01 22:19:12.418819 2020-07-01 22:19:12.418819\n",
       "5      6  2020-07-01 22:19:23.520136 2020-07-01 22:19:23.520136\n",
       "6      7  2020-07-01 22:19:29.611230 2020-07-01 22:19:29.611230\n",
       "7      8  2020-07-01 22:19:40.801496 2020-07-01 22:19:40.801496\n",
       "8      9  2020-07-01 22:19:46.788705 2020-07-01 22:19:46.788705\n",
       "9     10  2020-07-01 22:19:57.940598 2020-07-01 22:19:57.940598"
      ]
     },
     "execution_count": 48,
     "metadata": {},
     "output_type": "execute_result"
    }
   ],
   "source": [
    "ffx2[:10]"
   ]
  },
  {
   "cell_type": "code",
   "execution_count": 49,
   "metadata": {},
   "outputs": [],
   "source": [
    "bad_time_diff2_head = pd.DataFrame([(f'{ffx2[\"count\"][i+1]}---{ffx2[\"count\"][i]}', ffx2[\"Datetime\"][i+1]-ffx2[\"Datetime\"][i]) for i in range(10)])"
   ]
  },
  {
   "cell_type": "code",
   "execution_count": 50,
   "metadata": {},
   "outputs": [
    {
     "data": {
      "text/html": [
       "<div>\n",
       "<style scoped>\n",
       "    .dataframe tbody tr th:only-of-type {\n",
       "        vertical-align: middle;\n",
       "    }\n",
       "\n",
       "    .dataframe tbody tr th {\n",
       "        vertical-align: top;\n",
       "    }\n",
       "\n",
       "    .dataframe thead th {\n",
       "        text-align: right;\n",
       "    }\n",
       "</style>\n",
       "<table border=\"1\" class=\"dataframe\">\n",
       "  <thead>\n",
       "    <tr style=\"text-align: right;\">\n",
       "      <th></th>\n",
       "      <th>0</th>\n",
       "      <th>1</th>\n",
       "    </tr>\n",
       "  </thead>\n",
       "  <tbody>\n",
       "    <tr>\n",
       "      <th>0</th>\n",
       "      <td>2---1</td>\n",
       "      <td>00:00:26.350671</td>\n",
       "    </tr>\n",
       "    <tr>\n",
       "      <th>1</th>\n",
       "      <td>3---2</td>\n",
       "      <td>00:00:06.040522</td>\n",
       "    </tr>\n",
       "    <tr>\n",
       "      <th>2</th>\n",
       "      <td>4---3</td>\n",
       "      <td>00:00:11.181126</td>\n",
       "    </tr>\n",
       "    <tr>\n",
       "      <th>3</th>\n",
       "      <td>5---4</td>\n",
       "      <td>00:00:06.039849</td>\n",
       "    </tr>\n",
       "    <tr>\n",
       "      <th>4</th>\n",
       "      <td>6---5</td>\n",
       "      <td>00:00:11.101317</td>\n",
       "    </tr>\n",
       "    <tr>\n",
       "      <th>5</th>\n",
       "      <td>7---6</td>\n",
       "      <td>00:00:06.091094</td>\n",
       "    </tr>\n",
       "    <tr>\n",
       "      <th>6</th>\n",
       "      <td>8---7</td>\n",
       "      <td>00:00:11.190266</td>\n",
       "    </tr>\n",
       "    <tr>\n",
       "      <th>7</th>\n",
       "      <td>9---8</td>\n",
       "      <td>00:00:05.987209</td>\n",
       "    </tr>\n",
       "    <tr>\n",
       "      <th>8</th>\n",
       "      <td>10---9</td>\n",
       "      <td>00:00:11.151893</td>\n",
       "    </tr>\n",
       "    <tr>\n",
       "      <th>9</th>\n",
       "      <td>11---10</td>\n",
       "      <td>00:00:06.000736</td>\n",
       "    </tr>\n",
       "  </tbody>\n",
       "</table>\n",
       "</div>"
      ],
      "text/plain": [
       "         0               1\n",
       "0    2---1 00:00:26.350671\n",
       "1    3---2 00:00:06.040522\n",
       "2    4---3 00:00:11.181126\n",
       "3    5---4 00:00:06.039849\n",
       "4    6---5 00:00:11.101317\n",
       "5    7---6 00:00:06.091094\n",
       "6    8---7 00:00:11.190266\n",
       "7    9---8 00:00:05.987209\n",
       "8   10---9 00:00:11.151893\n",
       "9  11---10 00:00:06.000736"
      ]
     },
     "execution_count": 50,
     "metadata": {},
     "output_type": "execute_result"
    }
   ],
   "source": [
    "bad_time_diff2_head"
   ]
  },
  {
   "cell_type": "markdown",
   "metadata": {},
   "source": [
    "Ha! We see that the first time difference is messed up & the second time difference is not. This means that only the first data point is the bad data. We will remove it."
   ]
  },
  {
   "cell_type": "code",
   "execution_count": 51,
   "metadata": {
    "scrolled": true
   },
   "outputs": [
    {
     "data": {
      "text/html": [
       "<div>\n",
       "<style scoped>\n",
       "    .dataframe tbody tr th:only-of-type {\n",
       "        vertical-align: middle;\n",
       "    }\n",
       "\n",
       "    .dataframe tbody tr th {\n",
       "        vertical-align: top;\n",
       "    }\n",
       "\n",
       "    .dataframe thead th {\n",
       "        text-align: right;\n",
       "    }\n",
       "</style>\n",
       "<table border=\"1\" class=\"dataframe\">\n",
       "  <thead>\n",
       "    <tr style=\"text-align: right;\">\n",
       "      <th></th>\n",
       "      <th>count</th>\n",
       "      <th>timings</th>\n",
       "      <th>Datetime</th>\n",
       "    </tr>\n",
       "  </thead>\n",
       "  <tbody>\n",
       "    <tr>\n",
       "      <th>1</th>\n",
       "      <td>2</td>\n",
       "      <td>2020-07-01 22:18:49.157322</td>\n",
       "      <td>2020-07-01 22:18:49.157322</td>\n",
       "    </tr>\n",
       "    <tr>\n",
       "      <th>2</th>\n",
       "      <td>3</td>\n",
       "      <td>2020-07-01 22:18:55.197844</td>\n",
       "      <td>2020-07-01 22:18:55.197844</td>\n",
       "    </tr>\n",
       "    <tr>\n",
       "      <th>3</th>\n",
       "      <td>4</td>\n",
       "      <td>2020-07-01 22:19:06.378970</td>\n",
       "      <td>2020-07-01 22:19:06.378970</td>\n",
       "    </tr>\n",
       "    <tr>\n",
       "      <th>4</th>\n",
       "      <td>5</td>\n",
       "      <td>2020-07-01 22:19:12.418819</td>\n",
       "      <td>2020-07-01 22:19:12.418819</td>\n",
       "    </tr>\n",
       "    <tr>\n",
       "      <th>5</th>\n",
       "      <td>6</td>\n",
       "      <td>2020-07-01 22:19:23.520136</td>\n",
       "      <td>2020-07-01 22:19:23.520136</td>\n",
       "    </tr>\n",
       "    <tr>\n",
       "      <th>...</th>\n",
       "      <td>...</td>\n",
       "      <td>...</td>\n",
       "      <td>...</td>\n",
       "    </tr>\n",
       "    <tr>\n",
       "      <th>1854</th>\n",
       "      <td>1855</td>\n",
       "      <td>2020-07-02 02:43:49.553087</td>\n",
       "      <td>2020-07-02 02:43:49.553087</td>\n",
       "    </tr>\n",
       "    <tr>\n",
       "      <th>1855</th>\n",
       "      <td>1856</td>\n",
       "      <td>2020-07-02 02:44:00.693588</td>\n",
       "      <td>2020-07-02 02:44:00.693588</td>\n",
       "    </tr>\n",
       "    <tr>\n",
       "      <th>1856</th>\n",
       "      <td>1857</td>\n",
       "      <td>2020-07-02 02:44:06.734364</td>\n",
       "      <td>2020-07-02 02:44:06.734364</td>\n",
       "    </tr>\n",
       "    <tr>\n",
       "      <th>1857</th>\n",
       "      <td>1858</td>\n",
       "      <td>2020-07-02 02:44:17.871546</td>\n",
       "      <td>2020-07-02 02:44:17.871546</td>\n",
       "    </tr>\n",
       "    <tr>\n",
       "      <th>1858</th>\n",
       "      <td>1859</td>\n",
       "      <td>2020-07-02 02:44:23.952632</td>\n",
       "      <td>2020-07-02 02:44:23.952632</td>\n",
       "    </tr>\n",
       "  </tbody>\n",
       "</table>\n",
       "<p>1858 rows × 3 columns</p>\n",
       "</div>"
      ],
      "text/plain": [
       "      count                     timings                   Datetime\n",
       "1         2  2020-07-01 22:18:49.157322 2020-07-01 22:18:49.157322\n",
       "2         3  2020-07-01 22:18:55.197844 2020-07-01 22:18:55.197844\n",
       "3         4  2020-07-01 22:19:06.378970 2020-07-01 22:19:06.378970\n",
       "4         5  2020-07-01 22:19:12.418819 2020-07-01 22:19:12.418819\n",
       "5         6  2020-07-01 22:19:23.520136 2020-07-01 22:19:23.520136\n",
       "...     ...                         ...                        ...\n",
       "1854   1855  2020-07-02 02:43:49.553087 2020-07-02 02:43:49.553087\n",
       "1855   1856  2020-07-02 02:44:00.693588 2020-07-02 02:44:00.693588\n",
       "1856   1857  2020-07-02 02:44:06.734364 2020-07-02 02:44:06.734364\n",
       "1857   1858  2020-07-02 02:44:17.871546 2020-07-02 02:44:17.871546\n",
       "1858   1859  2020-07-02 02:44:23.952632 2020-07-02 02:44:23.952632\n",
       "\n",
       "[1858 rows x 3 columns]"
      ]
     },
     "execution_count": 51,
     "metadata": {},
     "output_type": "execute_result"
    }
   ],
   "source": [
    "ffx2_cleaned = ffx2.drop(labels=0, axis=0)\n",
    "ffx2_cleaned"
   ]
  },
  {
   "cell_type": "markdown",
   "metadata": {},
   "source": [
    "# **Combine these two dataframes (maybe...?)**"
   ]
  },
  {
   "cell_type": "markdown",
   "metadata": {},
   "source": [
    "So obviously, these two dataframes hold the exact same type of information...but should we combine them????\n",
    "\n",
    "NO, we should NOT!\n",
    "\n",
    "We are mainly going to be looking at the time differences between lightning strikes, so we can't combine them because the data was made on seperate days\n",
    "\n",
    "Wherever the two dataframes join, there will be a HUGE jump in the time difference (a few days)...BUT: I guess I could just make that a 'null' value and/or delete that row from our time differences data\n",
    "\n",
    "I think the easier thing to do is get the time difference feature of both dataframes SEPARATELY, and then combine them (if needed)."
   ]
  },
  {
   "cell_type": "markdown",
   "metadata": {},
   "source": [
    "# **Creating 'time difference' feature**"
   ]
  },
  {
   "cell_type": "markdown",
   "metadata": {},
   "source": [
    "**We will first start with the first data set (ffx_cleaned)**"
   ]
  },
  {
   "cell_type": "code",
   "execution_count": 52,
   "metadata": {},
   "outputs": [
    {
     "data": {
      "text/html": [
       "<div>\n",
       "<style scoped>\n",
       "    .dataframe tbody tr th:only-of-type {\n",
       "        vertical-align: middle;\n",
       "    }\n",
       "\n",
       "    .dataframe tbody tr th {\n",
       "        vertical-align: top;\n",
       "    }\n",
       "\n",
       "    .dataframe thead th {\n",
       "        text-align: right;\n",
       "    }\n",
       "</style>\n",
       "<table border=\"1\" class=\"dataframe\">\n",
       "  <thead>\n",
       "    <tr style=\"text-align: right;\">\n",
       "      <th></th>\n",
       "      <th>count</th>\n",
       "      <th>timings</th>\n",
       "      <th>Datetime</th>\n",
       "    </tr>\n",
       "  </thead>\n",
       "  <tbody>\n",
       "    <tr>\n",
       "      <th>0</th>\n",
       "      <td>1</td>\n",
       "      <td>2020-06-28 16:40:11.538763</td>\n",
       "      <td>2020-06-28 16:40:11.538763</td>\n",
       "    </tr>\n",
       "    <tr>\n",
       "      <th>1</th>\n",
       "      <td>2</td>\n",
       "      <td>2020-06-28 16:40:17.543537</td>\n",
       "      <td>2020-06-28 16:40:17.543537</td>\n",
       "    </tr>\n",
       "    <tr>\n",
       "      <th>2</th>\n",
       "      <td>3</td>\n",
       "      <td>2020-06-28 16:40:28.666688</td>\n",
       "      <td>2020-06-28 16:40:28.666688</td>\n",
       "    </tr>\n",
       "    <tr>\n",
       "      <th>3</th>\n",
       "      <td>4</td>\n",
       "      <td>2020-06-28 16:40:34.640885</td>\n",
       "      <td>2020-06-28 16:40:34.640885</td>\n",
       "    </tr>\n",
       "    <tr>\n",
       "      <th>4</th>\n",
       "      <td>5</td>\n",
       "      <td>2020-06-28 16:40:45.889237</td>\n",
       "      <td>2020-06-28 16:40:45.889237</td>\n",
       "    </tr>\n",
       "  </tbody>\n",
       "</table>\n",
       "</div>"
      ],
      "text/plain": [
       "   count                     timings                   Datetime\n",
       "0      1  2020-06-28 16:40:11.538763 2020-06-28 16:40:11.538763\n",
       "1      2  2020-06-28 16:40:17.543537 2020-06-28 16:40:17.543537\n",
       "2      3  2020-06-28 16:40:28.666688 2020-06-28 16:40:28.666688\n",
       "3      4  2020-06-28 16:40:34.640885 2020-06-28 16:40:34.640885\n",
       "4      5  2020-06-28 16:40:45.889237 2020-06-28 16:40:45.889237"
      ]
     },
     "execution_count": 52,
     "metadata": {},
     "output_type": "execute_result"
    }
   ],
   "source": [
    "ffx_cleaned.head()"
   ]
  },
  {
   "cell_type": "code",
   "execution_count": 53,
   "metadata": {},
   "outputs": [],
   "source": [
    "ffx_cleaned[\"deltaT\"] = ffx_cleaned[\"Datetime\"] - ffx_cleaned[\"Datetime\"].shift(1)"
   ]
  },
  {
   "cell_type": "code",
   "execution_count": 54,
   "metadata": {},
   "outputs": [
    {
     "data": {
      "text/html": [
       "<div>\n",
       "<style scoped>\n",
       "    .dataframe tbody tr th:only-of-type {\n",
       "        vertical-align: middle;\n",
       "    }\n",
       "\n",
       "    .dataframe tbody tr th {\n",
       "        vertical-align: top;\n",
       "    }\n",
       "\n",
       "    .dataframe thead th {\n",
       "        text-align: right;\n",
       "    }\n",
       "</style>\n",
       "<table border=\"1\" class=\"dataframe\">\n",
       "  <thead>\n",
       "    <tr style=\"text-align: right;\">\n",
       "      <th></th>\n",
       "      <th>count</th>\n",
       "      <th>timings</th>\n",
       "      <th>Datetime</th>\n",
       "      <th>deltaT</th>\n",
       "    </tr>\n",
       "  </thead>\n",
       "  <tbody>\n",
       "    <tr>\n",
       "      <th>0</th>\n",
       "      <td>1</td>\n",
       "      <td>2020-06-28 16:40:11.538763</td>\n",
       "      <td>2020-06-28 16:40:11.538763</td>\n",
       "      <td>NaT</td>\n",
       "    </tr>\n",
       "    <tr>\n",
       "      <th>1</th>\n",
       "      <td>2</td>\n",
       "      <td>2020-06-28 16:40:17.543537</td>\n",
       "      <td>2020-06-28 16:40:17.543537</td>\n",
       "      <td>00:00:06.004774</td>\n",
       "    </tr>\n",
       "    <tr>\n",
       "      <th>2</th>\n",
       "      <td>3</td>\n",
       "      <td>2020-06-28 16:40:28.666688</td>\n",
       "      <td>2020-06-28 16:40:28.666688</td>\n",
       "      <td>00:00:11.123151</td>\n",
       "    </tr>\n",
       "    <tr>\n",
       "      <th>3</th>\n",
       "      <td>4</td>\n",
       "      <td>2020-06-28 16:40:34.640885</td>\n",
       "      <td>2020-06-28 16:40:34.640885</td>\n",
       "      <td>00:00:05.974197</td>\n",
       "    </tr>\n",
       "    <tr>\n",
       "      <th>4</th>\n",
       "      <td>5</td>\n",
       "      <td>2020-06-28 16:40:45.889237</td>\n",
       "      <td>2020-06-28 16:40:45.889237</td>\n",
       "      <td>00:00:11.248352</td>\n",
       "    </tr>\n",
       "  </tbody>\n",
       "</table>\n",
       "</div>"
      ],
      "text/plain": [
       "   count                     timings                   Datetime  \\\n",
       "0      1  2020-06-28 16:40:11.538763 2020-06-28 16:40:11.538763   \n",
       "1      2  2020-06-28 16:40:17.543537 2020-06-28 16:40:17.543537   \n",
       "2      3  2020-06-28 16:40:28.666688 2020-06-28 16:40:28.666688   \n",
       "3      4  2020-06-28 16:40:34.640885 2020-06-28 16:40:34.640885   \n",
       "4      5  2020-06-28 16:40:45.889237 2020-06-28 16:40:45.889237   \n",
       "\n",
       "           deltaT  \n",
       "0             NaT  \n",
       "1 00:00:06.004774  \n",
       "2 00:00:11.123151  \n",
       "3 00:00:05.974197  \n",
       "4 00:00:11.248352  "
      ]
     },
     "execution_count": 54,
     "metadata": {},
     "output_type": "execute_result"
    }
   ],
   "source": [
    "ffx_cleaned.head()"
   ]
  },
  {
   "cell_type": "code",
   "execution_count": 55,
   "metadata": {},
   "outputs": [
    {
     "data": {
      "text/plain": [
       "Timedelta('0 days 00:00:05.974197')"
      ]
     },
     "execution_count": 55,
     "metadata": {},
     "output_type": "execute_result"
    },
    {
     "data": {
      "text/plain": [
       "5"
      ]
     },
     "execution_count": 55,
     "metadata": {},
     "output_type": "execute_result"
    },
    {
     "data": {
      "text/plain": [
       "974197"
      ]
     },
     "execution_count": 55,
     "metadata": {},
     "output_type": "execute_result"
    }
   ],
   "source": [
    "ffx_cleaned[\"deltaT\"][3]\n",
    "ffx_cleaned[\"deltaT\"][3].seconds\n",
    "ffx_cleaned[\"deltaT\"][3].microseconds"
   ]
  },
  {
   "cell_type": "code",
   "execution_count": 56,
   "metadata": {},
   "outputs": [],
   "source": [
    "ffx_cleaned[\"dT(seconds)\"] = [ffx_cleaned[\"deltaT\"][i].seconds + ffx_cleaned[\"deltaT\"][i].microseconds * 10**(-6) for i in range(0,len(ffx_cleaned[\"deltaT\"]))]"
   ]
  },
  {
   "cell_type": "code",
   "execution_count": 57,
   "metadata": {},
   "outputs": [
    {
     "data": {
      "text/html": [
       "<div>\n",
       "<style scoped>\n",
       "    .dataframe tbody tr th:only-of-type {\n",
       "        vertical-align: middle;\n",
       "    }\n",
       "\n",
       "    .dataframe tbody tr th {\n",
       "        vertical-align: top;\n",
       "    }\n",
       "\n",
       "    .dataframe thead th {\n",
       "        text-align: right;\n",
       "    }\n",
       "</style>\n",
       "<table border=\"1\" class=\"dataframe\">\n",
       "  <thead>\n",
       "    <tr style=\"text-align: right;\">\n",
       "      <th></th>\n",
       "      <th>count</th>\n",
       "      <th>timings</th>\n",
       "      <th>Datetime</th>\n",
       "      <th>deltaT</th>\n",
       "      <th>dT(seconds)</th>\n",
       "    </tr>\n",
       "  </thead>\n",
       "  <tbody>\n",
       "    <tr>\n",
       "      <th>0</th>\n",
       "      <td>1</td>\n",
       "      <td>2020-06-28 16:40:11.538763</td>\n",
       "      <td>2020-06-28 16:40:11.538763</td>\n",
       "      <td>NaT</td>\n",
       "      <td>NaN</td>\n",
       "    </tr>\n",
       "    <tr>\n",
       "      <th>1</th>\n",
       "      <td>2</td>\n",
       "      <td>2020-06-28 16:40:17.543537</td>\n",
       "      <td>2020-06-28 16:40:17.543537</td>\n",
       "      <td>00:00:06.004774</td>\n",
       "      <td>6.004774</td>\n",
       "    </tr>\n",
       "    <tr>\n",
       "      <th>2</th>\n",
       "      <td>3</td>\n",
       "      <td>2020-06-28 16:40:28.666688</td>\n",
       "      <td>2020-06-28 16:40:28.666688</td>\n",
       "      <td>00:00:11.123151</td>\n",
       "      <td>11.123151</td>\n",
       "    </tr>\n",
       "    <tr>\n",
       "      <th>3</th>\n",
       "      <td>4</td>\n",
       "      <td>2020-06-28 16:40:34.640885</td>\n",
       "      <td>2020-06-28 16:40:34.640885</td>\n",
       "      <td>00:00:05.974197</td>\n",
       "      <td>5.974197</td>\n",
       "    </tr>\n",
       "    <tr>\n",
       "      <th>4</th>\n",
       "      <td>5</td>\n",
       "      <td>2020-06-28 16:40:45.889237</td>\n",
       "      <td>2020-06-28 16:40:45.889237</td>\n",
       "      <td>00:00:11.248352</td>\n",
       "      <td>11.248352</td>\n",
       "    </tr>\n",
       "    <tr>\n",
       "      <th>...</th>\n",
       "      <td>...</td>\n",
       "      <td>...</td>\n",
       "      <td>...</td>\n",
       "      <td>...</td>\n",
       "      <td>...</td>\n",
       "    </tr>\n",
       "    <tr>\n",
       "      <th>1113</th>\n",
       "      <td>1114</td>\n",
       "      <td>2020-06-28 19:19:34.304837</td>\n",
       "      <td>2020-06-28 19:19:34.304837</td>\n",
       "      <td>00:00:05.934609</td>\n",
       "      <td>5.934609</td>\n",
       "    </tr>\n",
       "    <tr>\n",
       "      <th>1114</th>\n",
       "      <td>1115</td>\n",
       "      <td>2020-06-28 19:19:45.509329</td>\n",
       "      <td>2020-06-28 19:19:45.509329</td>\n",
       "      <td>00:00:11.204492</td>\n",
       "      <td>11.204492</td>\n",
       "    </tr>\n",
       "    <tr>\n",
       "      <th>1115</th>\n",
       "      <td>1116</td>\n",
       "      <td>2020-06-28 19:19:51.529480</td>\n",
       "      <td>2020-06-28 19:19:51.529480</td>\n",
       "      <td>00:00:06.020151</td>\n",
       "      <td>6.020151</td>\n",
       "    </tr>\n",
       "    <tr>\n",
       "      <th>1116</th>\n",
       "      <td>1117</td>\n",
       "      <td>2020-06-28 19:20:02.690825</td>\n",
       "      <td>2020-06-28 19:20:02.690825</td>\n",
       "      <td>00:00:11.161345</td>\n",
       "      <td>11.161345</td>\n",
       "    </tr>\n",
       "    <tr>\n",
       "      <th>1117</th>\n",
       "      <td>1118</td>\n",
       "      <td>2020-06-28 19:20:08.719560</td>\n",
       "      <td>2020-06-28 19:20:08.719560</td>\n",
       "      <td>00:00:06.028735</td>\n",
       "      <td>6.028735</td>\n",
       "    </tr>\n",
       "  </tbody>\n",
       "</table>\n",
       "<p>1118 rows × 5 columns</p>\n",
       "</div>"
      ],
      "text/plain": [
       "      count                     timings                   Datetime  \\\n",
       "0         1  2020-06-28 16:40:11.538763 2020-06-28 16:40:11.538763   \n",
       "1         2  2020-06-28 16:40:17.543537 2020-06-28 16:40:17.543537   \n",
       "2         3  2020-06-28 16:40:28.666688 2020-06-28 16:40:28.666688   \n",
       "3         4  2020-06-28 16:40:34.640885 2020-06-28 16:40:34.640885   \n",
       "4         5  2020-06-28 16:40:45.889237 2020-06-28 16:40:45.889237   \n",
       "...     ...                         ...                        ...   \n",
       "1113   1114  2020-06-28 19:19:34.304837 2020-06-28 19:19:34.304837   \n",
       "1114   1115  2020-06-28 19:19:45.509329 2020-06-28 19:19:45.509329   \n",
       "1115   1116  2020-06-28 19:19:51.529480 2020-06-28 19:19:51.529480   \n",
       "1116   1117  2020-06-28 19:20:02.690825 2020-06-28 19:20:02.690825   \n",
       "1117   1118  2020-06-28 19:20:08.719560 2020-06-28 19:20:08.719560   \n",
       "\n",
       "              deltaT  dT(seconds)  \n",
       "0                NaT          NaN  \n",
       "1    00:00:06.004774     6.004774  \n",
       "2    00:00:11.123151    11.123151  \n",
       "3    00:00:05.974197     5.974197  \n",
       "4    00:00:11.248352    11.248352  \n",
       "...              ...          ...  \n",
       "1113 00:00:05.934609     5.934609  \n",
       "1114 00:00:11.204492    11.204492  \n",
       "1115 00:00:06.020151     6.020151  \n",
       "1116 00:00:11.161345    11.161345  \n",
       "1117 00:00:06.028735     6.028735  \n",
       "\n",
       "[1118 rows x 5 columns]"
      ]
     },
     "execution_count": 57,
     "metadata": {},
     "output_type": "execute_result"
    }
   ],
   "source": [
    "ffx_cleaned"
   ]
  },
  {
   "cell_type": "markdown",
   "metadata": {},
   "source": [
    "**We do the same thing with the second data set (ffx2_cleaned)**"
   ]
  },
  {
   "cell_type": "code",
   "execution_count": 58,
   "metadata": {},
   "outputs": [
    {
     "data": {
      "text/html": [
       "<div>\n",
       "<style scoped>\n",
       "    .dataframe tbody tr th:only-of-type {\n",
       "        vertical-align: middle;\n",
       "    }\n",
       "\n",
       "    .dataframe tbody tr th {\n",
       "        vertical-align: top;\n",
       "    }\n",
       "\n",
       "    .dataframe thead th {\n",
       "        text-align: right;\n",
       "    }\n",
       "</style>\n",
       "<table border=\"1\" class=\"dataframe\">\n",
       "  <thead>\n",
       "    <tr style=\"text-align: right;\">\n",
       "      <th></th>\n",
       "      <th>count</th>\n",
       "      <th>timings</th>\n",
       "      <th>Datetime</th>\n",
       "    </tr>\n",
       "  </thead>\n",
       "  <tbody>\n",
       "    <tr>\n",
       "      <th>1</th>\n",
       "      <td>2</td>\n",
       "      <td>2020-07-01 22:18:49.157322</td>\n",
       "      <td>2020-07-01 22:18:49.157322</td>\n",
       "    </tr>\n",
       "    <tr>\n",
       "      <th>2</th>\n",
       "      <td>3</td>\n",
       "      <td>2020-07-01 22:18:55.197844</td>\n",
       "      <td>2020-07-01 22:18:55.197844</td>\n",
       "    </tr>\n",
       "    <tr>\n",
       "      <th>3</th>\n",
       "      <td>4</td>\n",
       "      <td>2020-07-01 22:19:06.378970</td>\n",
       "      <td>2020-07-01 22:19:06.378970</td>\n",
       "    </tr>\n",
       "    <tr>\n",
       "      <th>4</th>\n",
       "      <td>5</td>\n",
       "      <td>2020-07-01 22:19:12.418819</td>\n",
       "      <td>2020-07-01 22:19:12.418819</td>\n",
       "    </tr>\n",
       "    <tr>\n",
       "      <th>5</th>\n",
       "      <td>6</td>\n",
       "      <td>2020-07-01 22:19:23.520136</td>\n",
       "      <td>2020-07-01 22:19:23.520136</td>\n",
       "    </tr>\n",
       "  </tbody>\n",
       "</table>\n",
       "</div>"
      ],
      "text/plain": [
       "   count                     timings                   Datetime\n",
       "1      2  2020-07-01 22:18:49.157322 2020-07-01 22:18:49.157322\n",
       "2      3  2020-07-01 22:18:55.197844 2020-07-01 22:18:55.197844\n",
       "3      4  2020-07-01 22:19:06.378970 2020-07-01 22:19:06.378970\n",
       "4      5  2020-07-01 22:19:12.418819 2020-07-01 22:19:12.418819\n",
       "5      6  2020-07-01 22:19:23.520136 2020-07-01 22:19:23.520136"
      ]
     },
     "execution_count": 58,
     "metadata": {},
     "output_type": "execute_result"
    }
   ],
   "source": [
    "ffx2_cleaned.head()"
   ]
  },
  {
   "cell_type": "code",
   "execution_count": 59,
   "metadata": {},
   "outputs": [],
   "source": [
    "ffx2_cleaned[\"deltaT\"] = ffx2_cleaned[\"Datetime\"] - ffx2_cleaned[\"Datetime\"].shift(1)\n",
    "\n",
    "ffx2_cleaned[\"dT(seconds)\"] = [ffx2_cleaned[\"deltaT\"][i].seconds + ffx2_cleaned[\"deltaT\"][i].microseconds * 10**(-6) for i in range(1,len(ffx2_cleaned[\"deltaT\"])+1)]"
   ]
  },
  {
   "cell_type": "code",
   "execution_count": 60,
   "metadata": {},
   "outputs": [
    {
     "data": {
      "text/html": [
       "<div>\n",
       "<style scoped>\n",
       "    .dataframe tbody tr th:only-of-type {\n",
       "        vertical-align: middle;\n",
       "    }\n",
       "\n",
       "    .dataframe tbody tr th {\n",
       "        vertical-align: top;\n",
       "    }\n",
       "\n",
       "    .dataframe thead th {\n",
       "        text-align: right;\n",
       "    }\n",
       "</style>\n",
       "<table border=\"1\" class=\"dataframe\">\n",
       "  <thead>\n",
       "    <tr style=\"text-align: right;\">\n",
       "      <th></th>\n",
       "      <th>count</th>\n",
       "      <th>timings</th>\n",
       "      <th>Datetime</th>\n",
       "      <th>deltaT</th>\n",
       "      <th>dT(seconds)</th>\n",
       "    </tr>\n",
       "  </thead>\n",
       "  <tbody>\n",
       "    <tr>\n",
       "      <th>1</th>\n",
       "      <td>2</td>\n",
       "      <td>2020-07-01 22:18:49.157322</td>\n",
       "      <td>2020-07-01 22:18:49.157322</td>\n",
       "      <td>NaT</td>\n",
       "      <td>NaN</td>\n",
       "    </tr>\n",
       "    <tr>\n",
       "      <th>2</th>\n",
       "      <td>3</td>\n",
       "      <td>2020-07-01 22:18:55.197844</td>\n",
       "      <td>2020-07-01 22:18:55.197844</td>\n",
       "      <td>00:00:06.040522</td>\n",
       "      <td>6.040522</td>\n",
       "    </tr>\n",
       "    <tr>\n",
       "      <th>3</th>\n",
       "      <td>4</td>\n",
       "      <td>2020-07-01 22:19:06.378970</td>\n",
       "      <td>2020-07-01 22:19:06.378970</td>\n",
       "      <td>00:00:11.181126</td>\n",
       "      <td>11.181126</td>\n",
       "    </tr>\n",
       "    <tr>\n",
       "      <th>4</th>\n",
       "      <td>5</td>\n",
       "      <td>2020-07-01 22:19:12.418819</td>\n",
       "      <td>2020-07-01 22:19:12.418819</td>\n",
       "      <td>00:00:06.039849</td>\n",
       "      <td>6.039849</td>\n",
       "    </tr>\n",
       "    <tr>\n",
       "      <th>5</th>\n",
       "      <td>6</td>\n",
       "      <td>2020-07-01 22:19:23.520136</td>\n",
       "      <td>2020-07-01 22:19:23.520136</td>\n",
       "      <td>00:00:11.101317</td>\n",
       "      <td>11.101317</td>\n",
       "    </tr>\n",
       "    <tr>\n",
       "      <th>...</th>\n",
       "      <td>...</td>\n",
       "      <td>...</td>\n",
       "      <td>...</td>\n",
       "      <td>...</td>\n",
       "      <td>...</td>\n",
       "    </tr>\n",
       "    <tr>\n",
       "      <th>1854</th>\n",
       "      <td>1855</td>\n",
       "      <td>2020-07-02 02:43:49.553087</td>\n",
       "      <td>2020-07-02 02:43:49.553087</td>\n",
       "      <td>00:00:06.050874</td>\n",
       "      <td>6.050874</td>\n",
       "    </tr>\n",
       "    <tr>\n",
       "      <th>1855</th>\n",
       "      <td>1856</td>\n",
       "      <td>2020-07-02 02:44:00.693588</td>\n",
       "      <td>2020-07-02 02:44:00.693588</td>\n",
       "      <td>00:00:11.140501</td>\n",
       "      <td>11.140501</td>\n",
       "    </tr>\n",
       "    <tr>\n",
       "      <th>1856</th>\n",
       "      <td>1857</td>\n",
       "      <td>2020-07-02 02:44:06.734364</td>\n",
       "      <td>2020-07-02 02:44:06.734364</td>\n",
       "      <td>00:00:06.040776</td>\n",
       "      <td>6.040776</td>\n",
       "    </tr>\n",
       "    <tr>\n",
       "      <th>1857</th>\n",
       "      <td>1858</td>\n",
       "      <td>2020-07-02 02:44:17.871546</td>\n",
       "      <td>2020-07-02 02:44:17.871546</td>\n",
       "      <td>00:00:11.137182</td>\n",
       "      <td>11.137182</td>\n",
       "    </tr>\n",
       "    <tr>\n",
       "      <th>1858</th>\n",
       "      <td>1859</td>\n",
       "      <td>2020-07-02 02:44:23.952632</td>\n",
       "      <td>2020-07-02 02:44:23.952632</td>\n",
       "      <td>00:00:06.081086</td>\n",
       "      <td>6.081086</td>\n",
       "    </tr>\n",
       "  </tbody>\n",
       "</table>\n",
       "<p>1858 rows × 5 columns</p>\n",
       "</div>"
      ],
      "text/plain": [
       "      count                     timings                   Datetime  \\\n",
       "1         2  2020-07-01 22:18:49.157322 2020-07-01 22:18:49.157322   \n",
       "2         3  2020-07-01 22:18:55.197844 2020-07-01 22:18:55.197844   \n",
       "3         4  2020-07-01 22:19:06.378970 2020-07-01 22:19:06.378970   \n",
       "4         5  2020-07-01 22:19:12.418819 2020-07-01 22:19:12.418819   \n",
       "5         6  2020-07-01 22:19:23.520136 2020-07-01 22:19:23.520136   \n",
       "...     ...                         ...                        ...   \n",
       "1854   1855  2020-07-02 02:43:49.553087 2020-07-02 02:43:49.553087   \n",
       "1855   1856  2020-07-02 02:44:00.693588 2020-07-02 02:44:00.693588   \n",
       "1856   1857  2020-07-02 02:44:06.734364 2020-07-02 02:44:06.734364   \n",
       "1857   1858  2020-07-02 02:44:17.871546 2020-07-02 02:44:17.871546   \n",
       "1858   1859  2020-07-02 02:44:23.952632 2020-07-02 02:44:23.952632   \n",
       "\n",
       "              deltaT  dT(seconds)  \n",
       "1                NaT          NaN  \n",
       "2    00:00:06.040522     6.040522  \n",
       "3    00:00:11.181126    11.181126  \n",
       "4    00:00:06.039849     6.039849  \n",
       "5    00:00:11.101317    11.101317  \n",
       "...              ...          ...  \n",
       "1854 00:00:06.050874     6.050874  \n",
       "1855 00:00:11.140501    11.140501  \n",
       "1856 00:00:06.040776     6.040776  \n",
       "1857 00:00:11.137182    11.137182  \n",
       "1858 00:00:06.081086     6.081086  \n",
       "\n",
       "[1858 rows x 5 columns]"
      ]
     },
     "execution_count": 60,
     "metadata": {},
     "output_type": "execute_result"
    }
   ],
   "source": [
    "ffx2_cleaned"
   ]
  },
  {
   "cell_type": "code",
   "execution_count": null,
   "metadata": {},
   "outputs": [],
   "source": []
  },
  {
   "cell_type": "code",
   "execution_count": null,
   "metadata": {},
   "outputs": [],
   "source": []
  },
  {
   "cell_type": "code",
   "execution_count": null,
   "metadata": {},
   "outputs": [],
   "source": []
  },
  {
   "cell_type": "code",
   "execution_count": null,
   "metadata": {},
   "outputs": [],
   "source": []
  },
  {
   "cell_type": "code",
   "execution_count": null,
   "metadata": {},
   "outputs": [],
   "source": []
  },
  {
   "cell_type": "markdown",
   "metadata": {},
   "source": [
    "# **Data Analysis**"
   ]
  },
  {
   "cell_type": "markdown",
   "metadata": {},
   "source": [
    "Now that we have made some new features, let's do our EDA to see what we can uncover.\n",
    "\n",
    "Immediately from the above two cleaned dataframes, we see that there seems to be a periodic pattern to the data. Let's visualize the entire data set to see if this is indeed the case"
   ]
  },
  {
   "cell_type": "code",
   "execution_count": 61,
   "metadata": {},
   "outputs": [
    {
     "data": {
      "text/html": [
       "<div>\n",
       "<style scoped>\n",
       "    .dataframe tbody tr th:only-of-type {\n",
       "        vertical-align: middle;\n",
       "    }\n",
       "\n",
       "    .dataframe tbody tr th {\n",
       "        vertical-align: top;\n",
       "    }\n",
       "\n",
       "    .dataframe thead th {\n",
       "        text-align: right;\n",
       "    }\n",
       "</style>\n",
       "<table border=\"1\" class=\"dataframe\">\n",
       "  <thead>\n",
       "    <tr style=\"text-align: right;\">\n",
       "      <th></th>\n",
       "      <th>count</th>\n",
       "      <th>timings</th>\n",
       "      <th>Datetime</th>\n",
       "      <th>deltaT</th>\n",
       "      <th>dT(seconds)</th>\n",
       "    </tr>\n",
       "  </thead>\n",
       "  <tbody>\n",
       "    <tr>\n",
       "      <th>0</th>\n",
       "      <td>1</td>\n",
       "      <td>2020-06-28 16:40:11.538763</td>\n",
       "      <td>2020-06-28 16:40:11.538763</td>\n",
       "      <td>NaT</td>\n",
       "      <td>NaN</td>\n",
       "    </tr>\n",
       "    <tr>\n",
       "      <th>1</th>\n",
       "      <td>2</td>\n",
       "      <td>2020-06-28 16:40:17.543537</td>\n",
       "      <td>2020-06-28 16:40:17.543537</td>\n",
       "      <td>00:00:06.004774</td>\n",
       "      <td>6.004774</td>\n",
       "    </tr>\n",
       "    <tr>\n",
       "      <th>2</th>\n",
       "      <td>3</td>\n",
       "      <td>2020-06-28 16:40:28.666688</td>\n",
       "      <td>2020-06-28 16:40:28.666688</td>\n",
       "      <td>00:00:11.123151</td>\n",
       "      <td>11.123151</td>\n",
       "    </tr>\n",
       "    <tr>\n",
       "      <th>3</th>\n",
       "      <td>4</td>\n",
       "      <td>2020-06-28 16:40:34.640885</td>\n",
       "      <td>2020-06-28 16:40:34.640885</td>\n",
       "      <td>00:00:05.974197</td>\n",
       "      <td>5.974197</td>\n",
       "    </tr>\n",
       "    <tr>\n",
       "      <th>4</th>\n",
       "      <td>5</td>\n",
       "      <td>2020-06-28 16:40:45.889237</td>\n",
       "      <td>2020-06-28 16:40:45.889237</td>\n",
       "      <td>00:00:11.248352</td>\n",
       "      <td>11.248352</td>\n",
       "    </tr>\n",
       "  </tbody>\n",
       "</table>\n",
       "</div>"
      ],
      "text/plain": [
       "   count                     timings                   Datetime  \\\n",
       "0      1  2020-06-28 16:40:11.538763 2020-06-28 16:40:11.538763   \n",
       "1      2  2020-06-28 16:40:17.543537 2020-06-28 16:40:17.543537   \n",
       "2      3  2020-06-28 16:40:28.666688 2020-06-28 16:40:28.666688   \n",
       "3      4  2020-06-28 16:40:34.640885 2020-06-28 16:40:34.640885   \n",
       "4      5  2020-06-28 16:40:45.889237 2020-06-28 16:40:45.889237   \n",
       "\n",
       "           deltaT  dT(seconds)  \n",
       "0             NaT          NaN  \n",
       "1 00:00:06.004774     6.004774  \n",
       "2 00:00:11.123151    11.123151  \n",
       "3 00:00:05.974197     5.974197  \n",
       "4 00:00:11.248352    11.248352  "
      ]
     },
     "execution_count": 61,
     "metadata": {},
     "output_type": "execute_result"
    }
   ],
   "source": [
    "ffx_cleaned.head()"
   ]
  },
  {
   "cell_type": "code",
   "execution_count": 62,
   "metadata": {},
   "outputs": [
    {
     "data": {
      "text/html": [
       "<div>\n",
       "<style scoped>\n",
       "    .dataframe tbody tr th:only-of-type {\n",
       "        vertical-align: middle;\n",
       "    }\n",
       "\n",
       "    .dataframe tbody tr th {\n",
       "        vertical-align: top;\n",
       "    }\n",
       "\n",
       "    .dataframe thead th {\n",
       "        text-align: right;\n",
       "    }\n",
       "</style>\n",
       "<table border=\"1\" class=\"dataframe\">\n",
       "  <thead>\n",
       "    <tr style=\"text-align: right;\">\n",
       "      <th></th>\n",
       "      <th>count</th>\n",
       "      <th>timings</th>\n",
       "      <th>Datetime</th>\n",
       "      <th>deltaT</th>\n",
       "      <th>dT(seconds)</th>\n",
       "    </tr>\n",
       "  </thead>\n",
       "  <tbody>\n",
       "    <tr>\n",
       "      <th>1</th>\n",
       "      <td>2</td>\n",
       "      <td>2020-07-01 22:18:49.157322</td>\n",
       "      <td>2020-07-01 22:18:49.157322</td>\n",
       "      <td>NaT</td>\n",
       "      <td>NaN</td>\n",
       "    </tr>\n",
       "    <tr>\n",
       "      <th>2</th>\n",
       "      <td>3</td>\n",
       "      <td>2020-07-01 22:18:55.197844</td>\n",
       "      <td>2020-07-01 22:18:55.197844</td>\n",
       "      <td>00:00:06.040522</td>\n",
       "      <td>6.040522</td>\n",
       "    </tr>\n",
       "    <tr>\n",
       "      <th>3</th>\n",
       "      <td>4</td>\n",
       "      <td>2020-07-01 22:19:06.378970</td>\n",
       "      <td>2020-07-01 22:19:06.378970</td>\n",
       "      <td>00:00:11.181126</td>\n",
       "      <td>11.181126</td>\n",
       "    </tr>\n",
       "    <tr>\n",
       "      <th>4</th>\n",
       "      <td>5</td>\n",
       "      <td>2020-07-01 22:19:12.418819</td>\n",
       "      <td>2020-07-01 22:19:12.418819</td>\n",
       "      <td>00:00:06.039849</td>\n",
       "      <td>6.039849</td>\n",
       "    </tr>\n",
       "    <tr>\n",
       "      <th>5</th>\n",
       "      <td>6</td>\n",
       "      <td>2020-07-01 22:19:23.520136</td>\n",
       "      <td>2020-07-01 22:19:23.520136</td>\n",
       "      <td>00:00:11.101317</td>\n",
       "      <td>11.101317</td>\n",
       "    </tr>\n",
       "  </tbody>\n",
       "</table>\n",
       "</div>"
      ],
      "text/plain": [
       "   count                     timings                   Datetime  \\\n",
       "1      2  2020-07-01 22:18:49.157322 2020-07-01 22:18:49.157322   \n",
       "2      3  2020-07-01 22:18:55.197844 2020-07-01 22:18:55.197844   \n",
       "3      4  2020-07-01 22:19:06.378970 2020-07-01 22:19:06.378970   \n",
       "4      5  2020-07-01 22:19:12.418819 2020-07-01 22:19:12.418819   \n",
       "5      6  2020-07-01 22:19:23.520136 2020-07-01 22:19:23.520136   \n",
       "\n",
       "           deltaT  dT(seconds)  \n",
       "1             NaT          NaN  \n",
       "2 00:00:06.040522     6.040522  \n",
       "3 00:00:11.181126    11.181126  \n",
       "4 00:00:06.039849     6.039849  \n",
       "5 00:00:11.101317    11.101317  "
      ]
     },
     "execution_count": 62,
     "metadata": {},
     "output_type": "execute_result"
    }
   ],
   "source": [
    "ffx2_cleaned.head()"
   ]
  },
  {
   "cell_type": "code",
   "execution_count": 63,
   "metadata": {},
   "outputs": [
    {
     "data": {
      "text/html": [
       "<div>\n",
       "<style scoped>\n",
       "    .dataframe tbody tr th:only-of-type {\n",
       "        vertical-align: middle;\n",
       "    }\n",
       "\n",
       "    .dataframe tbody tr th {\n",
       "        vertical-align: top;\n",
       "    }\n",
       "\n",
       "    .dataframe thead th {\n",
       "        text-align: right;\n",
       "    }\n",
       "</style>\n",
       "<table border=\"1\" class=\"dataframe\">\n",
       "  <thead>\n",
       "    <tr style=\"text-align: right;\">\n",
       "      <th></th>\n",
       "      <th>count</th>\n",
       "      <th>deltaT</th>\n",
       "      <th>dT(seconds)</th>\n",
       "    </tr>\n",
       "  </thead>\n",
       "  <tbody>\n",
       "    <tr>\n",
       "      <th>count</th>\n",
       "      <td>1118.000000</td>\n",
       "      <td>1117</td>\n",
       "      <td>1117.000000</td>\n",
       "    </tr>\n",
       "    <tr>\n",
       "      <th>mean</th>\n",
       "      <td>559.500000</td>\n",
       "      <td>0 days 00:00:08.591925</td>\n",
       "      <td>8.591926</td>\n",
       "    </tr>\n",
       "    <tr>\n",
       "      <th>std</th>\n",
       "      <td>322.883106</td>\n",
       "      <td>0 days 00:00:02.587277</td>\n",
       "      <td>2.587278</td>\n",
       "    </tr>\n",
       "    <tr>\n",
       "      <th>min</th>\n",
       "      <td>1.000000</td>\n",
       "      <td>0 days 00:00:05.909511</td>\n",
       "      <td>5.909511</td>\n",
       "    </tr>\n",
       "    <tr>\n",
       "      <th>25%</th>\n",
       "      <td>280.250000</td>\n",
       "      <td>0 days 00:00:06.004127</td>\n",
       "      <td>6.004127</td>\n",
       "    </tr>\n",
       "    <tr>\n",
       "      <th>50%</th>\n",
       "      <td>559.500000</td>\n",
       "      <td>0 days 00:00:06.112921</td>\n",
       "      <td>6.112921</td>\n",
       "    </tr>\n",
       "    <tr>\n",
       "      <th>75%</th>\n",
       "      <td>838.750000</td>\n",
       "      <td>0 days 00:00:11.173472</td>\n",
       "      <td>11.173472</td>\n",
       "    </tr>\n",
       "    <tr>\n",
       "      <th>max</th>\n",
       "      <td>1118.000000</td>\n",
       "      <td>0 days 00:00:11.320335</td>\n",
       "      <td>11.320335</td>\n",
       "    </tr>\n",
       "  </tbody>\n",
       "</table>\n",
       "</div>"
      ],
      "text/plain": [
       "             count                  deltaT  dT(seconds)\n",
       "count  1118.000000                    1117  1117.000000\n",
       "mean    559.500000  0 days 00:00:08.591925     8.591926\n",
       "std     322.883106  0 days 00:00:02.587277     2.587278\n",
       "min       1.000000  0 days 00:00:05.909511     5.909511\n",
       "25%     280.250000  0 days 00:00:06.004127     6.004127\n",
       "50%     559.500000  0 days 00:00:06.112921     6.112921\n",
       "75%     838.750000  0 days 00:00:11.173472    11.173472\n",
       "max    1118.000000  0 days 00:00:11.320335    11.320335"
      ]
     },
     "execution_count": 63,
     "metadata": {},
     "output_type": "execute_result"
    },
    {
     "data": {
      "text/html": [
       "<div>\n",
       "<style scoped>\n",
       "    .dataframe tbody tr th:only-of-type {\n",
       "        vertical-align: middle;\n",
       "    }\n",
       "\n",
       "    .dataframe tbody tr th {\n",
       "        vertical-align: top;\n",
       "    }\n",
       "\n",
       "    .dataframe thead th {\n",
       "        text-align: right;\n",
       "    }\n",
       "</style>\n",
       "<table border=\"1\" class=\"dataframe\">\n",
       "  <thead>\n",
       "    <tr style=\"text-align: right;\">\n",
       "      <th></th>\n",
       "      <th>count</th>\n",
       "      <th>deltaT</th>\n",
       "      <th>dT(seconds)</th>\n",
       "    </tr>\n",
       "  </thead>\n",
       "  <tbody>\n",
       "    <tr>\n",
       "      <th>count</th>\n",
       "      <td>1858.000000</td>\n",
       "      <td>1857</td>\n",
       "      <td>1857.000000</td>\n",
       "    </tr>\n",
       "    <tr>\n",
       "      <th>mean</th>\n",
       "      <td>930.500000</td>\n",
       "      <td>0 days 00:00:08.580934</td>\n",
       "      <td>8.580934</td>\n",
       "    </tr>\n",
       "    <tr>\n",
       "      <th>std</th>\n",
       "      <td>536.502718</td>\n",
       "      <td>0 days 00:00:02.589416</td>\n",
       "      <td>2.589416</td>\n",
       "    </tr>\n",
       "    <tr>\n",
       "      <th>min</th>\n",
       "      <td>2.000000</td>\n",
       "      <td>0 days 00:00:00.564302</td>\n",
       "      <td>0.564302</td>\n",
       "    </tr>\n",
       "    <tr>\n",
       "      <th>25%</th>\n",
       "      <td>466.250000</td>\n",
       "      <td>0 days 00:00:06.006229</td>\n",
       "      <td>6.006229</td>\n",
       "    </tr>\n",
       "    <tr>\n",
       "      <th>50%</th>\n",
       "      <td>930.500000</td>\n",
       "      <td>0 days 00:00:06.110464</td>\n",
       "      <td>6.110464</td>\n",
       "    </tr>\n",
       "    <tr>\n",
       "      <th>75%</th>\n",
       "      <td>1394.750000</td>\n",
       "      <td>0 days 00:00:11.169323</td>\n",
       "      <td>11.169323</td>\n",
       "    </tr>\n",
       "    <tr>\n",
       "      <th>max</th>\n",
       "      <td>1859.000000</td>\n",
       "      <td>0 days 00:00:11.352328</td>\n",
       "      <td>11.352328</td>\n",
       "    </tr>\n",
       "  </tbody>\n",
       "</table>\n",
       "</div>"
      ],
      "text/plain": [
       "             count                  deltaT  dT(seconds)\n",
       "count  1858.000000                    1857  1857.000000\n",
       "mean    930.500000  0 days 00:00:08.580934     8.580934\n",
       "std     536.502718  0 days 00:00:02.589416     2.589416\n",
       "min       2.000000  0 days 00:00:00.564302     0.564302\n",
       "25%     466.250000  0 days 00:00:06.006229     6.006229\n",
       "50%     930.500000  0 days 00:00:06.110464     6.110464\n",
       "75%    1394.750000  0 days 00:00:11.169323    11.169323\n",
       "max    1859.000000  0 days 00:00:11.352328    11.352328"
      ]
     },
     "execution_count": 63,
     "metadata": {},
     "output_type": "execute_result"
    }
   ],
   "source": [
    "ffx_cleaned.describe()\n",
    "ffx2_cleaned.describe()"
   ]
  },
  {
   "cell_type": "markdown",
   "metadata": {},
   "source": [
    "So apparantly, there are two datapoints in the second dataset that are well below the lower mode?!?!?"
   ]
  },
  {
   "cell_type": "code",
   "execution_count": 64,
   "metadata": {},
   "outputs": [
    {
     "data": {
      "text/plain": [
       "<matplotlib.axes._subplots.AxesSubplot at 0x12416f35f88>"
      ]
     },
     "execution_count": 64,
     "metadata": {},
     "output_type": "execute_result"
    },
    {
     "data": {
      "text/plain": [
       "<matplotlib.axes._subplots.AxesSubplot at 0x12416f9c148>"
      ]
     },
     "execution_count": 64,
     "metadata": {},
     "output_type": "execute_result"
    },
    {
     "data": {
      "image/png": "[encoded data removed]",
      "text/plain": [
       "<Figure size 1080x216 with 2 Axes>"
      ]
     },
     "metadata": {},
     "output_type": "display_data"
    }
   ],
   "source": [
    "fig3, axes3 = plt.subplots(nrows=1, ncols=2, figsize=(15,3))\n",
    "# axes3[0].set_ylim([0,0.00001])\n",
    "# axes3[1].set_ylim([0,0.00001])\n",
    "\n",
    "sns.rugplot(ffx_cleaned[\"dT(seconds)\"], ax=axes3[0], height = 0.5)\n",
    "sns.rugplot(ffx2_cleaned[\"dT(seconds)\"], ax=axes3[1], height = 0.5)\n",
    "\n",
    "# ffx_cleaned[\"dT(seconds)\"].iplot(kind=ru)"
   ]
  },
  {
   "cell_type": "markdown",
   "metadata": {},
   "source": [
    "We see there are some clear outliers from the modes in the second dataset. I guess we'll try removing these to clean the data more...\n",
    "\n",
    "REASONING FOR REMOVING OUTLIERS (can I attribute them to a separate process?):\n",
    "    -maybe the webcam messed up? (not likely...)\n",
    "    -maybe there was fog at the same time as the lightning? (is likely, but would have seen more outliers then...)\n",
    "    -maybe a ps4 notification popped up in the top left corner of the screen (update)? (can I check this somehow?)\n",
    "    -looking at the first data set, we know that the \"good data\" should be clustered around ~6s and ~11s\n",
    "    -hence, these outlier data points are truly bad data, so we are okay to discard them...?"
   ]
  },
  {
   "cell_type": "code",
   "execution_count": 65,
   "metadata": {},
   "outputs": [
    {
     "data": {
      "text/html": [
       "<div>\n",
       "<style scoped>\n",
       "    .dataframe tbody tr th:only-of-type {\n",
       "        vertical-align: middle;\n",
       "    }\n",
       "\n",
       "    .dataframe tbody tr th {\n",
       "        vertical-align: top;\n",
       "    }\n",
       "\n",
       "    .dataframe thead th {\n",
       "        text-align: right;\n",
       "    }\n",
       "</style>\n",
       "<table border=\"1\" class=\"dataframe\">\n",
       "  <thead>\n",
       "    <tr style=\"text-align: right;\">\n",
       "      <th></th>\n",
       "      <th>count</th>\n",
       "      <th>timings</th>\n",
       "      <th>Datetime</th>\n",
       "      <th>deltaT</th>\n",
       "      <th>dT(seconds)</th>\n",
       "    </tr>\n",
       "  </thead>\n",
       "  <tbody>\n",
       "    <tr>\n",
       "      <th>901</th>\n",
       "      <td>902</td>\n",
       "      <td>2020-07-02 00:27:40.449227</td>\n",
       "      <td>2020-07-02 00:27:40.449227</td>\n",
       "      <td>00:00:10.618900</td>\n",
       "      <td>10.618900</td>\n",
       "    </tr>\n",
       "    <tr>\n",
       "      <th>902</th>\n",
       "      <td>903</td>\n",
       "      <td>2020-07-02 00:27:41.013529</td>\n",
       "      <td>2020-07-02 00:27:41.013529</td>\n",
       "      <td>00:00:00.564302</td>\n",
       "      <td>0.564302</td>\n",
       "    </tr>\n",
       "    <tr>\n",
       "      <th>903</th>\n",
       "      <td>904</td>\n",
       "      <td>2020-07-02 00:27:47.496821</td>\n",
       "      <td>2020-07-02 00:27:47.496821</td>\n",
       "      <td>00:00:06.483292</td>\n",
       "      <td>6.483292</td>\n",
       "    </tr>\n",
       "    <tr>\n",
       "      <th>978</th>\n",
       "      <td>979</td>\n",
       "      <td>2020-07-02 00:38:32.049087</td>\n",
       "      <td>2020-07-02 00:38:32.049087</td>\n",
       "      <td>00:00:08.622982</td>\n",
       "      <td>8.622982</td>\n",
       "    </tr>\n",
       "    <tr>\n",
       "      <th>979</th>\n",
       "      <td>980</td>\n",
       "      <td>2020-07-02 00:38:34.521496</td>\n",
       "      <td>2020-07-02 00:38:34.521496</td>\n",
       "      <td>00:00:02.472409</td>\n",
       "      <td>2.472409</td>\n",
       "    </tr>\n",
       "  </tbody>\n",
       "</table>\n",
       "</div>"
      ],
      "text/plain": [
       "     count                     timings                   Datetime  \\\n",
       "901    902  2020-07-02 00:27:40.449227 2020-07-02 00:27:40.449227   \n",
       "902    903  2020-07-02 00:27:41.013529 2020-07-02 00:27:41.013529   \n",
       "903    904  2020-07-02 00:27:47.496821 2020-07-02 00:27:47.496821   \n",
       "978    979  2020-07-02 00:38:32.049087 2020-07-02 00:38:32.049087   \n",
       "979    980  2020-07-02 00:38:34.521496 2020-07-02 00:38:34.521496   \n",
       "\n",
       "             deltaT  dT(seconds)  \n",
       "901 00:00:10.618900    10.618900  \n",
       "902 00:00:00.564302     0.564302  \n",
       "903 00:00:06.483292     6.483292  \n",
       "978 00:00:08.622982     8.622982  \n",
       "979 00:00:02.472409     2.472409  "
      ]
     },
     "execution_count": 65,
     "metadata": {},
     "output_type": "execute_result"
    }
   ],
   "source": [
    "boom = ffx2_cleaned[((ffx2_cleaned[\"dT(seconds)\"]>6.2)  & (ffx2_cleaned[\"dT(seconds)\"]<11)) | (ffx2_cleaned[\"dT(seconds)\"] < 4)]\n",
    "boom\n",
    "# boom.sort_values(\"count\", axis=1)"
   ]
  },
  {
   "cell_type": "code",
   "execution_count": 66,
   "metadata": {},
   "outputs": [
    {
     "data": {
      "text/plain": [
       "(1858, 5)"
      ]
     },
     "execution_count": 66,
     "metadata": {},
     "output_type": "execute_result"
    },
    {
     "data": {
      "text/plain": [
       "(1853, 5)"
      ]
     },
     "execution_count": 66,
     "metadata": {},
     "output_type": "execute_result"
    }
   ],
   "source": [
    "ffx2_cleaned.shape\n",
    "ffx2_cleaned.drop(labels=[902,979,903,978,901], axis=0, inplace=True)\n",
    "ffx2_cleaned.shape"
   ]
  },
  {
   "cell_type": "code",
   "execution_count": 67,
   "metadata": {},
   "outputs": [
    {
     "data": {
      "text/html": [
       "<div>\n",
       "<style scoped>\n",
       "    .dataframe tbody tr th:only-of-type {\n",
       "        vertical-align: middle;\n",
       "    }\n",
       "\n",
       "    .dataframe tbody tr th {\n",
       "        vertical-align: top;\n",
       "    }\n",
       "\n",
       "    .dataframe thead th {\n",
       "        text-align: right;\n",
       "    }\n",
       "</style>\n",
       "<table border=\"1\" class=\"dataframe\">\n",
       "  <thead>\n",
       "    <tr style=\"text-align: right;\">\n",
       "      <th></th>\n",
       "      <th>count</th>\n",
       "      <th>timings</th>\n",
       "      <th>Datetime</th>\n",
       "      <th>deltaT</th>\n",
       "      <th>dT(seconds)</th>\n",
       "    </tr>\n",
       "  </thead>\n",
       "  <tbody>\n",
       "    <tr>\n",
       "      <th>1</th>\n",
       "      <td>2</td>\n",
       "      <td>2020-07-01 22:18:49.157322</td>\n",
       "      <td>2020-07-01 22:18:49.157322</td>\n",
       "      <td>NaT</td>\n",
       "      <td>NaN</td>\n",
       "    </tr>\n",
       "    <tr>\n",
       "      <th>2</th>\n",
       "      <td>3</td>\n",
       "      <td>2020-07-01 22:18:55.197844</td>\n",
       "      <td>2020-07-01 22:18:55.197844</td>\n",
       "      <td>00:00:06.040522</td>\n",
       "      <td>6.040522</td>\n",
       "    </tr>\n",
       "    <tr>\n",
       "      <th>3</th>\n",
       "      <td>4</td>\n",
       "      <td>2020-07-01 22:19:06.378970</td>\n",
       "      <td>2020-07-01 22:19:06.378970</td>\n",
       "      <td>00:00:11.181126</td>\n",
       "      <td>11.181126</td>\n",
       "    </tr>\n",
       "    <tr>\n",
       "      <th>4</th>\n",
       "      <td>5</td>\n",
       "      <td>2020-07-01 22:19:12.418819</td>\n",
       "      <td>2020-07-01 22:19:12.418819</td>\n",
       "      <td>00:00:06.039849</td>\n",
       "      <td>6.039849</td>\n",
       "    </tr>\n",
       "    <tr>\n",
       "      <th>5</th>\n",
       "      <td>6</td>\n",
       "      <td>2020-07-01 22:19:23.520136</td>\n",
       "      <td>2020-07-01 22:19:23.520136</td>\n",
       "      <td>00:00:11.101317</td>\n",
       "      <td>11.101317</td>\n",
       "    </tr>\n",
       "    <tr>\n",
       "      <th>...</th>\n",
       "      <td>...</td>\n",
       "      <td>...</td>\n",
       "      <td>...</td>\n",
       "      <td>...</td>\n",
       "      <td>...</td>\n",
       "    </tr>\n",
       "    <tr>\n",
       "      <th>1854</th>\n",
       "      <td>1855</td>\n",
       "      <td>2020-07-02 02:43:49.553087</td>\n",
       "      <td>2020-07-02 02:43:49.553087</td>\n",
       "      <td>00:00:06.050874</td>\n",
       "      <td>6.050874</td>\n",
       "    </tr>\n",
       "    <tr>\n",
       "      <th>1855</th>\n",
       "      <td>1856</td>\n",
       "      <td>2020-07-02 02:44:00.693588</td>\n",
       "      <td>2020-07-02 02:44:00.693588</td>\n",
       "      <td>00:00:11.140501</td>\n",
       "      <td>11.140501</td>\n",
       "    </tr>\n",
       "    <tr>\n",
       "      <th>1856</th>\n",
       "      <td>1857</td>\n",
       "      <td>2020-07-02 02:44:06.734364</td>\n",
       "      <td>2020-07-02 02:44:06.734364</td>\n",
       "      <td>00:00:06.040776</td>\n",
       "      <td>6.040776</td>\n",
       "    </tr>\n",
       "    <tr>\n",
       "      <th>1857</th>\n",
       "      <td>1858</td>\n",
       "      <td>2020-07-02 02:44:17.871546</td>\n",
       "      <td>2020-07-02 02:44:17.871546</td>\n",
       "      <td>00:00:11.137182</td>\n",
       "      <td>11.137182</td>\n",
       "    </tr>\n",
       "    <tr>\n",
       "      <th>1858</th>\n",
       "      <td>1859</td>\n",
       "      <td>2020-07-02 02:44:23.952632</td>\n",
       "      <td>2020-07-02 02:44:23.952632</td>\n",
       "      <td>00:00:06.081086</td>\n",
       "      <td>6.081086</td>\n",
       "    </tr>\n",
       "  </tbody>\n",
       "</table>\n",
       "<p>1853 rows × 5 columns</p>\n",
       "</div>"
      ],
      "text/plain": [
       "      count                     timings                   Datetime  \\\n",
       "1         2  2020-07-01 22:18:49.157322 2020-07-01 22:18:49.157322   \n",
       "2         3  2020-07-01 22:18:55.197844 2020-07-01 22:18:55.197844   \n",
       "3         4  2020-07-01 22:19:06.378970 2020-07-01 22:19:06.378970   \n",
       "4         5  2020-07-01 22:19:12.418819 2020-07-01 22:19:12.418819   \n",
       "5         6  2020-07-01 22:19:23.520136 2020-07-01 22:19:23.520136   \n",
       "...     ...                         ...                        ...   \n",
       "1854   1855  2020-07-02 02:43:49.553087 2020-07-02 02:43:49.553087   \n",
       "1855   1856  2020-07-02 02:44:00.693588 2020-07-02 02:44:00.693588   \n",
       "1856   1857  2020-07-02 02:44:06.734364 2020-07-02 02:44:06.734364   \n",
       "1857   1858  2020-07-02 02:44:17.871546 2020-07-02 02:44:17.871546   \n",
       "1858   1859  2020-07-02 02:44:23.952632 2020-07-02 02:44:23.952632   \n",
       "\n",
       "              deltaT  dT(seconds)  \n",
       "1                NaT          NaN  \n",
       "2    00:00:06.040522     6.040522  \n",
       "3    00:00:11.181126    11.181126  \n",
       "4    00:00:06.039849     6.039849  \n",
       "5    00:00:11.101317    11.101317  \n",
       "...              ...          ...  \n",
       "1854 00:00:06.050874     6.050874  \n",
       "1855 00:00:11.140501    11.140501  \n",
       "1856 00:00:06.040776     6.040776  \n",
       "1857 00:00:11.137182    11.137182  \n",
       "1858 00:00:06.081086     6.081086  \n",
       "\n",
       "[1853 rows x 5 columns]"
      ]
     },
     "execution_count": 67,
     "metadata": {},
     "output_type": "execute_result"
    }
   ],
   "source": [
    "ffx2_cleaned"
   ]
  },
  {
   "cell_type": "code",
   "execution_count": 68,
   "metadata": {},
   "outputs": [
    {
     "data": {
      "text/plain": [
       "<matplotlib.axes._subplots.AxesSubplot at 0x12418dfcb08>"
      ]
     },
     "execution_count": 68,
     "metadata": {},
     "output_type": "execute_result"
    },
    {
     "data": {
      "text/plain": [
       "<matplotlib.axes._subplots.AxesSubplot at 0x12418e21c08>"
      ]
     },
     "execution_count": 68,
     "metadata": {},
     "output_type": "execute_result"
    },
    {
     "data": {
      "image/png": "[encoded data removed]",
      "text/plain": [
       "<Figure size 1080x216 with 2 Axes>"
      ]
     },
     "metadata": {},
     "output_type": "display_data"
    }
   ],
   "source": [
    "fig3, axes3 = plt.subplots(nrows=1, ncols=2, figsize=(15,3))\n",
    "\n",
    "sns.rugplot(ffx_cleaned[\"dT(seconds)\"], ax=axes3[0], height = 0.5)\n",
    "sns.rugplot(ffx2_cleaned[\"dT(seconds)\"], ax=axes3[1], height = 0.5)"
   ]
  },
  {
   "cell_type": "code",
   "execution_count": null,
   "metadata": {},
   "outputs": [],
   "source": []
  },
  {
   "cell_type": "markdown",
   "metadata": {},
   "source": [
    "Here's a really basic scatter plot"
   ]
  },
  {
   "cell_type": "code",
   "execution_count": 151,
   "metadata": {},
   "outputs": [
    {
     "data": {
      "text/plain": [
       "<matplotlib.axes._subplots.AxesSubplot at 0x12422326848>"
      ]
     },
     "execution_count": 151,
     "metadata": {},
     "output_type": "execute_result"
    },
    {
     "data": {
      "text/plain": [
       "<matplotlib.axes._subplots.AxesSubplot at 0x1242196e348>"
      ]
     },
     "execution_count": 151,
     "metadata": {},
     "output_type": "execute_result"
    },
    {
     "data": {
      "image/png": "[encoded data removed]",
      "text/plain": [
       "<Figure size 432x288 with 1 Axes>"
      ]
     },
     "metadata": {},
     "output_type": "display_data"
    },
    {
     "data": {
      "image/png": "[encoded data removed]",
      "text/plain": [
       "<Figure size 432x288 with 1 Axes>"
      ]
     },
     "metadata": {},
     "output_type": "display_data"
    }
   ],
   "source": [
    "ffx_cleaned.plot.scatter(x=\"count\", y=\"dT(seconds)\", c=\"red\")\n",
    "ffx2_cleaned.plot.scatter(x=\"count\", y=\"dT(seconds)\", c=\"blue\")"
   ]
  },
  {
   "cell_type": "markdown",
   "metadata": {},
   "source": [
    "We can isolate the higher and lower values in their own scatter plots:"
   ]
  },
  {
   "cell_type": "code",
   "execution_count": 167,
   "metadata": {},
   "outputs": [
    {
     "data": {
      "text/plain": [
       "<matplotlib.axes._subplots.AxesSubplot at 0x12424ecc288>"
      ]
     },
     "execution_count": 167,
     "metadata": {},
     "output_type": "execute_result"
    },
    {
     "data": {
      "text/plain": [
       "<matplotlib.axes._subplots.AxesSubplot at 0x12424f3d308>"
      ]
     },
     "execution_count": 167,
     "metadata": {},
     "output_type": "execute_result"
    },
    {
     "data": {
      "text/plain": [
       "<matplotlib.axes._subplots.AxesSubplot at 0x12424f6b7c8>"
      ]
     },
     "execution_count": 167,
     "metadata": {},
     "output_type": "execute_result"
    },
    {
     "data": {
      "text/plain": [
       "<matplotlib.axes._subplots.AxesSubplot at 0x12424fa3e08>"
      ]
     },
     "execution_count": 167,
     "metadata": {},
     "output_type": "execute_result"
    },
    {
     "data": {
      "image/png": "[encoded data removed]",
      "text/plain": [
       "<Figure size 864x864 with 4 Axes>"
      ]
     },
     "metadata": {},
     "output_type": "display_data"
    }
   ],
   "source": [
    "fig4, axes4 = plt.subplots(nrows=2, ncols=2, figsize=(12,12))\n",
    "\n",
    "condition1S = ffx_cleaned['dT(seconds)']<8\n",
    "condition1L = ffx_cleaned['dT(seconds)']>8\n",
    "condition2S = ffx2_cleaned['dT(seconds)']<8\n",
    "condition2L = ffx2_cleaned['dT(seconds)']>8\n",
    "\n",
    "ffx_cleaned[condition1S].plot.scatter(x=\"count\" , y=\"dT(seconds)\" , c=[(1,0,0,0.3)], ax=axes4[0,0])\n",
    "ffx_cleaned[condition1L].plot.scatter(x=\"count\" , y=\"dT(seconds)\" , c=[(1,0,0,0.9)], ax=axes4[0,1])\n",
    "ffx2_cleaned[condition2S].plot.scatter(x=\"count\" , y=\"dT(seconds)\" , c=[(0,0,1,0.3)], ax=axes4[1,0])\n",
    "ffx2_cleaned[condition2L].plot.scatter(x=\"count\" , y=\"dT(seconds)\" , c=[(0,0,1,0.9)], ax=axes4[1,1])\n"
   ]
  },
  {
   "cell_type": "code",
   "execution_count": null,
   "metadata": {},
   "outputs": [],
   "source": []
  },
  {
   "cell_type": "code",
   "execution_count": null,
   "metadata": {},
   "outputs": [],
   "source": []
  },
  {
   "cell_type": "markdown",
   "metadata": {},
   "source": [
    "We'll start with looking at a basic statistical histogram"
   ]
  },
  {
   "cell_type": "code",
   "execution_count": 69,
   "metadata": {},
   "outputs": [
    {
     "data": {
      "text/plain": [
       "<matplotlib.axes._subplots.AxesSubplot at 0x12419041ec8>"
      ]
     },
     "execution_count": 69,
     "metadata": {},
     "output_type": "execute_result"
    },
    {
     "data": {
      "text/plain": [
       "<matplotlib.axes._subplots.AxesSubplot at 0x1241906d908>"
      ]
     },
     "execution_count": 69,
     "metadata": {},
     "output_type": "execute_result"
    },
    {
     "data": {
      "text/plain": [
       "Text(0.5, 1.0, 'first dataset')"
      ]
     },
     "execution_count": 69,
     "metadata": {},
     "output_type": "execute_result"
    },
    {
     "data": {
      "text/plain": [
       "Text(0.5, 1.0, 'second dataset')"
      ]
     },
     "execution_count": 69,
     "metadata": {},
     "output_type": "execute_result"
    },
    {
     "data": {
      "image/png": "[encoded data removed]",
      "text/plain": [
       "<Figure size 432x288 with 2 Axes>"
      ]
     },
     "metadata": {},
     "output_type": "display_data"
    }
   ],
   "source": [
    "fig, axes = plt.subplots(nrows=1, ncols=2)\n",
    "\n",
    "sns.distplot(ffx_cleaned[\"dT(seconds)\"], ax=axes[0])\n",
    "sns.distplot(ffx2_cleaned[\"dT(seconds)\"], ax=axes[1])\n",
    "\n",
    "axes[0].set_title(\"first dataset\")\n",
    "axes[1].set_title(\"second dataset\")"
   ]
  },
  {
   "cell_type": "markdown",
   "metadata": {},
   "source": [
    "We can see some very obvious patterns here, namely that the data exhibits a bi-modal distribution! Let's isolate the data around each mode.\n",
    "\n",
    "We start by extracting the modal data into a seperate dataframe, to make it easier to work with."
   ]
  },
  {
   "cell_type": "code",
   "execution_count": 70,
   "metadata": {},
   "outputs": [
    {
     "data": {
      "text/html": [
       "<style  type=\"text/css\" >\n",
       "</style><table id=\"T_130feb14_ca17_11ea_8b8e_544810e66ae0\" style='display:inline'><caption>Dataset 1</caption><thead>    <tr>        <th class=\"blank level0\" ></th>        <th class=\"col_heading level0 col0\" >count</th>        <th class=\"col_heading level0 col1\" >dT(seconds)</th>    </tr></thead><tbody>\n",
       "                <tr>\n",
       "                        <th id=\"T_130feb14_ca17_11ea_8b8e_544810e66ae0level0_row0\" class=\"row_heading level0 row0\" >0</th>\n",
       "                        <td id=\"T_130feb14_ca17_11ea_8b8e_544810e66ae0row0_col0\" class=\"data row0 col0\" >1</td>\n",
       "                        <td id=\"T_130feb14_ca17_11ea_8b8e_544810e66ae0row0_col1\" class=\"data row0 col1\" >nan</td>\n",
       "            </tr>\n",
       "            <tr>\n",
       "                        <th id=\"T_130feb14_ca17_11ea_8b8e_544810e66ae0level0_row1\" class=\"row_heading level0 row1\" >1</th>\n",
       "                        <td id=\"T_130feb14_ca17_11ea_8b8e_544810e66ae0row1_col0\" class=\"data row1 col0\" >2</td>\n",
       "                        <td id=\"T_130feb14_ca17_11ea_8b8e_544810e66ae0row1_col1\" class=\"data row1 col1\" >6.004774</td>\n",
       "            </tr>\n",
       "            <tr>\n",
       "                        <th id=\"T_130feb14_ca17_11ea_8b8e_544810e66ae0level0_row2\" class=\"row_heading level0 row2\" >2</th>\n",
       "                        <td id=\"T_130feb14_ca17_11ea_8b8e_544810e66ae0row2_col0\" class=\"data row2 col0\" >3</td>\n",
       "                        <td id=\"T_130feb14_ca17_11ea_8b8e_544810e66ae0row2_col1\" class=\"data row2 col1\" >11.123151</td>\n",
       "            </tr>\n",
       "            <tr>\n",
       "                        <th id=\"T_130feb14_ca17_11ea_8b8e_544810e66ae0level0_row3\" class=\"row_heading level0 row3\" >3</th>\n",
       "                        <td id=\"T_130feb14_ca17_11ea_8b8e_544810e66ae0row3_col0\" class=\"data row3 col0\" >4</td>\n",
       "                        <td id=\"T_130feb14_ca17_11ea_8b8e_544810e66ae0row3_col1\" class=\"data row3 col1\" >5.974197</td>\n",
       "            </tr>\n",
       "            <tr>\n",
       "                        <th id=\"T_130feb14_ca17_11ea_8b8e_544810e66ae0level0_row4\" class=\"row_heading level0 row4\" >4</th>\n",
       "                        <td id=\"T_130feb14_ca17_11ea_8b8e_544810e66ae0row4_col0\" class=\"data row4 col0\" >5</td>\n",
       "                        <td id=\"T_130feb14_ca17_11ea_8b8e_544810e66ae0row4_col1\" class=\"data row4 col1\" >11.248352</td>\n",
       "            </tr>\n",
       "    </tbody></table> .....  <style  type=\"text/css\" >\n",
       "</style><table id=\"T_13100c80_ca17_11ea_b228_544810e66ae0\" style='display:inline'><caption>Dataset 2</caption><thead>    <tr>        <th class=\"blank level0\" ></th>        <th class=\"col_heading level0 col0\" >count</th>        <th class=\"col_heading level0 col1\" >dT(seconds)</th>    </tr></thead><tbody>\n",
       "                <tr>\n",
       "                        <th id=\"T_13100c80_ca17_11ea_b228_544810e66ae0level0_row0\" class=\"row_heading level0 row0\" >1</th>\n",
       "                        <td id=\"T_13100c80_ca17_11ea_b228_544810e66ae0row0_col0\" class=\"data row0 col0\" >2</td>\n",
       "                        <td id=\"T_13100c80_ca17_11ea_b228_544810e66ae0row0_col1\" class=\"data row0 col1\" >nan</td>\n",
       "            </tr>\n",
       "            <tr>\n",
       "                        <th id=\"T_13100c80_ca17_11ea_b228_544810e66ae0level0_row1\" class=\"row_heading level0 row1\" >2</th>\n",
       "                        <td id=\"T_13100c80_ca17_11ea_b228_544810e66ae0row1_col0\" class=\"data row1 col0\" >3</td>\n",
       "                        <td id=\"T_13100c80_ca17_11ea_b228_544810e66ae0row1_col1\" class=\"data row1 col1\" >6.040522</td>\n",
       "            </tr>\n",
       "            <tr>\n",
       "                        <th id=\"T_13100c80_ca17_11ea_b228_544810e66ae0level0_row2\" class=\"row_heading level0 row2\" >3</th>\n",
       "                        <td id=\"T_13100c80_ca17_11ea_b228_544810e66ae0row2_col0\" class=\"data row2 col0\" >4</td>\n",
       "                        <td id=\"T_13100c80_ca17_11ea_b228_544810e66ae0row2_col1\" class=\"data row2 col1\" >11.181126</td>\n",
       "            </tr>\n",
       "            <tr>\n",
       "                        <th id=\"T_13100c80_ca17_11ea_b228_544810e66ae0level0_row3\" class=\"row_heading level0 row3\" >4</th>\n",
       "                        <td id=\"T_13100c80_ca17_11ea_b228_544810e66ae0row3_col0\" class=\"data row3 col0\" >5</td>\n",
       "                        <td id=\"T_13100c80_ca17_11ea_b228_544810e66ae0row3_col1\" class=\"data row3 col1\" >6.039849</td>\n",
       "            </tr>\n",
       "            <tr>\n",
       "                        <th id=\"T_13100c80_ca17_11ea_b228_544810e66ae0level0_row4\" class=\"row_heading level0 row4\" >5</th>\n",
       "                        <td id=\"T_13100c80_ca17_11ea_b228_544810e66ae0row4_col0\" class=\"data row4 col0\" >6</td>\n",
       "                        <td id=\"T_13100c80_ca17_11ea_b228_544810e66ae0row4_col1\" class=\"data row4 col1\" >11.101317</td>\n",
       "            </tr>\n",
       "    </tbody></table>"
      ]
     },
     "metadata": {},
     "output_type": "display_data"
    }
   ],
   "source": [
    "data1 = ffx_cleaned[[\"count\", \"dT(seconds)\"]]\n",
    "data2 = ffx2_cleaned[[\"count\", \"dT(seconds)\"]]\n",
    "\n",
    "df1_styler = data1.head().style.set_table_attributes(\"style='display:inline'\").set_caption('Dataset 1')\n",
    "df2_styler = data2.head().style.set_table_attributes(\"style='display:inline'\").set_caption('Dataset 2')\n",
    "\n",
    "display_html(df1_styler._repr_html_()+\" .....  \"+df2_styler._repr_html_(), raw=True)"
   ]
  },
  {
   "cell_type": "code",
   "execution_count": 71,
   "metadata": {},
   "outputs": [
    {
     "data": {
      "text/html": [
       "<style  type=\"text/css\" >\n",
       "</style><table id=\"T_13136542_ca17_11ea_94d9_544810e66ae0\" style='display:inline'><caption>Data1 small</caption><thead>    <tr>        <th class=\"blank level0\" ></th>        <th class=\"col_heading level0 col0\" >count</th>        <th class=\"col_heading level0 col1\" >dT(seconds)</th>    </tr></thead><tbody>\n",
       "                <tr>\n",
       "                        <th id=\"T_13136542_ca17_11ea_94d9_544810e66ae0level0_row0\" class=\"row_heading level0 row0\" >1</th>\n",
       "                        <td id=\"T_13136542_ca17_11ea_94d9_544810e66ae0row0_col0\" class=\"data row0 col0\" >2</td>\n",
       "                        <td id=\"T_13136542_ca17_11ea_94d9_544810e66ae0row0_col1\" class=\"data row0 col1\" >6.004774</td>\n",
       "            </tr>\n",
       "            <tr>\n",
       "                        <th id=\"T_13136542_ca17_11ea_94d9_544810e66ae0level0_row1\" class=\"row_heading level0 row1\" >3</th>\n",
       "                        <td id=\"T_13136542_ca17_11ea_94d9_544810e66ae0row1_col0\" class=\"data row1 col0\" >4</td>\n",
       "                        <td id=\"T_13136542_ca17_11ea_94d9_544810e66ae0row1_col1\" class=\"data row1 col1\" >5.974197</td>\n",
       "            </tr>\n",
       "            <tr>\n",
       "                        <th id=\"T_13136542_ca17_11ea_94d9_544810e66ae0level0_row2\" class=\"row_heading level0 row2\" >5</th>\n",
       "                        <td id=\"T_13136542_ca17_11ea_94d9_544810e66ae0row2_col0\" class=\"data row2 col0\" >6</td>\n",
       "                        <td id=\"T_13136542_ca17_11ea_94d9_544810e66ae0row2_col1\" class=\"data row2 col1\" >5.966099</td>\n",
       "            </tr>\n",
       "            <tr>\n",
       "                        <th id=\"T_13136542_ca17_11ea_94d9_544810e66ae0level0_row3\" class=\"row_heading level0 row3\" >7</th>\n",
       "                        <td id=\"T_13136542_ca17_11ea_94d9_544810e66ae0row3_col0\" class=\"data row3 col0\" >8</td>\n",
       "                        <td id=\"T_13136542_ca17_11ea_94d9_544810e66ae0row3_col1\" class=\"data row3 col1\" >5.983968</td>\n",
       "            </tr>\n",
       "            <tr>\n",
       "                        <th id=\"T_13136542_ca17_11ea_94d9_544810e66ae0level0_row4\" class=\"row_heading level0 row4\" >9</th>\n",
       "                        <td id=\"T_13136542_ca17_11ea_94d9_544810e66ae0row4_col0\" class=\"data row4 col0\" >10</td>\n",
       "                        <td id=\"T_13136542_ca17_11ea_94d9_544810e66ae0row4_col1\" class=\"data row4 col1\" >6.059533</td>\n",
       "            </tr>\n",
       "    </tbody></table> <style  type=\"text/css\" >\n",
       "</style><table id=\"T_1313b324_ca17_11ea_b95f_544810e66ae0\" style='display:inline'><caption>Data1 large</caption><thead>    <tr>        <th class=\"blank level0\" ></th>        <th class=\"col_heading level0 col0\" >count</th>        <th class=\"col_heading level0 col1\" >dT(seconds)</th>    </tr></thead><tbody>\n",
       "                <tr>\n",
       "                        <th id=\"T_1313b324_ca17_11ea_b95f_544810e66ae0level0_row0\" class=\"row_heading level0 row0\" >2</th>\n",
       "                        <td id=\"T_1313b324_ca17_11ea_b95f_544810e66ae0row0_col0\" class=\"data row0 col0\" >3</td>\n",
       "                        <td id=\"T_1313b324_ca17_11ea_b95f_544810e66ae0row0_col1\" class=\"data row0 col1\" >11.123151</td>\n",
       "            </tr>\n",
       "            <tr>\n",
       "                        <th id=\"T_1313b324_ca17_11ea_b95f_544810e66ae0level0_row1\" class=\"row_heading level0 row1\" >4</th>\n",
       "                        <td id=\"T_1313b324_ca17_11ea_b95f_544810e66ae0row1_col0\" class=\"data row1 col0\" >5</td>\n",
       "                        <td id=\"T_1313b324_ca17_11ea_b95f_544810e66ae0row1_col1\" class=\"data row1 col1\" >11.248352</td>\n",
       "            </tr>\n",
       "            <tr>\n",
       "                        <th id=\"T_1313b324_ca17_11ea_b95f_544810e66ae0level0_row2\" class=\"row_heading level0 row2\" >6</th>\n",
       "                        <td id=\"T_1313b324_ca17_11ea_b95f_544810e66ae0row2_col0\" class=\"data row2 col0\" >7</td>\n",
       "                        <td id=\"T_1313b324_ca17_11ea_b95f_544810e66ae0row2_col1\" class=\"data row2 col1\" >11.216055</td>\n",
       "            </tr>\n",
       "            <tr>\n",
       "                        <th id=\"T_1313b324_ca17_11ea_b95f_544810e66ae0level0_row3\" class=\"row_heading level0 row3\" >8</th>\n",
       "                        <td id=\"T_1313b324_ca17_11ea_b95f_544810e66ae0row3_col0\" class=\"data row3 col0\" >9</td>\n",
       "                        <td id=\"T_1313b324_ca17_11ea_b95f_544810e66ae0row3_col1\" class=\"data row3 col1\" >11.190219</td>\n",
       "            </tr>\n",
       "            <tr>\n",
       "                        <th id=\"T_1313b324_ca17_11ea_b95f_544810e66ae0level0_row4\" class=\"row_heading level0 row4\" >10</th>\n",
       "                        <td id=\"T_1313b324_ca17_11ea_b95f_544810e66ae0row4_col0\" class=\"data row4 col0\" >11</td>\n",
       "                        <td id=\"T_1313b324_ca17_11ea_b95f_544810e66ae0row4_col1\" class=\"data row4 col1\" >11.205676</td>\n",
       "            </tr>\n",
       "    </tbody></table> <style  type=\"text/css\" >\n",
       "</style><table id=\"T_1313da18_ca17_11ea_8218_544810e66ae0\" style='display:inline'><caption>Data2 small</caption><thead>    <tr>        <th class=\"blank level0\" ></th>        <th class=\"col_heading level0 col0\" >count</th>        <th class=\"col_heading level0 col1\" >dT(seconds)</th>    </tr></thead><tbody>\n",
       "                <tr>\n",
       "                        <th id=\"T_1313da18_ca17_11ea_8218_544810e66ae0level0_row0\" class=\"row_heading level0 row0\" >2</th>\n",
       "                        <td id=\"T_1313da18_ca17_11ea_8218_544810e66ae0row0_col0\" class=\"data row0 col0\" >3</td>\n",
       "                        <td id=\"T_1313da18_ca17_11ea_8218_544810e66ae0row0_col1\" class=\"data row0 col1\" >6.040522</td>\n",
       "            </tr>\n",
       "            <tr>\n",
       "                        <th id=\"T_1313da18_ca17_11ea_8218_544810e66ae0level0_row1\" class=\"row_heading level0 row1\" >4</th>\n",
       "                        <td id=\"T_1313da18_ca17_11ea_8218_544810e66ae0row1_col0\" class=\"data row1 col0\" >5</td>\n",
       "                        <td id=\"T_1313da18_ca17_11ea_8218_544810e66ae0row1_col1\" class=\"data row1 col1\" >6.039849</td>\n",
       "            </tr>\n",
       "            <tr>\n",
       "                        <th id=\"T_1313da18_ca17_11ea_8218_544810e66ae0level0_row2\" class=\"row_heading level0 row2\" >6</th>\n",
       "                        <td id=\"T_1313da18_ca17_11ea_8218_544810e66ae0row2_col0\" class=\"data row2 col0\" >7</td>\n",
       "                        <td id=\"T_1313da18_ca17_11ea_8218_544810e66ae0row2_col1\" class=\"data row2 col1\" >6.091094</td>\n",
       "            </tr>\n",
       "            <tr>\n",
       "                        <th id=\"T_1313da18_ca17_11ea_8218_544810e66ae0level0_row3\" class=\"row_heading level0 row3\" >8</th>\n",
       "                        <td id=\"T_1313da18_ca17_11ea_8218_544810e66ae0row3_col0\" class=\"data row3 col0\" >9</td>\n",
       "                        <td id=\"T_1313da18_ca17_11ea_8218_544810e66ae0row3_col1\" class=\"data row3 col1\" >5.987209</td>\n",
       "            </tr>\n",
       "            <tr>\n",
       "                        <th id=\"T_1313da18_ca17_11ea_8218_544810e66ae0level0_row4\" class=\"row_heading level0 row4\" >10</th>\n",
       "                        <td id=\"T_1313da18_ca17_11ea_8218_544810e66ae0row4_col0\" class=\"data row4 col0\" >11</td>\n",
       "                        <td id=\"T_1313da18_ca17_11ea_8218_544810e66ae0row4_col1\" class=\"data row4 col1\" >6.000736</td>\n",
       "            </tr>\n",
       "    </tbody></table> <style  type=\"text/css\" >\n",
       "</style><table id=\"T_13142810_ca17_11ea_98f9_544810e66ae0\" style='display:inline'><caption>Data2 large</caption><thead>    <tr>        <th class=\"blank level0\" ></th>        <th class=\"col_heading level0 col0\" >count</th>        <th class=\"col_heading level0 col1\" >dT(seconds)</th>    </tr></thead><tbody>\n",
       "                <tr>\n",
       "                        <th id=\"T_13142810_ca17_11ea_98f9_544810e66ae0level0_row0\" class=\"row_heading level0 row0\" >3</th>\n",
       "                        <td id=\"T_13142810_ca17_11ea_98f9_544810e66ae0row0_col0\" class=\"data row0 col0\" >4</td>\n",
       "                        <td id=\"T_13142810_ca17_11ea_98f9_544810e66ae0row0_col1\" class=\"data row0 col1\" >11.181126</td>\n",
       "            </tr>\n",
       "            <tr>\n",
       "                        <th id=\"T_13142810_ca17_11ea_98f9_544810e66ae0level0_row1\" class=\"row_heading level0 row1\" >5</th>\n",
       "                        <td id=\"T_13142810_ca17_11ea_98f9_544810e66ae0row1_col0\" class=\"data row1 col0\" >6</td>\n",
       "                        <td id=\"T_13142810_ca17_11ea_98f9_544810e66ae0row1_col1\" class=\"data row1 col1\" >11.101317</td>\n",
       "            </tr>\n",
       "            <tr>\n",
       "                        <th id=\"T_13142810_ca17_11ea_98f9_544810e66ae0level0_row2\" class=\"row_heading level0 row2\" >7</th>\n",
       "                        <td id=\"T_13142810_ca17_11ea_98f9_544810e66ae0row2_col0\" class=\"data row2 col0\" >8</td>\n",
       "                        <td id=\"T_13142810_ca17_11ea_98f9_544810e66ae0row2_col1\" class=\"data row2 col1\" >11.190266</td>\n",
       "            </tr>\n",
       "            <tr>\n",
       "                        <th id=\"T_13142810_ca17_11ea_98f9_544810e66ae0level0_row3\" class=\"row_heading level0 row3\" >9</th>\n",
       "                        <td id=\"T_13142810_ca17_11ea_98f9_544810e66ae0row3_col0\" class=\"data row3 col0\" >10</td>\n",
       "                        <td id=\"T_13142810_ca17_11ea_98f9_544810e66ae0row3_col1\" class=\"data row3 col1\" >11.151893</td>\n",
       "            </tr>\n",
       "            <tr>\n",
       "                        <th id=\"T_13142810_ca17_11ea_98f9_544810e66ae0level0_row4\" class=\"row_heading level0 row4\" >11</th>\n",
       "                        <td id=\"T_13142810_ca17_11ea_98f9_544810e66ae0row4_col0\" class=\"data row4 col0\" >12</td>\n",
       "                        <td id=\"T_13142810_ca17_11ea_98f9_544810e66ae0row4_col1\" class=\"data row4 col1\" >11.162459</td>\n",
       "            </tr>\n",
       "    </tbody></table>"
      ]
     },
     "metadata": {},
     "output_type": "display_data"
    }
   ],
   "source": [
    "data1_small_mode = data1[data1[\"dT(seconds)\"]<8]\n",
    "data1_large_mode = data1[data1[\"dT(seconds)\"]>8]\n",
    "\n",
    "data2_small_mode = data2[data2[\"dT(seconds)\"]<8]\n",
    "data2_large_mode = data2[data2[\"dT(seconds)\"]>8]\n",
    "\n",
    "data1_small_styler = data1_small_mode.head().style.set_table_attributes(\"style='display:inline'\").set_caption('Data1 small')\n",
    "data1_large_styler = data1_large_mode.head().style.set_table_attributes(\"style='display:inline'\").set_caption('Data1 large')\n",
    "data2_small_styler = data2_small_mode.head().style.set_table_attributes(\"style='display:inline'\").set_caption('Data2 small')\n",
    "data2_large_styler = data2_large_mode.head().style.set_table_attributes(\"style='display:inline'\").set_caption('Data2 large')\n",
    "\n",
    "display_html(data1_small_styler._repr_html_()+\" \"+data1_large_styler._repr_html_()+\" \"+data2_small_styler._repr_html_()+\" \"+data2_large_styler._repr_html_(), raw=True)"
   ]
  },
  {
   "cell_type": "markdown",
   "metadata": {},
   "source": [
    "We can create box-and-whisker plots to see the quartiles???"
   ]
  },
  {
   "cell_type": "code",
   "execution_count": null,
   "metadata": {},
   "outputs": [],
   "source": []
  },
  {
   "cell_type": "code",
   "execution_count": null,
   "metadata": {},
   "outputs": [],
   "source": []
  },
  {
   "cell_type": "code",
   "execution_count": null,
   "metadata": {},
   "outputs": [],
   "source": []
  },
  {
   "cell_type": "markdown",
   "metadata": {},
   "source": [
    "Here are some histograms of the individual modes for each data set"
   ]
  },
  {
   "cell_type": "code",
   "execution_count": 76,
   "metadata": {},
   "outputs": [
    {
     "data": {
      "text/plain": [
       "<matplotlib.axes._subplots.AxesSubplot at 0x1241ac3b288>"
      ]
     },
     "execution_count": 76,
     "metadata": {},
     "output_type": "execute_result"
    },
    {
     "data": {
      "text/plain": [
       "<matplotlib.axes._subplots.AxesSubplot at 0x1241aceac88>"
      ]
     },
     "execution_count": 76,
     "metadata": {},
     "output_type": "execute_result"
    },
    {
     "data": {
      "text/plain": [
       "<matplotlib.axes._subplots.AxesSubplot at 0x1241ad1a0c8>"
      ]
     },
     "execution_count": 76,
     "metadata": {},
     "output_type": "execute_result"
    },
    {
     "data": {
      "text/plain": [
       "<matplotlib.axes._subplots.AxesSubplot at 0x1241ad4f648>"
      ]
     },
     "execution_count": 76,
     "metadata": {},
     "output_type": "execute_result"
    },
    {
     "data": {
      "text/plain": [
       "(5.85, 6.15)"
      ]
     },
     "execution_count": 76,
     "metadata": {},
     "output_type": "execute_result"
    },
    {
     "data": {
      "text/plain": [
       "Text(0.5, 1.0, 'first dataset (small mode)')"
      ]
     },
     "execution_count": 76,
     "metadata": {},
     "output_type": "execute_result"
    },
    {
     "data": {
      "text/plain": [
       "Text(0.5, 1.0, 'first dataset (large mode)')"
      ]
     },
     "execution_count": 76,
     "metadata": {},
     "output_type": "execute_result"
    },
    {
     "data": {
      "text/plain": [
       "Text(0.5, 1.0, 'second dataset (small mode)')"
      ]
     },
     "execution_count": 76,
     "metadata": {},
     "output_type": "execute_result"
    },
    {
     "data": {
      "text/plain": [
       "Text(0.5, 1.0, 'second dataset (large mode)')"
      ]
     },
     "execution_count": 76,
     "metadata": {},
     "output_type": "execute_result"
    },
    {
     "data": {
      "image/png": "[encoded data removed]",
      "text/plain": [
       "<Figure size 864x864 with 4 Axes>"
      ]
     },
     "metadata": {},
     "output_type": "display_data"
    }
   ],
   "source": [
    "fig2, axes2 = plt.subplots(nrows=2, ncols=2, figsize=(12,12))\n",
    "# plt.tight_layout()\n",
    "# axes2\n",
    "\n",
    "sns.distplot(data1_small_mode[\"dT(seconds)\"], ax=axes2[0,0])\n",
    "sns.distplot(data1_large_mode[\"dT(seconds)\"], ax=axes2[0,1])\n",
    "sns.distplot(data2_small_mode[\"dT(seconds)\"], ax=axes2[1,0])\n",
    "sns.distplot(data2_large_mode[\"dT(seconds)\"], ax=axes2[1,1])\n",
    "\n",
    "# Need to specify domain for data2 for some reason...\n",
    "axes2[1,0].set_xlim([5.85,6.15])\n",
    "\n",
    "\n",
    "axes2[0,0].set_title(\"first dataset (small mode)\")\n",
    "axes2[0,1].set_title(\"first dataset (large mode)\")\n",
    "axes2[1,0].set_title(\"second dataset (small mode)\")\n",
    "axes2[1,1].set_title(\"second dataset (large mode)\")"
   ]
  },
  {
   "cell_type": "markdown",
   "metadata": {},
   "source": [
    "We can see a more normal distribution! So obviously, let's get the mean and standard deviation!"
   ]
  },
  {
   "cell_type": "code",
   "execution_count": 90,
   "metadata": {},
   "outputs": [
    {
     "name": "stdout",
     "output_type": "stream",
     "text": [
      "(mean, std):\n"
     ]
    },
    {
     "data": {
      "text/plain": [
       "{'small1': (6.00842131484794, 0.03166719025701297),\n",
       " 'large1': (11.180059645161284, 0.045959886334316996),\n",
       " 'small2': (6.010966267529663, 0.032635524607146436),\n",
       " 'large2': (11.171748859459445, 0.046645752136388954)}"
      ]
     },
     "execution_count": 90,
     "metadata": {},
     "output_type": "execute_result"
    }
   ],
   "source": [
    "mean1_small = np.mean(data1_small_mode[\"dT(seconds)\"])\n",
    "std1_small = np.std(data1_small_mode[\"dT(seconds)\"])\n",
    "\n",
    "mean1_large = np.mean(data1_large_mode[\"dT(seconds)\"])\n",
    "std1_large = np.std(data1_large_mode[\"dT(seconds)\"])\n",
    "\n",
    "mean2_small = np.mean(data2_small_mode[\"dT(seconds)\"])\n",
    "std2_small = np.std(data2_small_mode[\"dT(seconds)\"])\n",
    "\n",
    "mean2_large = np.mean(data2_large_mode[\"dT(seconds)\"])\n",
    "std2_large = np.std(data2_large_mode[\"dT(seconds)\"])\n",
    "\n",
    "stats = {'small1':(mean1_small,std1_small),\n",
    "         'large1':(mean1_large,std1_large),\n",
    "         'small2':(mean2_small,std2_small),\n",
    "         'large2':(mean2_large,std2_large)}\n",
    "\n",
    "print(\"(mean, std):\")\n",
    "stats"
   ]
  },
  {
   "cell_type": "markdown",
   "metadata": {},
   "source": [
    "We can see that the standard deviations are VERY SMALL, meaning that the time differences are very closely centered about the mean.\n",
    "\n",
    "We can compute the coefficient of variance: CoV = std/mean"
   ]
  },
  {
   "cell_type": "code",
   "execution_count": 95,
   "metadata": {},
   "outputs": [
    {
     "data": {
      "text/plain": [
       "0.005270467664901825"
      ]
     },
     "execution_count": 95,
     "metadata": {},
     "output_type": "execute_result"
    },
    {
     "data": {
      "text/plain": [
       "0.004110880245098547"
      ]
     },
     "execution_count": 95,
     "metadata": {},
     "output_type": "execute_result"
    },
    {
     "data": {
      "text/plain": [
       "0.005429330852085901"
      ]
     },
     "execution_count": 95,
     "metadata": {},
     "output_type": "execute_result"
    },
    {
     "data": {
      "text/plain": [
       "0.004175331250567151"
      ]
     },
     "execution_count": 95,
     "metadata": {},
     "output_type": "execute_result"
    }
   ],
   "source": [
    "cov1_small = stats['small1'][1]/stats['small1'][0]\n",
    "cov1_large = stats['large1'][1]/stats['large1'][0]\n",
    "cov2_small = stats['small2'][1]/stats['small2'][0]\n",
    "cov2_large = stats['large2'][1]/stats['large2'][0]\n",
    "\n",
    "cov1_small\n",
    "cov1_large\n",
    "cov2_small\n",
    "cov2_large"
   ]
  },
  {
   "cell_type": "markdown",
   "metadata": {},
   "source": [
    "Indeed, all our distributions have extremely low variance in general."
   ]
  },
  {
   "cell_type": "markdown",
   "metadata": {},
   "source": [
    "**Next, we see there may be a pattern in the data - the time differences seem to be alternating. Let's investigate and prove!**"
   ]
  },
  {
   "cell_type": "code",
   "execution_count": 171,
   "metadata": {},
   "outputs": [
    {
     "data": {
      "text/html": [
       "<div>\n",
       "<style scoped>\n",
       "    .dataframe tbody tr th:only-of-type {\n",
       "        vertical-align: middle;\n",
       "    }\n",
       "\n",
       "    .dataframe tbody tr th {\n",
       "        vertical-align: top;\n",
       "    }\n",
       "\n",
       "    .dataframe thead th {\n",
       "        text-align: right;\n",
       "    }\n",
       "</style>\n",
       "<table border=\"1\" class=\"dataframe\">\n",
       "  <thead>\n",
       "    <tr style=\"text-align: right;\">\n",
       "      <th></th>\n",
       "      <th>count</th>\n",
       "      <th>timings</th>\n",
       "      <th>Datetime</th>\n",
       "      <th>deltaT</th>\n",
       "      <th>dT(seconds)</th>\n",
       "    </tr>\n",
       "  </thead>\n",
       "  <tbody>\n",
       "    <tr>\n",
       "      <th>0</th>\n",
       "      <td>1</td>\n",
       "      <td>2020-06-28 16:40:11.538763</td>\n",
       "      <td>2020-06-28 16:40:11.538763</td>\n",
       "      <td>NaT</td>\n",
       "      <td>NaN</td>\n",
       "    </tr>\n",
       "    <tr>\n",
       "      <th>1</th>\n",
       "      <td>2</td>\n",
       "      <td>2020-06-28 16:40:17.543537</td>\n",
       "      <td>2020-06-28 16:40:17.543537</td>\n",
       "      <td>00:00:06.004774</td>\n",
       "      <td>6.004774</td>\n",
       "    </tr>\n",
       "    <tr>\n",
       "      <th>2</th>\n",
       "      <td>3</td>\n",
       "      <td>2020-06-28 16:40:28.666688</td>\n",
       "      <td>2020-06-28 16:40:28.666688</td>\n",
       "      <td>00:00:11.123151</td>\n",
       "      <td>11.123151</td>\n",
       "    </tr>\n",
       "    <tr>\n",
       "      <th>3</th>\n",
       "      <td>4</td>\n",
       "      <td>2020-06-28 16:40:34.640885</td>\n",
       "      <td>2020-06-28 16:40:34.640885</td>\n",
       "      <td>00:00:05.974197</td>\n",
       "      <td>5.974197</td>\n",
       "    </tr>\n",
       "    <tr>\n",
       "      <th>4</th>\n",
       "      <td>5</td>\n",
       "      <td>2020-06-28 16:40:45.889237</td>\n",
       "      <td>2020-06-28 16:40:45.889237</td>\n",
       "      <td>00:00:11.248352</td>\n",
       "      <td>11.248352</td>\n",
       "    </tr>\n",
       "  </tbody>\n",
       "</table>\n",
       "</div>"
      ],
      "text/plain": [
       "   count                     timings                   Datetime  \\\n",
       "0      1  2020-06-28 16:40:11.538763 2020-06-28 16:40:11.538763   \n",
       "1      2  2020-06-28 16:40:17.543537 2020-06-28 16:40:17.543537   \n",
       "2      3  2020-06-28 16:40:28.666688 2020-06-28 16:40:28.666688   \n",
       "3      4  2020-06-28 16:40:34.640885 2020-06-28 16:40:34.640885   \n",
       "4      5  2020-06-28 16:40:45.889237 2020-06-28 16:40:45.889237   \n",
       "\n",
       "           deltaT  dT(seconds)  \n",
       "0             NaT          NaN  \n",
       "1 00:00:06.004774     6.004774  \n",
       "2 00:00:11.123151    11.123151  \n",
       "3 00:00:05.974197     5.974197  \n",
       "4 00:00:11.248352    11.248352  "
      ]
     },
     "execution_count": 171,
     "metadata": {},
     "output_type": "execute_result"
    },
    {
     "data": {
      "text/html": [
       "<div>\n",
       "<style scoped>\n",
       "    .dataframe tbody tr th:only-of-type {\n",
       "        vertical-align: middle;\n",
       "    }\n",
       "\n",
       "    .dataframe tbody tr th {\n",
       "        vertical-align: top;\n",
       "    }\n",
       "\n",
       "    .dataframe thead th {\n",
       "        text-align: right;\n",
       "    }\n",
       "</style>\n",
       "<table border=\"1\" class=\"dataframe\">\n",
       "  <thead>\n",
       "    <tr style=\"text-align: right;\">\n",
       "      <th></th>\n",
       "      <th>count</th>\n",
       "      <th>timings</th>\n",
       "      <th>Datetime</th>\n",
       "      <th>deltaT</th>\n",
       "      <th>dT(seconds)</th>\n",
       "    </tr>\n",
       "  </thead>\n",
       "  <tbody>\n",
       "    <tr>\n",
       "      <th>1</th>\n",
       "      <td>2</td>\n",
       "      <td>2020-07-01 22:18:49.157322</td>\n",
       "      <td>2020-07-01 22:18:49.157322</td>\n",
       "      <td>NaT</td>\n",
       "      <td>NaN</td>\n",
       "    </tr>\n",
       "    <tr>\n",
       "      <th>2</th>\n",
       "      <td>3</td>\n",
       "      <td>2020-07-01 22:18:55.197844</td>\n",
       "      <td>2020-07-01 22:18:55.197844</td>\n",
       "      <td>00:00:06.040522</td>\n",
       "      <td>6.040522</td>\n",
       "    </tr>\n",
       "    <tr>\n",
       "      <th>3</th>\n",
       "      <td>4</td>\n",
       "      <td>2020-07-01 22:19:06.378970</td>\n",
       "      <td>2020-07-01 22:19:06.378970</td>\n",
       "      <td>00:00:11.181126</td>\n",
       "      <td>11.181126</td>\n",
       "    </tr>\n",
       "    <tr>\n",
       "      <th>4</th>\n",
       "      <td>5</td>\n",
       "      <td>2020-07-01 22:19:12.418819</td>\n",
       "      <td>2020-07-01 22:19:12.418819</td>\n",
       "      <td>00:00:06.039849</td>\n",
       "      <td>6.039849</td>\n",
       "    </tr>\n",
       "    <tr>\n",
       "      <th>5</th>\n",
       "      <td>6</td>\n",
       "      <td>2020-07-01 22:19:23.520136</td>\n",
       "      <td>2020-07-01 22:19:23.520136</td>\n",
       "      <td>00:00:11.101317</td>\n",
       "      <td>11.101317</td>\n",
       "    </tr>\n",
       "  </tbody>\n",
       "</table>\n",
       "</div>"
      ],
      "text/plain": [
       "   count                     timings                   Datetime  \\\n",
       "1      2  2020-07-01 22:18:49.157322 2020-07-01 22:18:49.157322   \n",
       "2      3  2020-07-01 22:18:55.197844 2020-07-01 22:18:55.197844   \n",
       "3      4  2020-07-01 22:19:06.378970 2020-07-01 22:19:06.378970   \n",
       "4      5  2020-07-01 22:19:12.418819 2020-07-01 22:19:12.418819   \n",
       "5      6  2020-07-01 22:19:23.520136 2020-07-01 22:19:23.520136   \n",
       "\n",
       "           deltaT  dT(seconds)  \n",
       "1             NaT          NaN  \n",
       "2 00:00:06.040522     6.040522  \n",
       "3 00:00:11.181126    11.181126  \n",
       "4 00:00:06.039849     6.039849  \n",
       "5 00:00:11.101317    11.101317  "
      ]
     },
     "execution_count": 171,
     "metadata": {},
     "output_type": "execute_result"
    }
   ],
   "source": [
    "ffx_cleaned.head()\n",
    "ffx2_cleaned.head()"
   ]
  },
  {
   "cell_type": "markdown",
   "metadata": {},
   "source": [
    "We determine if data is alternating by checking if all corresponding count's are either even or odd."
   ]
  },
  {
   "cell_type": "code",
   "execution_count": 199,
   "metadata": {},
   "outputs": [],
   "source": [
    "# This function is no good anymore!!!\n",
    "# It won't work for the newer data, because I removed the outliers\n",
    "def all_even_or_odd(array):\n",
    "\n",
    "    remainders = list(map(lambda x: x % 2, array))\n",
    "    \n",
    "    if remainders.count(1) == len(array):\n",
    "        return \"The array contains all odd integers\"\n",
    "    elif remainders.count(0) == len(array):\n",
    "        return \"The array contains all even integers\"\n",
    "    else:\n",
    "        return \"The array contains both even and odd integers\""
   ]
  },
  {
   "cell_type": "code",
   "execution_count": 204,
   "metadata": {},
   "outputs": [],
   "source": [
    "# Function to determine integer parity\n",
    "\n",
    "def alternating(array):\n",
    "    \"\"\"To check whether all elements are even or odd\"\"\"\n",
    "    \n",
    "    num = 0\n",
    "    for i in range(len(array)):\n",
    "        if (array[i]>8):\n",
    "            num+=1\n",
    "        else:\n",
    "            num-=1\n",
    "        \n",
    "        if (num == 2 or num == -2):\n",
    "            return \"There is some point where the array is not alternating\"\n",
    "    \n",
    "    return \"The array is alternating!\""
   ]
  },
  {
   "cell_type": "code",
   "execution_count": 221,
   "metadata": {},
   "outputs": [
    {
     "data": {
      "text/plain": [
       "0             NaN\n",
       "1        6.004774\n",
       "2       11.123151\n",
       "3        5.974197\n",
       "4       11.248352\n",
       "          ...    \n",
       "1113     5.934609\n",
       "1114    11.204492\n",
       "1115     6.020151\n",
       "1116    11.161345\n",
       "1117     6.028735\n",
       "Name: dT(seconds), Length: 1118, dtype: float64"
      ]
     },
     "execution_count": 221,
     "metadata": {},
     "output_type": "execute_result"
    },
    {
     "data": {
      "text/plain": [
       "'The array is alternating!'"
      ]
     },
     "execution_count": 221,
     "metadata": {},
     "output_type": "execute_result"
    }
   ],
   "source": [
    "ffx_cleaned[\"dT(seconds)\"]\n",
    "alternating(ffx_cleaned[\"dT(seconds)\"].values[1:])"
   ]
  },
  {
   "cell_type": "code",
   "execution_count": 223,
   "metadata": {},
   "outputs": [
    {
     "data": {
      "text/plain": [
       "904     11.201990\n",
       "905      6.002924\n",
       "906     11.143617\n",
       "907      6.020617\n",
       "908     11.165584\n",
       "          ...    \n",
       "1001    11.149741\n",
       "1002     5.977268\n",
       "1003    11.182834\n",
       "1004     6.014712\n",
       "1005    11.165857\n",
       "Name: dT(seconds), Length: 100, dtype: float64"
      ]
     },
     "execution_count": 223,
     "metadata": {},
     "output_type": "execute_result"
    },
    {
     "data": {
      "text/plain": [
       "'There is some point where the array is not alternating'"
      ]
     },
     "execution_count": 223,
     "metadata": {},
     "output_type": "execute_result"
    }
   ],
   "source": [
    "ffx2_cleaned[\"dT(seconds)\"][900:1000]\n",
    "alternating(ffx2_cleaned[\"dT(seconds)\"].values[1:])"
   ]
  },
  {
   "cell_type": "code",
   "execution_count": 225,
   "metadata": {},
   "outputs": [
    {
     "data": {
      "text/plain": [
       "891     11.119045\n",
       "892      6.009456\n",
       "893     11.125401\n",
       "894      6.032508\n",
       "895     11.191722\n",
       "896      5.998862\n",
       "897     11.187918\n",
       "898      5.994324\n",
       "899     11.175684\n",
       "900      5.949721\n",
       "904     11.201990\n",
       "905      6.002924\n",
       "906     11.143617\n",
       "907      6.020617\n",
       "908     11.165584\n",
       "909      6.000688\n",
       "910     11.196131\n",
       "911      5.998266\n",
       "912     11.292418\n",
       "913      6.001869\n",
       "914     11.237346\n",
       "915      5.964892\n",
       "916     11.211834\n",
       "917      5.936630\n",
       "918     11.212140\n",
       "919      5.974359\n",
       "920     11.179671\n",
       "921      6.070908\n",
       "922     11.166692\n",
       "923      6.040338\n",
       "924     11.165987\n",
       "925      6.044688\n",
       "926     11.225521\n",
       "927      6.027183\n",
       "928     11.247326\n",
       "929      5.957090\n",
       "930     11.148801\n",
       "931      6.012900\n",
       "932     11.182308\n",
       "933      5.990271\n",
       "934     11.169391\n",
       "935      6.038469\n",
       "936     11.117470\n",
       "937      6.016392\n",
       "938     11.127711\n",
       "939      5.954775\n",
       "940     11.189492\n",
       "941      5.972650\n",
       "942     11.153415\n",
       "943      6.024663\n",
       "944     11.125379\n",
       "945      5.973181\n",
       "946     11.151277\n",
       "947      6.093172\n",
       "948     11.167204\n",
       "949      6.036678\n",
       "950     11.149017\n",
       "951      6.000326\n",
       "952     11.125587\n",
       "953      6.057667\n",
       "954     11.139984\n",
       "955      6.007843\n",
       "956     11.209939\n",
       "957      5.997368\n",
       "958     11.142114\n",
       "959      5.995142\n",
       "960     11.156115\n",
       "961      6.037068\n",
       "962     11.176517\n",
       "963      6.025264\n",
       "964     11.149384\n",
       "965      6.016088\n",
       "966     11.165993\n",
       "967      6.038756\n",
       "968     11.136813\n",
       "969      6.070795\n",
       "970     11.148043\n",
       "971      6.041960\n",
       "972     11.113243\n",
       "973      6.087841\n",
       "974     11.168942\n",
       "975      6.034034\n",
       "976     11.217873\n",
       "977      5.987260\n",
       "980      6.048158\n",
       "981     11.248197\n",
       "982      6.014345\n",
       "983     11.212291\n",
       "984      5.952413\n",
       "985     11.271519\n",
       "986      5.994530\n",
       "987     11.229369\n",
       "988      6.022880\n",
       "989     11.169879\n",
       "990      6.008091\n",
       "991     11.249243\n",
       "992      5.980860\n",
       "993     11.169285\n",
       "994      5.992994\n",
       "995     11.057488\n",
       "996      6.032751\n",
       "997     11.101542\n",
       "998      6.067082\n",
       "999     11.178964\n",
       "1000     5.960636\n",
       "1001    11.149741\n",
       "1002     5.977268\n",
       "1003    11.182834\n",
       "1004     6.014712\n",
       "1005    11.165857\n",
       "Name: dT(seconds), dtype: float64"
      ]
     },
     "execution_count": 225,
     "metadata": {},
     "output_type": "execute_result"
    }
   ],
   "source": [
    "with pd.option_context('display.max_rows', None, 'display.max_columns', None):  # more options can be specified also\n",
    "    ffx2_cleaned[\"dT(seconds)\"][890:1000]"
   ]
  },
  {
   "cell_type": "markdown",
   "metadata": {},
   "source": [
    "So, we see that counts 978 & 979 were removed (they were outliers), which causes the time differences to go from 5.987260 to 6.048158, without an alternating value in between. The values that were taken out where 8.622982 & 2.472409, respectively. \n",
    "\n",
    "It is reasonable to assume that if these outliers did not exist, this sequence of numbers would still be alternating."
   ]
  },
  {
   "cell_type": "markdown",
   "metadata": {},
   "source": [
    "# **Looking at the grayscale values**"
   ]
  },
  {
   "cell_type": "code",
   "execution_count": null,
   "metadata": {},
   "outputs": [],
   "source": []
  }
 ],
 "metadata": {
  "kernelspec": {
   "display_name": "Python 3",
   "language": "python",
   "name": "python3"
  },
  "language_info": {
   "codemirror_mode": {
    "name": "ipython",
    "version": 3
   },
   "file_extension": ".py",
   "mimetype": "text/x-python",
   "name": "python",
   "nbconvert_exporter": "python",
   "pygments_lexer": "ipython3",
   "version": "3.7.6"
  }
 },
 "nbformat": 4,
 "nbformat_minor": 4
}
