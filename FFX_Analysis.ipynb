{
 "cells": [
  {
   "cell_type": "markdown",
   "metadata": {},
   "source": [
    "Importing all needed Python modules"
   ]
  },
  {
   "cell_type": "code",
   "execution_count": 2,
   "metadata": {},
   "outputs": [],
   "source": [
    "import pandas as pd\n",
    "import matplotlib.pyplot as plt\n",
    "import numpy as np\n",
    "import datetime as dt\n",
    "import seaborn as sns\n",
    "sns.set(style=\"darkgrid\")"
   ]
  },
  {
   "cell_type": "code",
   "execution_count": 3,
   "metadata": {},
   "outputs": [],
   "source": [
    "import datetime\n",
    "from datetime import datetime"
   ]
  },
  {
   "cell_type": "code",
   "execution_count": 4,
   "metadata": {},
   "outputs": [],
   "source": [
    "# Used to execute multple code lines in a single cell\n",
    "from IPython.core.interactiveshell import InteractiveShell\n",
    "InteractiveShell.ast_node_interactivity = \"all\""
   ]
  },
  {
   "cell_type": "markdown",
   "metadata": {},
   "source": [
    "Importing Raw Data Files"
   ]
  },
  {
   "cell_type": "code",
   "execution_count": 5,
   "metadata": {},
   "outputs": [],
   "source": [
    "ffx = pd.read_csv(\"ffxLighting_original_june28.txt\")"
   ]
  },
  {
   "cell_type": "code",
   "execution_count": 6,
   "metadata": {},
   "outputs": [],
   "source": [
    "ffx2 = pd.read_csv(\"ffxLighting_new_july1.txt\")"
   ]
  },
  {
   "cell_type": "code",
   "execution_count": 7,
   "metadata": {},
   "outputs": [],
   "source": [
    "ffx3 = pd.read_csv(\"gray_file_july1.txt\")"
   ]
  },
  {
   "cell_type": "markdown",
   "metadata": {},
   "source": [
    "Initial Look At The Data"
   ]
  },
  {
   "cell_type": "code",
   "execution_count": 8,
   "metadata": {},
   "outputs": [
    {
     "data": {
      "text/html": [
       "<div>\n",
       "<style scoped>\n",
       "    .dataframe tbody tr th:only-of-type {\n",
       "        vertical-align: middle;\n",
       "    }\n",
       "\n",
       "    .dataframe tbody tr th {\n",
       "        vertical-align: top;\n",
       "    }\n",
       "\n",
       "    .dataframe thead th {\n",
       "        text-align: right;\n",
       "    }\n",
       "</style>\n",
       "<table border=\"1\" class=\"dataframe\">\n",
       "  <thead>\n",
       "    <tr style=\"text-align: right;\">\n",
       "      <th></th>\n",
       "      <th>count</th>\n",
       "      <th>timings</th>\n",
       "    </tr>\n",
       "  </thead>\n",
       "  <tbody>\n",
       "    <tr>\n",
       "      <th>0</th>\n",
       "      <td>1</td>\n",
       "      <td>2020-06-28 16:40:11.538763</td>\n",
       "    </tr>\n",
       "    <tr>\n",
       "      <th>1</th>\n",
       "      <td>2</td>\n",
       "      <td>2020-06-28 16:40:17.543537</td>\n",
       "    </tr>\n",
       "    <tr>\n",
       "      <th>2</th>\n",
       "      <td>3</td>\n",
       "      <td>2020-06-28 16:40:28.666688</td>\n",
       "    </tr>\n",
       "    <tr>\n",
       "      <th>3</th>\n",
       "      <td>4</td>\n",
       "      <td>2020-06-28 16:40:34.640885</td>\n",
       "    </tr>\n",
       "    <tr>\n",
       "      <th>4</th>\n",
       "      <td>5</td>\n",
       "      <td>2020-06-28 16:40:45.889237</td>\n",
       "    </tr>\n",
       "  </tbody>\n",
       "</table>\n",
       "</div>"
      ],
      "text/plain": [
       "   count                      timings\n",
       "0      1   2020-06-28 16:40:11.538763\n",
       "1      2   2020-06-28 16:40:17.543537\n",
       "2      3   2020-06-28 16:40:28.666688\n",
       "3      4   2020-06-28 16:40:34.640885\n",
       "4      5   2020-06-28 16:40:45.889237"
      ]
     },
     "execution_count": 8,
     "metadata": {},
     "output_type": "execute_result"
    },
    {
     "data": {
      "text/html": [
       "<div>\n",
       "<style scoped>\n",
       "    .dataframe tbody tr th:only-of-type {\n",
       "        vertical-align: middle;\n",
       "    }\n",
       "\n",
       "    .dataframe tbody tr th {\n",
       "        vertical-align: top;\n",
       "    }\n",
       "\n",
       "    .dataframe thead th {\n",
       "        text-align: right;\n",
       "    }\n",
       "</style>\n",
       "<table border=\"1\" class=\"dataframe\">\n",
       "  <thead>\n",
       "    <tr style=\"text-align: right;\">\n",
       "      <th></th>\n",
       "      <th>count</th>\n",
       "      <th>timings</th>\n",
       "    </tr>\n",
       "  </thead>\n",
       "  <tbody>\n",
       "    <tr>\n",
       "      <th>0</th>\n",
       "      <td>1</td>\n",
       "      <td>2020-07-01 22:18:22.806651</td>\n",
       "    </tr>\n",
       "    <tr>\n",
       "      <th>1</th>\n",
       "      <td>2</td>\n",
       "      <td>2020-07-01 22:18:49.157322</td>\n",
       "    </tr>\n",
       "    <tr>\n",
       "      <th>2</th>\n",
       "      <td>3</td>\n",
       "      <td>2020-07-01 22:18:55.197844</td>\n",
       "    </tr>\n",
       "    <tr>\n",
       "      <th>3</th>\n",
       "      <td>4</td>\n",
       "      <td>2020-07-01 22:19:06.378970</td>\n",
       "    </tr>\n",
       "    <tr>\n",
       "      <th>4</th>\n",
       "      <td>5</td>\n",
       "      <td>2020-07-01 22:19:12.418819</td>\n",
       "    </tr>\n",
       "  </tbody>\n",
       "</table>\n",
       "</div>"
      ],
      "text/plain": [
       "   count                      timings\n",
       "0      1   2020-07-01 22:18:22.806651\n",
       "1      2   2020-07-01 22:18:49.157322\n",
       "2      3   2020-07-01 22:18:55.197844\n",
       "3      4   2020-07-01 22:19:06.378970\n",
       "4      5   2020-07-01 22:19:12.418819"
      ]
     },
     "execution_count": 8,
     "metadata": {},
     "output_type": "execute_result"
    },
    {
     "data": {
      "text/html": [
       "<div>\n",
       "<style scoped>\n",
       "    .dataframe tbody tr th:only-of-type {\n",
       "        vertical-align: middle;\n",
       "    }\n",
       "\n",
       "    .dataframe tbody tr th {\n",
       "        vertical-align: top;\n",
       "    }\n",
       "\n",
       "    .dataframe thead th {\n",
       "        text-align: right;\n",
       "    }\n",
       "</style>\n",
       "<table border=\"1\" class=\"dataframe\">\n",
       "  <thead>\n",
       "    <tr style=\"text-align: right;\">\n",
       "      <th></th>\n",
       "      <th>grayscale</th>\n",
       "      <th>timings</th>\n",
       "    </tr>\n",
       "  </thead>\n",
       "  <tbody>\n",
       "    <tr>\n",
       "      <th>0</th>\n",
       "      <td>235.556693</td>\n",
       "      <td>2020-07-01 22:18:21.991453</td>\n",
       "    </tr>\n",
       "    <tr>\n",
       "      <th>1</th>\n",
       "      <td>235.544079</td>\n",
       "      <td>2020-07-01 22:18:22.187393</td>\n",
       "    </tr>\n",
       "    <tr>\n",
       "      <th>2</th>\n",
       "      <td>229.834134</td>\n",
       "      <td>2020-07-01 22:18:22.202118</td>\n",
       "    </tr>\n",
       "    <tr>\n",
       "      <th>3</th>\n",
       "      <td>229.882272</td>\n",
       "      <td>2020-07-01 22:18:22.219390</td>\n",
       "    </tr>\n",
       "    <tr>\n",
       "      <th>4</th>\n",
       "      <td>229.889206</td>\n",
       "      <td>2020-07-01 22:18:22.234170</td>\n",
       "    </tr>\n",
       "  </tbody>\n",
       "</table>\n",
       "</div>"
      ],
      "text/plain": [
       "    grayscale                      timings\n",
       "0  235.556693   2020-07-01 22:18:21.991453\n",
       "1  235.544079   2020-07-01 22:18:22.187393\n",
       "2  229.834134   2020-07-01 22:18:22.202118\n",
       "3  229.882272   2020-07-01 22:18:22.219390\n",
       "4  229.889206   2020-07-01 22:18:22.234170"
      ]
     },
     "execution_count": 8,
     "metadata": {},
     "output_type": "execute_result"
    }
   ],
   "source": [
    "ffx.head()\n",
    "ffx2.head()\n",
    "ffx3.head()"
   ]
  },
  {
   "cell_type": "code",
   "execution_count": 9,
   "metadata": {},
   "outputs": [
    {
     "data": {
      "text/plain": [
       "1"
      ]
     },
     "execution_count": 9,
     "metadata": {},
     "output_type": "execute_result"
    },
    {
     "data": {
      "text/plain": [
       "' 2020-06-28 16:40:11.538763'"
      ]
     },
     "execution_count": 9,
     "metadata": {},
     "output_type": "execute_result"
    }
   ],
   "source": [
    "ffx[\"count\"][0]\n",
    "ffx[\" timings\"][0]"
   ]
  },
  {
   "cell_type": "code",
   "execution_count": 10,
   "metadata": {},
   "outputs": [
    {
     "data": {
      "text/plain": [
       "numpy.int64"
      ]
     },
     "execution_count": 10,
     "metadata": {},
     "output_type": "execute_result"
    },
    {
     "data": {
      "text/plain": [
       "str"
      ]
     },
     "execution_count": 10,
     "metadata": {},
     "output_type": "execute_result"
    }
   ],
   "source": [
    "type(ffx[\"count\"][0])\n",
    "type(ffx[\" timings\"][0])"
   ]
  },
  {
   "cell_type": "code",
   "execution_count": 11,
   "metadata": {},
   "outputs": [
    {
     "data": {
      "text/plain": [
       "1"
      ]
     },
     "execution_count": 11,
     "metadata": {},
     "output_type": "execute_result"
    },
    {
     "data": {
      "text/plain": [
       "' 2020-07-01 22:18:22.806651'"
      ]
     },
     "execution_count": 11,
     "metadata": {},
     "output_type": "execute_result"
    }
   ],
   "source": [
    "ffx2[\"count\"][0]\n",
    "ffx2[\" timings\"][0]"
   ]
  },
  {
   "cell_type": "code",
   "execution_count": 12,
   "metadata": {},
   "outputs": [
    {
     "data": {
      "text/plain": [
       "235.55669270833332"
      ]
     },
     "execution_count": 12,
     "metadata": {},
     "output_type": "execute_result"
    },
    {
     "data": {
      "text/plain": [
       "' 2020-07-01 22:18:21.991453'"
      ]
     },
     "execution_count": 12,
     "metadata": {},
     "output_type": "execute_result"
    }
   ],
   "source": [
    "ffx3[\"grayscale\"][0]\n",
    "ffx3[\" timings\"][0]"
   ]
  },
  {
   "cell_type": "markdown",
   "metadata": {},
   "source": [
    "Getting General Info About Raw Data (NOTE: The Stupid Space!!!)"
   ]
  },
  {
   "cell_type": "code",
   "execution_count": 13,
   "metadata": {},
   "outputs": [
    {
     "name": "stdout",
     "output_type": "stream",
     "text": [
      "<class 'pandas.core.frame.DataFrame'>\n",
      "RangeIndex: 1135 entries, 0 to 1134\n",
      "Data columns (total 2 columns):\n",
      " #   Column    Non-Null Count  Dtype \n",
      "---  ------    --------------  ----- \n",
      " 0   count     1135 non-null   int64 \n",
      " 1    timings  1135 non-null   object\n",
      "dtypes: int64(1), object(1)\n",
      "memory usage: 17.9+ KB\n"
     ]
    }
   ],
   "source": [
    "ffx.info()"
   ]
  },
  {
   "cell_type": "code",
   "execution_count": 14,
   "metadata": {},
   "outputs": [
    {
     "name": "stdout",
     "output_type": "stream",
     "text": [
      "<class 'pandas.core.frame.DataFrame'>\n",
      "RangeIndex: 1859 entries, 0 to 1858\n",
      "Data columns (total 2 columns):\n",
      " #   Column    Non-Null Count  Dtype \n",
      "---  ------    --------------  ----- \n",
      " 0   count     1859 non-null   int64 \n",
      " 1    timings  1859 non-null   object\n",
      "dtypes: int64(1), object(1)\n",
      "memory usage: 29.2+ KB\n"
     ]
    }
   ],
   "source": [
    "ffx2.info()"
   ]
  },
  {
   "cell_type": "code",
   "execution_count": 15,
   "metadata": {},
   "outputs": [
    {
     "name": "stdout",
     "output_type": "stream",
     "text": [
      "<class 'pandas.core.frame.DataFrame'>\n",
      "RangeIndex: 399539 entries, 0 to 399538\n",
      "Data columns (total 2 columns):\n",
      " #   Column     Non-Null Count   Dtype  \n",
      "---  ------     --------------   -----  \n",
      " 0   grayscale  399539 non-null  float64\n",
      " 1    timings   399539 non-null  object \n",
      "dtypes: float64(1), object(1)\n",
      "memory usage: 6.1+ MB\n"
     ]
    }
   ],
   "source": [
    "ffx3.info()"
   ]
  },
  {
   "cell_type": "code",
   "execution_count": 16,
   "metadata": {},
   "outputs": [
    {
     "data": {
      "text/plain": [
       "str"
      ]
     },
     "execution_count": 16,
     "metadata": {},
     "output_type": "execute_result"
    },
    {
     "data": {
      "text/plain": [
       "str"
      ]
     },
     "execution_count": 16,
     "metadata": {},
     "output_type": "execute_result"
    },
    {
     "data": {
      "text/plain": [
       "str"
      ]
     },
     "execution_count": 16,
     "metadata": {},
     "output_type": "execute_result"
    }
   ],
   "source": [
    "# All date/time column data is \"str\" !!!\n",
    "type(ffx[\" timings\"][0])\n",
    "type(ffx2[\" timings\"][0])\n",
    "type(ffx3[\" timings\"][0])"
   ]
  },
  {
   "cell_type": "markdown",
   "metadata": {},
   "source": [
    "# **Cleaning Data for ffx (original data)**"
   ]
  },
  {
   "cell_type": "markdown",
   "metadata": {},
   "source": [
    "Need to first get rid of the stupid space (in column header)!"
   ]
  },
  {
   "cell_type": "code",
   "execution_count": 17,
   "metadata": {},
   "outputs": [
    {
     "data": {
      "text/html": [
       "<div>\n",
       "<style scoped>\n",
       "    .dataframe tbody tr th:only-of-type {\n",
       "        vertical-align: middle;\n",
       "    }\n",
       "\n",
       "    .dataframe tbody tr th {\n",
       "        vertical-align: top;\n",
       "    }\n",
       "\n",
       "    .dataframe thead th {\n",
       "        text-align: right;\n",
       "    }\n",
       "</style>\n",
       "<table border=\"1\" class=\"dataframe\">\n",
       "  <thead>\n",
       "    <tr style=\"text-align: right;\">\n",
       "      <th></th>\n",
       "      <th>count</th>\n",
       "      <th>timings</th>\n",
       "    </tr>\n",
       "  </thead>\n",
       "  <tbody>\n",
       "    <tr>\n",
       "      <th>0</th>\n",
       "      <td>1</td>\n",
       "      <td>2020-06-28 16:40:11.538763</td>\n",
       "    </tr>\n",
       "    <tr>\n",
       "      <th>1</th>\n",
       "      <td>2</td>\n",
       "      <td>2020-06-28 16:40:17.543537</td>\n",
       "    </tr>\n",
       "    <tr>\n",
       "      <th>2</th>\n",
       "      <td>3</td>\n",
       "      <td>2020-06-28 16:40:28.666688</td>\n",
       "    </tr>\n",
       "    <tr>\n",
       "      <th>3</th>\n",
       "      <td>4</td>\n",
       "      <td>2020-06-28 16:40:34.640885</td>\n",
       "    </tr>\n",
       "    <tr>\n",
       "      <th>4</th>\n",
       "      <td>5</td>\n",
       "      <td>2020-06-28 16:40:45.889237</td>\n",
       "    </tr>\n",
       "  </tbody>\n",
       "</table>\n",
       "</div>"
      ],
      "text/plain": [
       "   count                      timings\n",
       "0      1   2020-06-28 16:40:11.538763\n",
       "1      2   2020-06-28 16:40:17.543537\n",
       "2      3   2020-06-28 16:40:28.666688\n",
       "3      4   2020-06-28 16:40:34.640885\n",
       "4      5   2020-06-28 16:40:45.889237"
      ]
     },
     "execution_count": 17,
     "metadata": {},
     "output_type": "execute_result"
    },
    {
     "data": {
      "text/plain": [
       "Index(['count', ' timings'], dtype='object')"
      ]
     },
     "execution_count": 17,
     "metadata": {},
     "output_type": "execute_result"
    },
    {
     "data": {
      "text/plain": [
       "' 2020-06-28 16:40:11.538763'"
      ]
     },
     "execution_count": 17,
     "metadata": {},
     "output_type": "execute_result"
    }
   ],
   "source": [
    "ffx.head()\n",
    "ffx.columns\n",
    "ffx[\" timings\"][0]"
   ]
  },
  {
   "cell_type": "code",
   "execution_count": 18,
   "metadata": {},
   "outputs": [
    {
     "data": {
      "text/plain": [
       "Index(['count', 'timings'], dtype='object')"
      ]
     },
     "execution_count": 18,
     "metadata": {},
     "output_type": "execute_result"
    }
   ],
   "source": [
    "ffx.rename(mapper={\" timings\": \"timings\"}, axis=1, inplace=True)\n",
    "ffx.columns"
   ]
  },
  {
   "cell_type": "markdown",
   "metadata": {},
   "source": [
    "Need to get rid of spaces in the \"timings\" DATA as well!!!"
   ]
  },
  {
   "cell_type": "code",
   "execution_count": 19,
   "metadata": {},
   "outputs": [
    {
     "data": {
      "text/plain": [
       "' 2020-06-28 16:40:11.538763'"
      ]
     },
     "execution_count": 19,
     "metadata": {},
     "output_type": "execute_result"
    },
    {
     "data": {
      "text/plain": [
       "str"
      ]
     },
     "execution_count": 19,
     "metadata": {},
     "output_type": "execute_result"
    }
   ],
   "source": [
    "ffx[\"timings\"][0]\n",
    "type(ffx[\"timings\"][0])"
   ]
  },
  {
   "cell_type": "code",
   "execution_count": 20,
   "metadata": {},
   "outputs": [],
   "source": [
    "ffx[\"timings\"] = ffx[\"timings\"].apply(lambda string: string[1:])"
   ]
  },
  {
   "cell_type": "code",
   "execution_count": 21,
   "metadata": {},
   "outputs": [
    {
     "data": {
      "text/plain": [
       "'2020-06-28 16:40:11.538763'"
      ]
     },
     "execution_count": 21,
     "metadata": {},
     "output_type": "execute_result"
    },
    {
     "data": {
      "text/plain": [
       "str"
      ]
     },
     "execution_count": 21,
     "metadata": {},
     "output_type": "execute_result"
    }
   ],
   "source": [
    "ffx[\"timings\"][0]\n",
    "type(ffx[\"timings\"][0])"
   ]
  },
  {
   "cell_type": "code",
   "execution_count": 22,
   "metadata": {},
   "outputs": [
    {
     "data": {
      "text/html": [
       "<div>\n",
       "<style scoped>\n",
       "    .dataframe tbody tr th:only-of-type {\n",
       "        vertical-align: middle;\n",
       "    }\n",
       "\n",
       "    .dataframe tbody tr th {\n",
       "        vertical-align: top;\n",
       "    }\n",
       "\n",
       "    .dataframe thead th {\n",
       "        text-align: right;\n",
       "    }\n",
       "</style>\n",
       "<table border=\"1\" class=\"dataframe\">\n",
       "  <thead>\n",
       "    <tr style=\"text-align: right;\">\n",
       "      <th></th>\n",
       "      <th>count</th>\n",
       "      <th>timings</th>\n",
       "    </tr>\n",
       "  </thead>\n",
       "  <tbody>\n",
       "    <tr>\n",
       "      <th>0</th>\n",
       "      <td>1</td>\n",
       "      <td>2020-06-28 16:40:11.538763</td>\n",
       "    </tr>\n",
       "    <tr>\n",
       "      <th>1</th>\n",
       "      <td>2</td>\n",
       "      <td>2020-06-28 16:40:17.543537</td>\n",
       "    </tr>\n",
       "    <tr>\n",
       "      <th>2</th>\n",
       "      <td>3</td>\n",
       "      <td>2020-06-28 16:40:28.666688</td>\n",
       "    </tr>\n",
       "    <tr>\n",
       "      <th>3</th>\n",
       "      <td>4</td>\n",
       "      <td>2020-06-28 16:40:34.640885</td>\n",
       "    </tr>\n",
       "    <tr>\n",
       "      <th>4</th>\n",
       "      <td>5</td>\n",
       "      <td>2020-06-28 16:40:45.889237</td>\n",
       "    </tr>\n",
       "  </tbody>\n",
       "</table>\n",
       "</div>"
      ],
      "text/plain": [
       "   count                     timings\n",
       "0      1  2020-06-28 16:40:11.538763\n",
       "1      2  2020-06-28 16:40:17.543537\n",
       "2      3  2020-06-28 16:40:28.666688\n",
       "3      4  2020-06-28 16:40:34.640885\n",
       "4      5  2020-06-28 16:40:45.889237"
      ]
     },
     "execution_count": 22,
     "metadata": {},
     "output_type": "execute_result"
    }
   ],
   "source": [
    "ffx.head()"
   ]
  },
  {
   "cell_type": "markdown",
   "metadata": {},
   "source": [
    "Look for null values? (I already know there aren't any)"
   ]
  },
  {
   "cell_type": "code",
   "execution_count": 23,
   "metadata": {},
   "outputs": [
    {
     "data": {
      "text/plain": [
       "count      1135\n",
       "timings    1135\n",
       "dtype: int64"
      ]
     },
     "execution_count": 23,
     "metadata": {},
     "output_type": "execute_result"
    },
    {
     "data": {
      "text/plain": [
       "count      1135\n",
       "timings    1135\n",
       "dtype: int64"
      ]
     },
     "execution_count": 23,
     "metadata": {},
     "output_type": "execute_result"
    }
   ],
   "source": [
    "ffx.count()\n",
    "ffx.isnull().count()"
   ]
  },
  {
   "cell_type": "markdown",
   "metadata": {},
   "source": [
    "I happen to know that some values at the tail of the dataframe is not needed (it was recorded while I was dismantling the data capture setup). We will find the bad data, and remove the respective rows.\n",
    "\n",
    "Based on the project, we will most likely be more interested in time differences between lightning strikes.\n",
    "\n",
    "**SO! We must first change the timings data to 'datetime/timedelta' objects**"
   ]
  },
  {
   "cell_type": "code",
   "execution_count": 24,
   "metadata": {},
   "outputs": [
    {
     "data": {
      "text/html": [
       "<div>\n",
       "<style scoped>\n",
       "    .dataframe tbody tr th:only-of-type {\n",
       "        vertical-align: middle;\n",
       "    }\n",
       "\n",
       "    .dataframe tbody tr th {\n",
       "        vertical-align: top;\n",
       "    }\n",
       "\n",
       "    .dataframe thead th {\n",
       "        text-align: right;\n",
       "    }\n",
       "</style>\n",
       "<table border=\"1\" class=\"dataframe\">\n",
       "  <thead>\n",
       "    <tr style=\"text-align: right;\">\n",
       "      <th></th>\n",
       "      <th>count</th>\n",
       "      <th>timings</th>\n",
       "    </tr>\n",
       "  </thead>\n",
       "  <tbody>\n",
       "    <tr>\n",
       "      <th>0</th>\n",
       "      <td>1</td>\n",
       "      <td>2020-06-28 16:40:11.538763</td>\n",
       "    </tr>\n",
       "    <tr>\n",
       "      <th>1</th>\n",
       "      <td>2</td>\n",
       "      <td>2020-06-28 16:40:17.543537</td>\n",
       "    </tr>\n",
       "    <tr>\n",
       "      <th>2</th>\n",
       "      <td>3</td>\n",
       "      <td>2020-06-28 16:40:28.666688</td>\n",
       "    </tr>\n",
       "    <tr>\n",
       "      <th>3</th>\n",
       "      <td>4</td>\n",
       "      <td>2020-06-28 16:40:34.640885</td>\n",
       "    </tr>\n",
       "    <tr>\n",
       "      <th>4</th>\n",
       "      <td>5</td>\n",
       "      <td>2020-06-28 16:40:45.889237</td>\n",
       "    </tr>\n",
       "  </tbody>\n",
       "</table>\n",
       "</div>"
      ],
      "text/plain": [
       "   count                     timings\n",
       "0      1  2020-06-28 16:40:11.538763\n",
       "1      2  2020-06-28 16:40:17.543537\n",
       "2      3  2020-06-28 16:40:28.666688\n",
       "3      4  2020-06-28 16:40:34.640885\n",
       "4      5  2020-06-28 16:40:45.889237"
      ]
     },
     "execution_count": 24,
     "metadata": {},
     "output_type": "execute_result"
    },
    {
     "data": {
      "text/plain": [
       "'2020-06-28 16:40:11.538763'"
      ]
     },
     "execution_count": 24,
     "metadata": {},
     "output_type": "execute_result"
    },
    {
     "data": {
      "text/plain": [
       "str"
      ]
     },
     "execution_count": 24,
     "metadata": {},
     "output_type": "execute_result"
    }
   ],
   "source": [
    "ffx.head()\n",
    "ffx[\"timings\"][0]\n",
    "type(ffx[\"timings\"][0])"
   ]
  },
  {
   "cell_type": "code",
   "execution_count": 25,
   "metadata": {},
   "outputs": [
    {
     "data": {
      "text/html": [
       "<div>\n",
       "<style scoped>\n",
       "    .dataframe tbody tr th:only-of-type {\n",
       "        vertical-align: middle;\n",
       "    }\n",
       "\n",
       "    .dataframe tbody tr th {\n",
       "        vertical-align: top;\n",
       "    }\n",
       "\n",
       "    .dataframe thead th {\n",
       "        text-align: right;\n",
       "    }\n",
       "</style>\n",
       "<table border=\"1\" class=\"dataframe\">\n",
       "  <thead>\n",
       "    <tr style=\"text-align: right;\">\n",
       "      <th></th>\n",
       "      <th>count</th>\n",
       "      <th>timings</th>\n",
       "      <th>Datetime</th>\n",
       "    </tr>\n",
       "  </thead>\n",
       "  <tbody>\n",
       "    <tr>\n",
       "      <th>0</th>\n",
       "      <td>1</td>\n",
       "      <td>2020-06-28 16:40:11.538763</td>\n",
       "      <td>2020-06-28 16:40:11.538763</td>\n",
       "    </tr>\n",
       "    <tr>\n",
       "      <th>1</th>\n",
       "      <td>2</td>\n",
       "      <td>2020-06-28 16:40:17.543537</td>\n",
       "      <td>2020-06-28 16:40:17.543537</td>\n",
       "    </tr>\n",
       "    <tr>\n",
       "      <th>2</th>\n",
       "      <td>3</td>\n",
       "      <td>2020-06-28 16:40:28.666688</td>\n",
       "      <td>2020-06-28 16:40:28.666688</td>\n",
       "    </tr>\n",
       "    <tr>\n",
       "      <th>3</th>\n",
       "      <td>4</td>\n",
       "      <td>2020-06-28 16:40:34.640885</td>\n",
       "      <td>2020-06-28 16:40:34.640885</td>\n",
       "    </tr>\n",
       "    <tr>\n",
       "      <th>4</th>\n",
       "      <td>5</td>\n",
       "      <td>2020-06-28 16:40:45.889237</td>\n",
       "      <td>2020-06-28 16:40:45.889237</td>\n",
       "    </tr>\n",
       "  </tbody>\n",
       "</table>\n",
       "</div>"
      ],
      "text/plain": [
       "   count                     timings                   Datetime\n",
       "0      1  2020-06-28 16:40:11.538763 2020-06-28 16:40:11.538763\n",
       "1      2  2020-06-28 16:40:17.543537 2020-06-28 16:40:17.543537\n",
       "2      3  2020-06-28 16:40:28.666688 2020-06-28 16:40:28.666688\n",
       "3      4  2020-06-28 16:40:34.640885 2020-06-28 16:40:34.640885\n",
       "4      5  2020-06-28 16:40:45.889237 2020-06-28 16:40:45.889237"
      ]
     },
     "execution_count": 25,
     "metadata": {},
     "output_type": "execute_result"
    },
    {
     "data": {
      "text/plain": [
       "Timestamp('2020-06-28 16:40:11.538763')"
      ]
     },
     "execution_count": 25,
     "metadata": {},
     "output_type": "execute_result"
    },
    {
     "data": {
      "text/plain": [
       "pandas._libs.tslibs.timestamps.Timestamp"
      ]
     },
     "execution_count": 25,
     "metadata": {},
     "output_type": "execute_result"
    }
   ],
   "source": [
    "ffx[\"Datetime\"] = pd.to_datetime(ffx[\"timings\"])\n",
    "ffx.head()\n",
    "ffx[\"Datetime\"][0]\n",
    "type(ffx[\"Datetime\"][0])"
   ]
  },
  {
   "cell_type": "markdown",
   "metadata": {},
   "source": [
    "Now that everything is converted to actual \"datetime\" dtype, we can look for our bad data. It's somewhere at the end, remember!"
   ]
  },
  {
   "cell_type": "code",
   "execution_count": 26,
   "metadata": {},
   "outputs": [
    {
     "data": {
      "text/html": [
       "<div>\n",
       "<style scoped>\n",
       "    .dataframe tbody tr th:only-of-type {\n",
       "        vertical-align: middle;\n",
       "    }\n",
       "\n",
       "    .dataframe tbody tr th {\n",
       "        vertical-align: top;\n",
       "    }\n",
       "\n",
       "    .dataframe thead th {\n",
       "        text-align: right;\n",
       "    }\n",
       "</style>\n",
       "<table border=\"1\" class=\"dataframe\">\n",
       "  <thead>\n",
       "    <tr style=\"text-align: right;\">\n",
       "      <th></th>\n",
       "      <th>count</th>\n",
       "      <th>timings</th>\n",
       "      <th>Datetime</th>\n",
       "    </tr>\n",
       "  </thead>\n",
       "  <tbody>\n",
       "    <tr>\n",
       "      <th>1100</th>\n",
       "      <td>1101</td>\n",
       "      <td>2020-06-28 19:17:45.300614</td>\n",
       "      <td>2020-06-28 19:17:45.300614</td>\n",
       "    </tr>\n",
       "    <tr>\n",
       "      <th>1101</th>\n",
       "      <td>1102</td>\n",
       "      <td>2020-06-28 19:17:51.295674</td>\n",
       "      <td>2020-06-28 19:17:51.295674</td>\n",
       "    </tr>\n",
       "    <tr>\n",
       "      <th>1102</th>\n",
       "      <td>1103</td>\n",
       "      <td>2020-06-28 19:18:02.442681</td>\n",
       "      <td>2020-06-28 19:18:02.442681</td>\n",
       "    </tr>\n",
       "    <tr>\n",
       "      <th>1103</th>\n",
       "      <td>1104</td>\n",
       "      <td>2020-06-28 19:18:08.487168</td>\n",
       "      <td>2020-06-28 19:18:08.487168</td>\n",
       "    </tr>\n",
       "    <tr>\n",
       "      <th>1104</th>\n",
       "      <td>1105</td>\n",
       "      <td>2020-06-28 19:18:19.587722</td>\n",
       "      <td>2020-06-28 19:18:19.587722</td>\n",
       "    </tr>\n",
       "    <tr>\n",
       "      <th>1105</th>\n",
       "      <td>1106</td>\n",
       "      <td>2020-06-28 19:18:25.632636</td>\n",
       "      <td>2020-06-28 19:18:25.632636</td>\n",
       "    </tr>\n",
       "    <tr>\n",
       "      <th>1106</th>\n",
       "      <td>1107</td>\n",
       "      <td>2020-06-28 19:18:36.770161</td>\n",
       "      <td>2020-06-28 19:18:36.770161</td>\n",
       "    </tr>\n",
       "    <tr>\n",
       "      <th>1107</th>\n",
       "      <td>1108</td>\n",
       "      <td>2020-06-28 19:18:42.812585</td>\n",
       "      <td>2020-06-28 19:18:42.812585</td>\n",
       "    </tr>\n",
       "    <tr>\n",
       "      <th>1108</th>\n",
       "      <td>1109</td>\n",
       "      <td>2020-06-28 19:18:53.944019</td>\n",
       "      <td>2020-06-28 19:18:53.944019</td>\n",
       "    </tr>\n",
       "    <tr>\n",
       "      <th>1109</th>\n",
       "      <td>1110</td>\n",
       "      <td>2020-06-28 19:18:59.994721</td>\n",
       "      <td>2020-06-28 19:18:59.994721</td>\n",
       "    </tr>\n",
       "    <tr>\n",
       "      <th>1110</th>\n",
       "      <td>1111</td>\n",
       "      <td>2020-06-28 19:19:11.182394</td>\n",
       "      <td>2020-06-28 19:19:11.182394</td>\n",
       "    </tr>\n",
       "    <tr>\n",
       "      <th>1111</th>\n",
       "      <td>1112</td>\n",
       "      <td>2020-06-28 19:19:17.140761</td>\n",
       "      <td>2020-06-28 19:19:17.140761</td>\n",
       "    </tr>\n",
       "    <tr>\n",
       "      <th>1112</th>\n",
       "      <td>1113</td>\n",
       "      <td>2020-06-28 19:19:28.370228</td>\n",
       "      <td>2020-06-28 19:19:28.370228</td>\n",
       "    </tr>\n",
       "    <tr>\n",
       "      <th>1113</th>\n",
       "      <td>1114</td>\n",
       "      <td>2020-06-28 19:19:34.304837</td>\n",
       "      <td>2020-06-28 19:19:34.304837</td>\n",
       "    </tr>\n",
       "    <tr>\n",
       "      <th>1114</th>\n",
       "      <td>1115</td>\n",
       "      <td>2020-06-28 19:19:45.509329</td>\n",
       "      <td>2020-06-28 19:19:45.509329</td>\n",
       "    </tr>\n",
       "    <tr>\n",
       "      <th>1115</th>\n",
       "      <td>1116</td>\n",
       "      <td>2020-06-28 19:19:51.529480</td>\n",
       "      <td>2020-06-28 19:19:51.529480</td>\n",
       "    </tr>\n",
       "    <tr>\n",
       "      <th>1116</th>\n",
       "      <td>1117</td>\n",
       "      <td>2020-06-28 19:20:02.690825</td>\n",
       "      <td>2020-06-28 19:20:02.690825</td>\n",
       "    </tr>\n",
       "    <tr>\n",
       "      <th>1117</th>\n",
       "      <td>1118</td>\n",
       "      <td>2020-06-28 19:20:08.719560</td>\n",
       "      <td>2020-06-28 19:20:08.719560</td>\n",
       "    </tr>\n",
       "    <tr>\n",
       "      <th>1118</th>\n",
       "      <td>1119</td>\n",
       "      <td>2020-06-28 19:20:18.647719</td>\n",
       "      <td>2020-06-28 19:20:18.647719</td>\n",
       "    </tr>\n",
       "    <tr>\n",
       "      <th>1119</th>\n",
       "      <td>1120</td>\n",
       "      <td>2020-06-28 19:20:23.351210</td>\n",
       "      <td>2020-06-28 19:20:23.351210</td>\n",
       "    </tr>\n",
       "    <tr>\n",
       "      <th>1120</th>\n",
       "      <td>1121</td>\n",
       "      <td>2020-06-28 19:20:40.833734</td>\n",
       "      <td>2020-06-28 19:20:40.833734</td>\n",
       "    </tr>\n",
       "    <tr>\n",
       "      <th>1121</th>\n",
       "      <td>1122</td>\n",
       "      <td>2020-06-28 19:20:46.595614</td>\n",
       "      <td>2020-06-28 19:20:46.595614</td>\n",
       "    </tr>\n",
       "    <tr>\n",
       "      <th>1122</th>\n",
       "      <td>1123</td>\n",
       "      <td>2020-06-28 19:20:48.694830</td>\n",
       "      <td>2020-06-28 19:20:48.694830</td>\n",
       "    </tr>\n",
       "    <tr>\n",
       "      <th>1123</th>\n",
       "      <td>1124</td>\n",
       "      <td>2020-06-28 19:21:02.183183</td>\n",
       "      <td>2020-06-28 19:21:02.183183</td>\n",
       "    </tr>\n",
       "    <tr>\n",
       "      <th>1124</th>\n",
       "      <td>1125</td>\n",
       "      <td>2020-06-28 19:21:09.733099</td>\n",
       "      <td>2020-06-28 19:21:09.733099</td>\n",
       "    </tr>\n",
       "    <tr>\n",
       "      <th>1125</th>\n",
       "      <td>1126</td>\n",
       "      <td>2020-06-28 19:21:17.263125</td>\n",
       "      <td>2020-06-28 19:21:17.263125</td>\n",
       "    </tr>\n",
       "    <tr>\n",
       "      <th>1126</th>\n",
       "      <td>1127</td>\n",
       "      <td>2020-06-28 19:21:30.427996</td>\n",
       "      <td>2020-06-28 19:21:30.427996</td>\n",
       "    </tr>\n",
       "    <tr>\n",
       "      <th>1127</th>\n",
       "      <td>1128</td>\n",
       "      <td>2020-06-28 19:21:45.578473</td>\n",
       "      <td>2020-06-28 19:21:45.578473</td>\n",
       "    </tr>\n",
       "    <tr>\n",
       "      <th>1128</th>\n",
       "      <td>1129</td>\n",
       "      <td>2020-06-28 19:21:45.679359</td>\n",
       "      <td>2020-06-28 19:21:45.679359</td>\n",
       "    </tr>\n",
       "    <tr>\n",
       "      <th>1129</th>\n",
       "      <td>1130</td>\n",
       "      <td>2020-06-28 19:21:56.824975</td>\n",
       "      <td>2020-06-28 19:21:56.824975</td>\n",
       "    </tr>\n",
       "    <tr>\n",
       "      <th>1130</th>\n",
       "      <td>1131</td>\n",
       "      <td>2020-06-28 19:23:27.663365</td>\n",
       "      <td>2020-06-28 19:23:27.663365</td>\n",
       "    </tr>\n",
       "    <tr>\n",
       "      <th>1131</th>\n",
       "      <td>1132</td>\n",
       "      <td>2020-06-28 19:24:52.651587</td>\n",
       "      <td>2020-06-28 19:24:52.651587</td>\n",
       "    </tr>\n",
       "    <tr>\n",
       "      <th>1132</th>\n",
       "      <td>1133</td>\n",
       "      <td>2020-06-28 19:24:58.391024</td>\n",
       "      <td>2020-06-28 19:24:58.391024</td>\n",
       "    </tr>\n",
       "    <tr>\n",
       "      <th>1133</th>\n",
       "      <td>1134</td>\n",
       "      <td>2020-06-28 19:25:35.689479</td>\n",
       "      <td>2020-06-28 19:25:35.689479</td>\n",
       "    </tr>\n",
       "    <tr>\n",
       "      <th>1134</th>\n",
       "      <td>1135</td>\n",
       "      <td>2020-06-28 19:25:41.456840</td>\n",
       "      <td>2020-06-28 19:25:41.456840</td>\n",
       "    </tr>\n",
       "  </tbody>\n",
       "</table>\n",
       "</div>"
      ],
      "text/plain": [
       "      count                     timings                   Datetime\n",
       "1100   1101  2020-06-28 19:17:45.300614 2020-06-28 19:17:45.300614\n",
       "1101   1102  2020-06-28 19:17:51.295674 2020-06-28 19:17:51.295674\n",
       "1102   1103  2020-06-28 19:18:02.442681 2020-06-28 19:18:02.442681\n",
       "1103   1104  2020-06-28 19:18:08.487168 2020-06-28 19:18:08.487168\n",
       "1104   1105  2020-06-28 19:18:19.587722 2020-06-28 19:18:19.587722\n",
       "1105   1106  2020-06-28 19:18:25.632636 2020-06-28 19:18:25.632636\n",
       "1106   1107  2020-06-28 19:18:36.770161 2020-06-28 19:18:36.770161\n",
       "1107   1108  2020-06-28 19:18:42.812585 2020-06-28 19:18:42.812585\n",
       "1108   1109  2020-06-28 19:18:53.944019 2020-06-28 19:18:53.944019\n",
       "1109   1110  2020-06-28 19:18:59.994721 2020-06-28 19:18:59.994721\n",
       "1110   1111  2020-06-28 19:19:11.182394 2020-06-28 19:19:11.182394\n",
       "1111   1112  2020-06-28 19:19:17.140761 2020-06-28 19:19:17.140761\n",
       "1112   1113  2020-06-28 19:19:28.370228 2020-06-28 19:19:28.370228\n",
       "1113   1114  2020-06-28 19:19:34.304837 2020-06-28 19:19:34.304837\n",
       "1114   1115  2020-06-28 19:19:45.509329 2020-06-28 19:19:45.509329\n",
       "1115   1116  2020-06-28 19:19:51.529480 2020-06-28 19:19:51.529480\n",
       "1116   1117  2020-06-28 19:20:02.690825 2020-06-28 19:20:02.690825\n",
       "1117   1118  2020-06-28 19:20:08.719560 2020-06-28 19:20:08.719560\n",
       "1118   1119  2020-06-28 19:20:18.647719 2020-06-28 19:20:18.647719\n",
       "1119   1120  2020-06-28 19:20:23.351210 2020-06-28 19:20:23.351210\n",
       "1120   1121  2020-06-28 19:20:40.833734 2020-06-28 19:20:40.833734\n",
       "1121   1122  2020-06-28 19:20:46.595614 2020-06-28 19:20:46.595614\n",
       "1122   1123  2020-06-28 19:20:48.694830 2020-06-28 19:20:48.694830\n",
       "1123   1124  2020-06-28 19:21:02.183183 2020-06-28 19:21:02.183183\n",
       "1124   1125  2020-06-28 19:21:09.733099 2020-06-28 19:21:09.733099\n",
       "1125   1126  2020-06-28 19:21:17.263125 2020-06-28 19:21:17.263125\n",
       "1126   1127  2020-06-28 19:21:30.427996 2020-06-28 19:21:30.427996\n",
       "1127   1128  2020-06-28 19:21:45.578473 2020-06-28 19:21:45.578473\n",
       "1128   1129  2020-06-28 19:21:45.679359 2020-06-28 19:21:45.679359\n",
       "1129   1130  2020-06-28 19:21:56.824975 2020-06-28 19:21:56.824975\n",
       "1130   1131  2020-06-28 19:23:27.663365 2020-06-28 19:23:27.663365\n",
       "1131   1132  2020-06-28 19:24:52.651587 2020-06-28 19:24:52.651587\n",
       "1132   1133  2020-06-28 19:24:58.391024 2020-06-28 19:24:58.391024\n",
       "1133   1134  2020-06-28 19:25:35.689479 2020-06-28 19:25:35.689479\n",
       "1134   1135  2020-06-28 19:25:41.456840 2020-06-28 19:25:41.456840"
      ]
     },
     "execution_count": 26,
     "metadata": {},
     "output_type": "execute_result"
    }
   ],
   "source": [
    "ffx[1100:]"
   ]
  },
  {
   "cell_type": "code",
   "execution_count": 49,
   "metadata": {},
   "outputs": [],
   "source": [
    "# count_column = f'{ffx[\"count\"][i+1]}---{ffx[\"count\"][i]}'\n",
    "# time_diff_column = ffx[\"Datetime\"][i+1]-ffx[\"Datetime\"][i]"
   ]
  },
  {
   "cell_type": "code",
   "execution_count": 50,
   "metadata": {},
   "outputs": [],
   "source": [
    "bad_time_diff = pd.DataFrame([(f'{ffx[\"count\"][i+1]}---{ffx[\"count\"][i]}', ffx[\"Datetime\"][i+1]-ffx[\"Datetime\"][i]) for i in range(1100,1134)])"
   ]
  },
  {
   "cell_type": "code",
   "execution_count": 51,
   "metadata": {
    "scrolled": true
   },
   "outputs": [
    {
     "data": {
      "text/html": [
       "<div>\n",
       "<style scoped>\n",
       "    .dataframe tbody tr th:only-of-type {\n",
       "        vertical-align: middle;\n",
       "    }\n",
       "\n",
       "    .dataframe tbody tr th {\n",
       "        vertical-align: top;\n",
       "    }\n",
       "\n",
       "    .dataframe thead th {\n",
       "        text-align: right;\n",
       "    }\n",
       "</style>\n",
       "<table border=\"1\" class=\"dataframe\">\n",
       "  <thead>\n",
       "    <tr style=\"text-align: right;\">\n",
       "      <th></th>\n",
       "      <th>0</th>\n",
       "      <th>1</th>\n",
       "    </tr>\n",
       "  </thead>\n",
       "  <tbody>\n",
       "    <tr>\n",
       "      <th>0</th>\n",
       "      <td>1102---1101</td>\n",
       "      <td>00:00:05.995060</td>\n",
       "    </tr>\n",
       "    <tr>\n",
       "      <th>1</th>\n",
       "      <td>1103---1102</td>\n",
       "      <td>00:00:11.147007</td>\n",
       "    </tr>\n",
       "    <tr>\n",
       "      <th>2</th>\n",
       "      <td>1104---1103</td>\n",
       "      <td>00:00:06.044487</td>\n",
       "    </tr>\n",
       "    <tr>\n",
       "      <th>3</th>\n",
       "      <td>1105---1104</td>\n",
       "      <td>00:00:11.100554</td>\n",
       "    </tr>\n",
       "    <tr>\n",
       "      <th>4</th>\n",
       "      <td>1106---1105</td>\n",
       "      <td>00:00:06.044914</td>\n",
       "    </tr>\n",
       "    <tr>\n",
       "      <th>5</th>\n",
       "      <td>1107---1106</td>\n",
       "      <td>00:00:11.137525</td>\n",
       "    </tr>\n",
       "    <tr>\n",
       "      <th>6</th>\n",
       "      <td>1108---1107</td>\n",
       "      <td>00:00:06.042424</td>\n",
       "    </tr>\n",
       "    <tr>\n",
       "      <th>7</th>\n",
       "      <td>1109---1108</td>\n",
       "      <td>00:00:11.131434</td>\n",
       "    </tr>\n",
       "    <tr>\n",
       "      <th>8</th>\n",
       "      <td>1110---1109</td>\n",
       "      <td>00:00:06.050702</td>\n",
       "    </tr>\n",
       "    <tr>\n",
       "      <th>9</th>\n",
       "      <td>1111---1110</td>\n",
       "      <td>00:00:11.187673</td>\n",
       "    </tr>\n",
       "    <tr>\n",
       "      <th>10</th>\n",
       "      <td>1112---1111</td>\n",
       "      <td>00:00:05.958367</td>\n",
       "    </tr>\n",
       "    <tr>\n",
       "      <th>11</th>\n",
       "      <td>1113---1112</td>\n",
       "      <td>00:00:11.229467</td>\n",
       "    </tr>\n",
       "    <tr>\n",
       "      <th>12</th>\n",
       "      <td>1114---1113</td>\n",
       "      <td>00:00:05.934609</td>\n",
       "    </tr>\n",
       "    <tr>\n",
       "      <th>13</th>\n",
       "      <td>1115---1114</td>\n",
       "      <td>00:00:11.204492</td>\n",
       "    </tr>\n",
       "    <tr>\n",
       "      <th>14</th>\n",
       "      <td>1116---1115</td>\n",
       "      <td>00:00:06.020151</td>\n",
       "    </tr>\n",
       "    <tr>\n",
       "      <th>15</th>\n",
       "      <td>1117---1116</td>\n",
       "      <td>00:00:11.161345</td>\n",
       "    </tr>\n",
       "    <tr>\n",
       "      <th>16</th>\n",
       "      <td>1118---1117</td>\n",
       "      <td>00:00:06.028735</td>\n",
       "    </tr>\n",
       "    <tr>\n",
       "      <th>17</th>\n",
       "      <td>1119---1118</td>\n",
       "      <td>00:00:09.928159</td>\n",
       "    </tr>\n",
       "    <tr>\n",
       "      <th>18</th>\n",
       "      <td>1120---1119</td>\n",
       "      <td>00:00:04.703491</td>\n",
       "    </tr>\n",
       "    <tr>\n",
       "      <th>19</th>\n",
       "      <td>1121---1120</td>\n",
       "      <td>00:00:17.482524</td>\n",
       "    </tr>\n",
       "    <tr>\n",
       "      <th>20</th>\n",
       "      <td>1122---1121</td>\n",
       "      <td>00:00:05.761880</td>\n",
       "    </tr>\n",
       "    <tr>\n",
       "      <th>21</th>\n",
       "      <td>1123---1122</td>\n",
       "      <td>00:00:02.099216</td>\n",
       "    </tr>\n",
       "    <tr>\n",
       "      <th>22</th>\n",
       "      <td>1124---1123</td>\n",
       "      <td>00:00:13.488353</td>\n",
       "    </tr>\n",
       "    <tr>\n",
       "      <th>23</th>\n",
       "      <td>1125---1124</td>\n",
       "      <td>00:00:07.549916</td>\n",
       "    </tr>\n",
       "    <tr>\n",
       "      <th>24</th>\n",
       "      <td>1126---1125</td>\n",
       "      <td>00:00:07.530026</td>\n",
       "    </tr>\n",
       "    <tr>\n",
       "      <th>25</th>\n",
       "      <td>1127---1126</td>\n",
       "      <td>00:00:13.164871</td>\n",
       "    </tr>\n",
       "    <tr>\n",
       "      <th>26</th>\n",
       "      <td>1128---1127</td>\n",
       "      <td>00:00:15.150477</td>\n",
       "    </tr>\n",
       "    <tr>\n",
       "      <th>27</th>\n",
       "      <td>1129---1128</td>\n",
       "      <td>00:00:00.100886</td>\n",
       "    </tr>\n",
       "    <tr>\n",
       "      <th>28</th>\n",
       "      <td>1130---1129</td>\n",
       "      <td>00:00:11.145616</td>\n",
       "    </tr>\n",
       "    <tr>\n",
       "      <th>29</th>\n",
       "      <td>1131---1130</td>\n",
       "      <td>00:01:30.838390</td>\n",
       "    </tr>\n",
       "    <tr>\n",
       "      <th>30</th>\n",
       "      <td>1132---1131</td>\n",
       "      <td>00:01:24.988222</td>\n",
       "    </tr>\n",
       "    <tr>\n",
       "      <th>31</th>\n",
       "      <td>1133---1132</td>\n",
       "      <td>00:00:05.739437</td>\n",
       "    </tr>\n",
       "    <tr>\n",
       "      <th>32</th>\n",
       "      <td>1134---1133</td>\n",
       "      <td>00:00:37.298455</td>\n",
       "    </tr>\n",
       "    <tr>\n",
       "      <th>33</th>\n",
       "      <td>1135---1134</td>\n",
       "      <td>00:00:05.767361</td>\n",
       "    </tr>\n",
       "  </tbody>\n",
       "</table>\n",
       "</div>"
      ],
      "text/plain": [
       "              0               1\n",
       "0   1102---1101 00:00:05.995060\n",
       "1   1103---1102 00:00:11.147007\n",
       "2   1104---1103 00:00:06.044487\n",
       "3   1105---1104 00:00:11.100554\n",
       "4   1106---1105 00:00:06.044914\n",
       "5   1107---1106 00:00:11.137525\n",
       "6   1108---1107 00:00:06.042424\n",
       "7   1109---1108 00:00:11.131434\n",
       "8   1110---1109 00:00:06.050702\n",
       "9   1111---1110 00:00:11.187673\n",
       "10  1112---1111 00:00:05.958367\n",
       "11  1113---1112 00:00:11.229467\n",
       "12  1114---1113 00:00:05.934609\n",
       "13  1115---1114 00:00:11.204492\n",
       "14  1116---1115 00:00:06.020151\n",
       "15  1117---1116 00:00:11.161345\n",
       "16  1118---1117 00:00:06.028735\n",
       "17  1119---1118 00:00:09.928159\n",
       "18  1120---1119 00:00:04.703491\n",
       "19  1121---1120 00:00:17.482524\n",
       "20  1122---1121 00:00:05.761880\n",
       "21  1123---1122 00:00:02.099216\n",
       "22  1124---1123 00:00:13.488353\n",
       "23  1125---1124 00:00:07.549916\n",
       "24  1126---1125 00:00:07.530026\n",
       "25  1127---1126 00:00:13.164871\n",
       "26  1128---1127 00:00:15.150477\n",
       "27  1129---1128 00:00:00.100886\n",
       "28  1130---1129 00:00:11.145616\n",
       "29  1131---1130 00:01:30.838390\n",
       "30  1132---1131 00:01:24.988222\n",
       "31  1133---1132 00:00:05.739437\n",
       "32  1134---1133 00:00:37.298455\n",
       "33  1135---1134 00:00:05.767361"
      ]
     },
     "execution_count": 51,
     "metadata": {},
     "output_type": "execute_result"
    }
   ],
   "source": [
    "bad_time_diff"
   ]
  },
  {
   "cell_type": "markdown",
   "metadata": {},
   "source": [
    "We can see in the above datafram that the time differences stop following the pattern starting with index 17. This means that the datapoints with count of **1119 and onward** are the bad data."
   ]
  },
  {
   "cell_type": "markdown",
   "metadata": {},
   "source": [
    "So, in our ffx dataframe, let us now delete the rows with 'count' starting at 1119 and greater. *This translates to indices of **1118** and greater!*"
   ]
  },
  {
   "cell_type": "code",
   "execution_count": 56,
   "metadata": {},
   "outputs": [
    {
     "data": {
      "text/plain": [
       "(1135, 3)"
      ]
     },
     "execution_count": 56,
     "metadata": {},
     "output_type": "execute_result"
    }
   ],
   "source": [
    "ffx.shape"
   ]
  },
  {
   "cell_type": "code",
   "execution_count": 59,
   "metadata": {},
   "outputs": [],
   "source": [
    "ffx_cleaned = ffx.drop(ffx[ffx[\"count\"] >= 1119].index, axis=0)"
   ]
  },
  {
   "cell_type": "code",
   "execution_count": 61,
   "metadata": {},
   "outputs": [
    {
     "data": {
      "text/html": [
       "<div>\n",
       "<style scoped>\n",
       "    .dataframe tbody tr th:only-of-type {\n",
       "        vertical-align: middle;\n",
       "    }\n",
       "\n",
       "    .dataframe tbody tr th {\n",
       "        vertical-align: top;\n",
       "    }\n",
       "\n",
       "    .dataframe thead th {\n",
       "        text-align: right;\n",
       "    }\n",
       "</style>\n",
       "<table border=\"1\" class=\"dataframe\">\n",
       "  <thead>\n",
       "    <tr style=\"text-align: right;\">\n",
       "      <th></th>\n",
       "      <th>count</th>\n",
       "      <th>timings</th>\n",
       "      <th>Datetime</th>\n",
       "    </tr>\n",
       "  </thead>\n",
       "  <tbody>\n",
       "    <tr>\n",
       "      <th>0</th>\n",
       "      <td>1</td>\n",
       "      <td>2020-06-28 16:40:11.538763</td>\n",
       "      <td>2020-06-28 16:40:11.538763</td>\n",
       "    </tr>\n",
       "    <tr>\n",
       "      <th>1</th>\n",
       "      <td>2</td>\n",
       "      <td>2020-06-28 16:40:17.543537</td>\n",
       "      <td>2020-06-28 16:40:17.543537</td>\n",
       "    </tr>\n",
       "    <tr>\n",
       "      <th>2</th>\n",
       "      <td>3</td>\n",
       "      <td>2020-06-28 16:40:28.666688</td>\n",
       "      <td>2020-06-28 16:40:28.666688</td>\n",
       "    </tr>\n",
       "    <tr>\n",
       "      <th>3</th>\n",
       "      <td>4</td>\n",
       "      <td>2020-06-28 16:40:34.640885</td>\n",
       "      <td>2020-06-28 16:40:34.640885</td>\n",
       "    </tr>\n",
       "    <tr>\n",
       "      <th>4</th>\n",
       "      <td>5</td>\n",
       "      <td>2020-06-28 16:40:45.889237</td>\n",
       "      <td>2020-06-28 16:40:45.889237</td>\n",
       "    </tr>\n",
       "    <tr>\n",
       "      <th>...</th>\n",
       "      <td>...</td>\n",
       "      <td>...</td>\n",
       "      <td>...</td>\n",
       "    </tr>\n",
       "    <tr>\n",
       "      <th>1113</th>\n",
       "      <td>1114</td>\n",
       "      <td>2020-06-28 19:19:34.304837</td>\n",
       "      <td>2020-06-28 19:19:34.304837</td>\n",
       "    </tr>\n",
       "    <tr>\n",
       "      <th>1114</th>\n",
       "      <td>1115</td>\n",
       "      <td>2020-06-28 19:19:45.509329</td>\n",
       "      <td>2020-06-28 19:19:45.509329</td>\n",
       "    </tr>\n",
       "    <tr>\n",
       "      <th>1115</th>\n",
       "      <td>1116</td>\n",
       "      <td>2020-06-28 19:19:51.529480</td>\n",
       "      <td>2020-06-28 19:19:51.529480</td>\n",
       "    </tr>\n",
       "    <tr>\n",
       "      <th>1116</th>\n",
       "      <td>1117</td>\n",
       "      <td>2020-06-28 19:20:02.690825</td>\n",
       "      <td>2020-06-28 19:20:02.690825</td>\n",
       "    </tr>\n",
       "    <tr>\n",
       "      <th>1117</th>\n",
       "      <td>1118</td>\n",
       "      <td>2020-06-28 19:20:08.719560</td>\n",
       "      <td>2020-06-28 19:20:08.719560</td>\n",
       "    </tr>\n",
       "  </tbody>\n",
       "</table>\n",
       "<p>1118 rows × 3 columns</p>\n",
       "</div>"
      ],
      "text/plain": [
       "      count                     timings                   Datetime\n",
       "0         1  2020-06-28 16:40:11.538763 2020-06-28 16:40:11.538763\n",
       "1         2  2020-06-28 16:40:17.543537 2020-06-28 16:40:17.543537\n",
       "2         3  2020-06-28 16:40:28.666688 2020-06-28 16:40:28.666688\n",
       "3         4  2020-06-28 16:40:34.640885 2020-06-28 16:40:34.640885\n",
       "4         5  2020-06-28 16:40:45.889237 2020-06-28 16:40:45.889237\n",
       "...     ...                         ...                        ...\n",
       "1113   1114  2020-06-28 19:19:34.304837 2020-06-28 19:19:34.304837\n",
       "1114   1115  2020-06-28 19:19:45.509329 2020-06-28 19:19:45.509329\n",
       "1115   1116  2020-06-28 19:19:51.529480 2020-06-28 19:19:51.529480\n",
       "1116   1117  2020-06-28 19:20:02.690825 2020-06-28 19:20:02.690825\n",
       "1117   1118  2020-06-28 19:20:08.719560 2020-06-28 19:20:08.719560\n",
       "\n",
       "[1118 rows x 3 columns]"
      ]
     },
     "execution_count": 61,
     "metadata": {},
     "output_type": "execute_result"
    }
   ],
   "source": [
    "ffx_cleaned"
   ]
  },
  {
   "cell_type": "markdown",
   "metadata": {},
   "source": [
    "# **Cleaning Data for ffx2 (newer data)**"
   ]
  },
  {
   "cell_type": "code",
   "execution_count": null,
   "metadata": {},
   "outputs": [],
   "source": []
  },
  {
   "cell_type": "code",
   "execution_count": null,
   "metadata": {},
   "outputs": [],
   "source": []
  },
  {
   "cell_type": "code",
   "execution_count": null,
   "metadata": {},
   "outputs": [],
   "source": []
  },
  {
   "cell_type": "code",
   "execution_count": null,
   "metadata": {},
   "outputs": [],
   "source": []
  },
  {
   "cell_type": "code",
   "execution_count": null,
   "metadata": {},
   "outputs": [],
   "source": []
  },
  {
   "cell_type": "code",
   "execution_count": null,
   "metadata": {},
   "outputs": [],
   "source": []
  },
  {
   "cell_type": "code",
   "execution_count": null,
   "metadata": {},
   "outputs": [],
   "source": []
  },
  {
   "cell_type": "code",
   "execution_count": null,
   "metadata": {},
   "outputs": [],
   "source": []
  },
  {
   "cell_type": "code",
   "execution_count": null,
   "metadata": {},
   "outputs": [],
   "source": []
  },
  {
   "cell_type": "code",
   "execution_count": null,
   "metadata": {},
   "outputs": [],
   "source": []
  },
  {
   "cell_type": "code",
   "execution_count": null,
   "metadata": {},
   "outputs": [],
   "source": []
  },
  {
   "cell_type": "code",
   "execution_count": null,
   "metadata": {},
   "outputs": [],
   "source": []
  },
  {
   "cell_type": "code",
   "execution_count": null,
   "metadata": {},
   "outputs": [],
   "source": []
  },
  {
   "cell_type": "code",
   "execution_count": null,
   "metadata": {},
   "outputs": [],
   "source": []
  },
  {
   "cell_type": "code",
   "execution_count": null,
   "metadata": {},
   "outputs": [],
   "source": []
  },
  {
   "cell_type": "code",
   "execution_count": null,
   "metadata": {},
   "outputs": [],
   "source": []
  },
  {
   "cell_type": "code",
   "execution_count": null,
   "metadata": {},
   "outputs": [],
   "source": []
  },
  {
   "cell_type": "code",
   "execution_count": null,
   "metadata": {},
   "outputs": [],
   "source": []
  },
  {
   "cell_type": "code",
   "execution_count": null,
   "metadata": {},
   "outputs": [],
   "source": []
  },
  {
   "cell_type": "code",
   "execution_count": null,
   "metadata": {},
   "outputs": [],
   "source": [
    "ffx.shape"
   ]
  },
  {
   "cell_type": "code",
   "execution_count": null,
   "metadata": {},
   "outputs": [],
   "source": [
    "counts = ffx['count,']\n",
    "counts"
   ]
  },
  {
   "cell_type": "code",
   "execution_count": null,
   "metadata": {},
   "outputs": [],
   "source": [
    "type(counts[1])"
   ]
  },
  {
   "cell_type": "code",
   "execution_count": null,
   "metadata": {},
   "outputs": [],
   "source": [
    "timings = ffx['timings']\n",
    "timings.head()"
   ]
  },
  {
   "cell_type": "code",
   "execution_count": null,
   "metadata": {},
   "outputs": [],
   "source": [
    "# type(timings) #--> Series\n",
    "type(timings[1]) #--> String"
   ]
  },
  {
   "cell_type": "code",
   "execution_count": null,
   "metadata": {},
   "outputs": [],
   "source": [
    "timings2 = pd.to_datetime(timings)\n",
    "timings2.head()"
   ]
  },
  {
   "cell_type": "code",
   "execution_count": null,
   "metadata": {},
   "outputs": [],
   "source": [
    "# type(timings2[1]) #--> Timestamp\n",
    "# type(timings2[1]-timings2[0]) #--> Timedelta\n",
    "timings2[10]-timings2[0]"
   ]
  },
  {
   "cell_type": "code",
   "execution_count": null,
   "metadata": {},
   "outputs": [],
   "source": [
    "(timings2[10]-timings2[0]).seconds + (timings2[10]-timings2[0]).microseconds/10**6"
   ]
  },
  {
   "cell_type": "code",
   "execution_count": null,
   "metadata": {},
   "outputs": [],
   "source": [
    "time_diff = [(timings2[i+1]-timings2[i]).seconds + (timings2[i+1]-timings2[i]).microseconds/10**6 for i in range(0, 1134)]\n",
    "# len(time_diff) #--> 1134\n",
    "time_diff[1115:]"
   ]
  },
  {
   "cell_type": "code",
   "execution_count": null,
   "metadata": {},
   "outputs": [],
   "source": [
    "# Need to remove last 17 entries of time_diff list\n",
    "y = time_diff[:len(time_diff)-17]\n",
    "y[1110:]\n",
    "# len(y) #-->1117"
   ]
  },
  {
   "cell_type": "code",
   "execution_count": null,
   "metadata": {},
   "outputs": [],
   "source": [
    "# Removing last 17 corresponding entries in counts list\n",
    "# and an extra one to make it the same size as time_diff\n",
    "\n",
    "x = counts[:len(counts)-18]\n",
    "len(x)"
   ]
  },
  {
   "cell_type": "code",
   "execution_count": null,
   "metadata": {},
   "outputs": [],
   "source": [
    "# fig = plt.figure()\n",
    "\n",
    "# axes = fig.add_axes([0,0,1,1])\n",
    "# axes.set_xlabel(\"Counts\")\n",
    "# axes.set_ylabel(\"Time Differences\")\n",
    "\n",
    "# # axes.plot(x, y)\n"
   ]
  },
  {
   "cell_type": "code",
   "execution_count": null,
   "metadata": {},
   "outputs": [],
   "source": [
    "plt.scatter(x,y)"
   ]
  },
  {
   "cell_type": "code",
   "execution_count": null,
   "metadata": {},
   "outputs": [],
   "source": [
    "average_time = sum(y)/len(y)\n",
    "average_time"
   ]
  },
  {
   "cell_type": "code",
   "execution_count": null,
   "metadata": {},
   "outputs": [],
   "source": [
    "above_average = [time for time in y if time > average_time]\n",
    "above_average[:5]\n",
    "# len(above_average) #--> 558"
   ]
  },
  {
   "cell_type": "code",
   "execution_count": null,
   "metadata": {},
   "outputs": [],
   "source": [
    "below_average = [time for time in y if time < average_time]\n",
    "below_average[:5]\n",
    "# len(below_average) #--> 559"
   ]
  },
  {
   "cell_type": "code",
   "execution_count": null,
   "metadata": {},
   "outputs": [],
   "source": [
    "count_above = [count for (count, time) in zip(x,y) if time > average_time]\n",
    "count_above # --> ALL EVEN NUMBERS!!\n",
    "len(count_above)"
   ]
  },
  {
   "cell_type": "code",
   "execution_count": null,
   "metadata": {},
   "outputs": [],
   "source": [
    "avg_of_above = sum(above_average)/len(above_average)\n",
    "avg_of_above"
   ]
  },
  {
   "cell_type": "code",
   "execution_count": null,
   "metadata": {},
   "outputs": [],
   "source": [
    "std_above = np.std(above_average)\n",
    "std_above"
   ]
  },
  {
   "cell_type": "code",
   "execution_count": null,
   "metadata": {},
   "outputs": [],
   "source": [
    "avg_of_below = sum(below_average)/len(below_average)\n",
    "avg_of_below"
   ]
  },
  {
   "cell_type": "code",
   "execution_count": null,
   "metadata": {},
   "outputs": [],
   "source": [
    "std_below = np.std(below_average)\n",
    "std_below"
   ]
  },
  {
   "cell_type": "code",
   "execution_count": null,
   "metadata": {},
   "outputs": [],
   "source": [
    "count_below = [count for (count, time) in zip(x,y) if time < average_time]\n",
    "count_below # --> ALL EVEN NUMBERS!!\n",
    "len(count_below)"
   ]
  },
  {
   "cell_type": "code",
   "execution_count": null,
   "metadata": {},
   "outputs": [],
   "source": [
    "plt.scatter(count_above, above_average)"
   ]
  },
  {
   "cell_type": "code",
   "execution_count": null,
   "metadata": {},
   "outputs": [],
   "source": [
    "plt.scatter(count_below, below_average)"
   ]
  },
  {
   "cell_type": "code",
   "execution_count": null,
   "metadata": {
    "scrolled": true
   },
   "outputs": [],
   "source": [
    "num_bins = 20\n",
    "plt.hist(above_average, bins = num_bins)"
   ]
  },
  {
   "cell_type": "code",
   "execution_count": null,
   "metadata": {},
   "outputs": [],
   "source": [
    "num_bins = 20\n",
    "plt.hist(below_average, bins = num_bins)"
   ]
  },
  {
   "cell_type": "code",
   "execution_count": null,
   "metadata": {},
   "outputs": [],
   "source": [
    "count_above[:5]"
   ]
  },
  {
   "cell_type": "code",
   "execution_count": null,
   "metadata": {},
   "outputs": [],
   "source": [
    "def all_even_or_odd(array):\n",
    "\n",
    "    remainders = list(map(lambda x: int(x[:-1]) % 2, array))\n",
    "    \n",
    "    if remainders.count(1) == len(array):\n",
    "        return \"The array contains all odd integers\"\n",
    "    elif remainders.count(0) == len(array):\n",
    "        return \"The array contains all even integers\"\n",
    "    else:\n",
    "        return \"The array contains both even and odd integers\""
   ]
  },
  {
   "cell_type": "code",
   "execution_count": null,
   "metadata": {},
   "outputs": [],
   "source": [
    "all_even_or_odd(count_above)"
   ]
  },
  {
   "cell_type": "code",
   "execution_count": null,
   "metadata": {},
   "outputs": [],
   "source": [
    "all_even_or_odd(count_below)"
   ]
  },
  {
   "cell_type": "code",
   "execution_count": null,
   "metadata": {},
   "outputs": [],
   "source": []
  }
 ],
 "metadata": {
  "kernelspec": {
   "display_name": "Python 3",
   "language": "python",
   "name": "python3"
  },
  "language_info": {
   "codemirror_mode": {
    "name": "ipython",
    "version": 3
   },
   "file_extension": ".py",
   "mimetype": "text/x-python",
   "name": "python",
   "nbconvert_exporter": "python",
   "pygments_lexer": "ipython3",
   "version": "3.7.6"
  }
 },
 "nbformat": 4,
 "nbformat_minor": 4
}
