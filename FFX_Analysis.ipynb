{
 "cells": [
  {
   "cell_type": "markdown",
   "metadata": {},
   "source": [
    "Importing all needed Python modules"
   ]
  },
  {
   "cell_type": "code",
   "execution_count": 1,
   "metadata": {},
   "outputs": [],
   "source": [
    "import pandas as pd\n",
    "import matplotlib.pyplot as plt\n",
    "import numpy as np\n",
    "import datetime as dt\n",
    "import seaborn as sns\n",
    "sns.set(style=\"darkgrid\")"
   ]
  },
  {
   "cell_type": "code",
   "execution_count": 2,
   "metadata": {},
   "outputs": [],
   "source": [
    "import datetime\n",
    "from datetime import datetime"
   ]
  },
  {
   "cell_type": "code",
   "execution_count": 3,
   "metadata": {},
   "outputs": [],
   "source": [
    "# Used to execute multple code lines in a single cell\n",
    "from IPython.core.interactiveshell import InteractiveShell\n",
    "InteractiveShell.ast_node_interactivity = \"all\""
   ]
  },
  {
   "cell_type": "markdown",
   "metadata": {},
   "source": [
    "Importing Raw Data Files"
   ]
  },
  {
   "cell_type": "code",
   "execution_count": 4,
   "metadata": {},
   "outputs": [],
   "source": [
    "ffx = pd.read_csv(\"ffxLighting_original_june28.txt\")"
   ]
  },
  {
   "cell_type": "code",
   "execution_count": 63,
   "metadata": {},
   "outputs": [],
   "source": [
    "ffx2 = pd.read_csv(\"ffxLighting_new_july1.txt\")"
   ]
  },
  {
   "cell_type": "code",
   "execution_count": 6,
   "metadata": {},
   "outputs": [],
   "source": [
    "ffx3 = pd.read_csv(\"gray_file_july1.txt\")"
   ]
  },
  {
   "cell_type": "markdown",
   "metadata": {},
   "source": [
    "Initial Look At The Data"
   ]
  },
  {
   "cell_type": "code",
   "execution_count": 7,
   "metadata": {},
   "outputs": [
    {
     "data": {
      "text/html": [
       "<div>\n",
       "<style scoped>\n",
       "    .dataframe tbody tr th:only-of-type {\n",
       "        vertical-align: middle;\n",
       "    }\n",
       "\n",
       "    .dataframe tbody tr th {\n",
       "        vertical-align: top;\n",
       "    }\n",
       "\n",
       "    .dataframe thead th {\n",
       "        text-align: right;\n",
       "    }\n",
       "</style>\n",
       "<table border=\"1\" class=\"dataframe\">\n",
       "  <thead>\n",
       "    <tr style=\"text-align: right;\">\n",
       "      <th></th>\n",
       "      <th>count</th>\n",
       "      <th>timings</th>\n",
       "    </tr>\n",
       "  </thead>\n",
       "  <tbody>\n",
       "    <tr>\n",
       "      <th>0</th>\n",
       "      <td>1</td>\n",
       "      <td>2020-06-28 16:40:11.538763</td>\n",
       "    </tr>\n",
       "    <tr>\n",
       "      <th>1</th>\n",
       "      <td>2</td>\n",
       "      <td>2020-06-28 16:40:17.543537</td>\n",
       "    </tr>\n",
       "    <tr>\n",
       "      <th>2</th>\n",
       "      <td>3</td>\n",
       "      <td>2020-06-28 16:40:28.666688</td>\n",
       "    </tr>\n",
       "    <tr>\n",
       "      <th>3</th>\n",
       "      <td>4</td>\n",
       "      <td>2020-06-28 16:40:34.640885</td>\n",
       "    </tr>\n",
       "    <tr>\n",
       "      <th>4</th>\n",
       "      <td>5</td>\n",
       "      <td>2020-06-28 16:40:45.889237</td>\n",
       "    </tr>\n",
       "  </tbody>\n",
       "</table>\n",
       "</div>"
      ],
      "text/plain": [
       "   count                      timings\n",
       "0      1   2020-06-28 16:40:11.538763\n",
       "1      2   2020-06-28 16:40:17.543537\n",
       "2      3   2020-06-28 16:40:28.666688\n",
       "3      4   2020-06-28 16:40:34.640885\n",
       "4      5   2020-06-28 16:40:45.889237"
      ]
     },
     "execution_count": 7,
     "metadata": {},
     "output_type": "execute_result"
    },
    {
     "data": {
      "text/html": [
       "<div>\n",
       "<style scoped>\n",
       "    .dataframe tbody tr th:only-of-type {\n",
       "        vertical-align: middle;\n",
       "    }\n",
       "\n",
       "    .dataframe tbody tr th {\n",
       "        vertical-align: top;\n",
       "    }\n",
       "\n",
       "    .dataframe thead th {\n",
       "        text-align: right;\n",
       "    }\n",
       "</style>\n",
       "<table border=\"1\" class=\"dataframe\">\n",
       "  <thead>\n",
       "    <tr style=\"text-align: right;\">\n",
       "      <th></th>\n",
       "      <th>count</th>\n",
       "      <th>timings</th>\n",
       "    </tr>\n",
       "  </thead>\n",
       "  <tbody>\n",
       "    <tr>\n",
       "      <th>0</th>\n",
       "      <td>1</td>\n",
       "      <td>2020-07-01 22:18:22.806651</td>\n",
       "    </tr>\n",
       "    <tr>\n",
       "      <th>1</th>\n",
       "      <td>2</td>\n",
       "      <td>2020-07-01 22:18:49.157322</td>\n",
       "    </tr>\n",
       "    <tr>\n",
       "      <th>2</th>\n",
       "      <td>3</td>\n",
       "      <td>2020-07-01 22:18:55.197844</td>\n",
       "    </tr>\n",
       "    <tr>\n",
       "      <th>3</th>\n",
       "      <td>4</td>\n",
       "      <td>2020-07-01 22:19:06.378970</td>\n",
       "    </tr>\n",
       "    <tr>\n",
       "      <th>4</th>\n",
       "      <td>5</td>\n",
       "      <td>2020-07-01 22:19:12.418819</td>\n",
       "    </tr>\n",
       "  </tbody>\n",
       "</table>\n",
       "</div>"
      ],
      "text/plain": [
       "   count                      timings\n",
       "0      1   2020-07-01 22:18:22.806651\n",
       "1      2   2020-07-01 22:18:49.157322\n",
       "2      3   2020-07-01 22:18:55.197844\n",
       "3      4   2020-07-01 22:19:06.378970\n",
       "4      5   2020-07-01 22:19:12.418819"
      ]
     },
     "execution_count": 7,
     "metadata": {},
     "output_type": "execute_result"
    },
    {
     "data": {
      "text/html": [
       "<div>\n",
       "<style scoped>\n",
       "    .dataframe tbody tr th:only-of-type {\n",
       "        vertical-align: middle;\n",
       "    }\n",
       "\n",
       "    .dataframe tbody tr th {\n",
       "        vertical-align: top;\n",
       "    }\n",
       "\n",
       "    .dataframe thead th {\n",
       "        text-align: right;\n",
       "    }\n",
       "</style>\n",
       "<table border=\"1\" class=\"dataframe\">\n",
       "  <thead>\n",
       "    <tr style=\"text-align: right;\">\n",
       "      <th></th>\n",
       "      <th>grayscale</th>\n",
       "      <th>timings</th>\n",
       "    </tr>\n",
       "  </thead>\n",
       "  <tbody>\n",
       "    <tr>\n",
       "      <th>0</th>\n",
       "      <td>235.556693</td>\n",
       "      <td>2020-07-01 22:18:21.991453</td>\n",
       "    </tr>\n",
       "    <tr>\n",
       "      <th>1</th>\n",
       "      <td>235.544079</td>\n",
       "      <td>2020-07-01 22:18:22.187393</td>\n",
       "    </tr>\n",
       "    <tr>\n",
       "      <th>2</th>\n",
       "      <td>229.834134</td>\n",
       "      <td>2020-07-01 22:18:22.202118</td>\n",
       "    </tr>\n",
       "    <tr>\n",
       "      <th>3</th>\n",
       "      <td>229.882272</td>\n",
       "      <td>2020-07-01 22:18:22.219390</td>\n",
       "    </tr>\n",
       "    <tr>\n",
       "      <th>4</th>\n",
       "      <td>229.889206</td>\n",
       "      <td>2020-07-01 22:18:22.234170</td>\n",
       "    </tr>\n",
       "  </tbody>\n",
       "</table>\n",
       "</div>"
      ],
      "text/plain": [
       "    grayscale                      timings\n",
       "0  235.556693   2020-07-01 22:18:21.991453\n",
       "1  235.544079   2020-07-01 22:18:22.187393\n",
       "2  229.834134   2020-07-01 22:18:22.202118\n",
       "3  229.882272   2020-07-01 22:18:22.219390\n",
       "4  229.889206   2020-07-01 22:18:22.234170"
      ]
     },
     "execution_count": 7,
     "metadata": {},
     "output_type": "execute_result"
    }
   ],
   "source": [
    "ffx.head()\n",
    "ffx2.head()\n",
    "ffx3.head()"
   ]
  },
  {
   "cell_type": "code",
   "execution_count": 8,
   "metadata": {},
   "outputs": [
    {
     "data": {
      "text/plain": [
       "1"
      ]
     },
     "execution_count": 8,
     "metadata": {},
     "output_type": "execute_result"
    },
    {
     "data": {
      "text/plain": [
       "' 2020-06-28 16:40:11.538763'"
      ]
     },
     "execution_count": 8,
     "metadata": {},
     "output_type": "execute_result"
    }
   ],
   "source": [
    "ffx[\"count\"][0]\n",
    "ffx[\" timings\"][0]"
   ]
  },
  {
   "cell_type": "code",
   "execution_count": 9,
   "metadata": {},
   "outputs": [
    {
     "data": {
      "text/plain": [
       "numpy.int64"
      ]
     },
     "execution_count": 9,
     "metadata": {},
     "output_type": "execute_result"
    },
    {
     "data": {
      "text/plain": [
       "str"
      ]
     },
     "execution_count": 9,
     "metadata": {},
     "output_type": "execute_result"
    }
   ],
   "source": [
    "type(ffx[\"count\"][0])\n",
    "type(ffx[\" timings\"][0])"
   ]
  },
  {
   "cell_type": "code",
   "execution_count": 10,
   "metadata": {},
   "outputs": [
    {
     "data": {
      "text/plain": [
       "1"
      ]
     },
     "execution_count": 10,
     "metadata": {},
     "output_type": "execute_result"
    },
    {
     "data": {
      "text/plain": [
       "' 2020-07-01 22:18:22.806651'"
      ]
     },
     "execution_count": 10,
     "metadata": {},
     "output_type": "execute_result"
    }
   ],
   "source": [
    "ffx2[\"count\"][0]\n",
    "ffx2[\" timings\"][0]"
   ]
  },
  {
   "cell_type": "code",
   "execution_count": 11,
   "metadata": {},
   "outputs": [
    {
     "data": {
      "text/plain": [
       "235.55669270833332"
      ]
     },
     "execution_count": 11,
     "metadata": {},
     "output_type": "execute_result"
    },
    {
     "data": {
      "text/plain": [
       "' 2020-07-01 22:18:21.991453'"
      ]
     },
     "execution_count": 11,
     "metadata": {},
     "output_type": "execute_result"
    }
   ],
   "source": [
    "ffx3[\"grayscale\"][0]\n",
    "ffx3[\" timings\"][0]"
   ]
  },
  {
   "cell_type": "markdown",
   "metadata": {},
   "source": [
    "Getting General Info About Raw Data (NOTE: The Stupid Space!!!)"
   ]
  },
  {
   "cell_type": "code",
   "execution_count": 12,
   "metadata": {},
   "outputs": [
    {
     "name": "stdout",
     "output_type": "stream",
     "text": [
      "<class 'pandas.core.frame.DataFrame'>\n",
      "RangeIndex: 1135 entries, 0 to 1134\n",
      "Data columns (total 2 columns):\n",
      " #   Column    Non-Null Count  Dtype \n",
      "---  ------    --------------  ----- \n",
      " 0   count     1135 non-null   int64 \n",
      " 1    timings  1135 non-null   object\n",
      "dtypes: int64(1), object(1)\n",
      "memory usage: 17.9+ KB\n"
     ]
    }
   ],
   "source": [
    "ffx.info()"
   ]
  },
  {
   "cell_type": "code",
   "execution_count": 13,
   "metadata": {},
   "outputs": [
    {
     "name": "stdout",
     "output_type": "stream",
     "text": [
      "<class 'pandas.core.frame.DataFrame'>\n",
      "RangeIndex: 1859 entries, 0 to 1858\n",
      "Data columns (total 2 columns):\n",
      " #   Column    Non-Null Count  Dtype \n",
      "---  ------    --------------  ----- \n",
      " 0   count     1859 non-null   int64 \n",
      " 1    timings  1859 non-null   object\n",
      "dtypes: int64(1), object(1)\n",
      "memory usage: 29.2+ KB\n"
     ]
    }
   ],
   "source": [
    "ffx2.info()"
   ]
  },
  {
   "cell_type": "code",
   "execution_count": 14,
   "metadata": {},
   "outputs": [
    {
     "name": "stdout",
     "output_type": "stream",
     "text": [
      "<class 'pandas.core.frame.DataFrame'>\n",
      "RangeIndex: 399539 entries, 0 to 399538\n",
      "Data columns (total 2 columns):\n",
      " #   Column     Non-Null Count   Dtype  \n",
      "---  ------     --------------   -----  \n",
      " 0   grayscale  399539 non-null  float64\n",
      " 1    timings   399539 non-null  object \n",
      "dtypes: float64(1), object(1)\n",
      "memory usage: 6.1+ MB\n"
     ]
    }
   ],
   "source": [
    "ffx3.info()"
   ]
  },
  {
   "cell_type": "code",
   "execution_count": 15,
   "metadata": {},
   "outputs": [
    {
     "data": {
      "text/plain": [
       "str"
      ]
     },
     "execution_count": 15,
     "metadata": {},
     "output_type": "execute_result"
    },
    {
     "data": {
      "text/plain": [
       "str"
      ]
     },
     "execution_count": 15,
     "metadata": {},
     "output_type": "execute_result"
    },
    {
     "data": {
      "text/plain": [
       "str"
      ]
     },
     "execution_count": 15,
     "metadata": {},
     "output_type": "execute_result"
    }
   ],
   "source": [
    "# All date/time column data is \"str\" !!!\n",
    "type(ffx[\" timings\"][0])\n",
    "type(ffx2[\" timings\"][0])\n",
    "type(ffx3[\" timings\"][0])"
   ]
  },
  {
   "cell_type": "markdown",
   "metadata": {},
   "source": [
    "# **Cleaning Data for ffx (original data)**"
   ]
  },
  {
   "cell_type": "markdown",
   "metadata": {},
   "source": [
    "Need to first get rid of the stupid space (in column header)!"
   ]
  },
  {
   "cell_type": "code",
   "execution_count": 16,
   "metadata": {},
   "outputs": [
    {
     "data": {
      "text/html": [
       "<div>\n",
       "<style scoped>\n",
       "    .dataframe tbody tr th:only-of-type {\n",
       "        vertical-align: middle;\n",
       "    }\n",
       "\n",
       "    .dataframe tbody tr th {\n",
       "        vertical-align: top;\n",
       "    }\n",
       "\n",
       "    .dataframe thead th {\n",
       "        text-align: right;\n",
       "    }\n",
       "</style>\n",
       "<table border=\"1\" class=\"dataframe\">\n",
       "  <thead>\n",
       "    <tr style=\"text-align: right;\">\n",
       "      <th></th>\n",
       "      <th>count</th>\n",
       "      <th>timings</th>\n",
       "    </tr>\n",
       "  </thead>\n",
       "  <tbody>\n",
       "    <tr>\n",
       "      <th>0</th>\n",
       "      <td>1</td>\n",
       "      <td>2020-06-28 16:40:11.538763</td>\n",
       "    </tr>\n",
       "    <tr>\n",
       "      <th>1</th>\n",
       "      <td>2</td>\n",
       "      <td>2020-06-28 16:40:17.543537</td>\n",
       "    </tr>\n",
       "    <tr>\n",
       "      <th>2</th>\n",
       "      <td>3</td>\n",
       "      <td>2020-06-28 16:40:28.666688</td>\n",
       "    </tr>\n",
       "    <tr>\n",
       "      <th>3</th>\n",
       "      <td>4</td>\n",
       "      <td>2020-06-28 16:40:34.640885</td>\n",
       "    </tr>\n",
       "    <tr>\n",
       "      <th>4</th>\n",
       "      <td>5</td>\n",
       "      <td>2020-06-28 16:40:45.889237</td>\n",
       "    </tr>\n",
       "  </tbody>\n",
       "</table>\n",
       "</div>"
      ],
      "text/plain": [
       "   count                      timings\n",
       "0      1   2020-06-28 16:40:11.538763\n",
       "1      2   2020-06-28 16:40:17.543537\n",
       "2      3   2020-06-28 16:40:28.666688\n",
       "3      4   2020-06-28 16:40:34.640885\n",
       "4      5   2020-06-28 16:40:45.889237"
      ]
     },
     "execution_count": 16,
     "metadata": {},
     "output_type": "execute_result"
    },
    {
     "data": {
      "text/plain": [
       "Index(['count', ' timings'], dtype='object')"
      ]
     },
     "execution_count": 16,
     "metadata": {},
     "output_type": "execute_result"
    },
    {
     "data": {
      "text/plain": [
       "' 2020-06-28 16:40:11.538763'"
      ]
     },
     "execution_count": 16,
     "metadata": {},
     "output_type": "execute_result"
    }
   ],
   "source": [
    "ffx.head()\n",
    "ffx.columns\n",
    "ffx[\" timings\"][0]"
   ]
  },
  {
   "cell_type": "code",
   "execution_count": 17,
   "metadata": {},
   "outputs": [
    {
     "data": {
      "text/plain": [
       "Index(['count', 'timings'], dtype='object')"
      ]
     },
     "execution_count": 17,
     "metadata": {},
     "output_type": "execute_result"
    }
   ],
   "source": [
    "ffx.rename(mapper={\" timings\": \"timings\"}, axis=1, inplace=True)\n",
    "ffx.columns"
   ]
  },
  {
   "cell_type": "markdown",
   "metadata": {},
   "source": [
    "Need to get rid of spaces in the \"timings\" DATA as well!!!"
   ]
  },
  {
   "cell_type": "code",
   "execution_count": 18,
   "metadata": {},
   "outputs": [
    {
     "data": {
      "text/plain": [
       "' 2020-06-28 16:40:11.538763'"
      ]
     },
     "execution_count": 18,
     "metadata": {},
     "output_type": "execute_result"
    },
    {
     "data": {
      "text/plain": [
       "str"
      ]
     },
     "execution_count": 18,
     "metadata": {},
     "output_type": "execute_result"
    }
   ],
   "source": [
    "ffx[\"timings\"][0]\n",
    "type(ffx[\"timings\"][0])"
   ]
  },
  {
   "cell_type": "code",
   "execution_count": 19,
   "metadata": {},
   "outputs": [],
   "source": [
    "ffx[\"timings\"] = ffx[\"timings\"].apply(lambda string: string[1:])"
   ]
  },
  {
   "cell_type": "code",
   "execution_count": 20,
   "metadata": {},
   "outputs": [
    {
     "data": {
      "text/plain": [
       "'2020-06-28 16:40:11.538763'"
      ]
     },
     "execution_count": 20,
     "metadata": {},
     "output_type": "execute_result"
    },
    {
     "data": {
      "text/plain": [
       "str"
      ]
     },
     "execution_count": 20,
     "metadata": {},
     "output_type": "execute_result"
    }
   ],
   "source": [
    "ffx[\"timings\"][0]\n",
    "type(ffx[\"timings\"][0])"
   ]
  },
  {
   "cell_type": "code",
   "execution_count": 21,
   "metadata": {
    "scrolled": true
   },
   "outputs": [
    {
     "data": {
      "text/html": [
       "<div>\n",
       "<style scoped>\n",
       "    .dataframe tbody tr th:only-of-type {\n",
       "        vertical-align: middle;\n",
       "    }\n",
       "\n",
       "    .dataframe tbody tr th {\n",
       "        vertical-align: top;\n",
       "    }\n",
       "\n",
       "    .dataframe thead th {\n",
       "        text-align: right;\n",
       "    }\n",
       "</style>\n",
       "<table border=\"1\" class=\"dataframe\">\n",
       "  <thead>\n",
       "    <tr style=\"text-align: right;\">\n",
       "      <th></th>\n",
       "      <th>count</th>\n",
       "      <th>timings</th>\n",
       "    </tr>\n",
       "  </thead>\n",
       "  <tbody>\n",
       "    <tr>\n",
       "      <th>0</th>\n",
       "      <td>1</td>\n",
       "      <td>2020-06-28 16:40:11.538763</td>\n",
       "    </tr>\n",
       "    <tr>\n",
       "      <th>1</th>\n",
       "      <td>2</td>\n",
       "      <td>2020-06-28 16:40:17.543537</td>\n",
       "    </tr>\n",
       "    <tr>\n",
       "      <th>2</th>\n",
       "      <td>3</td>\n",
       "      <td>2020-06-28 16:40:28.666688</td>\n",
       "    </tr>\n",
       "    <tr>\n",
       "      <th>3</th>\n",
       "      <td>4</td>\n",
       "      <td>2020-06-28 16:40:34.640885</td>\n",
       "    </tr>\n",
       "    <tr>\n",
       "      <th>4</th>\n",
       "      <td>5</td>\n",
       "      <td>2020-06-28 16:40:45.889237</td>\n",
       "    </tr>\n",
       "  </tbody>\n",
       "</table>\n",
       "</div>"
      ],
      "text/plain": [
       "   count                     timings\n",
       "0      1  2020-06-28 16:40:11.538763\n",
       "1      2  2020-06-28 16:40:17.543537\n",
       "2      3  2020-06-28 16:40:28.666688\n",
       "3      4  2020-06-28 16:40:34.640885\n",
       "4      5  2020-06-28 16:40:45.889237"
      ]
     },
     "execution_count": 21,
     "metadata": {},
     "output_type": "execute_result"
    }
   ],
   "source": [
    "ffx.head()"
   ]
  },
  {
   "cell_type": "markdown",
   "metadata": {},
   "source": [
    "Look for null values? (I already know there aren't any)"
   ]
  },
  {
   "cell_type": "code",
   "execution_count": 22,
   "metadata": {},
   "outputs": [
    {
     "data": {
      "text/plain": [
       "count      1135\n",
       "timings    1135\n",
       "dtype: int64"
      ]
     },
     "execution_count": 22,
     "metadata": {},
     "output_type": "execute_result"
    },
    {
     "data": {
      "text/plain": [
       "count      1135\n",
       "timings    1135\n",
       "dtype: int64"
      ]
     },
     "execution_count": 22,
     "metadata": {},
     "output_type": "execute_result"
    }
   ],
   "source": [
    "ffx.count()\n",
    "ffx.isnull().count()"
   ]
  },
  {
   "cell_type": "markdown",
   "metadata": {},
   "source": [
    "I happen to know that some values at the tail of the dataframe is not needed (it was recorded while I was dismantling the data capture setup). We will find the bad data, and remove the respective rows.\n",
    "\n",
    "Based on the project, we will most likely be more interested in time differences between lightning strikes.\n",
    "\n",
    "**SO! We must first change the timings data to 'datetime/timedelta' objects**"
   ]
  },
  {
   "cell_type": "code",
   "execution_count": 23,
   "metadata": {},
   "outputs": [
    {
     "data": {
      "text/html": [
       "<div>\n",
       "<style scoped>\n",
       "    .dataframe tbody tr th:only-of-type {\n",
       "        vertical-align: middle;\n",
       "    }\n",
       "\n",
       "    .dataframe tbody tr th {\n",
       "        vertical-align: top;\n",
       "    }\n",
       "\n",
       "    .dataframe thead th {\n",
       "        text-align: right;\n",
       "    }\n",
       "</style>\n",
       "<table border=\"1\" class=\"dataframe\">\n",
       "  <thead>\n",
       "    <tr style=\"text-align: right;\">\n",
       "      <th></th>\n",
       "      <th>count</th>\n",
       "      <th>timings</th>\n",
       "    </tr>\n",
       "  </thead>\n",
       "  <tbody>\n",
       "    <tr>\n",
       "      <th>0</th>\n",
       "      <td>1</td>\n",
       "      <td>2020-06-28 16:40:11.538763</td>\n",
       "    </tr>\n",
       "    <tr>\n",
       "      <th>1</th>\n",
       "      <td>2</td>\n",
       "      <td>2020-06-28 16:40:17.543537</td>\n",
       "    </tr>\n",
       "    <tr>\n",
       "      <th>2</th>\n",
       "      <td>3</td>\n",
       "      <td>2020-06-28 16:40:28.666688</td>\n",
       "    </tr>\n",
       "    <tr>\n",
       "      <th>3</th>\n",
       "      <td>4</td>\n",
       "      <td>2020-06-28 16:40:34.640885</td>\n",
       "    </tr>\n",
       "    <tr>\n",
       "      <th>4</th>\n",
       "      <td>5</td>\n",
       "      <td>2020-06-28 16:40:45.889237</td>\n",
       "    </tr>\n",
       "  </tbody>\n",
       "</table>\n",
       "</div>"
      ],
      "text/plain": [
       "   count                     timings\n",
       "0      1  2020-06-28 16:40:11.538763\n",
       "1      2  2020-06-28 16:40:17.543537\n",
       "2      3  2020-06-28 16:40:28.666688\n",
       "3      4  2020-06-28 16:40:34.640885\n",
       "4      5  2020-06-28 16:40:45.889237"
      ]
     },
     "execution_count": 23,
     "metadata": {},
     "output_type": "execute_result"
    },
    {
     "data": {
      "text/plain": [
       "'2020-06-28 16:40:11.538763'"
      ]
     },
     "execution_count": 23,
     "metadata": {},
     "output_type": "execute_result"
    },
    {
     "data": {
      "text/plain": [
       "str"
      ]
     },
     "execution_count": 23,
     "metadata": {},
     "output_type": "execute_result"
    }
   ],
   "source": [
    "ffx.head()\n",
    "ffx[\"timings\"][0]\n",
    "type(ffx[\"timings\"][0])"
   ]
  },
  {
   "cell_type": "code",
   "execution_count": 24,
   "metadata": {},
   "outputs": [
    {
     "data": {
      "text/html": [
       "<div>\n",
       "<style scoped>\n",
       "    .dataframe tbody tr th:only-of-type {\n",
       "        vertical-align: middle;\n",
       "    }\n",
       "\n",
       "    .dataframe tbody tr th {\n",
       "        vertical-align: top;\n",
       "    }\n",
       "\n",
       "    .dataframe thead th {\n",
       "        text-align: right;\n",
       "    }\n",
       "</style>\n",
       "<table border=\"1\" class=\"dataframe\">\n",
       "  <thead>\n",
       "    <tr style=\"text-align: right;\">\n",
       "      <th></th>\n",
       "      <th>count</th>\n",
       "      <th>timings</th>\n",
       "      <th>Datetime</th>\n",
       "    </tr>\n",
       "  </thead>\n",
       "  <tbody>\n",
       "    <tr>\n",
       "      <th>0</th>\n",
       "      <td>1</td>\n",
       "      <td>2020-06-28 16:40:11.538763</td>\n",
       "      <td>2020-06-28 16:40:11.538763</td>\n",
       "    </tr>\n",
       "    <tr>\n",
       "      <th>1</th>\n",
       "      <td>2</td>\n",
       "      <td>2020-06-28 16:40:17.543537</td>\n",
       "      <td>2020-06-28 16:40:17.543537</td>\n",
       "    </tr>\n",
       "    <tr>\n",
       "      <th>2</th>\n",
       "      <td>3</td>\n",
       "      <td>2020-06-28 16:40:28.666688</td>\n",
       "      <td>2020-06-28 16:40:28.666688</td>\n",
       "    </tr>\n",
       "    <tr>\n",
       "      <th>3</th>\n",
       "      <td>4</td>\n",
       "      <td>2020-06-28 16:40:34.640885</td>\n",
       "      <td>2020-06-28 16:40:34.640885</td>\n",
       "    </tr>\n",
       "    <tr>\n",
       "      <th>4</th>\n",
       "      <td>5</td>\n",
       "      <td>2020-06-28 16:40:45.889237</td>\n",
       "      <td>2020-06-28 16:40:45.889237</td>\n",
       "    </tr>\n",
       "  </tbody>\n",
       "</table>\n",
       "</div>"
      ],
      "text/plain": [
       "   count                     timings                   Datetime\n",
       "0      1  2020-06-28 16:40:11.538763 2020-06-28 16:40:11.538763\n",
       "1      2  2020-06-28 16:40:17.543537 2020-06-28 16:40:17.543537\n",
       "2      3  2020-06-28 16:40:28.666688 2020-06-28 16:40:28.666688\n",
       "3      4  2020-06-28 16:40:34.640885 2020-06-28 16:40:34.640885\n",
       "4      5  2020-06-28 16:40:45.889237 2020-06-28 16:40:45.889237"
      ]
     },
     "execution_count": 24,
     "metadata": {},
     "output_type": "execute_result"
    },
    {
     "data": {
      "text/plain": [
       "Timestamp('2020-06-28 16:40:11.538763')"
      ]
     },
     "execution_count": 24,
     "metadata": {},
     "output_type": "execute_result"
    },
    {
     "data": {
      "text/plain": [
       "pandas._libs.tslibs.timestamps.Timestamp"
      ]
     },
     "execution_count": 24,
     "metadata": {},
     "output_type": "execute_result"
    }
   ],
   "source": [
    "ffx[\"Datetime\"] = pd.to_datetime(ffx[\"timings\"])\n",
    "ffx.head()\n",
    "ffx[\"Datetime\"][0]\n",
    "type(ffx[\"Datetime\"][0])"
   ]
  },
  {
   "cell_type": "markdown",
   "metadata": {},
   "source": [
    "Now that everything is converted to actual \"datetime\" dtype, we can look for our bad data. It's somewhere at the end, remember!"
   ]
  },
  {
   "cell_type": "code",
   "execution_count": 25,
   "metadata": {},
   "outputs": [
    {
     "data": {
      "text/html": [
       "<div>\n",
       "<style scoped>\n",
       "    .dataframe tbody tr th:only-of-type {\n",
       "        vertical-align: middle;\n",
       "    }\n",
       "\n",
       "    .dataframe tbody tr th {\n",
       "        vertical-align: top;\n",
       "    }\n",
       "\n",
       "    .dataframe thead th {\n",
       "        text-align: right;\n",
       "    }\n",
       "</style>\n",
       "<table border=\"1\" class=\"dataframe\">\n",
       "  <thead>\n",
       "    <tr style=\"text-align: right;\">\n",
       "      <th></th>\n",
       "      <th>count</th>\n",
       "      <th>timings</th>\n",
       "      <th>Datetime</th>\n",
       "    </tr>\n",
       "  </thead>\n",
       "  <tbody>\n",
       "    <tr>\n",
       "      <th>1100</th>\n",
       "      <td>1101</td>\n",
       "      <td>2020-06-28 19:17:45.300614</td>\n",
       "      <td>2020-06-28 19:17:45.300614</td>\n",
       "    </tr>\n",
       "    <tr>\n",
       "      <th>1101</th>\n",
       "      <td>1102</td>\n",
       "      <td>2020-06-28 19:17:51.295674</td>\n",
       "      <td>2020-06-28 19:17:51.295674</td>\n",
       "    </tr>\n",
       "    <tr>\n",
       "      <th>1102</th>\n",
       "      <td>1103</td>\n",
       "      <td>2020-06-28 19:18:02.442681</td>\n",
       "      <td>2020-06-28 19:18:02.442681</td>\n",
       "    </tr>\n",
       "    <tr>\n",
       "      <th>1103</th>\n",
       "      <td>1104</td>\n",
       "      <td>2020-06-28 19:18:08.487168</td>\n",
       "      <td>2020-06-28 19:18:08.487168</td>\n",
       "    </tr>\n",
       "    <tr>\n",
       "      <th>1104</th>\n",
       "      <td>1105</td>\n",
       "      <td>2020-06-28 19:18:19.587722</td>\n",
       "      <td>2020-06-28 19:18:19.587722</td>\n",
       "    </tr>\n",
       "    <tr>\n",
       "      <th>1105</th>\n",
       "      <td>1106</td>\n",
       "      <td>2020-06-28 19:18:25.632636</td>\n",
       "      <td>2020-06-28 19:18:25.632636</td>\n",
       "    </tr>\n",
       "    <tr>\n",
       "      <th>1106</th>\n",
       "      <td>1107</td>\n",
       "      <td>2020-06-28 19:18:36.770161</td>\n",
       "      <td>2020-06-28 19:18:36.770161</td>\n",
       "    </tr>\n",
       "    <tr>\n",
       "      <th>1107</th>\n",
       "      <td>1108</td>\n",
       "      <td>2020-06-28 19:18:42.812585</td>\n",
       "      <td>2020-06-28 19:18:42.812585</td>\n",
       "    </tr>\n",
       "    <tr>\n",
       "      <th>1108</th>\n",
       "      <td>1109</td>\n",
       "      <td>2020-06-28 19:18:53.944019</td>\n",
       "      <td>2020-06-28 19:18:53.944019</td>\n",
       "    </tr>\n",
       "    <tr>\n",
       "      <th>1109</th>\n",
       "      <td>1110</td>\n",
       "      <td>2020-06-28 19:18:59.994721</td>\n",
       "      <td>2020-06-28 19:18:59.994721</td>\n",
       "    </tr>\n",
       "    <tr>\n",
       "      <th>1110</th>\n",
       "      <td>1111</td>\n",
       "      <td>2020-06-28 19:19:11.182394</td>\n",
       "      <td>2020-06-28 19:19:11.182394</td>\n",
       "    </tr>\n",
       "    <tr>\n",
       "      <th>1111</th>\n",
       "      <td>1112</td>\n",
       "      <td>2020-06-28 19:19:17.140761</td>\n",
       "      <td>2020-06-28 19:19:17.140761</td>\n",
       "    </tr>\n",
       "    <tr>\n",
       "      <th>1112</th>\n",
       "      <td>1113</td>\n",
       "      <td>2020-06-28 19:19:28.370228</td>\n",
       "      <td>2020-06-28 19:19:28.370228</td>\n",
       "    </tr>\n",
       "    <tr>\n",
       "      <th>1113</th>\n",
       "      <td>1114</td>\n",
       "      <td>2020-06-28 19:19:34.304837</td>\n",
       "      <td>2020-06-28 19:19:34.304837</td>\n",
       "    </tr>\n",
       "    <tr>\n",
       "      <th>1114</th>\n",
       "      <td>1115</td>\n",
       "      <td>2020-06-28 19:19:45.509329</td>\n",
       "      <td>2020-06-28 19:19:45.509329</td>\n",
       "    </tr>\n",
       "    <tr>\n",
       "      <th>1115</th>\n",
       "      <td>1116</td>\n",
       "      <td>2020-06-28 19:19:51.529480</td>\n",
       "      <td>2020-06-28 19:19:51.529480</td>\n",
       "    </tr>\n",
       "    <tr>\n",
       "      <th>1116</th>\n",
       "      <td>1117</td>\n",
       "      <td>2020-06-28 19:20:02.690825</td>\n",
       "      <td>2020-06-28 19:20:02.690825</td>\n",
       "    </tr>\n",
       "    <tr>\n",
       "      <th>1117</th>\n",
       "      <td>1118</td>\n",
       "      <td>2020-06-28 19:20:08.719560</td>\n",
       "      <td>2020-06-28 19:20:08.719560</td>\n",
       "    </tr>\n",
       "    <tr>\n",
       "      <th>1118</th>\n",
       "      <td>1119</td>\n",
       "      <td>2020-06-28 19:20:18.647719</td>\n",
       "      <td>2020-06-28 19:20:18.647719</td>\n",
       "    </tr>\n",
       "    <tr>\n",
       "      <th>1119</th>\n",
       "      <td>1120</td>\n",
       "      <td>2020-06-28 19:20:23.351210</td>\n",
       "      <td>2020-06-28 19:20:23.351210</td>\n",
       "    </tr>\n",
       "    <tr>\n",
       "      <th>1120</th>\n",
       "      <td>1121</td>\n",
       "      <td>2020-06-28 19:20:40.833734</td>\n",
       "      <td>2020-06-28 19:20:40.833734</td>\n",
       "    </tr>\n",
       "    <tr>\n",
       "      <th>1121</th>\n",
       "      <td>1122</td>\n",
       "      <td>2020-06-28 19:20:46.595614</td>\n",
       "      <td>2020-06-28 19:20:46.595614</td>\n",
       "    </tr>\n",
       "    <tr>\n",
       "      <th>1122</th>\n",
       "      <td>1123</td>\n",
       "      <td>2020-06-28 19:20:48.694830</td>\n",
       "      <td>2020-06-28 19:20:48.694830</td>\n",
       "    </tr>\n",
       "    <tr>\n",
       "      <th>1123</th>\n",
       "      <td>1124</td>\n",
       "      <td>2020-06-28 19:21:02.183183</td>\n",
       "      <td>2020-06-28 19:21:02.183183</td>\n",
       "    </tr>\n",
       "    <tr>\n",
       "      <th>1124</th>\n",
       "      <td>1125</td>\n",
       "      <td>2020-06-28 19:21:09.733099</td>\n",
       "      <td>2020-06-28 19:21:09.733099</td>\n",
       "    </tr>\n",
       "    <tr>\n",
       "      <th>1125</th>\n",
       "      <td>1126</td>\n",
       "      <td>2020-06-28 19:21:17.263125</td>\n",
       "      <td>2020-06-28 19:21:17.263125</td>\n",
       "    </tr>\n",
       "    <tr>\n",
       "      <th>1126</th>\n",
       "      <td>1127</td>\n",
       "      <td>2020-06-28 19:21:30.427996</td>\n",
       "      <td>2020-06-28 19:21:30.427996</td>\n",
       "    </tr>\n",
       "    <tr>\n",
       "      <th>1127</th>\n",
       "      <td>1128</td>\n",
       "      <td>2020-06-28 19:21:45.578473</td>\n",
       "      <td>2020-06-28 19:21:45.578473</td>\n",
       "    </tr>\n",
       "    <tr>\n",
       "      <th>1128</th>\n",
       "      <td>1129</td>\n",
       "      <td>2020-06-28 19:21:45.679359</td>\n",
       "      <td>2020-06-28 19:21:45.679359</td>\n",
       "    </tr>\n",
       "    <tr>\n",
       "      <th>1129</th>\n",
       "      <td>1130</td>\n",
       "      <td>2020-06-28 19:21:56.824975</td>\n",
       "      <td>2020-06-28 19:21:56.824975</td>\n",
       "    </tr>\n",
       "    <tr>\n",
       "      <th>1130</th>\n",
       "      <td>1131</td>\n",
       "      <td>2020-06-28 19:23:27.663365</td>\n",
       "      <td>2020-06-28 19:23:27.663365</td>\n",
       "    </tr>\n",
       "    <tr>\n",
       "      <th>1131</th>\n",
       "      <td>1132</td>\n",
       "      <td>2020-06-28 19:24:52.651587</td>\n",
       "      <td>2020-06-28 19:24:52.651587</td>\n",
       "    </tr>\n",
       "    <tr>\n",
       "      <th>1132</th>\n",
       "      <td>1133</td>\n",
       "      <td>2020-06-28 19:24:58.391024</td>\n",
       "      <td>2020-06-28 19:24:58.391024</td>\n",
       "    </tr>\n",
       "    <tr>\n",
       "      <th>1133</th>\n",
       "      <td>1134</td>\n",
       "      <td>2020-06-28 19:25:35.689479</td>\n",
       "      <td>2020-06-28 19:25:35.689479</td>\n",
       "    </tr>\n",
       "    <tr>\n",
       "      <th>1134</th>\n",
       "      <td>1135</td>\n",
       "      <td>2020-06-28 19:25:41.456840</td>\n",
       "      <td>2020-06-28 19:25:41.456840</td>\n",
       "    </tr>\n",
       "  </tbody>\n",
       "</table>\n",
       "</div>"
      ],
      "text/plain": [
       "      count                     timings                   Datetime\n",
       "1100   1101  2020-06-28 19:17:45.300614 2020-06-28 19:17:45.300614\n",
       "1101   1102  2020-06-28 19:17:51.295674 2020-06-28 19:17:51.295674\n",
       "1102   1103  2020-06-28 19:18:02.442681 2020-06-28 19:18:02.442681\n",
       "1103   1104  2020-06-28 19:18:08.487168 2020-06-28 19:18:08.487168\n",
       "1104   1105  2020-06-28 19:18:19.587722 2020-06-28 19:18:19.587722\n",
       "1105   1106  2020-06-28 19:18:25.632636 2020-06-28 19:18:25.632636\n",
       "1106   1107  2020-06-28 19:18:36.770161 2020-06-28 19:18:36.770161\n",
       "1107   1108  2020-06-28 19:18:42.812585 2020-06-28 19:18:42.812585\n",
       "1108   1109  2020-06-28 19:18:53.944019 2020-06-28 19:18:53.944019\n",
       "1109   1110  2020-06-28 19:18:59.994721 2020-06-28 19:18:59.994721\n",
       "1110   1111  2020-06-28 19:19:11.182394 2020-06-28 19:19:11.182394\n",
       "1111   1112  2020-06-28 19:19:17.140761 2020-06-28 19:19:17.140761\n",
       "1112   1113  2020-06-28 19:19:28.370228 2020-06-28 19:19:28.370228\n",
       "1113   1114  2020-06-28 19:19:34.304837 2020-06-28 19:19:34.304837\n",
       "1114   1115  2020-06-28 19:19:45.509329 2020-06-28 19:19:45.509329\n",
       "1115   1116  2020-06-28 19:19:51.529480 2020-06-28 19:19:51.529480\n",
       "1116   1117  2020-06-28 19:20:02.690825 2020-06-28 19:20:02.690825\n",
       "1117   1118  2020-06-28 19:20:08.719560 2020-06-28 19:20:08.719560\n",
       "1118   1119  2020-06-28 19:20:18.647719 2020-06-28 19:20:18.647719\n",
       "1119   1120  2020-06-28 19:20:23.351210 2020-06-28 19:20:23.351210\n",
       "1120   1121  2020-06-28 19:20:40.833734 2020-06-28 19:20:40.833734\n",
       "1121   1122  2020-06-28 19:20:46.595614 2020-06-28 19:20:46.595614\n",
       "1122   1123  2020-06-28 19:20:48.694830 2020-06-28 19:20:48.694830\n",
       "1123   1124  2020-06-28 19:21:02.183183 2020-06-28 19:21:02.183183\n",
       "1124   1125  2020-06-28 19:21:09.733099 2020-06-28 19:21:09.733099\n",
       "1125   1126  2020-06-28 19:21:17.263125 2020-06-28 19:21:17.263125\n",
       "1126   1127  2020-06-28 19:21:30.427996 2020-06-28 19:21:30.427996\n",
       "1127   1128  2020-06-28 19:21:45.578473 2020-06-28 19:21:45.578473\n",
       "1128   1129  2020-06-28 19:21:45.679359 2020-06-28 19:21:45.679359\n",
       "1129   1130  2020-06-28 19:21:56.824975 2020-06-28 19:21:56.824975\n",
       "1130   1131  2020-06-28 19:23:27.663365 2020-06-28 19:23:27.663365\n",
       "1131   1132  2020-06-28 19:24:52.651587 2020-06-28 19:24:52.651587\n",
       "1132   1133  2020-06-28 19:24:58.391024 2020-06-28 19:24:58.391024\n",
       "1133   1134  2020-06-28 19:25:35.689479 2020-06-28 19:25:35.689479\n",
       "1134   1135  2020-06-28 19:25:41.456840 2020-06-28 19:25:41.456840"
      ]
     },
     "execution_count": 25,
     "metadata": {},
     "output_type": "execute_result"
    }
   ],
   "source": [
    "ffx[1100:]"
   ]
  },
  {
   "cell_type": "code",
   "execution_count": 26,
   "metadata": {},
   "outputs": [],
   "source": [
    "# count_column = f'{ffx[\"count\"][i+1]}---{ffx[\"count\"][i]}'\n",
    "# time_diff_column = ffx[\"Datetime\"][i+1]-ffx[\"Datetime\"][i]"
   ]
  },
  {
   "cell_type": "code",
   "execution_count": 27,
   "metadata": {},
   "outputs": [],
   "source": [
    "bad_time_diff = pd.DataFrame([(f'{ffx[\"count\"][i+1]}---{ffx[\"count\"][i]}', ffx[\"Datetime\"][i+1]-ffx[\"Datetime\"][i]) for i in range(1100,1134)])"
   ]
  },
  {
   "cell_type": "code",
   "execution_count": 28,
   "metadata": {
    "scrolled": true
   },
   "outputs": [
    {
     "data": {
      "text/html": [
       "<div>\n",
       "<style scoped>\n",
       "    .dataframe tbody tr th:only-of-type {\n",
       "        vertical-align: middle;\n",
       "    }\n",
       "\n",
       "    .dataframe tbody tr th {\n",
       "        vertical-align: top;\n",
       "    }\n",
       "\n",
       "    .dataframe thead th {\n",
       "        text-align: right;\n",
       "    }\n",
       "</style>\n",
       "<table border=\"1\" class=\"dataframe\">\n",
       "  <thead>\n",
       "    <tr style=\"text-align: right;\">\n",
       "      <th></th>\n",
       "      <th>0</th>\n",
       "      <th>1</th>\n",
       "    </tr>\n",
       "  </thead>\n",
       "  <tbody>\n",
       "    <tr>\n",
       "      <th>0</th>\n",
       "      <td>1102---1101</td>\n",
       "      <td>00:00:05.995060</td>\n",
       "    </tr>\n",
       "    <tr>\n",
       "      <th>1</th>\n",
       "      <td>1103---1102</td>\n",
       "      <td>00:00:11.147007</td>\n",
       "    </tr>\n",
       "    <tr>\n",
       "      <th>2</th>\n",
       "      <td>1104---1103</td>\n",
       "      <td>00:00:06.044487</td>\n",
       "    </tr>\n",
       "    <tr>\n",
       "      <th>3</th>\n",
       "      <td>1105---1104</td>\n",
       "      <td>00:00:11.100554</td>\n",
       "    </tr>\n",
       "    <tr>\n",
       "      <th>4</th>\n",
       "      <td>1106---1105</td>\n",
       "      <td>00:00:06.044914</td>\n",
       "    </tr>\n",
       "    <tr>\n",
       "      <th>5</th>\n",
       "      <td>1107---1106</td>\n",
       "      <td>00:00:11.137525</td>\n",
       "    </tr>\n",
       "    <tr>\n",
       "      <th>6</th>\n",
       "      <td>1108---1107</td>\n",
       "      <td>00:00:06.042424</td>\n",
       "    </tr>\n",
       "    <tr>\n",
       "      <th>7</th>\n",
       "      <td>1109---1108</td>\n",
       "      <td>00:00:11.131434</td>\n",
       "    </tr>\n",
       "    <tr>\n",
       "      <th>8</th>\n",
       "      <td>1110---1109</td>\n",
       "      <td>00:00:06.050702</td>\n",
       "    </tr>\n",
       "    <tr>\n",
       "      <th>9</th>\n",
       "      <td>1111---1110</td>\n",
       "      <td>00:00:11.187673</td>\n",
       "    </tr>\n",
       "    <tr>\n",
       "      <th>10</th>\n",
       "      <td>1112---1111</td>\n",
       "      <td>00:00:05.958367</td>\n",
       "    </tr>\n",
       "    <tr>\n",
       "      <th>11</th>\n",
       "      <td>1113---1112</td>\n",
       "      <td>00:00:11.229467</td>\n",
       "    </tr>\n",
       "    <tr>\n",
       "      <th>12</th>\n",
       "      <td>1114---1113</td>\n",
       "      <td>00:00:05.934609</td>\n",
       "    </tr>\n",
       "    <tr>\n",
       "      <th>13</th>\n",
       "      <td>1115---1114</td>\n",
       "      <td>00:00:11.204492</td>\n",
       "    </tr>\n",
       "    <tr>\n",
       "      <th>14</th>\n",
       "      <td>1116---1115</td>\n",
       "      <td>00:00:06.020151</td>\n",
       "    </tr>\n",
       "    <tr>\n",
       "      <th>15</th>\n",
       "      <td>1117---1116</td>\n",
       "      <td>00:00:11.161345</td>\n",
       "    </tr>\n",
       "    <tr>\n",
       "      <th>16</th>\n",
       "      <td>1118---1117</td>\n",
       "      <td>00:00:06.028735</td>\n",
       "    </tr>\n",
       "    <tr>\n",
       "      <th>17</th>\n",
       "      <td>1119---1118</td>\n",
       "      <td>00:00:09.928159</td>\n",
       "    </tr>\n",
       "    <tr>\n",
       "      <th>18</th>\n",
       "      <td>1120---1119</td>\n",
       "      <td>00:00:04.703491</td>\n",
       "    </tr>\n",
       "    <tr>\n",
       "      <th>19</th>\n",
       "      <td>1121---1120</td>\n",
       "      <td>00:00:17.482524</td>\n",
       "    </tr>\n",
       "    <tr>\n",
       "      <th>20</th>\n",
       "      <td>1122---1121</td>\n",
       "      <td>00:00:05.761880</td>\n",
       "    </tr>\n",
       "    <tr>\n",
       "      <th>21</th>\n",
       "      <td>1123---1122</td>\n",
       "      <td>00:00:02.099216</td>\n",
       "    </tr>\n",
       "    <tr>\n",
       "      <th>22</th>\n",
       "      <td>1124---1123</td>\n",
       "      <td>00:00:13.488353</td>\n",
       "    </tr>\n",
       "    <tr>\n",
       "      <th>23</th>\n",
       "      <td>1125---1124</td>\n",
       "      <td>00:00:07.549916</td>\n",
       "    </tr>\n",
       "    <tr>\n",
       "      <th>24</th>\n",
       "      <td>1126---1125</td>\n",
       "      <td>00:00:07.530026</td>\n",
       "    </tr>\n",
       "    <tr>\n",
       "      <th>25</th>\n",
       "      <td>1127---1126</td>\n",
       "      <td>00:00:13.164871</td>\n",
       "    </tr>\n",
       "    <tr>\n",
       "      <th>26</th>\n",
       "      <td>1128---1127</td>\n",
       "      <td>00:00:15.150477</td>\n",
       "    </tr>\n",
       "    <tr>\n",
       "      <th>27</th>\n",
       "      <td>1129---1128</td>\n",
       "      <td>00:00:00.100886</td>\n",
       "    </tr>\n",
       "    <tr>\n",
       "      <th>28</th>\n",
       "      <td>1130---1129</td>\n",
       "      <td>00:00:11.145616</td>\n",
       "    </tr>\n",
       "    <tr>\n",
       "      <th>29</th>\n",
       "      <td>1131---1130</td>\n",
       "      <td>00:01:30.838390</td>\n",
       "    </tr>\n",
       "    <tr>\n",
       "      <th>30</th>\n",
       "      <td>1132---1131</td>\n",
       "      <td>00:01:24.988222</td>\n",
       "    </tr>\n",
       "    <tr>\n",
       "      <th>31</th>\n",
       "      <td>1133---1132</td>\n",
       "      <td>00:00:05.739437</td>\n",
       "    </tr>\n",
       "    <tr>\n",
       "      <th>32</th>\n",
       "      <td>1134---1133</td>\n",
       "      <td>00:00:37.298455</td>\n",
       "    </tr>\n",
       "    <tr>\n",
       "      <th>33</th>\n",
       "      <td>1135---1134</td>\n",
       "      <td>00:00:05.767361</td>\n",
       "    </tr>\n",
       "  </tbody>\n",
       "</table>\n",
       "</div>"
      ],
      "text/plain": [
       "              0               1\n",
       "0   1102---1101 00:00:05.995060\n",
       "1   1103---1102 00:00:11.147007\n",
       "2   1104---1103 00:00:06.044487\n",
       "3   1105---1104 00:00:11.100554\n",
       "4   1106---1105 00:00:06.044914\n",
       "5   1107---1106 00:00:11.137525\n",
       "6   1108---1107 00:00:06.042424\n",
       "7   1109---1108 00:00:11.131434\n",
       "8   1110---1109 00:00:06.050702\n",
       "9   1111---1110 00:00:11.187673\n",
       "10  1112---1111 00:00:05.958367\n",
       "11  1113---1112 00:00:11.229467\n",
       "12  1114---1113 00:00:05.934609\n",
       "13  1115---1114 00:00:11.204492\n",
       "14  1116---1115 00:00:06.020151\n",
       "15  1117---1116 00:00:11.161345\n",
       "16  1118---1117 00:00:06.028735\n",
       "17  1119---1118 00:00:09.928159\n",
       "18  1120---1119 00:00:04.703491\n",
       "19  1121---1120 00:00:17.482524\n",
       "20  1122---1121 00:00:05.761880\n",
       "21  1123---1122 00:00:02.099216\n",
       "22  1124---1123 00:00:13.488353\n",
       "23  1125---1124 00:00:07.549916\n",
       "24  1126---1125 00:00:07.530026\n",
       "25  1127---1126 00:00:13.164871\n",
       "26  1128---1127 00:00:15.150477\n",
       "27  1129---1128 00:00:00.100886\n",
       "28  1130---1129 00:00:11.145616\n",
       "29  1131---1130 00:01:30.838390\n",
       "30  1132---1131 00:01:24.988222\n",
       "31  1133---1132 00:00:05.739437\n",
       "32  1134---1133 00:00:37.298455\n",
       "33  1135---1134 00:00:05.767361"
      ]
     },
     "execution_count": 28,
     "metadata": {},
     "output_type": "execute_result"
    }
   ],
   "source": [
    "bad_time_diff"
   ]
  },
  {
   "cell_type": "markdown",
   "metadata": {},
   "source": [
    "We can see in the above datafram that the time differences stop following the pattern starting with index 17. This means that the datapoints with count of **1119 and onward** are the bad data."
   ]
  },
  {
   "cell_type": "markdown",
   "metadata": {},
   "source": [
    "So, in our ffx dataframe, let us now delete the rows with 'count' starting at 1119 and greater. *This translates to indices of **1118** and greater!*"
   ]
  },
  {
   "cell_type": "code",
   "execution_count": 29,
   "metadata": {},
   "outputs": [
    {
     "data": {
      "text/plain": [
       "(1135, 3)"
      ]
     },
     "execution_count": 29,
     "metadata": {},
     "output_type": "execute_result"
    }
   ],
   "source": [
    "ffx.shape"
   ]
  },
  {
   "cell_type": "code",
   "execution_count": 30,
   "metadata": {},
   "outputs": [],
   "source": [
    "ffx_cleaned = ffx.drop(ffx[ffx[\"count\"] >= 1119].index, axis=0)"
   ]
  },
  {
   "cell_type": "code",
   "execution_count": 31,
   "metadata": {},
   "outputs": [
    {
     "data": {
      "text/html": [
       "<div>\n",
       "<style scoped>\n",
       "    .dataframe tbody tr th:only-of-type {\n",
       "        vertical-align: middle;\n",
       "    }\n",
       "\n",
       "    .dataframe tbody tr th {\n",
       "        vertical-align: top;\n",
       "    }\n",
       "\n",
       "    .dataframe thead th {\n",
       "        text-align: right;\n",
       "    }\n",
       "</style>\n",
       "<table border=\"1\" class=\"dataframe\">\n",
       "  <thead>\n",
       "    <tr style=\"text-align: right;\">\n",
       "      <th></th>\n",
       "      <th>count</th>\n",
       "      <th>timings</th>\n",
       "      <th>Datetime</th>\n",
       "    </tr>\n",
       "  </thead>\n",
       "  <tbody>\n",
       "    <tr>\n",
       "      <th>0</th>\n",
       "      <td>1</td>\n",
       "      <td>2020-06-28 16:40:11.538763</td>\n",
       "      <td>2020-06-28 16:40:11.538763</td>\n",
       "    </tr>\n",
       "    <tr>\n",
       "      <th>1</th>\n",
       "      <td>2</td>\n",
       "      <td>2020-06-28 16:40:17.543537</td>\n",
       "      <td>2020-06-28 16:40:17.543537</td>\n",
       "    </tr>\n",
       "    <tr>\n",
       "      <th>2</th>\n",
       "      <td>3</td>\n",
       "      <td>2020-06-28 16:40:28.666688</td>\n",
       "      <td>2020-06-28 16:40:28.666688</td>\n",
       "    </tr>\n",
       "    <tr>\n",
       "      <th>3</th>\n",
       "      <td>4</td>\n",
       "      <td>2020-06-28 16:40:34.640885</td>\n",
       "      <td>2020-06-28 16:40:34.640885</td>\n",
       "    </tr>\n",
       "    <tr>\n",
       "      <th>4</th>\n",
       "      <td>5</td>\n",
       "      <td>2020-06-28 16:40:45.889237</td>\n",
       "      <td>2020-06-28 16:40:45.889237</td>\n",
       "    </tr>\n",
       "    <tr>\n",
       "      <th>...</th>\n",
       "      <td>...</td>\n",
       "      <td>...</td>\n",
       "      <td>...</td>\n",
       "    </tr>\n",
       "    <tr>\n",
       "      <th>1113</th>\n",
       "      <td>1114</td>\n",
       "      <td>2020-06-28 19:19:34.304837</td>\n",
       "      <td>2020-06-28 19:19:34.304837</td>\n",
       "    </tr>\n",
       "    <tr>\n",
       "      <th>1114</th>\n",
       "      <td>1115</td>\n",
       "      <td>2020-06-28 19:19:45.509329</td>\n",
       "      <td>2020-06-28 19:19:45.509329</td>\n",
       "    </tr>\n",
       "    <tr>\n",
       "      <th>1115</th>\n",
       "      <td>1116</td>\n",
       "      <td>2020-06-28 19:19:51.529480</td>\n",
       "      <td>2020-06-28 19:19:51.529480</td>\n",
       "    </tr>\n",
       "    <tr>\n",
       "      <th>1116</th>\n",
       "      <td>1117</td>\n",
       "      <td>2020-06-28 19:20:02.690825</td>\n",
       "      <td>2020-06-28 19:20:02.690825</td>\n",
       "    </tr>\n",
       "    <tr>\n",
       "      <th>1117</th>\n",
       "      <td>1118</td>\n",
       "      <td>2020-06-28 19:20:08.719560</td>\n",
       "      <td>2020-06-28 19:20:08.719560</td>\n",
       "    </tr>\n",
       "  </tbody>\n",
       "</table>\n",
       "<p>1118 rows × 3 columns</p>\n",
       "</div>"
      ],
      "text/plain": [
       "      count                     timings                   Datetime\n",
       "0         1  2020-06-28 16:40:11.538763 2020-06-28 16:40:11.538763\n",
       "1         2  2020-06-28 16:40:17.543537 2020-06-28 16:40:17.543537\n",
       "2         3  2020-06-28 16:40:28.666688 2020-06-28 16:40:28.666688\n",
       "3         4  2020-06-28 16:40:34.640885 2020-06-28 16:40:34.640885\n",
       "4         5  2020-06-28 16:40:45.889237 2020-06-28 16:40:45.889237\n",
       "...     ...                         ...                        ...\n",
       "1113   1114  2020-06-28 19:19:34.304837 2020-06-28 19:19:34.304837\n",
       "1114   1115  2020-06-28 19:19:45.509329 2020-06-28 19:19:45.509329\n",
       "1115   1116  2020-06-28 19:19:51.529480 2020-06-28 19:19:51.529480\n",
       "1116   1117  2020-06-28 19:20:02.690825 2020-06-28 19:20:02.690825\n",
       "1117   1118  2020-06-28 19:20:08.719560 2020-06-28 19:20:08.719560\n",
       "\n",
       "[1118 rows x 3 columns]"
      ]
     },
     "execution_count": 31,
     "metadata": {},
     "output_type": "execute_result"
    }
   ],
   "source": [
    "ffx_cleaned"
   ]
  },
  {
   "cell_type": "markdown",
   "metadata": {},
   "source": [
    "# **Cleaning Data for ffx2 (newer data)**"
   ]
  },
  {
   "cell_type": "markdown",
   "metadata": {},
   "source": [
    "We now essentially do the same thing for the ffx2 dataframe"
   ]
  },
  {
   "cell_type": "code",
   "execution_count": 64,
   "metadata": {},
   "outputs": [
    {
     "data": {
      "text/html": [
       "<div>\n",
       "<style scoped>\n",
       "    .dataframe tbody tr th:only-of-type {\n",
       "        vertical-align: middle;\n",
       "    }\n",
       "\n",
       "    .dataframe tbody tr th {\n",
       "        vertical-align: top;\n",
       "    }\n",
       "\n",
       "    .dataframe thead th {\n",
       "        text-align: right;\n",
       "    }\n",
       "</style>\n",
       "<table border=\"1\" class=\"dataframe\">\n",
       "  <thead>\n",
       "    <tr style=\"text-align: right;\">\n",
       "      <th></th>\n",
       "      <th>count</th>\n",
       "      <th>timings</th>\n",
       "    </tr>\n",
       "  </thead>\n",
       "  <tbody>\n",
       "    <tr>\n",
       "      <th>0</th>\n",
       "      <td>1</td>\n",
       "      <td>2020-07-01 22:18:22.806651</td>\n",
       "    </tr>\n",
       "    <tr>\n",
       "      <th>1</th>\n",
       "      <td>2</td>\n",
       "      <td>2020-07-01 22:18:49.157322</td>\n",
       "    </tr>\n",
       "    <tr>\n",
       "      <th>2</th>\n",
       "      <td>3</td>\n",
       "      <td>2020-07-01 22:18:55.197844</td>\n",
       "    </tr>\n",
       "    <tr>\n",
       "      <th>3</th>\n",
       "      <td>4</td>\n",
       "      <td>2020-07-01 22:19:06.378970</td>\n",
       "    </tr>\n",
       "    <tr>\n",
       "      <th>4</th>\n",
       "      <td>5</td>\n",
       "      <td>2020-07-01 22:19:12.418819</td>\n",
       "    </tr>\n",
       "  </tbody>\n",
       "</table>\n",
       "</div>"
      ],
      "text/plain": [
       "   count                      timings\n",
       "0      1   2020-07-01 22:18:22.806651\n",
       "1      2   2020-07-01 22:18:49.157322\n",
       "2      3   2020-07-01 22:18:55.197844\n",
       "3      4   2020-07-01 22:19:06.378970\n",
       "4      5   2020-07-01 22:19:12.418819"
      ]
     },
     "execution_count": 64,
     "metadata": {},
     "output_type": "execute_result"
    },
    {
     "data": {
      "text/plain": [
       "Index(['count', ' timings'], dtype='object')"
      ]
     },
     "execution_count": 64,
     "metadata": {},
     "output_type": "execute_result"
    },
    {
     "data": {
      "text/plain": [
       "' 2020-07-01 22:18:22.806651'"
      ]
     },
     "execution_count": 64,
     "metadata": {},
     "output_type": "execute_result"
    }
   ],
   "source": [
    "ffx2.head()\n",
    "ffx2.columns\n",
    "ffx2[\" timings\"][0]"
   ]
  },
  {
   "cell_type": "code",
   "execution_count": 65,
   "metadata": {},
   "outputs": [
    {
     "data": {
      "text/plain": [
       "Index(['count', 'timings'], dtype='object')"
      ]
     },
     "execution_count": 65,
     "metadata": {},
     "output_type": "execute_result"
    }
   ],
   "source": [
    "ffx2.rename(mapper={\" timings\": \"timings\"}, axis=1, inplace=True)\n",
    "ffx2.columns"
   ]
  },
  {
   "cell_type": "markdown",
   "metadata": {},
   "source": [
    "Need to get rid of spaces in the \"timings\" DATA as well!!!"
   ]
  },
  {
   "cell_type": "code",
   "execution_count": 66,
   "metadata": {},
   "outputs": [
    {
     "data": {
      "text/plain": [
       "' 2020-07-01 22:18:22.806651'"
      ]
     },
     "execution_count": 66,
     "metadata": {},
     "output_type": "execute_result"
    },
    {
     "data": {
      "text/plain": [
       "str"
      ]
     },
     "execution_count": 66,
     "metadata": {},
     "output_type": "execute_result"
    }
   ],
   "source": [
    "ffx2[\"timings\"][0]\n",
    "type(ffx2[\"timings\"][0])"
   ]
  },
  {
   "cell_type": "code",
   "execution_count": 67,
   "metadata": {},
   "outputs": [],
   "source": [
    "ffx2[\"timings\"] = ffx2[\"timings\"].apply(lambda string: string[1:])"
   ]
  },
  {
   "cell_type": "code",
   "execution_count": 68,
   "metadata": {},
   "outputs": [
    {
     "data": {
      "text/plain": [
       "'2020-07-01 22:18:22.806651'"
      ]
     },
     "execution_count": 68,
     "metadata": {},
     "output_type": "execute_result"
    },
    {
     "data": {
      "text/plain": [
       "str"
      ]
     },
     "execution_count": 68,
     "metadata": {},
     "output_type": "execute_result"
    }
   ],
   "source": [
    "ffx2[\"timings\"][0]\n",
    "type(ffx2[\"timings\"][0])"
   ]
  },
  {
   "cell_type": "code",
   "execution_count": 69,
   "metadata": {},
   "outputs": [
    {
     "data": {
      "text/html": [
       "<div>\n",
       "<style scoped>\n",
       "    .dataframe tbody tr th:only-of-type {\n",
       "        vertical-align: middle;\n",
       "    }\n",
       "\n",
       "    .dataframe tbody tr th {\n",
       "        vertical-align: top;\n",
       "    }\n",
       "\n",
       "    .dataframe thead th {\n",
       "        text-align: right;\n",
       "    }\n",
       "</style>\n",
       "<table border=\"1\" class=\"dataframe\">\n",
       "  <thead>\n",
       "    <tr style=\"text-align: right;\">\n",
       "      <th></th>\n",
       "      <th>count</th>\n",
       "      <th>timings</th>\n",
       "    </tr>\n",
       "  </thead>\n",
       "  <tbody>\n",
       "    <tr>\n",
       "      <th>0</th>\n",
       "      <td>1</td>\n",
       "      <td>2020-07-01 22:18:22.806651</td>\n",
       "    </tr>\n",
       "    <tr>\n",
       "      <th>1</th>\n",
       "      <td>2</td>\n",
       "      <td>2020-07-01 22:18:49.157322</td>\n",
       "    </tr>\n",
       "    <tr>\n",
       "      <th>2</th>\n",
       "      <td>3</td>\n",
       "      <td>2020-07-01 22:18:55.197844</td>\n",
       "    </tr>\n",
       "    <tr>\n",
       "      <th>3</th>\n",
       "      <td>4</td>\n",
       "      <td>2020-07-01 22:19:06.378970</td>\n",
       "    </tr>\n",
       "    <tr>\n",
       "      <th>4</th>\n",
       "      <td>5</td>\n",
       "      <td>2020-07-01 22:19:12.418819</td>\n",
       "    </tr>\n",
       "  </tbody>\n",
       "</table>\n",
       "</div>"
      ],
      "text/plain": [
       "   count                     timings\n",
       "0      1  2020-07-01 22:18:22.806651\n",
       "1      2  2020-07-01 22:18:49.157322\n",
       "2      3  2020-07-01 22:18:55.197844\n",
       "3      4  2020-07-01 22:19:06.378970\n",
       "4      5  2020-07-01 22:19:12.418819"
      ]
     },
     "execution_count": 69,
     "metadata": {},
     "output_type": "execute_result"
    }
   ],
   "source": [
    "ffx2.head()"
   ]
  },
  {
   "cell_type": "markdown",
   "metadata": {},
   "source": [
    "Look for null values? (I already know there aren't any)"
   ]
  },
  {
   "cell_type": "code",
   "execution_count": 70,
   "metadata": {},
   "outputs": [
    {
     "data": {
      "text/plain": [
       "count      1859\n",
       "timings    1859\n",
       "dtype: int64"
      ]
     },
     "execution_count": 70,
     "metadata": {},
     "output_type": "execute_result"
    },
    {
     "data": {
      "text/plain": [
       "count      1859\n",
       "timings    1859\n",
       "dtype: int64"
      ]
     },
     "execution_count": 70,
     "metadata": {},
     "output_type": "execute_result"
    }
   ],
   "source": [
    "ffx2.count()\n",
    "ffx2.isnull().count()"
   ]
  },
  {
   "cell_type": "markdown",
   "metadata": {},
   "source": [
    "We now look for more bad data at the end of this second dataframe.\n",
    "\n",
    "**SO! We must first change the timings data to 'datetime/timedelta' objects**"
   ]
  },
  {
   "cell_type": "code",
   "execution_count": 71,
   "metadata": {},
   "outputs": [
    {
     "data": {
      "text/html": [
       "<div>\n",
       "<style scoped>\n",
       "    .dataframe tbody tr th:only-of-type {\n",
       "        vertical-align: middle;\n",
       "    }\n",
       "\n",
       "    .dataframe tbody tr th {\n",
       "        vertical-align: top;\n",
       "    }\n",
       "\n",
       "    .dataframe thead th {\n",
       "        text-align: right;\n",
       "    }\n",
       "</style>\n",
       "<table border=\"1\" class=\"dataframe\">\n",
       "  <thead>\n",
       "    <tr style=\"text-align: right;\">\n",
       "      <th></th>\n",
       "      <th>count</th>\n",
       "      <th>timings</th>\n",
       "    </tr>\n",
       "  </thead>\n",
       "  <tbody>\n",
       "    <tr>\n",
       "      <th>0</th>\n",
       "      <td>1</td>\n",
       "      <td>2020-07-01 22:18:22.806651</td>\n",
       "    </tr>\n",
       "    <tr>\n",
       "      <th>1</th>\n",
       "      <td>2</td>\n",
       "      <td>2020-07-01 22:18:49.157322</td>\n",
       "    </tr>\n",
       "    <tr>\n",
       "      <th>2</th>\n",
       "      <td>3</td>\n",
       "      <td>2020-07-01 22:18:55.197844</td>\n",
       "    </tr>\n",
       "    <tr>\n",
       "      <th>3</th>\n",
       "      <td>4</td>\n",
       "      <td>2020-07-01 22:19:06.378970</td>\n",
       "    </tr>\n",
       "    <tr>\n",
       "      <th>4</th>\n",
       "      <td>5</td>\n",
       "      <td>2020-07-01 22:19:12.418819</td>\n",
       "    </tr>\n",
       "  </tbody>\n",
       "</table>\n",
       "</div>"
      ],
      "text/plain": [
       "   count                     timings\n",
       "0      1  2020-07-01 22:18:22.806651\n",
       "1      2  2020-07-01 22:18:49.157322\n",
       "2      3  2020-07-01 22:18:55.197844\n",
       "3      4  2020-07-01 22:19:06.378970\n",
       "4      5  2020-07-01 22:19:12.418819"
      ]
     },
     "execution_count": 71,
     "metadata": {},
     "output_type": "execute_result"
    },
    {
     "data": {
      "text/plain": [
       "'2020-07-01 22:18:22.806651'"
      ]
     },
     "execution_count": 71,
     "metadata": {},
     "output_type": "execute_result"
    },
    {
     "data": {
      "text/plain": [
       "str"
      ]
     },
     "execution_count": 71,
     "metadata": {},
     "output_type": "execute_result"
    }
   ],
   "source": [
    "ffx2.head()\n",
    "ffx2[\"timings\"][0]\n",
    "type(ffx2[\"timings\"][0])"
   ]
  },
  {
   "cell_type": "code",
   "execution_count": 72,
   "metadata": {},
   "outputs": [
    {
     "data": {
      "text/html": [
       "<div>\n",
       "<style scoped>\n",
       "    .dataframe tbody tr th:only-of-type {\n",
       "        vertical-align: middle;\n",
       "    }\n",
       "\n",
       "    .dataframe tbody tr th {\n",
       "        vertical-align: top;\n",
       "    }\n",
       "\n",
       "    .dataframe thead th {\n",
       "        text-align: right;\n",
       "    }\n",
       "</style>\n",
       "<table border=\"1\" class=\"dataframe\">\n",
       "  <thead>\n",
       "    <tr style=\"text-align: right;\">\n",
       "      <th></th>\n",
       "      <th>count</th>\n",
       "      <th>timings</th>\n",
       "      <th>Datetime</th>\n",
       "    </tr>\n",
       "  </thead>\n",
       "  <tbody>\n",
       "    <tr>\n",
       "      <th>0</th>\n",
       "      <td>1</td>\n",
       "      <td>2020-07-01 22:18:22.806651</td>\n",
       "      <td>2020-07-01 22:18:22.806651</td>\n",
       "    </tr>\n",
       "    <tr>\n",
       "      <th>1</th>\n",
       "      <td>2</td>\n",
       "      <td>2020-07-01 22:18:49.157322</td>\n",
       "      <td>2020-07-01 22:18:49.157322</td>\n",
       "    </tr>\n",
       "    <tr>\n",
       "      <th>2</th>\n",
       "      <td>3</td>\n",
       "      <td>2020-07-01 22:18:55.197844</td>\n",
       "      <td>2020-07-01 22:18:55.197844</td>\n",
       "    </tr>\n",
       "    <tr>\n",
       "      <th>3</th>\n",
       "      <td>4</td>\n",
       "      <td>2020-07-01 22:19:06.378970</td>\n",
       "      <td>2020-07-01 22:19:06.378970</td>\n",
       "    </tr>\n",
       "    <tr>\n",
       "      <th>4</th>\n",
       "      <td>5</td>\n",
       "      <td>2020-07-01 22:19:12.418819</td>\n",
       "      <td>2020-07-01 22:19:12.418819</td>\n",
       "    </tr>\n",
       "  </tbody>\n",
       "</table>\n",
       "</div>"
      ],
      "text/plain": [
       "   count                     timings                   Datetime\n",
       "0      1  2020-07-01 22:18:22.806651 2020-07-01 22:18:22.806651\n",
       "1      2  2020-07-01 22:18:49.157322 2020-07-01 22:18:49.157322\n",
       "2      3  2020-07-01 22:18:55.197844 2020-07-01 22:18:55.197844\n",
       "3      4  2020-07-01 22:19:06.378970 2020-07-01 22:19:06.378970\n",
       "4      5  2020-07-01 22:19:12.418819 2020-07-01 22:19:12.418819"
      ]
     },
     "execution_count": 72,
     "metadata": {},
     "output_type": "execute_result"
    },
    {
     "data": {
      "text/plain": [
       "Timestamp('2020-07-01 22:18:22.806651')"
      ]
     },
     "execution_count": 72,
     "metadata": {},
     "output_type": "execute_result"
    },
    {
     "data": {
      "text/plain": [
       "pandas._libs.tslibs.timestamps.Timestamp"
      ]
     },
     "execution_count": 72,
     "metadata": {},
     "output_type": "execute_result"
    }
   ],
   "source": [
    "ffx2[\"Datetime\"] = pd.to_datetime(ffx2[\"timings\"])\n",
    "ffx2.head()\n",
    "ffx2[\"Datetime\"][0]\n",
    "type(ffx2[\"Datetime\"][0])"
   ]
  },
  {
   "cell_type": "markdown",
   "metadata": {},
   "source": [
    "Now that everything is converted to actual \"datetime\" dtype, we can look for our bad data. It's somewhere at the end, remember!"
   ]
  },
  {
   "cell_type": "code",
   "execution_count": 73,
   "metadata": {},
   "outputs": [
    {
     "data": {
      "text/plain": [
       "(1859, 3)"
      ]
     },
     "execution_count": 73,
     "metadata": {},
     "output_type": "execute_result"
    }
   ],
   "source": [
    "ffx2.shape"
   ]
  },
  {
   "cell_type": "code",
   "execution_count": 74,
   "metadata": {
    "scrolled": true
   },
   "outputs": [
    {
     "data": {
      "text/html": [
       "<div>\n",
       "<style scoped>\n",
       "    .dataframe tbody tr th:only-of-type {\n",
       "        vertical-align: middle;\n",
       "    }\n",
       "\n",
       "    .dataframe tbody tr th {\n",
       "        vertical-align: top;\n",
       "    }\n",
       "\n",
       "    .dataframe thead th {\n",
       "        text-align: right;\n",
       "    }\n",
       "</style>\n",
       "<table border=\"1\" class=\"dataframe\">\n",
       "  <thead>\n",
       "    <tr style=\"text-align: right;\">\n",
       "      <th></th>\n",
       "      <th>count</th>\n",
       "      <th>timings</th>\n",
       "      <th>Datetime</th>\n",
       "    </tr>\n",
       "  </thead>\n",
       "  <tbody>\n",
       "    <tr>\n",
       "      <th>1800</th>\n",
       "      <td>1801</td>\n",
       "      <td>2020-07-02 02:36:05.809157</td>\n",
       "      <td>2020-07-02 02:36:05.809157</td>\n",
       "    </tr>\n",
       "    <tr>\n",
       "      <th>1801</th>\n",
       "      <td>1802</td>\n",
       "      <td>2020-07-02 02:36:16.975040</td>\n",
       "      <td>2020-07-02 02:36:16.975040</td>\n",
       "    </tr>\n",
       "    <tr>\n",
       "      <th>1802</th>\n",
       "      <td>1803</td>\n",
       "      <td>2020-07-02 02:36:23.085504</td>\n",
       "      <td>2020-07-02 02:36:23.085504</td>\n",
       "    </tr>\n",
       "    <tr>\n",
       "      <th>1803</th>\n",
       "      <td>1804</td>\n",
       "      <td>2020-07-02 02:36:34.280783</td>\n",
       "      <td>2020-07-02 02:36:34.280783</td>\n",
       "    </tr>\n",
       "    <tr>\n",
       "      <th>1804</th>\n",
       "      <td>1805</td>\n",
       "      <td>2020-07-02 02:36:40.280914</td>\n",
       "      <td>2020-07-02 02:36:40.280914</td>\n",
       "    </tr>\n",
       "    <tr>\n",
       "      <th>1805</th>\n",
       "      <td>1806</td>\n",
       "      <td>2020-07-02 02:36:51.466740</td>\n",
       "      <td>2020-07-02 02:36:51.466740</td>\n",
       "    </tr>\n",
       "    <tr>\n",
       "      <th>1806</th>\n",
       "      <td>1807</td>\n",
       "      <td>2020-07-02 02:36:57.463870</td>\n",
       "      <td>2020-07-02 02:36:57.463870</td>\n",
       "    </tr>\n",
       "    <tr>\n",
       "      <th>1807</th>\n",
       "      <td>1808</td>\n",
       "      <td>2020-07-02 02:37:08.601668</td>\n",
       "      <td>2020-07-02 02:37:08.601668</td>\n",
       "    </tr>\n",
       "    <tr>\n",
       "      <th>1808</th>\n",
       "      <td>1809</td>\n",
       "      <td>2020-07-02 02:37:14.614440</td>\n",
       "      <td>2020-07-02 02:37:14.614440</td>\n",
       "    </tr>\n",
       "    <tr>\n",
       "      <th>1809</th>\n",
       "      <td>1810</td>\n",
       "      <td>2020-07-02 02:37:25.823447</td>\n",
       "      <td>2020-07-02 02:37:25.823447</td>\n",
       "    </tr>\n",
       "    <tr>\n",
       "      <th>1810</th>\n",
       "      <td>1811</td>\n",
       "      <td>2020-07-02 02:37:31.766625</td>\n",
       "      <td>2020-07-02 02:37:31.766625</td>\n",
       "    </tr>\n",
       "    <tr>\n",
       "      <th>1811</th>\n",
       "      <td>1812</td>\n",
       "      <td>2020-07-02 02:37:42.967681</td>\n",
       "      <td>2020-07-02 02:37:42.967681</td>\n",
       "    </tr>\n",
       "    <tr>\n",
       "      <th>1812</th>\n",
       "      <td>1813</td>\n",
       "      <td>2020-07-02 02:37:48.940907</td>\n",
       "      <td>2020-07-02 02:37:48.940907</td>\n",
       "    </tr>\n",
       "    <tr>\n",
       "      <th>1813</th>\n",
       "      <td>1814</td>\n",
       "      <td>2020-07-02 02:38:00.161451</td>\n",
       "      <td>2020-07-02 02:38:00.161451</td>\n",
       "    </tr>\n",
       "    <tr>\n",
       "      <th>1814</th>\n",
       "      <td>1815</td>\n",
       "      <td>2020-07-02 02:38:06.146659</td>\n",
       "      <td>2020-07-02 02:38:06.146659</td>\n",
       "    </tr>\n",
       "    <tr>\n",
       "      <th>1815</th>\n",
       "      <td>1816</td>\n",
       "      <td>2020-07-02 02:38:17.319818</td>\n",
       "      <td>2020-07-02 02:38:17.319818</td>\n",
       "    </tr>\n",
       "    <tr>\n",
       "      <th>1816</th>\n",
       "      <td>1817</td>\n",
       "      <td>2020-07-02 02:38:23.315053</td>\n",
       "      <td>2020-07-02 02:38:23.315053</td>\n",
       "    </tr>\n",
       "    <tr>\n",
       "      <th>1817</th>\n",
       "      <td>1818</td>\n",
       "      <td>2020-07-02 02:38:34.443383</td>\n",
       "      <td>2020-07-02 02:38:34.443383</td>\n",
       "    </tr>\n",
       "    <tr>\n",
       "      <th>1818</th>\n",
       "      <td>1819</td>\n",
       "      <td>2020-07-02 02:38:40.443189</td>\n",
       "      <td>2020-07-02 02:38:40.443189</td>\n",
       "    </tr>\n",
       "    <tr>\n",
       "      <th>1819</th>\n",
       "      <td>1820</td>\n",
       "      <td>2020-07-02 02:38:51.612622</td>\n",
       "      <td>2020-07-02 02:38:51.612622</td>\n",
       "    </tr>\n",
       "    <tr>\n",
       "      <th>1820</th>\n",
       "      <td>1821</td>\n",
       "      <td>2020-07-02 02:38:57.653621</td>\n",
       "      <td>2020-07-02 02:38:57.653621</td>\n",
       "    </tr>\n",
       "    <tr>\n",
       "      <th>1821</th>\n",
       "      <td>1822</td>\n",
       "      <td>2020-07-02 02:39:08.839529</td>\n",
       "      <td>2020-07-02 02:39:08.839529</td>\n",
       "    </tr>\n",
       "    <tr>\n",
       "      <th>1822</th>\n",
       "      <td>1823</td>\n",
       "      <td>2020-07-02 02:39:14.845780</td>\n",
       "      <td>2020-07-02 02:39:14.845780</td>\n",
       "    </tr>\n",
       "    <tr>\n",
       "      <th>1823</th>\n",
       "      <td>1824</td>\n",
       "      <td>2020-07-02 02:39:26.038668</td>\n",
       "      <td>2020-07-02 02:39:26.038668</td>\n",
       "    </tr>\n",
       "    <tr>\n",
       "      <th>1824</th>\n",
       "      <td>1825</td>\n",
       "      <td>2020-07-02 02:39:32.032336</td>\n",
       "      <td>2020-07-02 02:39:32.032336</td>\n",
       "    </tr>\n",
       "    <tr>\n",
       "      <th>1825</th>\n",
       "      <td>1826</td>\n",
       "      <td>2020-07-02 02:39:43.171411</td>\n",
       "      <td>2020-07-02 02:39:43.171411</td>\n",
       "    </tr>\n",
       "    <tr>\n",
       "      <th>1826</th>\n",
       "      <td>1827</td>\n",
       "      <td>2020-07-02 02:39:49.168498</td>\n",
       "      <td>2020-07-02 02:39:49.168498</td>\n",
       "    </tr>\n",
       "    <tr>\n",
       "      <th>1827</th>\n",
       "      <td>1828</td>\n",
       "      <td>2020-07-02 02:40:00.337813</td>\n",
       "      <td>2020-07-02 02:40:00.337813</td>\n",
       "    </tr>\n",
       "    <tr>\n",
       "      <th>1828</th>\n",
       "      <td>1829</td>\n",
       "      <td>2020-07-02 02:40:06.300207</td>\n",
       "      <td>2020-07-02 02:40:06.300207</td>\n",
       "    </tr>\n",
       "    <tr>\n",
       "      <th>1829</th>\n",
       "      <td>1830</td>\n",
       "      <td>2020-07-02 02:40:17.474511</td>\n",
       "      <td>2020-07-02 02:40:17.474511</td>\n",
       "    </tr>\n",
       "    <tr>\n",
       "      <th>1830</th>\n",
       "      <td>1831</td>\n",
       "      <td>2020-07-02 02:40:23.491116</td>\n",
       "      <td>2020-07-02 02:40:23.491116</td>\n",
       "    </tr>\n",
       "    <tr>\n",
       "      <th>1831</th>\n",
       "      <td>1832</td>\n",
       "      <td>2020-07-02 02:40:34.655328</td>\n",
       "      <td>2020-07-02 02:40:34.655328</td>\n",
       "    </tr>\n",
       "    <tr>\n",
       "      <th>1832</th>\n",
       "      <td>1833</td>\n",
       "      <td>2020-07-02 02:40:40.639362</td>\n",
       "      <td>2020-07-02 02:40:40.639362</td>\n",
       "    </tr>\n",
       "    <tr>\n",
       "      <th>1833</th>\n",
       "      <td>1834</td>\n",
       "      <td>2020-07-02 02:40:51.762696</td>\n",
       "      <td>2020-07-02 02:40:51.762696</td>\n",
       "    </tr>\n",
       "    <tr>\n",
       "      <th>1834</th>\n",
       "      <td>1835</td>\n",
       "      <td>2020-07-02 02:40:57.810347</td>\n",
       "      <td>2020-07-02 02:40:57.810347</td>\n",
       "    </tr>\n",
       "    <tr>\n",
       "      <th>1835</th>\n",
       "      <td>1836</td>\n",
       "      <td>2020-07-02 02:41:08.957955</td>\n",
       "      <td>2020-07-02 02:41:08.957955</td>\n",
       "    </tr>\n",
       "    <tr>\n",
       "      <th>1836</th>\n",
       "      <td>1837</td>\n",
       "      <td>2020-07-02 02:41:14.907468</td>\n",
       "      <td>2020-07-02 02:41:14.907468</td>\n",
       "    </tr>\n",
       "    <tr>\n",
       "      <th>1837</th>\n",
       "      <td>1838</td>\n",
       "      <td>2020-07-02 02:41:26.112848</td>\n",
       "      <td>2020-07-02 02:41:26.112848</td>\n",
       "    </tr>\n",
       "    <tr>\n",
       "      <th>1838</th>\n",
       "      <td>1839</td>\n",
       "      <td>2020-07-02 02:41:32.109817</td>\n",
       "      <td>2020-07-02 02:41:32.109817</td>\n",
       "    </tr>\n",
       "    <tr>\n",
       "      <th>1839</th>\n",
       "      <td>1840</td>\n",
       "      <td>2020-07-02 02:41:43.275314</td>\n",
       "      <td>2020-07-02 02:41:43.275314</td>\n",
       "    </tr>\n",
       "    <tr>\n",
       "      <th>1840</th>\n",
       "      <td>1841</td>\n",
       "      <td>2020-07-02 02:41:49.272011</td>\n",
       "      <td>2020-07-02 02:41:49.272011</td>\n",
       "    </tr>\n",
       "    <tr>\n",
       "      <th>1841</th>\n",
       "      <td>1842</td>\n",
       "      <td>2020-07-02 02:42:00.502697</td>\n",
       "      <td>2020-07-02 02:42:00.502697</td>\n",
       "    </tr>\n",
       "    <tr>\n",
       "      <th>1842</th>\n",
       "      <td>1843</td>\n",
       "      <td>2020-07-02 02:42:06.423066</td>\n",
       "      <td>2020-07-02 02:42:06.423066</td>\n",
       "    </tr>\n",
       "    <tr>\n",
       "      <th>1843</th>\n",
       "      <td>1844</td>\n",
       "      <td>2020-07-02 02:42:17.643730</td>\n",
       "      <td>2020-07-02 02:42:17.643730</td>\n",
       "    </tr>\n",
       "    <tr>\n",
       "      <th>1844</th>\n",
       "      <td>1845</td>\n",
       "      <td>2020-07-02 02:42:23.632338</td>\n",
       "      <td>2020-07-02 02:42:23.632338</td>\n",
       "    </tr>\n",
       "    <tr>\n",
       "      <th>1845</th>\n",
       "      <td>1846</td>\n",
       "      <td>2020-07-02 02:42:34.833444</td>\n",
       "      <td>2020-07-02 02:42:34.833444</td>\n",
       "    </tr>\n",
       "    <tr>\n",
       "      <th>1846</th>\n",
       "      <td>1847</td>\n",
       "      <td>2020-07-02 02:42:40.850787</td>\n",
       "      <td>2020-07-02 02:42:40.850787</td>\n",
       "    </tr>\n",
       "    <tr>\n",
       "      <th>1847</th>\n",
       "      <td>1848</td>\n",
       "      <td>2020-07-02 02:42:52.054505</td>\n",
       "      <td>2020-07-02 02:42:52.054505</td>\n",
       "    </tr>\n",
       "    <tr>\n",
       "      <th>1848</th>\n",
       "      <td>1849</td>\n",
       "      <td>2020-07-02 02:42:58.061336</td>\n",
       "      <td>2020-07-02 02:42:58.061336</td>\n",
       "    </tr>\n",
       "    <tr>\n",
       "      <th>1849</th>\n",
       "      <td>1850</td>\n",
       "      <td>2020-07-02 02:43:09.160875</td>\n",
       "      <td>2020-07-02 02:43:09.160875</td>\n",
       "    </tr>\n",
       "    <tr>\n",
       "      <th>1850</th>\n",
       "      <td>1851</td>\n",
       "      <td>2020-07-02 02:43:15.195384</td>\n",
       "      <td>2020-07-02 02:43:15.195384</td>\n",
       "    </tr>\n",
       "    <tr>\n",
       "      <th>1851</th>\n",
       "      <td>1852</td>\n",
       "      <td>2020-07-02 02:43:26.293734</td>\n",
       "      <td>2020-07-02 02:43:26.293734</td>\n",
       "    </tr>\n",
       "    <tr>\n",
       "      <th>1852</th>\n",
       "      <td>1853</td>\n",
       "      <td>2020-07-02 02:43:32.305496</td>\n",
       "      <td>2020-07-02 02:43:32.305496</td>\n",
       "    </tr>\n",
       "    <tr>\n",
       "      <th>1853</th>\n",
       "      <td>1854</td>\n",
       "      <td>2020-07-02 02:43:43.502213</td>\n",
       "      <td>2020-07-02 02:43:43.502213</td>\n",
       "    </tr>\n",
       "    <tr>\n",
       "      <th>1854</th>\n",
       "      <td>1855</td>\n",
       "      <td>2020-07-02 02:43:49.553087</td>\n",
       "      <td>2020-07-02 02:43:49.553087</td>\n",
       "    </tr>\n",
       "    <tr>\n",
       "      <th>1855</th>\n",
       "      <td>1856</td>\n",
       "      <td>2020-07-02 02:44:00.693588</td>\n",
       "      <td>2020-07-02 02:44:00.693588</td>\n",
       "    </tr>\n",
       "    <tr>\n",
       "      <th>1856</th>\n",
       "      <td>1857</td>\n",
       "      <td>2020-07-02 02:44:06.734364</td>\n",
       "      <td>2020-07-02 02:44:06.734364</td>\n",
       "    </tr>\n",
       "    <tr>\n",
       "      <th>1857</th>\n",
       "      <td>1858</td>\n",
       "      <td>2020-07-02 02:44:17.871546</td>\n",
       "      <td>2020-07-02 02:44:17.871546</td>\n",
       "    </tr>\n",
       "    <tr>\n",
       "      <th>1858</th>\n",
       "      <td>1859</td>\n",
       "      <td>2020-07-02 02:44:23.952632</td>\n",
       "      <td>2020-07-02 02:44:23.952632</td>\n",
       "    </tr>\n",
       "  </tbody>\n",
       "</table>\n",
       "</div>"
      ],
      "text/plain": [
       "      count                     timings                   Datetime\n",
       "1800   1801  2020-07-02 02:36:05.809157 2020-07-02 02:36:05.809157\n",
       "1801   1802  2020-07-02 02:36:16.975040 2020-07-02 02:36:16.975040\n",
       "1802   1803  2020-07-02 02:36:23.085504 2020-07-02 02:36:23.085504\n",
       "1803   1804  2020-07-02 02:36:34.280783 2020-07-02 02:36:34.280783\n",
       "1804   1805  2020-07-02 02:36:40.280914 2020-07-02 02:36:40.280914\n",
       "1805   1806  2020-07-02 02:36:51.466740 2020-07-02 02:36:51.466740\n",
       "1806   1807  2020-07-02 02:36:57.463870 2020-07-02 02:36:57.463870\n",
       "1807   1808  2020-07-02 02:37:08.601668 2020-07-02 02:37:08.601668\n",
       "1808   1809  2020-07-02 02:37:14.614440 2020-07-02 02:37:14.614440\n",
       "1809   1810  2020-07-02 02:37:25.823447 2020-07-02 02:37:25.823447\n",
       "1810   1811  2020-07-02 02:37:31.766625 2020-07-02 02:37:31.766625\n",
       "1811   1812  2020-07-02 02:37:42.967681 2020-07-02 02:37:42.967681\n",
       "1812   1813  2020-07-02 02:37:48.940907 2020-07-02 02:37:48.940907\n",
       "1813   1814  2020-07-02 02:38:00.161451 2020-07-02 02:38:00.161451\n",
       "1814   1815  2020-07-02 02:38:06.146659 2020-07-02 02:38:06.146659\n",
       "1815   1816  2020-07-02 02:38:17.319818 2020-07-02 02:38:17.319818\n",
       "1816   1817  2020-07-02 02:38:23.315053 2020-07-02 02:38:23.315053\n",
       "1817   1818  2020-07-02 02:38:34.443383 2020-07-02 02:38:34.443383\n",
       "1818   1819  2020-07-02 02:38:40.443189 2020-07-02 02:38:40.443189\n",
       "1819   1820  2020-07-02 02:38:51.612622 2020-07-02 02:38:51.612622\n",
       "1820   1821  2020-07-02 02:38:57.653621 2020-07-02 02:38:57.653621\n",
       "1821   1822  2020-07-02 02:39:08.839529 2020-07-02 02:39:08.839529\n",
       "1822   1823  2020-07-02 02:39:14.845780 2020-07-02 02:39:14.845780\n",
       "1823   1824  2020-07-02 02:39:26.038668 2020-07-02 02:39:26.038668\n",
       "1824   1825  2020-07-02 02:39:32.032336 2020-07-02 02:39:32.032336\n",
       "1825   1826  2020-07-02 02:39:43.171411 2020-07-02 02:39:43.171411\n",
       "1826   1827  2020-07-02 02:39:49.168498 2020-07-02 02:39:49.168498\n",
       "1827   1828  2020-07-02 02:40:00.337813 2020-07-02 02:40:00.337813\n",
       "1828   1829  2020-07-02 02:40:06.300207 2020-07-02 02:40:06.300207\n",
       "1829   1830  2020-07-02 02:40:17.474511 2020-07-02 02:40:17.474511\n",
       "1830   1831  2020-07-02 02:40:23.491116 2020-07-02 02:40:23.491116\n",
       "1831   1832  2020-07-02 02:40:34.655328 2020-07-02 02:40:34.655328\n",
       "1832   1833  2020-07-02 02:40:40.639362 2020-07-02 02:40:40.639362\n",
       "1833   1834  2020-07-02 02:40:51.762696 2020-07-02 02:40:51.762696\n",
       "1834   1835  2020-07-02 02:40:57.810347 2020-07-02 02:40:57.810347\n",
       "1835   1836  2020-07-02 02:41:08.957955 2020-07-02 02:41:08.957955\n",
       "1836   1837  2020-07-02 02:41:14.907468 2020-07-02 02:41:14.907468\n",
       "1837   1838  2020-07-02 02:41:26.112848 2020-07-02 02:41:26.112848\n",
       "1838   1839  2020-07-02 02:41:32.109817 2020-07-02 02:41:32.109817\n",
       "1839   1840  2020-07-02 02:41:43.275314 2020-07-02 02:41:43.275314\n",
       "1840   1841  2020-07-02 02:41:49.272011 2020-07-02 02:41:49.272011\n",
       "1841   1842  2020-07-02 02:42:00.502697 2020-07-02 02:42:00.502697\n",
       "1842   1843  2020-07-02 02:42:06.423066 2020-07-02 02:42:06.423066\n",
       "1843   1844  2020-07-02 02:42:17.643730 2020-07-02 02:42:17.643730\n",
       "1844   1845  2020-07-02 02:42:23.632338 2020-07-02 02:42:23.632338\n",
       "1845   1846  2020-07-02 02:42:34.833444 2020-07-02 02:42:34.833444\n",
       "1846   1847  2020-07-02 02:42:40.850787 2020-07-02 02:42:40.850787\n",
       "1847   1848  2020-07-02 02:42:52.054505 2020-07-02 02:42:52.054505\n",
       "1848   1849  2020-07-02 02:42:58.061336 2020-07-02 02:42:58.061336\n",
       "1849   1850  2020-07-02 02:43:09.160875 2020-07-02 02:43:09.160875\n",
       "1850   1851  2020-07-02 02:43:15.195384 2020-07-02 02:43:15.195384\n",
       "1851   1852  2020-07-02 02:43:26.293734 2020-07-02 02:43:26.293734\n",
       "1852   1853  2020-07-02 02:43:32.305496 2020-07-02 02:43:32.305496\n",
       "1853   1854  2020-07-02 02:43:43.502213 2020-07-02 02:43:43.502213\n",
       "1854   1855  2020-07-02 02:43:49.553087 2020-07-02 02:43:49.553087\n",
       "1855   1856  2020-07-02 02:44:00.693588 2020-07-02 02:44:00.693588\n",
       "1856   1857  2020-07-02 02:44:06.734364 2020-07-02 02:44:06.734364\n",
       "1857   1858  2020-07-02 02:44:17.871546 2020-07-02 02:44:17.871546\n",
       "1858   1859  2020-07-02 02:44:23.952632 2020-07-02 02:44:23.952632"
      ]
     },
     "execution_count": 74,
     "metadata": {},
     "output_type": "execute_result"
    }
   ],
   "source": [
    "ffx2[1800:]"
   ]
  },
  {
   "cell_type": "code",
   "execution_count": 75,
   "metadata": {},
   "outputs": [],
   "source": [
    "# count_column = f'{ffx2[\"count\"][i+1]}---{ffx2[\"count\"][i]}'\n",
    "# time_diff_column = ffx2[\"Datetime\"][i+1]-ffx2[\"Datetime\"][i]"
   ]
  },
  {
   "cell_type": "code",
   "execution_count": 76,
   "metadata": {},
   "outputs": [],
   "source": [
    "bad_time_diff2 = pd.DataFrame([(f'{ffx2[\"count\"][i+1]}---{ffx2[\"count\"][i]}', ffx2[\"Datetime\"][i+1]-ffx2[\"Datetime\"][i]) for i in range(1800,1858)])"
   ]
  },
  {
   "cell_type": "code",
   "execution_count": 77,
   "metadata": {
    "scrolled": true
   },
   "outputs": [
    {
     "data": {
      "text/html": [
       "<div>\n",
       "<style scoped>\n",
       "    .dataframe tbody tr th:only-of-type {\n",
       "        vertical-align: middle;\n",
       "    }\n",
       "\n",
       "    .dataframe tbody tr th {\n",
       "        vertical-align: top;\n",
       "    }\n",
       "\n",
       "    .dataframe thead th {\n",
       "        text-align: right;\n",
       "    }\n",
       "</style>\n",
       "<table border=\"1\" class=\"dataframe\">\n",
       "  <thead>\n",
       "    <tr style=\"text-align: right;\">\n",
       "      <th></th>\n",
       "      <th>0</th>\n",
       "      <th>1</th>\n",
       "    </tr>\n",
       "  </thead>\n",
       "  <tbody>\n",
       "    <tr>\n",
       "      <th>0</th>\n",
       "      <td>1802---1801</td>\n",
       "      <td>00:00:11.165883</td>\n",
       "    </tr>\n",
       "    <tr>\n",
       "      <th>1</th>\n",
       "      <td>1803---1802</td>\n",
       "      <td>00:00:06.110464</td>\n",
       "    </tr>\n",
       "    <tr>\n",
       "      <th>2</th>\n",
       "      <td>1804---1803</td>\n",
       "      <td>00:00:11.195279</td>\n",
       "    </tr>\n",
       "    <tr>\n",
       "      <th>3</th>\n",
       "      <td>1805---1804</td>\n",
       "      <td>00:00:06.000131</td>\n",
       "    </tr>\n",
       "    <tr>\n",
       "      <th>4</th>\n",
       "      <td>1806---1805</td>\n",
       "      <td>00:00:11.185826</td>\n",
       "    </tr>\n",
       "    <tr>\n",
       "      <th>5</th>\n",
       "      <td>1807---1806</td>\n",
       "      <td>00:00:05.997130</td>\n",
       "    </tr>\n",
       "    <tr>\n",
       "      <th>6</th>\n",
       "      <td>1808---1807</td>\n",
       "      <td>00:00:11.137798</td>\n",
       "    </tr>\n",
       "    <tr>\n",
       "      <th>7</th>\n",
       "      <td>1809---1808</td>\n",
       "      <td>00:00:06.012772</td>\n",
       "    </tr>\n",
       "    <tr>\n",
       "      <th>8</th>\n",
       "      <td>1810---1809</td>\n",
       "      <td>00:00:11.209007</td>\n",
       "    </tr>\n",
       "    <tr>\n",
       "      <th>9</th>\n",
       "      <td>1811---1810</td>\n",
       "      <td>00:00:05.943178</td>\n",
       "    </tr>\n",
       "    <tr>\n",
       "      <th>10</th>\n",
       "      <td>1812---1811</td>\n",
       "      <td>00:00:11.201056</td>\n",
       "    </tr>\n",
       "    <tr>\n",
       "      <th>11</th>\n",
       "      <td>1813---1812</td>\n",
       "      <td>00:00:05.973226</td>\n",
       "    </tr>\n",
       "    <tr>\n",
       "      <th>12</th>\n",
       "      <td>1814---1813</td>\n",
       "      <td>00:00:11.220544</td>\n",
       "    </tr>\n",
       "    <tr>\n",
       "      <th>13</th>\n",
       "      <td>1815---1814</td>\n",
       "      <td>00:00:05.985208</td>\n",
       "    </tr>\n",
       "    <tr>\n",
       "      <th>14</th>\n",
       "      <td>1816---1815</td>\n",
       "      <td>00:00:11.173159</td>\n",
       "    </tr>\n",
       "    <tr>\n",
       "      <th>15</th>\n",
       "      <td>1817---1816</td>\n",
       "      <td>00:00:05.995235</td>\n",
       "    </tr>\n",
       "    <tr>\n",
       "      <th>16</th>\n",
       "      <td>1818---1817</td>\n",
       "      <td>00:00:11.128330</td>\n",
       "    </tr>\n",
       "    <tr>\n",
       "      <th>17</th>\n",
       "      <td>1819---1818</td>\n",
       "      <td>00:00:05.999806</td>\n",
       "    </tr>\n",
       "    <tr>\n",
       "      <th>18</th>\n",
       "      <td>1820---1819</td>\n",
       "      <td>00:00:11.169433</td>\n",
       "    </tr>\n",
       "    <tr>\n",
       "      <th>19</th>\n",
       "      <td>1821---1820</td>\n",
       "      <td>00:00:06.040999</td>\n",
       "    </tr>\n",
       "    <tr>\n",
       "      <th>20</th>\n",
       "      <td>1822---1821</td>\n",
       "      <td>00:00:11.185908</td>\n",
       "    </tr>\n",
       "    <tr>\n",
       "      <th>21</th>\n",
       "      <td>1823---1822</td>\n",
       "      <td>00:00:06.006251</td>\n",
       "    </tr>\n",
       "    <tr>\n",
       "      <th>22</th>\n",
       "      <td>1824---1823</td>\n",
       "      <td>00:00:11.192888</td>\n",
       "    </tr>\n",
       "    <tr>\n",
       "      <th>23</th>\n",
       "      <td>1825---1824</td>\n",
       "      <td>00:00:05.993668</td>\n",
       "    </tr>\n",
       "    <tr>\n",
       "      <th>24</th>\n",
       "      <td>1826---1825</td>\n",
       "      <td>00:00:11.139075</td>\n",
       "    </tr>\n",
       "    <tr>\n",
       "      <th>25</th>\n",
       "      <td>1827---1826</td>\n",
       "      <td>00:00:05.997087</td>\n",
       "    </tr>\n",
       "    <tr>\n",
       "      <th>26</th>\n",
       "      <td>1828---1827</td>\n",
       "      <td>00:00:11.169315</td>\n",
       "    </tr>\n",
       "    <tr>\n",
       "      <th>27</th>\n",
       "      <td>1829---1828</td>\n",
       "      <td>00:00:05.962394</td>\n",
       "    </tr>\n",
       "    <tr>\n",
       "      <th>28</th>\n",
       "      <td>1830---1829</td>\n",
       "      <td>00:00:11.174304</td>\n",
       "    </tr>\n",
       "    <tr>\n",
       "      <th>29</th>\n",
       "      <td>1831---1830</td>\n",
       "      <td>00:00:06.016605</td>\n",
       "    </tr>\n",
       "    <tr>\n",
       "      <th>30</th>\n",
       "      <td>1832---1831</td>\n",
       "      <td>00:00:11.164212</td>\n",
       "    </tr>\n",
       "    <tr>\n",
       "      <th>31</th>\n",
       "      <td>1833---1832</td>\n",
       "      <td>00:00:05.984034</td>\n",
       "    </tr>\n",
       "    <tr>\n",
       "      <th>32</th>\n",
       "      <td>1834---1833</td>\n",
       "      <td>00:00:11.123334</td>\n",
       "    </tr>\n",
       "    <tr>\n",
       "      <th>33</th>\n",
       "      <td>1835---1834</td>\n",
       "      <td>00:00:06.047651</td>\n",
       "    </tr>\n",
       "    <tr>\n",
       "      <th>34</th>\n",
       "      <td>1836---1835</td>\n",
       "      <td>00:00:11.147608</td>\n",
       "    </tr>\n",
       "    <tr>\n",
       "      <th>35</th>\n",
       "      <td>1837---1836</td>\n",
       "      <td>00:00:05.949513</td>\n",
       "    </tr>\n",
       "    <tr>\n",
       "      <th>36</th>\n",
       "      <td>1838---1837</td>\n",
       "      <td>00:00:11.205380</td>\n",
       "    </tr>\n",
       "    <tr>\n",
       "      <th>37</th>\n",
       "      <td>1839---1838</td>\n",
       "      <td>00:00:05.996969</td>\n",
       "    </tr>\n",
       "    <tr>\n",
       "      <th>38</th>\n",
       "      <td>1840---1839</td>\n",
       "      <td>00:00:11.165497</td>\n",
       "    </tr>\n",
       "    <tr>\n",
       "      <th>39</th>\n",
       "      <td>1841---1840</td>\n",
       "      <td>00:00:05.996697</td>\n",
       "    </tr>\n",
       "    <tr>\n",
       "      <th>40</th>\n",
       "      <td>1842---1841</td>\n",
       "      <td>00:00:11.230686</td>\n",
       "    </tr>\n",
       "    <tr>\n",
       "      <th>41</th>\n",
       "      <td>1843---1842</td>\n",
       "      <td>00:00:05.920369</td>\n",
       "    </tr>\n",
       "    <tr>\n",
       "      <th>42</th>\n",
       "      <td>1844---1843</td>\n",
       "      <td>00:00:11.220664</td>\n",
       "    </tr>\n",
       "    <tr>\n",
       "      <th>43</th>\n",
       "      <td>1845---1844</td>\n",
       "      <td>00:00:05.988608</td>\n",
       "    </tr>\n",
       "    <tr>\n",
       "      <th>44</th>\n",
       "      <td>1846---1845</td>\n",
       "      <td>00:00:11.201106</td>\n",
       "    </tr>\n",
       "    <tr>\n",
       "      <th>45</th>\n",
       "      <td>1847---1846</td>\n",
       "      <td>00:00:06.017343</td>\n",
       "    </tr>\n",
       "    <tr>\n",
       "      <th>46</th>\n",
       "      <td>1848---1847</td>\n",
       "      <td>00:00:11.203718</td>\n",
       "    </tr>\n",
       "    <tr>\n",
       "      <th>47</th>\n",
       "      <td>1849---1848</td>\n",
       "      <td>00:00:06.006831</td>\n",
       "    </tr>\n",
       "    <tr>\n",
       "      <th>48</th>\n",
       "      <td>1850---1849</td>\n",
       "      <td>00:00:11.099539</td>\n",
       "    </tr>\n",
       "    <tr>\n",
       "      <th>49</th>\n",
       "      <td>1851---1850</td>\n",
       "      <td>00:00:06.034509</td>\n",
       "    </tr>\n",
       "    <tr>\n",
       "      <th>50</th>\n",
       "      <td>1852---1851</td>\n",
       "      <td>00:00:11.098350</td>\n",
       "    </tr>\n",
       "    <tr>\n",
       "      <th>51</th>\n",
       "      <td>1853---1852</td>\n",
       "      <td>00:00:06.011762</td>\n",
       "    </tr>\n",
       "    <tr>\n",
       "      <th>52</th>\n",
       "      <td>1854---1853</td>\n",
       "      <td>00:00:11.196717</td>\n",
       "    </tr>\n",
       "    <tr>\n",
       "      <th>53</th>\n",
       "      <td>1855---1854</td>\n",
       "      <td>00:00:06.050874</td>\n",
       "    </tr>\n",
       "    <tr>\n",
       "      <th>54</th>\n",
       "      <td>1856---1855</td>\n",
       "      <td>00:00:11.140501</td>\n",
       "    </tr>\n",
       "    <tr>\n",
       "      <th>55</th>\n",
       "      <td>1857---1856</td>\n",
       "      <td>00:00:06.040776</td>\n",
       "    </tr>\n",
       "    <tr>\n",
       "      <th>56</th>\n",
       "      <td>1858---1857</td>\n",
       "      <td>00:00:11.137182</td>\n",
       "    </tr>\n",
       "    <tr>\n",
       "      <th>57</th>\n",
       "      <td>1859---1858</td>\n",
       "      <td>00:00:06.081086</td>\n",
       "    </tr>\n",
       "  </tbody>\n",
       "</table>\n",
       "</div>"
      ],
      "text/plain": [
       "              0               1\n",
       "0   1802---1801 00:00:11.165883\n",
       "1   1803---1802 00:00:06.110464\n",
       "2   1804---1803 00:00:11.195279\n",
       "3   1805---1804 00:00:06.000131\n",
       "4   1806---1805 00:00:11.185826\n",
       "5   1807---1806 00:00:05.997130\n",
       "6   1808---1807 00:00:11.137798\n",
       "7   1809---1808 00:00:06.012772\n",
       "8   1810---1809 00:00:11.209007\n",
       "9   1811---1810 00:00:05.943178\n",
       "10  1812---1811 00:00:11.201056\n",
       "11  1813---1812 00:00:05.973226\n",
       "12  1814---1813 00:00:11.220544\n",
       "13  1815---1814 00:00:05.985208\n",
       "14  1816---1815 00:00:11.173159\n",
       "15  1817---1816 00:00:05.995235\n",
       "16  1818---1817 00:00:11.128330\n",
       "17  1819---1818 00:00:05.999806\n",
       "18  1820---1819 00:00:11.169433\n",
       "19  1821---1820 00:00:06.040999\n",
       "20  1822---1821 00:00:11.185908\n",
       "21  1823---1822 00:00:06.006251\n",
       "22  1824---1823 00:00:11.192888\n",
       "23  1825---1824 00:00:05.993668\n",
       "24  1826---1825 00:00:11.139075\n",
       "25  1827---1826 00:00:05.997087\n",
       "26  1828---1827 00:00:11.169315\n",
       "27  1829---1828 00:00:05.962394\n",
       "28  1830---1829 00:00:11.174304\n",
       "29  1831---1830 00:00:06.016605\n",
       "30  1832---1831 00:00:11.164212\n",
       "31  1833---1832 00:00:05.984034\n",
       "32  1834---1833 00:00:11.123334\n",
       "33  1835---1834 00:00:06.047651\n",
       "34  1836---1835 00:00:11.147608\n",
       "35  1837---1836 00:00:05.949513\n",
       "36  1838---1837 00:00:11.205380\n",
       "37  1839---1838 00:00:05.996969\n",
       "38  1840---1839 00:00:11.165497\n",
       "39  1841---1840 00:00:05.996697\n",
       "40  1842---1841 00:00:11.230686\n",
       "41  1843---1842 00:00:05.920369\n",
       "42  1844---1843 00:00:11.220664\n",
       "43  1845---1844 00:00:05.988608\n",
       "44  1846---1845 00:00:11.201106\n",
       "45  1847---1846 00:00:06.017343\n",
       "46  1848---1847 00:00:11.203718\n",
       "47  1849---1848 00:00:06.006831\n",
       "48  1850---1849 00:00:11.099539\n",
       "49  1851---1850 00:00:06.034509\n",
       "50  1852---1851 00:00:11.098350\n",
       "51  1853---1852 00:00:06.011762\n",
       "52  1854---1853 00:00:11.196717\n",
       "53  1855---1854 00:00:06.050874\n",
       "54  1856---1855 00:00:11.140501\n",
       "55  1857---1856 00:00:06.040776\n",
       "56  1858---1857 00:00:11.137182\n",
       "57  1859---1858 00:00:06.081086"
      ]
     },
     "execution_count": 77,
     "metadata": {},
     "output_type": "execute_result"
    }
   ],
   "source": [
    "bad_time_diff2"
   ]
  },
  {
   "cell_type": "markdown",
   "metadata": {},
   "source": [
    "I guess it turns out there is no bad data in this dataset. Cool!\n",
    "\n",
    "Hence, we have finished the cleaning of our second dataset. Let's just rename it."
   ]
  },
  {
   "cell_type": "markdown",
   "metadata": {},
   "source": [
    "OOPS!!! I just realized that I should also probably check the beginning datapoints too - because there might be some bad data while my data collection apparatus was starting up..."
   ]
  },
  {
   "cell_type": "code",
   "execution_count": 78,
   "metadata": {},
   "outputs": [
    {
     "data": {
      "text/html": [
       "<div>\n",
       "<style scoped>\n",
       "    .dataframe tbody tr th:only-of-type {\n",
       "        vertical-align: middle;\n",
       "    }\n",
       "\n",
       "    .dataframe tbody tr th {\n",
       "        vertical-align: top;\n",
       "    }\n",
       "\n",
       "    .dataframe thead th {\n",
       "        text-align: right;\n",
       "    }\n",
       "</style>\n",
       "<table border=\"1\" class=\"dataframe\">\n",
       "  <thead>\n",
       "    <tr style=\"text-align: right;\">\n",
       "      <th></th>\n",
       "      <th>count</th>\n",
       "      <th>timings</th>\n",
       "      <th>Datetime</th>\n",
       "    </tr>\n",
       "  </thead>\n",
       "  <tbody>\n",
       "    <tr>\n",
       "      <th>0</th>\n",
       "      <td>1</td>\n",
       "      <td>2020-07-01 22:18:22.806651</td>\n",
       "      <td>2020-07-01 22:18:22.806651</td>\n",
       "    </tr>\n",
       "    <tr>\n",
       "      <th>1</th>\n",
       "      <td>2</td>\n",
       "      <td>2020-07-01 22:18:49.157322</td>\n",
       "      <td>2020-07-01 22:18:49.157322</td>\n",
       "    </tr>\n",
       "    <tr>\n",
       "      <th>2</th>\n",
       "      <td>3</td>\n",
       "      <td>2020-07-01 22:18:55.197844</td>\n",
       "      <td>2020-07-01 22:18:55.197844</td>\n",
       "    </tr>\n",
       "    <tr>\n",
       "      <th>3</th>\n",
       "      <td>4</td>\n",
       "      <td>2020-07-01 22:19:06.378970</td>\n",
       "      <td>2020-07-01 22:19:06.378970</td>\n",
       "    </tr>\n",
       "    <tr>\n",
       "      <th>4</th>\n",
       "      <td>5</td>\n",
       "      <td>2020-07-01 22:19:12.418819</td>\n",
       "      <td>2020-07-01 22:19:12.418819</td>\n",
       "    </tr>\n",
       "    <tr>\n",
       "      <th>5</th>\n",
       "      <td>6</td>\n",
       "      <td>2020-07-01 22:19:23.520136</td>\n",
       "      <td>2020-07-01 22:19:23.520136</td>\n",
       "    </tr>\n",
       "    <tr>\n",
       "      <th>6</th>\n",
       "      <td>7</td>\n",
       "      <td>2020-07-01 22:19:29.611230</td>\n",
       "      <td>2020-07-01 22:19:29.611230</td>\n",
       "    </tr>\n",
       "    <tr>\n",
       "      <th>7</th>\n",
       "      <td>8</td>\n",
       "      <td>2020-07-01 22:19:40.801496</td>\n",
       "      <td>2020-07-01 22:19:40.801496</td>\n",
       "    </tr>\n",
       "    <tr>\n",
       "      <th>8</th>\n",
       "      <td>9</td>\n",
       "      <td>2020-07-01 22:19:46.788705</td>\n",
       "      <td>2020-07-01 22:19:46.788705</td>\n",
       "    </tr>\n",
       "    <tr>\n",
       "      <th>9</th>\n",
       "      <td>10</td>\n",
       "      <td>2020-07-01 22:19:57.940598</td>\n",
       "      <td>2020-07-01 22:19:57.940598</td>\n",
       "    </tr>\n",
       "  </tbody>\n",
       "</table>\n",
       "</div>"
      ],
      "text/plain": [
       "   count                     timings                   Datetime\n",
       "0      1  2020-07-01 22:18:22.806651 2020-07-01 22:18:22.806651\n",
       "1      2  2020-07-01 22:18:49.157322 2020-07-01 22:18:49.157322\n",
       "2      3  2020-07-01 22:18:55.197844 2020-07-01 22:18:55.197844\n",
       "3      4  2020-07-01 22:19:06.378970 2020-07-01 22:19:06.378970\n",
       "4      5  2020-07-01 22:19:12.418819 2020-07-01 22:19:12.418819\n",
       "5      6  2020-07-01 22:19:23.520136 2020-07-01 22:19:23.520136\n",
       "6      7  2020-07-01 22:19:29.611230 2020-07-01 22:19:29.611230\n",
       "7      8  2020-07-01 22:19:40.801496 2020-07-01 22:19:40.801496\n",
       "8      9  2020-07-01 22:19:46.788705 2020-07-01 22:19:46.788705\n",
       "9     10  2020-07-01 22:19:57.940598 2020-07-01 22:19:57.940598"
      ]
     },
     "execution_count": 78,
     "metadata": {},
     "output_type": "execute_result"
    }
   ],
   "source": [
    "ffx2[:10]"
   ]
  },
  {
   "cell_type": "code",
   "execution_count": 79,
   "metadata": {},
   "outputs": [],
   "source": [
    "bad_time_diff2_head = pd.DataFrame([(f'{ffx2[\"count\"][i+1]}---{ffx2[\"count\"][i]}', ffx2[\"Datetime\"][i+1]-ffx2[\"Datetime\"][i]) for i in range(10)])"
   ]
  },
  {
   "cell_type": "code",
   "execution_count": 80,
   "metadata": {},
   "outputs": [
    {
     "data": {
      "text/html": [
       "<div>\n",
       "<style scoped>\n",
       "    .dataframe tbody tr th:only-of-type {\n",
       "        vertical-align: middle;\n",
       "    }\n",
       "\n",
       "    .dataframe tbody tr th {\n",
       "        vertical-align: top;\n",
       "    }\n",
       "\n",
       "    .dataframe thead th {\n",
       "        text-align: right;\n",
       "    }\n",
       "</style>\n",
       "<table border=\"1\" class=\"dataframe\">\n",
       "  <thead>\n",
       "    <tr style=\"text-align: right;\">\n",
       "      <th></th>\n",
       "      <th>0</th>\n",
       "      <th>1</th>\n",
       "    </tr>\n",
       "  </thead>\n",
       "  <tbody>\n",
       "    <tr>\n",
       "      <th>0</th>\n",
       "      <td>2---1</td>\n",
       "      <td>00:00:26.350671</td>\n",
       "    </tr>\n",
       "    <tr>\n",
       "      <th>1</th>\n",
       "      <td>3---2</td>\n",
       "      <td>00:00:06.040522</td>\n",
       "    </tr>\n",
       "    <tr>\n",
       "      <th>2</th>\n",
       "      <td>4---3</td>\n",
       "      <td>00:00:11.181126</td>\n",
       "    </tr>\n",
       "    <tr>\n",
       "      <th>3</th>\n",
       "      <td>5---4</td>\n",
       "      <td>00:00:06.039849</td>\n",
       "    </tr>\n",
       "    <tr>\n",
       "      <th>4</th>\n",
       "      <td>6---5</td>\n",
       "      <td>00:00:11.101317</td>\n",
       "    </tr>\n",
       "    <tr>\n",
       "      <th>5</th>\n",
       "      <td>7---6</td>\n",
       "      <td>00:00:06.091094</td>\n",
       "    </tr>\n",
       "    <tr>\n",
       "      <th>6</th>\n",
       "      <td>8---7</td>\n",
       "      <td>00:00:11.190266</td>\n",
       "    </tr>\n",
       "    <tr>\n",
       "      <th>7</th>\n",
       "      <td>9---8</td>\n",
       "      <td>00:00:05.987209</td>\n",
       "    </tr>\n",
       "    <tr>\n",
       "      <th>8</th>\n",
       "      <td>10---9</td>\n",
       "      <td>00:00:11.151893</td>\n",
       "    </tr>\n",
       "    <tr>\n",
       "      <th>9</th>\n",
       "      <td>11---10</td>\n",
       "      <td>00:00:06.000736</td>\n",
       "    </tr>\n",
       "  </tbody>\n",
       "</table>\n",
       "</div>"
      ],
      "text/plain": [
       "         0               1\n",
       "0    2---1 00:00:26.350671\n",
       "1    3---2 00:00:06.040522\n",
       "2    4---3 00:00:11.181126\n",
       "3    5---4 00:00:06.039849\n",
       "4    6---5 00:00:11.101317\n",
       "5    7---6 00:00:06.091094\n",
       "6    8---7 00:00:11.190266\n",
       "7    9---8 00:00:05.987209\n",
       "8   10---9 00:00:11.151893\n",
       "9  11---10 00:00:06.000736"
      ]
     },
     "execution_count": 80,
     "metadata": {},
     "output_type": "execute_result"
    }
   ],
   "source": [
    "bad_time_diff2_head"
   ]
  },
  {
   "cell_type": "markdown",
   "metadata": {},
   "source": [
    "Ha! We see that the first time difference is messed up & the second time difference is not. This means that only the first data point is the bad data. We will remove it."
   ]
  },
  {
   "cell_type": "code",
   "execution_count": 84,
   "metadata": {
    "scrolled": true
   },
   "outputs": [
    {
     "data": {
      "text/html": [
       "<div>\n",
       "<style scoped>\n",
       "    .dataframe tbody tr th:only-of-type {\n",
       "        vertical-align: middle;\n",
       "    }\n",
       "\n",
       "    .dataframe tbody tr th {\n",
       "        vertical-align: top;\n",
       "    }\n",
       "\n",
       "    .dataframe thead th {\n",
       "        text-align: right;\n",
       "    }\n",
       "</style>\n",
       "<table border=\"1\" class=\"dataframe\">\n",
       "  <thead>\n",
       "    <tr style=\"text-align: right;\">\n",
       "      <th></th>\n",
       "      <th>count</th>\n",
       "      <th>timings</th>\n",
       "      <th>Datetime</th>\n",
       "    </tr>\n",
       "  </thead>\n",
       "  <tbody>\n",
       "    <tr>\n",
       "      <th>1</th>\n",
       "      <td>2</td>\n",
       "      <td>2020-07-01 22:18:49.157322</td>\n",
       "      <td>2020-07-01 22:18:49.157322</td>\n",
       "    </tr>\n",
       "    <tr>\n",
       "      <th>2</th>\n",
       "      <td>3</td>\n",
       "      <td>2020-07-01 22:18:55.197844</td>\n",
       "      <td>2020-07-01 22:18:55.197844</td>\n",
       "    </tr>\n",
       "    <tr>\n",
       "      <th>3</th>\n",
       "      <td>4</td>\n",
       "      <td>2020-07-01 22:19:06.378970</td>\n",
       "      <td>2020-07-01 22:19:06.378970</td>\n",
       "    </tr>\n",
       "    <tr>\n",
       "      <th>4</th>\n",
       "      <td>5</td>\n",
       "      <td>2020-07-01 22:19:12.418819</td>\n",
       "      <td>2020-07-01 22:19:12.418819</td>\n",
       "    </tr>\n",
       "    <tr>\n",
       "      <th>5</th>\n",
       "      <td>6</td>\n",
       "      <td>2020-07-01 22:19:23.520136</td>\n",
       "      <td>2020-07-01 22:19:23.520136</td>\n",
       "    </tr>\n",
       "    <tr>\n",
       "      <th>...</th>\n",
       "      <td>...</td>\n",
       "      <td>...</td>\n",
       "      <td>...</td>\n",
       "    </tr>\n",
       "    <tr>\n",
       "      <th>1854</th>\n",
       "      <td>1855</td>\n",
       "      <td>2020-07-02 02:43:49.553087</td>\n",
       "      <td>2020-07-02 02:43:49.553087</td>\n",
       "    </tr>\n",
       "    <tr>\n",
       "      <th>1855</th>\n",
       "      <td>1856</td>\n",
       "      <td>2020-07-02 02:44:00.693588</td>\n",
       "      <td>2020-07-02 02:44:00.693588</td>\n",
       "    </tr>\n",
       "    <tr>\n",
       "      <th>1856</th>\n",
       "      <td>1857</td>\n",
       "      <td>2020-07-02 02:44:06.734364</td>\n",
       "      <td>2020-07-02 02:44:06.734364</td>\n",
       "    </tr>\n",
       "    <tr>\n",
       "      <th>1857</th>\n",
       "      <td>1858</td>\n",
       "      <td>2020-07-02 02:44:17.871546</td>\n",
       "      <td>2020-07-02 02:44:17.871546</td>\n",
       "    </tr>\n",
       "    <tr>\n",
       "      <th>1858</th>\n",
       "      <td>1859</td>\n",
       "      <td>2020-07-02 02:44:23.952632</td>\n",
       "      <td>2020-07-02 02:44:23.952632</td>\n",
       "    </tr>\n",
       "  </tbody>\n",
       "</table>\n",
       "<p>1858 rows × 3 columns</p>\n",
       "</div>"
      ],
      "text/plain": [
       "      count                     timings                   Datetime\n",
       "1         2  2020-07-01 22:18:49.157322 2020-07-01 22:18:49.157322\n",
       "2         3  2020-07-01 22:18:55.197844 2020-07-01 22:18:55.197844\n",
       "3         4  2020-07-01 22:19:06.378970 2020-07-01 22:19:06.378970\n",
       "4         5  2020-07-01 22:19:12.418819 2020-07-01 22:19:12.418819\n",
       "5         6  2020-07-01 22:19:23.520136 2020-07-01 22:19:23.520136\n",
       "...     ...                         ...                        ...\n",
       "1854   1855  2020-07-02 02:43:49.553087 2020-07-02 02:43:49.553087\n",
       "1855   1856  2020-07-02 02:44:00.693588 2020-07-02 02:44:00.693588\n",
       "1856   1857  2020-07-02 02:44:06.734364 2020-07-02 02:44:06.734364\n",
       "1857   1858  2020-07-02 02:44:17.871546 2020-07-02 02:44:17.871546\n",
       "1858   1859  2020-07-02 02:44:23.952632 2020-07-02 02:44:23.952632\n",
       "\n",
       "[1858 rows x 3 columns]"
      ]
     },
     "execution_count": 84,
     "metadata": {},
     "output_type": "execute_result"
    }
   ],
   "source": [
    "ffx2_cleaned = ffx2.drop(labels=0, axis=0)\n",
    "ffx2_cleaned"
   ]
  },
  {
   "cell_type": "markdown",
   "metadata": {},
   "source": [
    "# **Combine these two dataframes (maybe...?)**"
   ]
  },
  {
   "cell_type": "markdown",
   "metadata": {},
   "source": [
    "So obviously, these two dataframes hold the exact same type of information...but should we combine them????\n",
    "\n",
    "NO, we should NOT!\n",
    "\n",
    "We are mainly going to be looking at the time differences between lightning strikes, so we can't combine them because the data was made on seperate days\n",
    "\n",
    "Wherever the two dataframes join, there will be a HUGE jump in the time difference (a few days)...BUT: I guess I could just make that a 'null' value and/or delete that row from our time differences data\n",
    "\n",
    "I think the easier thing to do is get the time difference feature of both dataframes SEPARATELY, and then combine them (if needed)."
   ]
  },
  {
   "cell_type": "markdown",
   "metadata": {},
   "source": [
    "# **Creating 'time difference' feature**"
   ]
  },
  {
   "cell_type": "code",
   "execution_count": null,
   "metadata": {},
   "outputs": [],
   "source": []
  },
  {
   "cell_type": "code",
   "execution_count": null,
   "metadata": {},
   "outputs": [],
   "source": []
  },
  {
   "cell_type": "code",
   "execution_count": null,
   "metadata": {},
   "outputs": [],
   "source": []
  },
  {
   "cell_type": "code",
   "execution_count": null,
   "metadata": {},
   "outputs": [],
   "source": []
  },
  {
   "cell_type": "code",
   "execution_count": null,
   "metadata": {},
   "outputs": [],
   "source": []
  },
  {
   "cell_type": "code",
   "execution_count": null,
   "metadata": {},
   "outputs": [],
   "source": []
  },
  {
   "cell_type": "code",
   "execution_count": null,
   "metadata": {},
   "outputs": [],
   "source": []
  },
  {
   "cell_type": "code",
   "execution_count": null,
   "metadata": {},
   "outputs": [],
   "source": []
  },
  {
   "cell_type": "code",
   "execution_count": null,
   "metadata": {},
   "outputs": [],
   "source": []
  },
  {
   "cell_type": "code",
   "execution_count": null,
   "metadata": {},
   "outputs": [],
   "source": []
  },
  {
   "cell_type": "code",
   "execution_count": null,
   "metadata": {},
   "outputs": [],
   "source": []
  },
  {
   "cell_type": "code",
   "execution_count": null,
   "metadata": {},
   "outputs": [],
   "source": []
  },
  {
   "cell_type": "code",
   "execution_count": 34,
   "metadata": {},
   "outputs": [
    {
     "data": {
      "text/plain": [
       "(1135, 3)"
      ]
     },
     "execution_count": 34,
     "metadata": {},
     "output_type": "execute_result"
    }
   ],
   "source": [
    "ffx.shape"
   ]
  },
  {
   "cell_type": "code",
   "execution_count": 33,
   "metadata": {},
   "outputs": [
    {
     "ename": "KeyError",
     "evalue": "'count,'",
     "output_type": "error",
     "traceback": [
      "\u001b[1;31m---------------------------------------------------------------------------\u001b[0m",
      "\u001b[1;31mKeyError\u001b[0m                                  Traceback (most recent call last)",
      "\u001b[1;32m~\\anaconda3\\lib\\site-packages\\pandas\\core\\indexes\\base.py\u001b[0m in \u001b[0;36mget_loc\u001b[1;34m(self, key, method, tolerance)\u001b[0m\n\u001b[0;32m   2645\u001b[0m             \u001b[1;32mtry\u001b[0m\u001b[1;33m:\u001b[0m\u001b[1;33m\u001b[0m\u001b[1;33m\u001b[0m\u001b[0m\n\u001b[1;32m-> 2646\u001b[1;33m                 \u001b[1;32mreturn\u001b[0m \u001b[0mself\u001b[0m\u001b[1;33m.\u001b[0m\u001b[0m_engine\u001b[0m\u001b[1;33m.\u001b[0m\u001b[0mget_loc\u001b[0m\u001b[1;33m(\u001b[0m\u001b[0mkey\u001b[0m\u001b[1;33m)\u001b[0m\u001b[1;33m\u001b[0m\u001b[1;33m\u001b[0m\u001b[0m\n\u001b[0m\u001b[0;32m   2647\u001b[0m             \u001b[1;32mexcept\u001b[0m \u001b[0mKeyError\u001b[0m\u001b[1;33m:\u001b[0m\u001b[1;33m\u001b[0m\u001b[1;33m\u001b[0m\u001b[0m\n",
      "\u001b[1;32mpandas\\_libs\\index.pyx\u001b[0m in \u001b[0;36mpandas._libs.index.IndexEngine.get_loc\u001b[1;34m()\u001b[0m\n",
      "\u001b[1;32mpandas\\_libs\\index.pyx\u001b[0m in \u001b[0;36mpandas._libs.index.IndexEngine.get_loc\u001b[1;34m()\u001b[0m\n",
      "\u001b[1;32mpandas\\_libs\\hashtable_class_helper.pxi\u001b[0m in \u001b[0;36mpandas._libs.hashtable.PyObjectHashTable.get_item\u001b[1;34m()\u001b[0m\n",
      "\u001b[1;32mpandas\\_libs\\hashtable_class_helper.pxi\u001b[0m in \u001b[0;36mpandas._libs.hashtable.PyObjectHashTable.get_item\u001b[1;34m()\u001b[0m\n",
      "\u001b[1;31mKeyError\u001b[0m: 'count,'",
      "\nDuring handling of the above exception, another exception occurred:\n",
      "\u001b[1;31mKeyError\u001b[0m                                  Traceback (most recent call last)",
      "\u001b[1;32m<ipython-input-33-ecc3ab5fb240>\u001b[0m in \u001b[0;36m<module>\u001b[1;34m\u001b[0m\n\u001b[1;32m----> 1\u001b[1;33m \u001b[0mcounts\u001b[0m \u001b[1;33m=\u001b[0m \u001b[0mffx\u001b[0m\u001b[1;33m[\u001b[0m\u001b[1;34m'count,'\u001b[0m\u001b[1;33m]\u001b[0m\u001b[1;33m\u001b[0m\u001b[1;33m\u001b[0m\u001b[0m\n\u001b[0m\u001b[0;32m      2\u001b[0m \u001b[0mcounts\u001b[0m\u001b[1;33m\u001b[0m\u001b[1;33m\u001b[0m\u001b[0m\n",
      "\u001b[1;32m~\\anaconda3\\lib\\site-packages\\pandas\\core\\frame.py\u001b[0m in \u001b[0;36m__getitem__\u001b[1;34m(self, key)\u001b[0m\n\u001b[0;32m   2798\u001b[0m             \u001b[1;32mif\u001b[0m \u001b[0mself\u001b[0m\u001b[1;33m.\u001b[0m\u001b[0mcolumns\u001b[0m\u001b[1;33m.\u001b[0m\u001b[0mnlevels\u001b[0m \u001b[1;33m>\u001b[0m \u001b[1;36m1\u001b[0m\u001b[1;33m:\u001b[0m\u001b[1;33m\u001b[0m\u001b[1;33m\u001b[0m\u001b[0m\n\u001b[0;32m   2799\u001b[0m                 \u001b[1;32mreturn\u001b[0m \u001b[0mself\u001b[0m\u001b[1;33m.\u001b[0m\u001b[0m_getitem_multilevel\u001b[0m\u001b[1;33m(\u001b[0m\u001b[0mkey\u001b[0m\u001b[1;33m)\u001b[0m\u001b[1;33m\u001b[0m\u001b[1;33m\u001b[0m\u001b[0m\n\u001b[1;32m-> 2800\u001b[1;33m             \u001b[0mindexer\u001b[0m \u001b[1;33m=\u001b[0m \u001b[0mself\u001b[0m\u001b[1;33m.\u001b[0m\u001b[0mcolumns\u001b[0m\u001b[1;33m.\u001b[0m\u001b[0mget_loc\u001b[0m\u001b[1;33m(\u001b[0m\u001b[0mkey\u001b[0m\u001b[1;33m)\u001b[0m\u001b[1;33m\u001b[0m\u001b[1;33m\u001b[0m\u001b[0m\n\u001b[0m\u001b[0;32m   2801\u001b[0m             \u001b[1;32mif\u001b[0m \u001b[0mis_integer\u001b[0m\u001b[1;33m(\u001b[0m\u001b[0mindexer\u001b[0m\u001b[1;33m)\u001b[0m\u001b[1;33m:\u001b[0m\u001b[1;33m\u001b[0m\u001b[1;33m\u001b[0m\u001b[0m\n\u001b[0;32m   2802\u001b[0m                 \u001b[0mindexer\u001b[0m \u001b[1;33m=\u001b[0m \u001b[1;33m[\u001b[0m\u001b[0mindexer\u001b[0m\u001b[1;33m]\u001b[0m\u001b[1;33m\u001b[0m\u001b[1;33m\u001b[0m\u001b[0m\n",
      "\u001b[1;32m~\\anaconda3\\lib\\site-packages\\pandas\\core\\indexes\\base.py\u001b[0m in \u001b[0;36mget_loc\u001b[1;34m(self, key, method, tolerance)\u001b[0m\n\u001b[0;32m   2646\u001b[0m                 \u001b[1;32mreturn\u001b[0m \u001b[0mself\u001b[0m\u001b[1;33m.\u001b[0m\u001b[0m_engine\u001b[0m\u001b[1;33m.\u001b[0m\u001b[0mget_loc\u001b[0m\u001b[1;33m(\u001b[0m\u001b[0mkey\u001b[0m\u001b[1;33m)\u001b[0m\u001b[1;33m\u001b[0m\u001b[1;33m\u001b[0m\u001b[0m\n\u001b[0;32m   2647\u001b[0m             \u001b[1;32mexcept\u001b[0m \u001b[0mKeyError\u001b[0m\u001b[1;33m:\u001b[0m\u001b[1;33m\u001b[0m\u001b[1;33m\u001b[0m\u001b[0m\n\u001b[1;32m-> 2648\u001b[1;33m                 \u001b[1;32mreturn\u001b[0m \u001b[0mself\u001b[0m\u001b[1;33m.\u001b[0m\u001b[0m_engine\u001b[0m\u001b[1;33m.\u001b[0m\u001b[0mget_loc\u001b[0m\u001b[1;33m(\u001b[0m\u001b[0mself\u001b[0m\u001b[1;33m.\u001b[0m\u001b[0m_maybe_cast_indexer\u001b[0m\u001b[1;33m(\u001b[0m\u001b[0mkey\u001b[0m\u001b[1;33m)\u001b[0m\u001b[1;33m)\u001b[0m\u001b[1;33m\u001b[0m\u001b[1;33m\u001b[0m\u001b[0m\n\u001b[0m\u001b[0;32m   2649\u001b[0m         \u001b[0mindexer\u001b[0m \u001b[1;33m=\u001b[0m \u001b[0mself\u001b[0m\u001b[1;33m.\u001b[0m\u001b[0mget_indexer\u001b[0m\u001b[1;33m(\u001b[0m\u001b[1;33m[\u001b[0m\u001b[0mkey\u001b[0m\u001b[1;33m]\u001b[0m\u001b[1;33m,\u001b[0m \u001b[0mmethod\u001b[0m\u001b[1;33m=\u001b[0m\u001b[0mmethod\u001b[0m\u001b[1;33m,\u001b[0m \u001b[0mtolerance\u001b[0m\u001b[1;33m=\u001b[0m\u001b[0mtolerance\u001b[0m\u001b[1;33m)\u001b[0m\u001b[1;33m\u001b[0m\u001b[1;33m\u001b[0m\u001b[0m\n\u001b[0;32m   2650\u001b[0m         \u001b[1;32mif\u001b[0m \u001b[0mindexer\u001b[0m\u001b[1;33m.\u001b[0m\u001b[0mndim\u001b[0m \u001b[1;33m>\u001b[0m \u001b[1;36m1\u001b[0m \u001b[1;32mor\u001b[0m \u001b[0mindexer\u001b[0m\u001b[1;33m.\u001b[0m\u001b[0msize\u001b[0m \u001b[1;33m>\u001b[0m \u001b[1;36m1\u001b[0m\u001b[1;33m:\u001b[0m\u001b[1;33m\u001b[0m\u001b[1;33m\u001b[0m\u001b[0m\n",
      "\u001b[1;32mpandas\\_libs\\index.pyx\u001b[0m in \u001b[0;36mpandas._libs.index.IndexEngine.get_loc\u001b[1;34m()\u001b[0m\n",
      "\u001b[1;32mpandas\\_libs\\index.pyx\u001b[0m in \u001b[0;36mpandas._libs.index.IndexEngine.get_loc\u001b[1;34m()\u001b[0m\n",
      "\u001b[1;32mpandas\\_libs\\hashtable_class_helper.pxi\u001b[0m in \u001b[0;36mpandas._libs.hashtable.PyObjectHashTable.get_item\u001b[1;34m()\u001b[0m\n",
      "\u001b[1;32mpandas\\_libs\\hashtable_class_helper.pxi\u001b[0m in \u001b[0;36mpandas._libs.hashtable.PyObjectHashTable.get_item\u001b[1;34m()\u001b[0m\n",
      "\u001b[1;31mKeyError\u001b[0m: 'count,'"
     ]
    }
   ],
   "source": [
    "counts = ffx['count,']\n",
    "counts"
   ]
  },
  {
   "cell_type": "code",
   "execution_count": null,
   "metadata": {},
   "outputs": [],
   "source": [
    "type(counts[1])"
   ]
  },
  {
   "cell_type": "code",
   "execution_count": null,
   "metadata": {},
   "outputs": [],
   "source": [
    "timings = ffx['timings']\n",
    "timings.head()"
   ]
  },
  {
   "cell_type": "code",
   "execution_count": null,
   "metadata": {},
   "outputs": [],
   "source": [
    "# type(timings) #--> Series\n",
    "type(timings[1]) #--> String"
   ]
  },
  {
   "cell_type": "code",
   "execution_count": null,
   "metadata": {},
   "outputs": [],
   "source": [
    "timings2 = pd.to_datetime(timings)\n",
    "timings2.head()"
   ]
  },
  {
   "cell_type": "code",
   "execution_count": null,
   "metadata": {},
   "outputs": [],
   "source": [
    "# type(timings2[1]) #--> Timestamp\n",
    "# type(timings2[1]-timings2[0]) #--> Timedelta\n",
    "timings2[10]-timings2[0]"
   ]
  },
  {
   "cell_type": "code",
   "execution_count": null,
   "metadata": {},
   "outputs": [],
   "source": [
    "(timings2[10]-timings2[0]).seconds + (timings2[10]-timings2[0]).microseconds/10**6"
   ]
  },
  {
   "cell_type": "code",
   "execution_count": null,
   "metadata": {},
   "outputs": [],
   "source": [
    "time_diff = [(timings2[i+1]-timings2[i]).seconds + (timings2[i+1]-timings2[i]).microseconds/10**6 for i in range(0, 1134)]\n",
    "# len(time_diff) #--> 1134\n",
    "time_diff[1115:]"
   ]
  },
  {
   "cell_type": "code",
   "execution_count": null,
   "metadata": {},
   "outputs": [],
   "source": [
    "# Need to remove last 17 entries of time_diff list\n",
    "y = time_diff[:len(time_diff)-17]\n",
    "y[1110:]\n",
    "# len(y) #-->1117"
   ]
  },
  {
   "cell_type": "code",
   "execution_count": null,
   "metadata": {},
   "outputs": [],
   "source": [
    "# Removing last 17 corresponding entries in counts list\n",
    "# and an extra one to make it the same size as time_diff\n",
    "\n",
    "x = counts[:len(counts)-18]\n",
    "len(x)"
   ]
  },
  {
   "cell_type": "code",
   "execution_count": null,
   "metadata": {},
   "outputs": [],
   "source": [
    "# fig = plt.figure()\n",
    "\n",
    "# axes = fig.add_axes([0,0,1,1])\n",
    "# axes.set_xlabel(\"Counts\")\n",
    "# axes.set_ylabel(\"Time Differences\")\n",
    "\n",
    "# # axes.plot(x, y)\n"
   ]
  },
  {
   "cell_type": "code",
   "execution_count": null,
   "metadata": {},
   "outputs": [],
   "source": [
    "plt.scatter(x,y)"
   ]
  },
  {
   "cell_type": "code",
   "execution_count": null,
   "metadata": {},
   "outputs": [],
   "source": [
    "average_time = sum(y)/len(y)\n",
    "average_time"
   ]
  },
  {
   "cell_type": "code",
   "execution_count": null,
   "metadata": {},
   "outputs": [],
   "source": [
    "above_average = [time for time in y if time > average_time]\n",
    "above_average[:5]\n",
    "# len(above_average) #--> 558"
   ]
  },
  {
   "cell_type": "code",
   "execution_count": null,
   "metadata": {},
   "outputs": [],
   "source": [
    "below_average = [time for time in y if time < average_time]\n",
    "below_average[:5]\n",
    "# len(below_average) #--> 559"
   ]
  },
  {
   "cell_type": "code",
   "execution_count": null,
   "metadata": {},
   "outputs": [],
   "source": [
    "count_above = [count for (count, time) in zip(x,y) if time > average_time]\n",
    "count_above # --> ALL EVEN NUMBERS!!\n",
    "len(count_above)"
   ]
  },
  {
   "cell_type": "code",
   "execution_count": null,
   "metadata": {},
   "outputs": [],
   "source": [
    "avg_of_above = sum(above_average)/len(above_average)\n",
    "avg_of_above"
   ]
  },
  {
   "cell_type": "code",
   "execution_count": null,
   "metadata": {},
   "outputs": [],
   "source": [
    "std_above = np.std(above_average)\n",
    "std_above"
   ]
  },
  {
   "cell_type": "code",
   "execution_count": null,
   "metadata": {},
   "outputs": [],
   "source": [
    "avg_of_below = sum(below_average)/len(below_average)\n",
    "avg_of_below"
   ]
  },
  {
   "cell_type": "code",
   "execution_count": null,
   "metadata": {},
   "outputs": [],
   "source": [
    "std_below = np.std(below_average)\n",
    "std_below"
   ]
  },
  {
   "cell_type": "code",
   "execution_count": null,
   "metadata": {},
   "outputs": [],
   "source": [
    "count_below = [count for (count, time) in zip(x,y) if time < average_time]\n",
    "count_below # --> ALL EVEN NUMBERS!!\n",
    "len(count_below)"
   ]
  },
  {
   "cell_type": "code",
   "execution_count": null,
   "metadata": {},
   "outputs": [],
   "source": [
    "plt.scatter(count_above, above_average)"
   ]
  },
  {
   "cell_type": "code",
   "execution_count": null,
   "metadata": {},
   "outputs": [],
   "source": [
    "plt.scatter(count_below, below_average)"
   ]
  },
  {
   "cell_type": "code",
   "execution_count": null,
   "metadata": {
    "scrolled": true
   },
   "outputs": [],
   "source": [
    "num_bins = 20\n",
    "plt.hist(above_average, bins = num_bins)"
   ]
  },
  {
   "cell_type": "code",
   "execution_count": null,
   "metadata": {},
   "outputs": [],
   "source": [
    "num_bins = 20\n",
    "plt.hist(below_average, bins = num_bins)"
   ]
  },
  {
   "cell_type": "code",
   "execution_count": null,
   "metadata": {},
   "outputs": [],
   "source": [
    "count_above[:5]"
   ]
  },
  {
   "cell_type": "code",
   "execution_count": null,
   "metadata": {},
   "outputs": [],
   "source": [
    "def all_even_or_odd(array):\n",
    "\n",
    "    remainders = list(map(lambda x: int(x[:-1]) % 2, array))\n",
    "    \n",
    "    if remainders.count(1) == len(array):\n",
    "        return \"The array contains all odd integers\"\n",
    "    elif remainders.count(0) == len(array):\n",
    "        return \"The array contains all even integers\"\n",
    "    else:\n",
    "        return \"The array contains both even and odd integers\""
   ]
  },
  {
   "cell_type": "code",
   "execution_count": null,
   "metadata": {},
   "outputs": [],
   "source": [
    "all_even_or_odd(count_above)"
   ]
  },
  {
   "cell_type": "code",
   "execution_count": null,
   "metadata": {},
   "outputs": [],
   "source": [
    "all_even_or_odd(count_below)"
   ]
  },
  {
   "cell_type": "code",
   "execution_count": null,
   "metadata": {},
   "outputs": [],
   "source": []
  }
 ],
 "metadata": {
  "kernelspec": {
   "display_name": "Python 3",
   "language": "python",
   "name": "python3"
  },
  "language_info": {
   "codemirror_mode": {
    "name": "ipython",
    "version": 3
   },
   "file_extension": ".py",
   "mimetype": "text/x-python",
   "name": "python",
   "nbconvert_exporter": "python",
   "pygments_lexer": "ipython3",
   "version": "3.7.6"
  }
 },
 "nbformat": 4,
 "nbformat_minor": 4
}
