{
 "cells": [
  {
   "cell_type": "markdown",
   "metadata": {},
   "source": [
    "# Importing and Setting Up Python Modules"
   ]
  },
  {
   "cell_type": "code",
   "execution_count": 1,
   "metadata": {},
   "outputs": [],
   "source": [
    "# The usual data visualization modules\n",
    "\n",
    "import numpy as np\n",
    "import pandas as pd\n",
    "\n",
    "import matplotlib.pyplot as plt\n",
    "%matplotlib inline\n",
    "\n",
    "import seaborn as sns\n",
    "sns.set(style=\"darkgrid\")\n",
    "\n",
    "# This is to increase the size of all figures\n",
    "plt.rcParams[\"figure.dpi\"] = 150"
   ]
  },
  {
   "cell_type": "code",
   "execution_count": 2,
   "metadata": {},
   "outputs": [
    {
     "data": {
      "text/html": [
       "        <script type=\"text/javascript\">\n",
       "        window.PlotlyConfig = {MathJaxConfig: 'local'};\n",
       "        if (window.MathJax) {MathJax.Hub.Config({SVG: {font: \"STIX-Web\"}});}\n",
       "        if (typeof require !== 'undefined') {\n",
       "        require.undef(\"plotly\");\n",
       "        requirejs.config({\n",
       "            paths: {\n",
       "                'plotly': ['https://cdn.plot.ly/plotly-latest.min']\n",
       "            }\n",
       "        });\n",
       "        require(['plotly'], function(Plotly) {\n",
       "            window._Plotly = Plotly;\n",
       "        });\n",
       "        }\n",
       "        </script>\n",
       "        "
      ]
     },
     "metadata": {},
     "output_type": "display_data"
    },
    {
     "data": {
      "text/html": [
       "        <script type=\"text/javascript\">\n",
       "        window.PlotlyConfig = {MathJaxConfig: 'local'};\n",
       "        if (window.MathJax) {MathJax.Hub.Config({SVG: {font: \"STIX-Web\"}});}\n",
       "        if (typeof require !== 'undefined') {\n",
       "        require.undef(\"plotly\");\n",
       "        requirejs.config({\n",
       "            paths: {\n",
       "                'plotly': ['https://cdn.plot.ly/plotly-latest.min']\n",
       "            }\n",
       "        });\n",
       "        require(['plotly'], function(Plotly) {\n",
       "            window._Plotly = Plotly;\n",
       "        });\n",
       "        }\n",
       "        </script>\n",
       "        "
      ]
     },
     "metadata": {},
     "output_type": "display_data"
    }
   ],
   "source": [
    "# Modules to create interactive plots\n",
    "\n",
    "import chart_studio.plotly as py\n",
    "import cufflinks as cf\n",
    "\n",
    "from plotly.offline import download_plotlyjs, init_notebook_mode, plot, iplot\n",
    "\n",
    "init_notebook_mode(connected=True)\n",
    "cf.go_offline()"
   ]
  },
  {
   "cell_type": "code",
   "execution_count": 3,
   "metadata": {},
   "outputs": [],
   "source": [
    "# Date & time manipulation modules\n",
    "\n",
    "import datetime as dt\n",
    "import datetime\n",
    "from datetime import datetime"
   ]
  },
  {
   "cell_type": "code",
   "execution_count": 4,
   "metadata": {},
   "outputs": [],
   "source": [
    "# Used to execute multple lines of code in a single cell\n",
    "\n",
    "from IPython.core.interactiveshell import InteractiveShell\n",
    "InteractiveShell.ast_node_interactivity = \"all\""
   ]
  },
  {
   "cell_type": "code",
   "execution_count": 5,
   "metadata": {},
   "outputs": [],
   "source": [
    "# # Used to display dataframes horizontally (instead of vertically)\n",
    "\n",
    "# from IPython.display import display_html\n",
    "# def display_side_by_side(*args):\n",
    "#     html_str=''\n",
    "#     for df in args:\n",
    "#         html_str+=df.to_html()\n",
    "#     display_html(html_str.replace('table','table style=\"display:inline\"'),raw=True)\n",
    "\n",
    "    \n",
    "## ABOVE CODE IS NOT USED! Instead I used the solution here:\n",
    "# https://stackoverflow.com/a/50899244"
   ]
  },
  {
   "cell_type": "markdown",
   "metadata": {},
   "source": [
    "# Importing Raw Data Files"
   ]
  },
  {
   "cell_type": "code",
   "execution_count": 6,
   "metadata": {},
   "outputs": [],
   "source": [
    "# This is the first set of data that was collected\n",
    "\n",
    "ffx = pd.read_csv(\"ffxLighting_original_june28.txt\")"
   ]
  },
  {
   "cell_type": "code",
   "execution_count": 7,
   "metadata": {},
   "outputs": [],
   "source": [
    "# This is the (larger) second set of data\n",
    "\n",
    "ffx2 = pd.read_csv(\"ffxLighting_new_july1.txt\")"
   ]
  },
  {
   "cell_type": "markdown",
   "metadata": {},
   "source": [
    "**Initial Look At The Data**"
   ]
  },
  {
   "cell_type": "code",
   "execution_count": 8,
   "metadata": {},
   "outputs": [
    {
     "data": {
      "text/html": [
       "<div>\n",
       "<style scoped>\n",
       "    .dataframe tbody tr th:only-of-type {\n",
       "        vertical-align: middle;\n",
       "    }\n",
       "\n",
       "    .dataframe tbody tr th {\n",
       "        vertical-align: top;\n",
       "    }\n",
       "\n",
       "    .dataframe thead th {\n",
       "        text-align: right;\n",
       "    }\n",
       "</style>\n",
       "<table border=\"1\" class=\"dataframe\">\n",
       "  <thead>\n",
       "    <tr style=\"text-align: right;\">\n",
       "      <th></th>\n",
       "      <th>count</th>\n",
       "      <th>timings</th>\n",
       "    </tr>\n",
       "  </thead>\n",
       "  <tbody>\n",
       "    <tr>\n",
       "      <th>0</th>\n",
       "      <td>1</td>\n",
       "      <td>2020-06-28 16:40:11.538763</td>\n",
       "    </tr>\n",
       "    <tr>\n",
       "      <th>1</th>\n",
       "      <td>2</td>\n",
       "      <td>2020-06-28 16:40:17.543537</td>\n",
       "    </tr>\n",
       "    <tr>\n",
       "      <th>2</th>\n",
       "      <td>3</td>\n",
       "      <td>2020-06-28 16:40:28.666688</td>\n",
       "    </tr>\n",
       "    <tr>\n",
       "      <th>3</th>\n",
       "      <td>4</td>\n",
       "      <td>2020-06-28 16:40:34.640885</td>\n",
       "    </tr>\n",
       "    <tr>\n",
       "      <th>4</th>\n",
       "      <td>5</td>\n",
       "      <td>2020-06-28 16:40:45.889237</td>\n",
       "    </tr>\n",
       "  </tbody>\n",
       "</table>\n",
       "</div>"
      ],
      "text/plain": [
       "   count                      timings\n",
       "0      1   2020-06-28 16:40:11.538763\n",
       "1      2   2020-06-28 16:40:17.543537\n",
       "2      3   2020-06-28 16:40:28.666688\n",
       "3      4   2020-06-28 16:40:34.640885\n",
       "4      5   2020-06-28 16:40:45.889237"
      ]
     },
     "execution_count": 8,
     "metadata": {},
     "output_type": "execute_result"
    },
    {
     "data": {
      "text/html": [
       "<div>\n",
       "<style scoped>\n",
       "    .dataframe tbody tr th:only-of-type {\n",
       "        vertical-align: middle;\n",
       "    }\n",
       "\n",
       "    .dataframe tbody tr th {\n",
       "        vertical-align: top;\n",
       "    }\n",
       "\n",
       "    .dataframe thead th {\n",
       "        text-align: right;\n",
       "    }\n",
       "</style>\n",
       "<table border=\"1\" class=\"dataframe\">\n",
       "  <thead>\n",
       "    <tr style=\"text-align: right;\">\n",
       "      <th></th>\n",
       "      <th>count</th>\n",
       "      <th>timings</th>\n",
       "    </tr>\n",
       "  </thead>\n",
       "  <tbody>\n",
       "    <tr>\n",
       "      <th>0</th>\n",
       "      <td>1</td>\n",
       "      <td>2020-07-01 22:18:22.806651</td>\n",
       "    </tr>\n",
       "    <tr>\n",
       "      <th>1</th>\n",
       "      <td>2</td>\n",
       "      <td>2020-07-01 22:18:49.157322</td>\n",
       "    </tr>\n",
       "    <tr>\n",
       "      <th>2</th>\n",
       "      <td>3</td>\n",
       "      <td>2020-07-01 22:18:55.197844</td>\n",
       "    </tr>\n",
       "    <tr>\n",
       "      <th>3</th>\n",
       "      <td>4</td>\n",
       "      <td>2020-07-01 22:19:06.378970</td>\n",
       "    </tr>\n",
       "    <tr>\n",
       "      <th>4</th>\n",
       "      <td>5</td>\n",
       "      <td>2020-07-01 22:19:12.418819</td>\n",
       "    </tr>\n",
       "  </tbody>\n",
       "</table>\n",
       "</div>"
      ],
      "text/plain": [
       "   count                      timings\n",
       "0      1   2020-07-01 22:18:22.806651\n",
       "1      2   2020-07-01 22:18:49.157322\n",
       "2      3   2020-07-01 22:18:55.197844\n",
       "3      4   2020-07-01 22:19:06.378970\n",
       "4      5   2020-07-01 22:19:12.418819"
      ]
     },
     "execution_count": 8,
     "metadata": {},
     "output_type": "execute_result"
    }
   ],
   "source": [
    "ffx.head()\n",
    "ffx2.head()"
   ]
  },
  {
   "cell_type": "markdown",
   "metadata": {},
   "source": [
    "**General Info About Raw Data**"
   ]
  },
  {
   "cell_type": "code",
   "execution_count": 9,
   "metadata": {},
   "outputs": [
    {
     "data": {
      "text/html": [
       "<div>\n",
       "<style scoped>\n",
       "    .dataframe tbody tr th:only-of-type {\n",
       "        vertical-align: middle;\n",
       "    }\n",
       "\n",
       "    .dataframe tbody tr th {\n",
       "        vertical-align: top;\n",
       "    }\n",
       "\n",
       "    .dataframe thead th {\n",
       "        text-align: right;\n",
       "    }\n",
       "</style>\n",
       "<table border=\"1\" class=\"dataframe\">\n",
       "  <thead>\n",
       "    <tr style=\"text-align: right;\">\n",
       "      <th></th>\n",
       "      <th>count</th>\n",
       "    </tr>\n",
       "  </thead>\n",
       "  <tbody>\n",
       "    <tr>\n",
       "      <th>count</th>\n",
       "      <td>1135.000000</td>\n",
       "    </tr>\n",
       "    <tr>\n",
       "      <th>mean</th>\n",
       "      <td>568.000000</td>\n",
       "    </tr>\n",
       "    <tr>\n",
       "      <th>std</th>\n",
       "      <td>327.790584</td>\n",
       "    </tr>\n",
       "    <tr>\n",
       "      <th>min</th>\n",
       "      <td>1.000000</td>\n",
       "    </tr>\n",
       "    <tr>\n",
       "      <th>25%</th>\n",
       "      <td>284.500000</td>\n",
       "    </tr>\n",
       "    <tr>\n",
       "      <th>50%</th>\n",
       "      <td>568.000000</td>\n",
       "    </tr>\n",
       "    <tr>\n",
       "      <th>75%</th>\n",
       "      <td>851.500000</td>\n",
       "    </tr>\n",
       "    <tr>\n",
       "      <th>max</th>\n",
       "      <td>1135.000000</td>\n",
       "    </tr>\n",
       "  </tbody>\n",
       "</table>\n",
       "</div>"
      ],
      "text/plain": [
       "             count\n",
       "count  1135.000000\n",
       "mean    568.000000\n",
       "std     327.790584\n",
       "min       1.000000\n",
       "25%     284.500000\n",
       "50%     568.000000\n",
       "75%     851.500000\n",
       "max    1135.000000"
      ]
     },
     "execution_count": 9,
     "metadata": {},
     "output_type": "execute_result"
    },
    {
     "data": {
      "text/html": [
       "<div>\n",
       "<style scoped>\n",
       "    .dataframe tbody tr th:only-of-type {\n",
       "        vertical-align: middle;\n",
       "    }\n",
       "\n",
       "    .dataframe tbody tr th {\n",
       "        vertical-align: top;\n",
       "    }\n",
       "\n",
       "    .dataframe thead th {\n",
       "        text-align: right;\n",
       "    }\n",
       "</style>\n",
       "<table border=\"1\" class=\"dataframe\">\n",
       "  <thead>\n",
       "    <tr style=\"text-align: right;\">\n",
       "      <th></th>\n",
       "      <th>count</th>\n",
       "    </tr>\n",
       "  </thead>\n",
       "  <tbody>\n",
       "    <tr>\n",
       "      <th>count</th>\n",
       "      <td>1859.000000</td>\n",
       "    </tr>\n",
       "    <tr>\n",
       "      <th>mean</th>\n",
       "      <td>930.000000</td>\n",
       "    </tr>\n",
       "    <tr>\n",
       "      <th>std</th>\n",
       "      <td>536.791393</td>\n",
       "    </tr>\n",
       "    <tr>\n",
       "      <th>min</th>\n",
       "      <td>1.000000</td>\n",
       "    </tr>\n",
       "    <tr>\n",
       "      <th>25%</th>\n",
       "      <td>465.500000</td>\n",
       "    </tr>\n",
       "    <tr>\n",
       "      <th>50%</th>\n",
       "      <td>930.000000</td>\n",
       "    </tr>\n",
       "    <tr>\n",
       "      <th>75%</th>\n",
       "      <td>1394.500000</td>\n",
       "    </tr>\n",
       "    <tr>\n",
       "      <th>max</th>\n",
       "      <td>1859.000000</td>\n",
       "    </tr>\n",
       "  </tbody>\n",
       "</table>\n",
       "</div>"
      ],
      "text/plain": [
       "             count\n",
       "count  1859.000000\n",
       "mean    930.000000\n",
       "std     536.791393\n",
       "min       1.000000\n",
       "25%     465.500000\n",
       "50%     930.000000\n",
       "75%    1394.500000\n",
       "max    1859.000000"
      ]
     },
     "execution_count": 9,
     "metadata": {},
     "output_type": "execute_result"
    }
   ],
   "source": [
    "ffx.describe()\n",
    "ffx2.describe()"
   ]
  },
  {
   "cell_type": "code",
   "execution_count": 10,
   "metadata": {},
   "outputs": [
    {
     "name": "stdout",
     "output_type": "stream",
     "text": [
      "<class 'pandas.core.frame.DataFrame'>\n",
      "RangeIndex: 1135 entries, 0 to 1134\n",
      "Data columns (total 2 columns):\n",
      " #   Column    Non-Null Count  Dtype \n",
      "---  ------    --------------  ----- \n",
      " 0   count     1135 non-null   int64 \n",
      " 1    timings  1135 non-null   object\n",
      "dtypes: int64(1), object(1)\n",
      "memory usage: 17.9+ KB\n"
     ]
    }
   ],
   "source": [
    "ffx.info()"
   ]
  },
  {
   "cell_type": "code",
   "execution_count": 11,
   "metadata": {},
   "outputs": [
    {
     "name": "stdout",
     "output_type": "stream",
     "text": [
      "<class 'pandas.core.frame.DataFrame'>\n",
      "RangeIndex: 1859 entries, 0 to 1858\n",
      "Data columns (total 2 columns):\n",
      " #   Column    Non-Null Count  Dtype \n",
      "---  ------    --------------  ----- \n",
      " 0   count     1859 non-null   int64 \n",
      " 1    timings  1859 non-null   object\n",
      "dtypes: int64(1), object(1)\n",
      "memory usage: 29.2+ KB\n"
     ]
    }
   ],
   "source": [
    "ffx2.info()"
   ]
  },
  {
   "cell_type": "code",
   "execution_count": 12,
   "metadata": {},
   "outputs": [
    {
     "data": {
      "text/plain": [
       "Index(['count', ' timings'], dtype='object')"
      ]
     },
     "execution_count": 12,
     "metadata": {},
     "output_type": "execute_result"
    },
    {
     "data": {
      "text/plain": [
       "Index(['count', ' timings'], dtype='object')"
      ]
     },
     "execution_count": 12,
     "metadata": {},
     "output_type": "execute_result"
    }
   ],
   "source": [
    "ffx.columns\n",
    "ffx2.columns"
   ]
  },
  {
   "cell_type": "markdown",
   "metadata": {},
   "source": [
    "**Looking At Specific Data Entries**\n",
    "\n",
    "NOTES:\n",
    "1. There is a leading space in the timings column (both in column header and the data values)!\n",
    "2. The data in the 'timings' column are of type 'string'!"
   ]
  },
  {
   "cell_type": "code",
   "execution_count": 13,
   "metadata": {},
   "outputs": [
    {
     "data": {
      "text/plain": [
       "1"
      ]
     },
     "execution_count": 13,
     "metadata": {},
     "output_type": "execute_result"
    },
    {
     "data": {
      "text/plain": [
       "' 2020-06-28 16:40:11.538763'"
      ]
     },
     "execution_count": 13,
     "metadata": {},
     "output_type": "execute_result"
    }
   ],
   "source": [
    "ffx[\"count\"][0]\n",
    "ffx[\" timings\"][0]"
   ]
  },
  {
   "cell_type": "code",
   "execution_count": 14,
   "metadata": {},
   "outputs": [
    {
     "data": {
      "text/plain": [
       "numpy.int64"
      ]
     },
     "execution_count": 14,
     "metadata": {},
     "output_type": "execute_result"
    },
    {
     "data": {
      "text/plain": [
       "str"
      ]
     },
     "execution_count": 14,
     "metadata": {},
     "output_type": "execute_result"
    }
   ],
   "source": [
    "type(ffx[\"count\"][0])\n",
    "type(ffx[\" timings\"][0])"
   ]
  },
  {
   "cell_type": "code",
   "execution_count": 15,
   "metadata": {},
   "outputs": [
    {
     "data": {
      "text/plain": [
       "1"
      ]
     },
     "execution_count": 15,
     "metadata": {},
     "output_type": "execute_result"
    },
    {
     "data": {
      "text/plain": [
       "' 2020-07-01 22:18:22.806651'"
      ]
     },
     "execution_count": 15,
     "metadata": {},
     "output_type": "execute_result"
    }
   ],
   "source": [
    "ffx2[\"count\"][0]\n",
    "ffx2[\" timings\"][0]"
   ]
  },
  {
   "cell_type": "code",
   "execution_count": 16,
   "metadata": {},
   "outputs": [
    {
     "data": {
      "text/plain": [
       "numpy.int64"
      ]
     },
     "execution_count": 16,
     "metadata": {},
     "output_type": "execute_result"
    },
    {
     "data": {
      "text/plain": [
       "str"
      ]
     },
     "execution_count": 16,
     "metadata": {},
     "output_type": "execute_result"
    }
   ],
   "source": [
    "type(ffx2[\"count\"][0])\n",
    "type(ffx2[\" timings\"][0])"
   ]
  },
  {
   "cell_type": "markdown",
   "metadata": {},
   "source": [
    "# **Data Cleaning**"
   ]
  },
  {
   "cell_type": "markdown",
   "metadata": {},
   "source": [
    "### Part 1/2 - Original Data (ffx)"
   ]
  },
  {
   "cell_type": "markdown",
   "metadata": {},
   "source": [
    "First, we shall get rid of the leading space in the 'timings' columns."
   ]
  },
  {
   "cell_type": "code",
   "execution_count": 17,
   "metadata": {},
   "outputs": [
    {
     "data": {
      "text/plain": [
       "Index(['count', ' timings'], dtype='object')"
      ]
     },
     "execution_count": 17,
     "metadata": {},
     "output_type": "execute_result"
    },
    {
     "data": {
      "text/plain": [
       "' 2020-06-28 16:40:11.538763'"
      ]
     },
     "execution_count": 17,
     "metadata": {},
     "output_type": "execute_result"
    }
   ],
   "source": [
    "ffx.columns\n",
    "ffx[\" timings\"][0]"
   ]
  },
  {
   "cell_type": "code",
   "execution_count": 18,
   "metadata": {},
   "outputs": [
    {
     "data": {
      "text/plain": [
       "Index(['count', 'timings'], dtype='object')"
      ]
     },
     "execution_count": 18,
     "metadata": {},
     "output_type": "execute_result"
    }
   ],
   "source": [
    "# Eliminating leading space in the column header\n",
    "\n",
    "ffx.rename(mapper={\" timings\": \"timings\"}, axis=1, inplace=True)\n",
    "ffx.columns"
   ]
  },
  {
   "cell_type": "code",
   "execution_count": 24,
   "metadata": {},
   "outputs": [
    {
     "data": {
      "text/plain": [
       "'20-06-28 16:40:11.538763'"
      ]
     },
     "execution_count": 24,
     "metadata": {},
     "output_type": "execute_result"
    },
    {
     "data": {
      "text/plain": [
       "str"
      ]
     },
     "execution_count": 24,
     "metadata": {},
     "output_type": "execute_result"
    }
   ],
   "source": [
    "# Eliminating leading space in the data values\n",
    "\n",
    "ffx[\"timings\"] = ffx[\"timings\"].apply(lambda string: string[1:])\n",
    "ffx[\"timings\"][0]\n",
    "type(ffx[\"timings\"][0])"
   ]
  },
  {
   "cell_type": "markdown",
   "metadata": {},
   "source": [
    "Next, we see if there are any null values. (I already know there aren't any, but we should still check to make sure.)"
   ]
  },
  {
   "cell_type": "code",
   "execution_count": 26,
   "metadata": {},
   "outputs": [
    {
     "data": {
      "text/plain": [
       "count      1135\n",
       "timings    1135\n",
       "dtype: int64"
      ]
     },
     "execution_count": 26,
     "metadata": {},
     "output_type": "execute_result"
    },
    {
     "data": {
      "text/plain": [
       "count      1135\n",
       "timings    1135\n",
       "dtype: int64"
      ]
     },
     "execution_count": 26,
     "metadata": {},
     "output_type": "execute_result"
    }
   ],
   "source": [
    "# Verifying that there are NO null values\n",
    "\n",
    "ffx.count()\n",
    "ffx.isnull().count()"
   ]
  },
  {
   "cell_type": "markdown",
   "metadata": {},
   "source": [
    "Next, we convert the 'timings' data from string-type to Datetime-type."
   ]
  },
  {
   "cell_type": "code",
   "execution_count": 29,
   "metadata": {},
   "outputs": [
    {
     "data": {
      "text/html": [
       "<div>\n",
       "<style scoped>\n",
       "    .dataframe tbody tr th:only-of-type {\n",
       "        vertical-align: middle;\n",
       "    }\n",
       "\n",
       "    .dataframe tbody tr th {\n",
       "        vertical-align: top;\n",
       "    }\n",
       "\n",
       "    .dataframe thead th {\n",
       "        text-align: right;\n",
       "    }\n",
       "</style>\n",
       "<table border=\"1\" class=\"dataframe\">\n",
       "  <thead>\n",
       "    <tr style=\"text-align: right;\">\n",
       "      <th></th>\n",
       "      <th>count</th>\n",
       "      <th>timings</th>\n",
       "      <th>Datetime</th>\n",
       "    </tr>\n",
       "  </thead>\n",
       "  <tbody>\n",
       "    <tr>\n",
       "      <th>0</th>\n",
       "      <td>1</td>\n",
       "      <td>20-06-28 16:40:11.538763</td>\n",
       "      <td>2028-06-20 16:40:11.538763</td>\n",
       "    </tr>\n",
       "    <tr>\n",
       "      <th>1</th>\n",
       "      <td>2</td>\n",
       "      <td>20-06-28 16:40:17.543537</td>\n",
       "      <td>2028-06-20 16:40:17.543537</td>\n",
       "    </tr>\n",
       "    <tr>\n",
       "      <th>2</th>\n",
       "      <td>3</td>\n",
       "      <td>20-06-28 16:40:28.666688</td>\n",
       "      <td>2028-06-20 16:40:28.666688</td>\n",
       "    </tr>\n",
       "    <tr>\n",
       "      <th>3</th>\n",
       "      <td>4</td>\n",
       "      <td>20-06-28 16:40:34.640885</td>\n",
       "      <td>2028-06-20 16:40:34.640885</td>\n",
       "    </tr>\n",
       "    <tr>\n",
       "      <th>4</th>\n",
       "      <td>5</td>\n",
       "      <td>20-06-28 16:40:45.889237</td>\n",
       "      <td>2028-06-20 16:40:45.889237</td>\n",
       "    </tr>\n",
       "  </tbody>\n",
       "</table>\n",
       "</div>"
      ],
      "text/plain": [
       "   count                   timings                   Datetime\n",
       "0      1  20-06-28 16:40:11.538763 2028-06-20 16:40:11.538763\n",
       "1      2  20-06-28 16:40:17.543537 2028-06-20 16:40:17.543537\n",
       "2      3  20-06-28 16:40:28.666688 2028-06-20 16:40:28.666688\n",
       "3      4  20-06-28 16:40:34.640885 2028-06-20 16:40:34.640885\n",
       "4      5  20-06-28 16:40:45.889237 2028-06-20 16:40:45.889237"
      ]
     },
     "execution_count": 29,
     "metadata": {},
     "output_type": "execute_result"
    },
    {
     "data": {
      "text/plain": [
       "Timestamp('2028-06-20 16:40:11.538763')"
      ]
     },
     "execution_count": 29,
     "metadata": {},
     "output_type": "execute_result"
    },
    {
     "data": {
      "text/plain": [
       "pandas._libs.tslibs.timestamps.Timestamp"
      ]
     },
     "execution_count": 29,
     "metadata": {},
     "output_type": "execute_result"
    }
   ],
   "source": [
    "# Converting 'timings' data to Datetime-type\n",
    "\n",
    "ffx[\"Datetime\"] = pd.to_datetime(ffx[\"timings\"])\n",
    "\n",
    "# Check to make sure it worked as expected\n",
    "ffx.head()\n",
    "ffx[\"Datetime\"][0]\n",
    "type(ffx[\"Datetime\"][0])"
   ]
  },
  {
   "cell_type": "markdown",
   "metadata": {},
   "source": [
    "Next, I happen to know that some values at the *tail end* of the data are bad data (it was recorded while I was dismantling the data capture setup). We will find the bad data, and remove the respective rows.\n",
    "\n",
    "NOTE: I also know that the data at the *front end* is okay, as I had correctly configured my data collection setup before I began to collect data."
   ]
  },
  {
   "cell_type": "code",
   "execution_count": 31,
   "metadata": {
    "collapsed": true
   },
   "outputs": [
    {
     "data": {
      "text/html": [
       "<div>\n",
       "<style scoped>\n",
       "    .dataframe tbody tr th:only-of-type {\n",
       "        vertical-align: middle;\n",
       "    }\n",
       "\n",
       "    .dataframe tbody tr th {\n",
       "        vertical-align: top;\n",
       "    }\n",
       "\n",
       "    .dataframe thead th {\n",
       "        text-align: right;\n",
       "    }\n",
       "</style>\n",
       "<table border=\"1\" class=\"dataframe\">\n",
       "  <thead>\n",
       "    <tr style=\"text-align: right;\">\n",
       "      <th></th>\n",
       "      <th>count</th>\n",
       "      <th>timings</th>\n",
       "      <th>Datetime</th>\n",
       "    </tr>\n",
       "  </thead>\n",
       "  <tbody>\n",
       "    <tr>\n",
       "      <th>1100</th>\n",
       "      <td>1101</td>\n",
       "      <td>20-06-28 19:17:45.300614</td>\n",
       "      <td>2028-06-20 19:17:45.300614</td>\n",
       "    </tr>\n",
       "    <tr>\n",
       "      <th>1101</th>\n",
       "      <td>1102</td>\n",
       "      <td>20-06-28 19:17:51.295674</td>\n",
       "      <td>2028-06-20 19:17:51.295674</td>\n",
       "    </tr>\n",
       "    <tr>\n",
       "      <th>1102</th>\n",
       "      <td>1103</td>\n",
       "      <td>20-06-28 19:18:02.442681</td>\n",
       "      <td>2028-06-20 19:18:02.442681</td>\n",
       "    </tr>\n",
       "    <tr>\n",
       "      <th>1103</th>\n",
       "      <td>1104</td>\n",
       "      <td>20-06-28 19:18:08.487168</td>\n",
       "      <td>2028-06-20 19:18:08.487168</td>\n",
       "    </tr>\n",
       "    <tr>\n",
       "      <th>1104</th>\n",
       "      <td>1105</td>\n",
       "      <td>20-06-28 19:18:19.587722</td>\n",
       "      <td>2028-06-20 19:18:19.587722</td>\n",
       "    </tr>\n",
       "    <tr>\n",
       "      <th>1105</th>\n",
       "      <td>1106</td>\n",
       "      <td>20-06-28 19:18:25.632636</td>\n",
       "      <td>2028-06-20 19:18:25.632636</td>\n",
       "    </tr>\n",
       "    <tr>\n",
       "      <th>1106</th>\n",
       "      <td>1107</td>\n",
       "      <td>20-06-28 19:18:36.770161</td>\n",
       "      <td>2028-06-20 19:18:36.770161</td>\n",
       "    </tr>\n",
       "    <tr>\n",
       "      <th>1107</th>\n",
       "      <td>1108</td>\n",
       "      <td>20-06-28 19:18:42.812585</td>\n",
       "      <td>2028-06-20 19:18:42.812585</td>\n",
       "    </tr>\n",
       "    <tr>\n",
       "      <th>1108</th>\n",
       "      <td>1109</td>\n",
       "      <td>20-06-28 19:18:53.944019</td>\n",
       "      <td>2028-06-20 19:18:53.944019</td>\n",
       "    </tr>\n",
       "    <tr>\n",
       "      <th>1109</th>\n",
       "      <td>1110</td>\n",
       "      <td>20-06-28 19:18:59.994721</td>\n",
       "      <td>2028-06-20 19:18:59.994721</td>\n",
       "    </tr>\n",
       "    <tr>\n",
       "      <th>1110</th>\n",
       "      <td>1111</td>\n",
       "      <td>20-06-28 19:19:11.182394</td>\n",
       "      <td>2028-06-20 19:19:11.182394</td>\n",
       "    </tr>\n",
       "    <tr>\n",
       "      <th>1111</th>\n",
       "      <td>1112</td>\n",
       "      <td>20-06-28 19:19:17.140761</td>\n",
       "      <td>2028-06-20 19:19:17.140761</td>\n",
       "    </tr>\n",
       "    <tr>\n",
       "      <th>1112</th>\n",
       "      <td>1113</td>\n",
       "      <td>20-06-28 19:19:28.370228</td>\n",
       "      <td>2028-06-20 19:19:28.370228</td>\n",
       "    </tr>\n",
       "    <tr>\n",
       "      <th>1113</th>\n",
       "      <td>1114</td>\n",
       "      <td>20-06-28 19:19:34.304837</td>\n",
       "      <td>2028-06-20 19:19:34.304837</td>\n",
       "    </tr>\n",
       "    <tr>\n",
       "      <th>1114</th>\n",
       "      <td>1115</td>\n",
       "      <td>20-06-28 19:19:45.509329</td>\n",
       "      <td>2028-06-20 19:19:45.509329</td>\n",
       "    </tr>\n",
       "    <tr>\n",
       "      <th>1115</th>\n",
       "      <td>1116</td>\n",
       "      <td>20-06-28 19:19:51.529480</td>\n",
       "      <td>2028-06-20 19:19:51.529480</td>\n",
       "    </tr>\n",
       "    <tr>\n",
       "      <th>1116</th>\n",
       "      <td>1117</td>\n",
       "      <td>20-06-28 19:20:02.690825</td>\n",
       "      <td>2028-06-20 19:20:02.690825</td>\n",
       "    </tr>\n",
       "    <tr>\n",
       "      <th>1117</th>\n",
       "      <td>1118</td>\n",
       "      <td>20-06-28 19:20:08.719560</td>\n",
       "      <td>2028-06-20 19:20:08.719560</td>\n",
       "    </tr>\n",
       "    <tr>\n",
       "      <th>1118</th>\n",
       "      <td>1119</td>\n",
       "      <td>20-06-28 19:20:18.647719</td>\n",
       "      <td>2028-06-20 19:20:18.647719</td>\n",
       "    </tr>\n",
       "    <tr>\n",
       "      <th>1119</th>\n",
       "      <td>1120</td>\n",
       "      <td>20-06-28 19:20:23.351210</td>\n",
       "      <td>2028-06-20 19:20:23.351210</td>\n",
       "    </tr>\n",
       "    <tr>\n",
       "      <th>1120</th>\n",
       "      <td>1121</td>\n",
       "      <td>20-06-28 19:20:40.833734</td>\n",
       "      <td>2028-06-20 19:20:40.833734</td>\n",
       "    </tr>\n",
       "    <tr>\n",
       "      <th>1121</th>\n",
       "      <td>1122</td>\n",
       "      <td>20-06-28 19:20:46.595614</td>\n",
       "      <td>2028-06-20 19:20:46.595614</td>\n",
       "    </tr>\n",
       "    <tr>\n",
       "      <th>1122</th>\n",
       "      <td>1123</td>\n",
       "      <td>20-06-28 19:20:48.694830</td>\n",
       "      <td>2028-06-20 19:20:48.694830</td>\n",
       "    </tr>\n",
       "    <tr>\n",
       "      <th>1123</th>\n",
       "      <td>1124</td>\n",
       "      <td>20-06-28 19:21:02.183183</td>\n",
       "      <td>2028-06-20 19:21:02.183183</td>\n",
       "    </tr>\n",
       "    <tr>\n",
       "      <th>1124</th>\n",
       "      <td>1125</td>\n",
       "      <td>20-06-28 19:21:09.733099</td>\n",
       "      <td>2028-06-20 19:21:09.733099</td>\n",
       "    </tr>\n",
       "    <tr>\n",
       "      <th>1125</th>\n",
       "      <td>1126</td>\n",
       "      <td>20-06-28 19:21:17.263125</td>\n",
       "      <td>2028-06-20 19:21:17.263125</td>\n",
       "    </tr>\n",
       "    <tr>\n",
       "      <th>1126</th>\n",
       "      <td>1127</td>\n",
       "      <td>20-06-28 19:21:30.427996</td>\n",
       "      <td>2028-06-20 19:21:30.427996</td>\n",
       "    </tr>\n",
       "    <tr>\n",
       "      <th>1127</th>\n",
       "      <td>1128</td>\n",
       "      <td>20-06-28 19:21:45.578473</td>\n",
       "      <td>2028-06-20 19:21:45.578473</td>\n",
       "    </tr>\n",
       "    <tr>\n",
       "      <th>1128</th>\n",
       "      <td>1129</td>\n",
       "      <td>20-06-28 19:21:45.679359</td>\n",
       "      <td>2028-06-20 19:21:45.679359</td>\n",
       "    </tr>\n",
       "    <tr>\n",
       "      <th>1129</th>\n",
       "      <td>1130</td>\n",
       "      <td>20-06-28 19:21:56.824975</td>\n",
       "      <td>2028-06-20 19:21:56.824975</td>\n",
       "    </tr>\n",
       "    <tr>\n",
       "      <th>1130</th>\n",
       "      <td>1131</td>\n",
       "      <td>20-06-28 19:23:27.663365</td>\n",
       "      <td>2028-06-20 19:23:27.663365</td>\n",
       "    </tr>\n",
       "    <tr>\n",
       "      <th>1131</th>\n",
       "      <td>1132</td>\n",
       "      <td>20-06-28 19:24:52.651587</td>\n",
       "      <td>2028-06-20 19:24:52.651587</td>\n",
       "    </tr>\n",
       "    <tr>\n",
       "      <th>1132</th>\n",
       "      <td>1133</td>\n",
       "      <td>20-06-28 19:24:58.391024</td>\n",
       "      <td>2028-06-20 19:24:58.391024</td>\n",
       "    </tr>\n",
       "    <tr>\n",
       "      <th>1133</th>\n",
       "      <td>1134</td>\n",
       "      <td>20-06-28 19:25:35.689479</td>\n",
       "      <td>2028-06-20 19:25:35.689479</td>\n",
       "    </tr>\n",
       "    <tr>\n",
       "      <th>1134</th>\n",
       "      <td>1135</td>\n",
       "      <td>20-06-28 19:25:41.456840</td>\n",
       "      <td>2028-06-20 19:25:41.456840</td>\n",
       "    </tr>\n",
       "  </tbody>\n",
       "</table>\n",
       "</div>"
      ],
      "text/plain": [
       "      count                   timings                   Datetime\n",
       "1100   1101  20-06-28 19:17:45.300614 2028-06-20 19:17:45.300614\n",
       "1101   1102  20-06-28 19:17:51.295674 2028-06-20 19:17:51.295674\n",
       "1102   1103  20-06-28 19:18:02.442681 2028-06-20 19:18:02.442681\n",
       "1103   1104  20-06-28 19:18:08.487168 2028-06-20 19:18:08.487168\n",
       "1104   1105  20-06-28 19:18:19.587722 2028-06-20 19:18:19.587722\n",
       "1105   1106  20-06-28 19:18:25.632636 2028-06-20 19:18:25.632636\n",
       "1106   1107  20-06-28 19:18:36.770161 2028-06-20 19:18:36.770161\n",
       "1107   1108  20-06-28 19:18:42.812585 2028-06-20 19:18:42.812585\n",
       "1108   1109  20-06-28 19:18:53.944019 2028-06-20 19:18:53.944019\n",
       "1109   1110  20-06-28 19:18:59.994721 2028-06-20 19:18:59.994721\n",
       "1110   1111  20-06-28 19:19:11.182394 2028-06-20 19:19:11.182394\n",
       "1111   1112  20-06-28 19:19:17.140761 2028-06-20 19:19:17.140761\n",
       "1112   1113  20-06-28 19:19:28.370228 2028-06-20 19:19:28.370228\n",
       "1113   1114  20-06-28 19:19:34.304837 2028-06-20 19:19:34.304837\n",
       "1114   1115  20-06-28 19:19:45.509329 2028-06-20 19:19:45.509329\n",
       "1115   1116  20-06-28 19:19:51.529480 2028-06-20 19:19:51.529480\n",
       "1116   1117  20-06-28 19:20:02.690825 2028-06-20 19:20:02.690825\n",
       "1117   1118  20-06-28 19:20:08.719560 2028-06-20 19:20:08.719560\n",
       "1118   1119  20-06-28 19:20:18.647719 2028-06-20 19:20:18.647719\n",
       "1119   1120  20-06-28 19:20:23.351210 2028-06-20 19:20:23.351210\n",
       "1120   1121  20-06-28 19:20:40.833734 2028-06-20 19:20:40.833734\n",
       "1121   1122  20-06-28 19:20:46.595614 2028-06-20 19:20:46.595614\n",
       "1122   1123  20-06-28 19:20:48.694830 2028-06-20 19:20:48.694830\n",
       "1123   1124  20-06-28 19:21:02.183183 2028-06-20 19:21:02.183183\n",
       "1124   1125  20-06-28 19:21:09.733099 2028-06-20 19:21:09.733099\n",
       "1125   1126  20-06-28 19:21:17.263125 2028-06-20 19:21:17.263125\n",
       "1126   1127  20-06-28 19:21:30.427996 2028-06-20 19:21:30.427996\n",
       "1127   1128  20-06-28 19:21:45.578473 2028-06-20 19:21:45.578473\n",
       "1128   1129  20-06-28 19:21:45.679359 2028-06-20 19:21:45.679359\n",
       "1129   1130  20-06-28 19:21:56.824975 2028-06-20 19:21:56.824975\n",
       "1130   1131  20-06-28 19:23:27.663365 2028-06-20 19:23:27.663365\n",
       "1131   1132  20-06-28 19:24:52.651587 2028-06-20 19:24:52.651587\n",
       "1132   1133  20-06-28 19:24:58.391024 2028-06-20 19:24:58.391024\n",
       "1133   1134  20-06-28 19:25:35.689479 2028-06-20 19:25:35.689479\n",
       "1134   1135  20-06-28 19:25:41.456840 2028-06-20 19:25:41.456840"
      ]
     },
     "execution_count": 31,
     "metadata": {},
     "output_type": "execute_result"
    }
   ],
   "source": [
    "# Initial check to see if we can find where the bad data starts\n",
    "\n",
    "ffx[1100:]"
   ]
  },
  {
   "cell_type": "markdown",
   "metadata": {},
   "source": [
    "Based on our preliminary assessment, it's difficult to see which indices have the bad data. Since we are interested in investigating the time differences between lightning strikes, let's compute some quick preliminary time differences with the above data. This may give us some depth and allow us to find the bad data."
   ]
  },
  {
   "cell_type": "code",
   "execution_count": 34,
   "metadata": {},
   "outputs": [],
   "source": [
    "# Computing time differences\n",
    "time_differences = [ (  f'{ffx[\"count\"][i+1]}---{ffx[\"count\"][i]}', \n",
    "                        ffx[\"Datetime\"][i+1]-ffx[\"Datetime\"][i]  ) for i in range(1100,1134) ]\n",
    "\n",
    "# Converting above array into Pandas dataframe\n",
    "bad_time_diff = pd.DataFrame(time_differences)"
   ]
  },
  {
   "cell_type": "code",
   "execution_count": 35,
   "metadata": {
    "collapsed": true
   },
   "outputs": [
    {
     "data": {
      "text/html": [
       "<div>\n",
       "<style scoped>\n",
       "    .dataframe tbody tr th:only-of-type {\n",
       "        vertical-align: middle;\n",
       "    }\n",
       "\n",
       "    .dataframe tbody tr th {\n",
       "        vertical-align: top;\n",
       "    }\n",
       "\n",
       "    .dataframe thead th {\n",
       "        text-align: right;\n",
       "    }\n",
       "</style>\n",
       "<table border=\"1\" class=\"dataframe\">\n",
       "  <thead>\n",
       "    <tr style=\"text-align: right;\">\n",
       "      <th></th>\n",
       "      <th>0</th>\n",
       "      <th>1</th>\n",
       "    </tr>\n",
       "  </thead>\n",
       "  <tbody>\n",
       "    <tr>\n",
       "      <th>0</th>\n",
       "      <td>1102---1101</td>\n",
       "      <td>00:00:05.995060</td>\n",
       "    </tr>\n",
       "    <tr>\n",
       "      <th>1</th>\n",
       "      <td>1103---1102</td>\n",
       "      <td>00:00:11.147007</td>\n",
       "    </tr>\n",
       "    <tr>\n",
       "      <th>2</th>\n",
       "      <td>1104---1103</td>\n",
       "      <td>00:00:06.044487</td>\n",
       "    </tr>\n",
       "    <tr>\n",
       "      <th>3</th>\n",
       "      <td>1105---1104</td>\n",
       "      <td>00:00:11.100554</td>\n",
       "    </tr>\n",
       "    <tr>\n",
       "      <th>4</th>\n",
       "      <td>1106---1105</td>\n",
       "      <td>00:00:06.044914</td>\n",
       "    </tr>\n",
       "    <tr>\n",
       "      <th>5</th>\n",
       "      <td>1107---1106</td>\n",
       "      <td>00:00:11.137525</td>\n",
       "    </tr>\n",
       "    <tr>\n",
       "      <th>6</th>\n",
       "      <td>1108---1107</td>\n",
       "      <td>00:00:06.042424</td>\n",
       "    </tr>\n",
       "    <tr>\n",
       "      <th>7</th>\n",
       "      <td>1109---1108</td>\n",
       "      <td>00:00:11.131434</td>\n",
       "    </tr>\n",
       "    <tr>\n",
       "      <th>8</th>\n",
       "      <td>1110---1109</td>\n",
       "      <td>00:00:06.050702</td>\n",
       "    </tr>\n",
       "    <tr>\n",
       "      <th>9</th>\n",
       "      <td>1111---1110</td>\n",
       "      <td>00:00:11.187673</td>\n",
       "    </tr>\n",
       "    <tr>\n",
       "      <th>10</th>\n",
       "      <td>1112---1111</td>\n",
       "      <td>00:00:05.958367</td>\n",
       "    </tr>\n",
       "    <tr>\n",
       "      <th>11</th>\n",
       "      <td>1113---1112</td>\n",
       "      <td>00:00:11.229467</td>\n",
       "    </tr>\n",
       "    <tr>\n",
       "      <th>12</th>\n",
       "      <td>1114---1113</td>\n",
       "      <td>00:00:05.934609</td>\n",
       "    </tr>\n",
       "    <tr>\n",
       "      <th>13</th>\n",
       "      <td>1115---1114</td>\n",
       "      <td>00:00:11.204492</td>\n",
       "    </tr>\n",
       "    <tr>\n",
       "      <th>14</th>\n",
       "      <td>1116---1115</td>\n",
       "      <td>00:00:06.020151</td>\n",
       "    </tr>\n",
       "    <tr>\n",
       "      <th>15</th>\n",
       "      <td>1117---1116</td>\n",
       "      <td>00:00:11.161345</td>\n",
       "    </tr>\n",
       "    <tr>\n",
       "      <th>16</th>\n",
       "      <td>1118---1117</td>\n",
       "      <td>00:00:06.028735</td>\n",
       "    </tr>\n",
       "    <tr>\n",
       "      <th>17</th>\n",
       "      <td>1119---1118</td>\n",
       "      <td>00:00:09.928159</td>\n",
       "    </tr>\n",
       "    <tr>\n",
       "      <th>18</th>\n",
       "      <td>1120---1119</td>\n",
       "      <td>00:00:04.703491</td>\n",
       "    </tr>\n",
       "    <tr>\n",
       "      <th>19</th>\n",
       "      <td>1121---1120</td>\n",
       "      <td>00:00:17.482524</td>\n",
       "    </tr>\n",
       "    <tr>\n",
       "      <th>20</th>\n",
       "      <td>1122---1121</td>\n",
       "      <td>00:00:05.761880</td>\n",
       "    </tr>\n",
       "    <tr>\n",
       "      <th>21</th>\n",
       "      <td>1123---1122</td>\n",
       "      <td>00:00:02.099216</td>\n",
       "    </tr>\n",
       "    <tr>\n",
       "      <th>22</th>\n",
       "      <td>1124---1123</td>\n",
       "      <td>00:00:13.488353</td>\n",
       "    </tr>\n",
       "    <tr>\n",
       "      <th>23</th>\n",
       "      <td>1125---1124</td>\n",
       "      <td>00:00:07.549916</td>\n",
       "    </tr>\n",
       "    <tr>\n",
       "      <th>24</th>\n",
       "      <td>1126---1125</td>\n",
       "      <td>00:00:07.530026</td>\n",
       "    </tr>\n",
       "    <tr>\n",
       "      <th>25</th>\n",
       "      <td>1127---1126</td>\n",
       "      <td>00:00:13.164871</td>\n",
       "    </tr>\n",
       "    <tr>\n",
       "      <th>26</th>\n",
       "      <td>1128---1127</td>\n",
       "      <td>00:00:15.150477</td>\n",
       "    </tr>\n",
       "    <tr>\n",
       "      <th>27</th>\n",
       "      <td>1129---1128</td>\n",
       "      <td>00:00:00.100886</td>\n",
       "    </tr>\n",
       "    <tr>\n",
       "      <th>28</th>\n",
       "      <td>1130---1129</td>\n",
       "      <td>00:00:11.145616</td>\n",
       "    </tr>\n",
       "    <tr>\n",
       "      <th>29</th>\n",
       "      <td>1131---1130</td>\n",
       "      <td>00:01:30.838390</td>\n",
       "    </tr>\n",
       "    <tr>\n",
       "      <th>30</th>\n",
       "      <td>1132---1131</td>\n",
       "      <td>00:01:24.988222</td>\n",
       "    </tr>\n",
       "    <tr>\n",
       "      <th>31</th>\n",
       "      <td>1133---1132</td>\n",
       "      <td>00:00:05.739437</td>\n",
       "    </tr>\n",
       "    <tr>\n",
       "      <th>32</th>\n",
       "      <td>1134---1133</td>\n",
       "      <td>00:00:37.298455</td>\n",
       "    </tr>\n",
       "    <tr>\n",
       "      <th>33</th>\n",
       "      <td>1135---1134</td>\n",
       "      <td>00:00:05.767361</td>\n",
       "    </tr>\n",
       "  </tbody>\n",
       "</table>\n",
       "</div>"
      ],
      "text/plain": [
       "              0               1\n",
       "0   1102---1101 00:00:05.995060\n",
       "1   1103---1102 00:00:11.147007\n",
       "2   1104---1103 00:00:06.044487\n",
       "3   1105---1104 00:00:11.100554\n",
       "4   1106---1105 00:00:06.044914\n",
       "5   1107---1106 00:00:11.137525\n",
       "6   1108---1107 00:00:06.042424\n",
       "7   1109---1108 00:00:11.131434\n",
       "8   1110---1109 00:00:06.050702\n",
       "9   1111---1110 00:00:11.187673\n",
       "10  1112---1111 00:00:05.958367\n",
       "11  1113---1112 00:00:11.229467\n",
       "12  1114---1113 00:00:05.934609\n",
       "13  1115---1114 00:00:11.204492\n",
       "14  1116---1115 00:00:06.020151\n",
       "15  1117---1116 00:00:11.161345\n",
       "16  1118---1117 00:00:06.028735\n",
       "17  1119---1118 00:00:09.928159\n",
       "18  1120---1119 00:00:04.703491\n",
       "19  1121---1120 00:00:17.482524\n",
       "20  1122---1121 00:00:05.761880\n",
       "21  1123---1122 00:00:02.099216\n",
       "22  1124---1123 00:00:13.488353\n",
       "23  1125---1124 00:00:07.549916\n",
       "24  1126---1125 00:00:07.530026\n",
       "25  1127---1126 00:00:13.164871\n",
       "26  1128---1127 00:00:15.150477\n",
       "27  1129---1128 00:00:00.100886\n",
       "28  1130---1129 00:00:11.145616\n",
       "29  1131---1130 00:01:30.838390\n",
       "30  1132---1131 00:01:24.988222\n",
       "31  1133---1132 00:00:05.739437\n",
       "32  1134---1133 00:00:37.298455\n",
       "33  1135---1134 00:00:05.767361"
      ]
     },
     "execution_count": 35,
     "metadata": {},
     "output_type": "execute_result"
    }
   ],
   "source": [
    "bad_time_diff"
   ]
  },
  {
   "cell_type": "markdown",
   "metadata": {},
   "source": [
    "We can see a very clear alternating pattern in the time difference data above. We see that thsi pattern breaks starting with index 17 (of this particular array!). This means that the data points with a count of **1119 and onward** are the bad data. *Recall: This was when I was dismantling the data collection setup*\n",
    "\n",
    "So, in our ffx dataframe we can delete the rows with 'count' starting at 1119 and greater. *This translates to dataframe indices of **1118** and greater!*"
   ]
  },
  {
   "cell_type": "code",
   "execution_count": 36,
   "metadata": {},
   "outputs": [
    {
     "data": {
      "text/plain": [
       "(1135, 3)"
      ]
     },
     "execution_count": 36,
     "metadata": {},
     "output_type": "execute_result"
    }
   ],
   "source": [
    "ffx.shape"
   ]
  },
  {
   "cell_type": "code",
   "execution_count": 40,
   "metadata": {},
   "outputs": [],
   "source": [
    "# Dropping the bad data from 'ffx' dataframe\n",
    "\n",
    "drop_condition = ffx[\"count\"] >= 1119\n",
    "\n",
    "ffx_cleaned = ffx.drop(ffx[drop_condition].index, axis=0)"
   ]
  },
  {
   "cell_type": "code",
   "execution_count": 41,
   "metadata": {},
   "outputs": [
    {
     "data": {
      "text/html": [
       "<div>\n",
       "<style scoped>\n",
       "    .dataframe tbody tr th:only-of-type {\n",
       "        vertical-align: middle;\n",
       "    }\n",
       "\n",
       "    .dataframe tbody tr th {\n",
       "        vertical-align: top;\n",
       "    }\n",
       "\n",
       "    .dataframe thead th {\n",
       "        text-align: right;\n",
       "    }\n",
       "</style>\n",
       "<table border=\"1\" class=\"dataframe\">\n",
       "  <thead>\n",
       "    <tr style=\"text-align: right;\">\n",
       "      <th></th>\n",
       "      <th>count</th>\n",
       "      <th>timings</th>\n",
       "      <th>Datetime</th>\n",
       "    </tr>\n",
       "  </thead>\n",
       "  <tbody>\n",
       "    <tr>\n",
       "      <th>0</th>\n",
       "      <td>1</td>\n",
       "      <td>20-06-28 16:40:11.538763</td>\n",
       "      <td>2028-06-20 16:40:11.538763</td>\n",
       "    </tr>\n",
       "    <tr>\n",
       "      <th>1</th>\n",
       "      <td>2</td>\n",
       "      <td>20-06-28 16:40:17.543537</td>\n",
       "      <td>2028-06-20 16:40:17.543537</td>\n",
       "    </tr>\n",
       "    <tr>\n",
       "      <th>2</th>\n",
       "      <td>3</td>\n",
       "      <td>20-06-28 16:40:28.666688</td>\n",
       "      <td>2028-06-20 16:40:28.666688</td>\n",
       "    </tr>\n",
       "    <tr>\n",
       "      <th>3</th>\n",
       "      <td>4</td>\n",
       "      <td>20-06-28 16:40:34.640885</td>\n",
       "      <td>2028-06-20 16:40:34.640885</td>\n",
       "    </tr>\n",
       "    <tr>\n",
       "      <th>4</th>\n",
       "      <td>5</td>\n",
       "      <td>20-06-28 16:40:45.889237</td>\n",
       "      <td>2028-06-20 16:40:45.889237</td>\n",
       "    </tr>\n",
       "    <tr>\n",
       "      <th>...</th>\n",
       "      <td>...</td>\n",
       "      <td>...</td>\n",
       "      <td>...</td>\n",
       "    </tr>\n",
       "    <tr>\n",
       "      <th>1113</th>\n",
       "      <td>1114</td>\n",
       "      <td>20-06-28 19:19:34.304837</td>\n",
       "      <td>2028-06-20 19:19:34.304837</td>\n",
       "    </tr>\n",
       "    <tr>\n",
       "      <th>1114</th>\n",
       "      <td>1115</td>\n",
       "      <td>20-06-28 19:19:45.509329</td>\n",
       "      <td>2028-06-20 19:19:45.509329</td>\n",
       "    </tr>\n",
       "    <tr>\n",
       "      <th>1115</th>\n",
       "      <td>1116</td>\n",
       "      <td>20-06-28 19:19:51.529480</td>\n",
       "      <td>2028-06-20 19:19:51.529480</td>\n",
       "    </tr>\n",
       "    <tr>\n",
       "      <th>1116</th>\n",
       "      <td>1117</td>\n",
       "      <td>20-06-28 19:20:02.690825</td>\n",
       "      <td>2028-06-20 19:20:02.690825</td>\n",
       "    </tr>\n",
       "    <tr>\n",
       "      <th>1117</th>\n",
       "      <td>1118</td>\n",
       "      <td>20-06-28 19:20:08.719560</td>\n",
       "      <td>2028-06-20 19:20:08.719560</td>\n",
       "    </tr>\n",
       "  </tbody>\n",
       "</table>\n",
       "<p>1118 rows × 3 columns</p>\n",
       "</div>"
      ],
      "text/plain": [
       "      count                   timings                   Datetime\n",
       "0         1  20-06-28 16:40:11.538763 2028-06-20 16:40:11.538763\n",
       "1         2  20-06-28 16:40:17.543537 2028-06-20 16:40:17.543537\n",
       "2         3  20-06-28 16:40:28.666688 2028-06-20 16:40:28.666688\n",
       "3         4  20-06-28 16:40:34.640885 2028-06-20 16:40:34.640885\n",
       "4         5  20-06-28 16:40:45.889237 2028-06-20 16:40:45.889237\n",
       "...     ...                       ...                        ...\n",
       "1113   1114  20-06-28 19:19:34.304837 2028-06-20 19:19:34.304837\n",
       "1114   1115  20-06-28 19:19:45.509329 2028-06-20 19:19:45.509329\n",
       "1115   1116  20-06-28 19:19:51.529480 2028-06-20 19:19:51.529480\n",
       "1116   1117  20-06-28 19:20:02.690825 2028-06-20 19:20:02.690825\n",
       "1117   1118  20-06-28 19:20:08.719560 2028-06-20 19:20:08.719560\n",
       "\n",
       "[1118 rows x 3 columns]"
      ]
     },
     "execution_count": 41,
     "metadata": {},
     "output_type": "execute_result"
    }
   ],
   "source": [
    "ffx_cleaned"
   ]
  },
  {
   "cell_type": "markdown",
   "metadata": {},
   "source": [
    "### Part 2/2 - Second Dataset (ffx2)"
   ]
  },
  {
   "cell_type": "markdown",
   "metadata": {},
   "source": [
    "We now essentially repeat the above process 'ffx2' dataframe."
   ]
  },
  {
   "cell_type": "code",
   "execution_count": 43,
   "metadata": {},
   "outputs": [
    {
     "data": {
      "text/plain": [
       "Index(['count', ' timings'], dtype='object')"
      ]
     },
     "execution_count": 43,
     "metadata": {},
     "output_type": "execute_result"
    },
    {
     "data": {
      "text/plain": [
       "' 2020-07-01 22:18:22.806651'"
      ]
     },
     "execution_count": 43,
     "metadata": {},
     "output_type": "execute_result"
    }
   ],
   "source": [
    "ffx2.columns\n",
    "ffx2[\" timings\"][0]"
   ]
  },
  {
   "cell_type": "code",
   "execution_count": 45,
   "metadata": {},
   "outputs": [
    {
     "data": {
      "text/plain": [
       "Index(['count', 'timings'], dtype='object')"
      ]
     },
     "execution_count": 45,
     "metadata": {},
     "output_type": "execute_result"
    }
   ],
   "source": [
    "# Eliminating leading space in the column header\n",
    "\n",
    "ffx2.rename(mapper={\" timings\": \"timings\"}, axis=1, inplace=True)\n",
    "ffx2.columns"
   ]
  },
  {
   "cell_type": "code",
   "execution_count": 46,
   "metadata": {},
   "outputs": [
    {
     "data": {
      "text/plain": [
       "'2020-07-01 22:18:22.806651'"
      ]
     },
     "execution_count": 46,
     "metadata": {},
     "output_type": "execute_result"
    },
    {
     "data": {
      "text/plain": [
       "str"
      ]
     },
     "execution_count": 46,
     "metadata": {},
     "output_type": "execute_result"
    }
   ],
   "source": [
    "# Eliminating leading space in the data values\n",
    "\n",
    "ffx2[\"timings\"] = ffx2[\"timings\"].apply(lambda string: string[1:])\n",
    "ffx2[\"timings\"][0]\n",
    "type(ffx2[\"timings\"][0])"
   ]
  },
  {
   "cell_type": "code",
   "execution_count": 48,
   "metadata": {},
   "outputs": [
    {
     "data": {
      "text/plain": [
       "count      1859\n",
       "timings    1859\n",
       "dtype: int64"
      ]
     },
     "execution_count": 48,
     "metadata": {},
     "output_type": "execute_result"
    },
    {
     "data": {
      "text/plain": [
       "count      1859\n",
       "timings    1859\n",
       "dtype: int64"
      ]
     },
     "execution_count": 48,
     "metadata": {},
     "output_type": "execute_result"
    }
   ],
   "source": [
    "# Looking for null values\n",
    "\n",
    "ffx2.count()\n",
    "ffx2.isnull().count()"
   ]
  },
  {
   "cell_type": "markdown",
   "metadata": {},
   "source": [
    "Next, we convert the 'timings' column to Datetime-type"
   ]
  },
  {
   "cell_type": "code",
   "execution_count": 49,
   "metadata": {},
   "outputs": [
    {
     "data": {
      "text/html": [
       "<div>\n",
       "<style scoped>\n",
       "    .dataframe tbody tr th:only-of-type {\n",
       "        vertical-align: middle;\n",
       "    }\n",
       "\n",
       "    .dataframe tbody tr th {\n",
       "        vertical-align: top;\n",
       "    }\n",
       "\n",
       "    .dataframe thead th {\n",
       "        text-align: right;\n",
       "    }\n",
       "</style>\n",
       "<table border=\"1\" class=\"dataframe\">\n",
       "  <thead>\n",
       "    <tr style=\"text-align: right;\">\n",
       "      <th></th>\n",
       "      <th>count</th>\n",
       "      <th>timings</th>\n",
       "      <th>Datetime</th>\n",
       "    </tr>\n",
       "  </thead>\n",
       "  <tbody>\n",
       "    <tr>\n",
       "      <th>0</th>\n",
       "      <td>1</td>\n",
       "      <td>2020-07-01 22:18:22.806651</td>\n",
       "      <td>2020-07-01 22:18:22.806651</td>\n",
       "    </tr>\n",
       "    <tr>\n",
       "      <th>1</th>\n",
       "      <td>2</td>\n",
       "      <td>2020-07-01 22:18:49.157322</td>\n",
       "      <td>2020-07-01 22:18:49.157322</td>\n",
       "    </tr>\n",
       "    <tr>\n",
       "      <th>2</th>\n",
       "      <td>3</td>\n",
       "      <td>2020-07-01 22:18:55.197844</td>\n",
       "      <td>2020-07-01 22:18:55.197844</td>\n",
       "    </tr>\n",
       "    <tr>\n",
       "      <th>3</th>\n",
       "      <td>4</td>\n",
       "      <td>2020-07-01 22:19:06.378970</td>\n",
       "      <td>2020-07-01 22:19:06.378970</td>\n",
       "    </tr>\n",
       "    <tr>\n",
       "      <th>4</th>\n",
       "      <td>5</td>\n",
       "      <td>2020-07-01 22:19:12.418819</td>\n",
       "      <td>2020-07-01 22:19:12.418819</td>\n",
       "    </tr>\n",
       "  </tbody>\n",
       "</table>\n",
       "</div>"
      ],
      "text/plain": [
       "   count                     timings                   Datetime\n",
       "0      1  2020-07-01 22:18:22.806651 2020-07-01 22:18:22.806651\n",
       "1      2  2020-07-01 22:18:49.157322 2020-07-01 22:18:49.157322\n",
       "2      3  2020-07-01 22:18:55.197844 2020-07-01 22:18:55.197844\n",
       "3      4  2020-07-01 22:19:06.378970 2020-07-01 22:19:06.378970\n",
       "4      5  2020-07-01 22:19:12.418819 2020-07-01 22:19:12.418819"
      ]
     },
     "execution_count": 49,
     "metadata": {},
     "output_type": "execute_result"
    },
    {
     "data": {
      "text/plain": [
       "Timestamp('2020-07-01 22:18:22.806651')"
      ]
     },
     "execution_count": 49,
     "metadata": {},
     "output_type": "execute_result"
    },
    {
     "data": {
      "text/plain": [
       "pandas._libs.tslibs.timestamps.Timestamp"
      ]
     },
     "execution_count": 49,
     "metadata": {},
     "output_type": "execute_result"
    }
   ],
   "source": [
    "# Converting to Datetime objects\n",
    "\n",
    "ffx2[\"Datetime\"] = pd.to_datetime(ffx2[\"timings\"])\n",
    "\n",
    "# Verifying it worked correctly\n",
    "ffx2.head()\n",
    "ffx2[\"Datetime\"][0]\n",
    "type(ffx2[\"Datetime\"][0])"
   ]
  },
  {
   "cell_type": "markdown",
   "metadata": {},
   "source": [
    "Now, for this second data set, I happen to know that there is bad data at the *front end* of this data set. This is due to my starting the data collection process, but then fiddling with the setup.\n",
    "\n",
    "NOTE: I know the data at the *tail end* of this data set is good data, as my data collection program had crashed right when it collected the last data value."
   ]
  },
  {
   "cell_type": "code",
   "execution_count": 55,
   "metadata": {},
   "outputs": [
    {
     "data": {
      "text/html": [
       "<div>\n",
       "<style scoped>\n",
       "    .dataframe tbody tr th:only-of-type {\n",
       "        vertical-align: middle;\n",
       "    }\n",
       "\n",
       "    .dataframe tbody tr th {\n",
       "        vertical-align: top;\n",
       "    }\n",
       "\n",
       "    .dataframe thead th {\n",
       "        text-align: right;\n",
       "    }\n",
       "</style>\n",
       "<table border=\"1\" class=\"dataframe\">\n",
       "  <thead>\n",
       "    <tr style=\"text-align: right;\">\n",
       "      <th></th>\n",
       "      <th>count</th>\n",
       "      <th>timings</th>\n",
       "      <th>Datetime</th>\n",
       "    </tr>\n",
       "  </thead>\n",
       "  <tbody>\n",
       "    <tr>\n",
       "      <th>0</th>\n",
       "      <td>1</td>\n",
       "      <td>2020-07-01 22:18:22.806651</td>\n",
       "      <td>2020-07-01 22:18:22.806651</td>\n",
       "    </tr>\n",
       "    <tr>\n",
       "      <th>1</th>\n",
       "      <td>2</td>\n",
       "      <td>2020-07-01 22:18:49.157322</td>\n",
       "      <td>2020-07-01 22:18:49.157322</td>\n",
       "    </tr>\n",
       "    <tr>\n",
       "      <th>2</th>\n",
       "      <td>3</td>\n",
       "      <td>2020-07-01 22:18:55.197844</td>\n",
       "      <td>2020-07-01 22:18:55.197844</td>\n",
       "    </tr>\n",
       "    <tr>\n",
       "      <th>3</th>\n",
       "      <td>4</td>\n",
       "      <td>2020-07-01 22:19:06.378970</td>\n",
       "      <td>2020-07-01 22:19:06.378970</td>\n",
       "    </tr>\n",
       "    <tr>\n",
       "      <th>4</th>\n",
       "      <td>5</td>\n",
       "      <td>2020-07-01 22:19:12.418819</td>\n",
       "      <td>2020-07-01 22:19:12.418819</td>\n",
       "    </tr>\n",
       "    <tr>\n",
       "      <th>5</th>\n",
       "      <td>6</td>\n",
       "      <td>2020-07-01 22:19:23.520136</td>\n",
       "      <td>2020-07-01 22:19:23.520136</td>\n",
       "    </tr>\n",
       "    <tr>\n",
       "      <th>6</th>\n",
       "      <td>7</td>\n",
       "      <td>2020-07-01 22:19:29.611230</td>\n",
       "      <td>2020-07-01 22:19:29.611230</td>\n",
       "    </tr>\n",
       "    <tr>\n",
       "      <th>7</th>\n",
       "      <td>8</td>\n",
       "      <td>2020-07-01 22:19:40.801496</td>\n",
       "      <td>2020-07-01 22:19:40.801496</td>\n",
       "    </tr>\n",
       "    <tr>\n",
       "      <th>8</th>\n",
       "      <td>9</td>\n",
       "      <td>2020-07-01 22:19:46.788705</td>\n",
       "      <td>2020-07-01 22:19:46.788705</td>\n",
       "    </tr>\n",
       "    <tr>\n",
       "      <th>9</th>\n",
       "      <td>10</td>\n",
       "      <td>2020-07-01 22:19:57.940598</td>\n",
       "      <td>2020-07-01 22:19:57.940598</td>\n",
       "    </tr>\n",
       "    <tr>\n",
       "      <th>10</th>\n",
       "      <td>11</td>\n",
       "      <td>2020-07-01 22:20:03.941334</td>\n",
       "      <td>2020-07-01 22:20:03.941334</td>\n",
       "    </tr>\n",
       "    <tr>\n",
       "      <th>11</th>\n",
       "      <td>12</td>\n",
       "      <td>2020-07-01 22:20:15.103793</td>\n",
       "      <td>2020-07-01 22:20:15.103793</td>\n",
       "    </tr>\n",
       "    <tr>\n",
       "      <th>12</th>\n",
       "      <td>13</td>\n",
       "      <td>2020-07-01 22:20:21.131292</td>\n",
       "      <td>2020-07-01 22:20:21.131292</td>\n",
       "    </tr>\n",
       "    <tr>\n",
       "      <th>13</th>\n",
       "      <td>14</td>\n",
       "      <td>2020-07-01 22:20:32.341355</td>\n",
       "      <td>2020-07-01 22:20:32.341355</td>\n",
       "    </tr>\n",
       "    <tr>\n",
       "      <th>14</th>\n",
       "      <td>15</td>\n",
       "      <td>2020-07-01 22:20:38.373277</td>\n",
       "      <td>2020-07-01 22:20:38.373277</td>\n",
       "    </tr>\n",
       "    <tr>\n",
       "      <th>15</th>\n",
       "      <td>16</td>\n",
       "      <td>2020-07-01 22:20:49.596912</td>\n",
       "      <td>2020-07-01 22:20:49.596912</td>\n",
       "    </tr>\n",
       "    <tr>\n",
       "      <th>16</th>\n",
       "      <td>17</td>\n",
       "      <td>2020-07-01 22:20:55.627065</td>\n",
       "      <td>2020-07-01 22:20:55.627065</td>\n",
       "    </tr>\n",
       "    <tr>\n",
       "      <th>17</th>\n",
       "      <td>18</td>\n",
       "      <td>2020-07-01 22:21:06.831006</td>\n",
       "      <td>2020-07-01 22:21:06.831006</td>\n",
       "    </tr>\n",
       "    <tr>\n",
       "      <th>18</th>\n",
       "      <td>19</td>\n",
       "      <td>2020-07-01 22:21:12.843312</td>\n",
       "      <td>2020-07-01 22:21:12.843312</td>\n",
       "    </tr>\n",
       "    <tr>\n",
       "      <th>19</th>\n",
       "      <td>20</td>\n",
       "      <td>2020-07-01 22:21:24.005430</td>\n",
       "      <td>2020-07-01 22:21:24.005430</td>\n",
       "    </tr>\n",
       "  </tbody>\n",
       "</table>\n",
       "</div>"
      ],
      "text/plain": [
       "    count                     timings                   Datetime\n",
       "0       1  2020-07-01 22:18:22.806651 2020-07-01 22:18:22.806651\n",
       "1       2  2020-07-01 22:18:49.157322 2020-07-01 22:18:49.157322\n",
       "2       3  2020-07-01 22:18:55.197844 2020-07-01 22:18:55.197844\n",
       "3       4  2020-07-01 22:19:06.378970 2020-07-01 22:19:06.378970\n",
       "4       5  2020-07-01 22:19:12.418819 2020-07-01 22:19:12.418819\n",
       "5       6  2020-07-01 22:19:23.520136 2020-07-01 22:19:23.520136\n",
       "6       7  2020-07-01 22:19:29.611230 2020-07-01 22:19:29.611230\n",
       "7       8  2020-07-01 22:19:40.801496 2020-07-01 22:19:40.801496\n",
       "8       9  2020-07-01 22:19:46.788705 2020-07-01 22:19:46.788705\n",
       "9      10  2020-07-01 22:19:57.940598 2020-07-01 22:19:57.940598\n",
       "10     11  2020-07-01 22:20:03.941334 2020-07-01 22:20:03.941334\n",
       "11     12  2020-07-01 22:20:15.103793 2020-07-01 22:20:15.103793\n",
       "12     13  2020-07-01 22:20:21.131292 2020-07-01 22:20:21.131292\n",
       "13     14  2020-07-01 22:20:32.341355 2020-07-01 22:20:32.341355\n",
       "14     15  2020-07-01 22:20:38.373277 2020-07-01 22:20:38.373277\n",
       "15     16  2020-07-01 22:20:49.596912 2020-07-01 22:20:49.596912\n",
       "16     17  2020-07-01 22:20:55.627065 2020-07-01 22:20:55.627065\n",
       "17     18  2020-07-01 22:21:06.831006 2020-07-01 22:21:06.831006\n",
       "18     19  2020-07-01 22:21:12.843312 2020-07-01 22:21:12.843312\n",
       "19     20  2020-07-01 22:21:24.005430 2020-07-01 22:21:24.005430"
      ]
     },
     "execution_count": 55,
     "metadata": {},
     "output_type": "execute_result"
    }
   ],
   "source": [
    "# Initial look to see if we can eye-ball the bad data (at the front end)\n",
    "\n",
    "ffx2[:20]"
   ]
  },
  {
   "cell_type": "markdown",
   "metadata": {},
   "source": [
    "As expected, we do see that the first few data points are bad data as they do not follow the pattern. So, as previously done, we shall compute the time differences to see how many rows of data we need to remove."
   ]
  },
  {
   "cell_type": "code",
   "execution_count": 57,
   "metadata": {},
   "outputs": [],
   "source": [
    "# Computing time differences (at head of data)\n",
    "\n",
    "time_differences_2 = [(f'{ffx2[\"count\"][i+1]}---{ffx2[\"count\"][i]}', ffx2[\"Datetime\"][i+1]-ffx2[\"Datetime\"][i]) for i in range(10)]\n",
    "\n",
    "# Converting to dataframe for ease of use\n",
    "bad_time_diff2_head = pd.DataFrame(time_differences_2)"
   ]
  },
  {
   "cell_type": "code",
   "execution_count": 58,
   "metadata": {},
   "outputs": [
    {
     "data": {
      "text/html": [
       "<div>\n",
       "<style scoped>\n",
       "    .dataframe tbody tr th:only-of-type {\n",
       "        vertical-align: middle;\n",
       "    }\n",
       "\n",
       "    .dataframe tbody tr th {\n",
       "        vertical-align: top;\n",
       "    }\n",
       "\n",
       "    .dataframe thead th {\n",
       "        text-align: right;\n",
       "    }\n",
       "</style>\n",
       "<table border=\"1\" class=\"dataframe\">\n",
       "  <thead>\n",
       "    <tr style=\"text-align: right;\">\n",
       "      <th></th>\n",
       "      <th>0</th>\n",
       "      <th>1</th>\n",
       "    </tr>\n",
       "  </thead>\n",
       "  <tbody>\n",
       "    <tr>\n",
       "      <th>0</th>\n",
       "      <td>2---1</td>\n",
       "      <td>00:00:26.350671</td>\n",
       "    </tr>\n",
       "    <tr>\n",
       "      <th>1</th>\n",
       "      <td>3---2</td>\n",
       "      <td>00:00:06.040522</td>\n",
       "    </tr>\n",
       "    <tr>\n",
       "      <th>2</th>\n",
       "      <td>4---3</td>\n",
       "      <td>00:00:11.181126</td>\n",
       "    </tr>\n",
       "    <tr>\n",
       "      <th>3</th>\n",
       "      <td>5---4</td>\n",
       "      <td>00:00:06.039849</td>\n",
       "    </tr>\n",
       "    <tr>\n",
       "      <th>4</th>\n",
       "      <td>6---5</td>\n",
       "      <td>00:00:11.101317</td>\n",
       "    </tr>\n",
       "    <tr>\n",
       "      <th>5</th>\n",
       "      <td>7---6</td>\n",
       "      <td>00:00:06.091094</td>\n",
       "    </tr>\n",
       "    <tr>\n",
       "      <th>6</th>\n",
       "      <td>8---7</td>\n",
       "      <td>00:00:11.190266</td>\n",
       "    </tr>\n",
       "    <tr>\n",
       "      <th>7</th>\n",
       "      <td>9---8</td>\n",
       "      <td>00:00:05.987209</td>\n",
       "    </tr>\n",
       "    <tr>\n",
       "      <th>8</th>\n",
       "      <td>10---9</td>\n",
       "      <td>00:00:11.151893</td>\n",
       "    </tr>\n",
       "    <tr>\n",
       "      <th>9</th>\n",
       "      <td>11---10</td>\n",
       "      <td>00:00:06.000736</td>\n",
       "    </tr>\n",
       "  </tbody>\n",
       "</table>\n",
       "</div>"
      ],
      "text/plain": [
       "         0               1\n",
       "0    2---1 00:00:26.350671\n",
       "1    3---2 00:00:06.040522\n",
       "2    4---3 00:00:11.181126\n",
       "3    5---4 00:00:06.039849\n",
       "4    6---5 00:00:11.101317\n",
       "5    7---6 00:00:06.091094\n",
       "6    8---7 00:00:11.190266\n",
       "7    9---8 00:00:05.987209\n",
       "8   10---9 00:00:11.151893\n",
       "9  11---10 00:00:06.000736"
      ]
     },
     "execution_count": 58,
     "metadata": {},
     "output_type": "execute_result"
    }
   ],
   "source": [
    "bad_time_diff2_head"
   ]
  },
  {
   "cell_type": "markdown",
   "metadata": {},
   "source": [
    "We see that the first time difference does not follow the observed pattern but the second time difference and beyond does. This means that only the first data point is the bad data. We will remove it."
   ]
  },
  {
   "cell_type": "code",
   "execution_count": 59,
   "metadata": {
    "collapsed": true
   },
   "outputs": [
    {
     "data": {
      "text/html": [
       "<div>\n",
       "<style scoped>\n",
       "    .dataframe tbody tr th:only-of-type {\n",
       "        vertical-align: middle;\n",
       "    }\n",
       "\n",
       "    .dataframe tbody tr th {\n",
       "        vertical-align: top;\n",
       "    }\n",
       "\n",
       "    .dataframe thead th {\n",
       "        text-align: right;\n",
       "    }\n",
       "</style>\n",
       "<table border=\"1\" class=\"dataframe\">\n",
       "  <thead>\n",
       "    <tr style=\"text-align: right;\">\n",
       "      <th></th>\n",
       "      <th>count</th>\n",
       "      <th>timings</th>\n",
       "      <th>Datetime</th>\n",
       "    </tr>\n",
       "  </thead>\n",
       "  <tbody>\n",
       "    <tr>\n",
       "      <th>1</th>\n",
       "      <td>2</td>\n",
       "      <td>2020-07-01 22:18:49.157322</td>\n",
       "      <td>2020-07-01 22:18:49.157322</td>\n",
       "    </tr>\n",
       "    <tr>\n",
       "      <th>2</th>\n",
       "      <td>3</td>\n",
       "      <td>2020-07-01 22:18:55.197844</td>\n",
       "      <td>2020-07-01 22:18:55.197844</td>\n",
       "    </tr>\n",
       "    <tr>\n",
       "      <th>3</th>\n",
       "      <td>4</td>\n",
       "      <td>2020-07-01 22:19:06.378970</td>\n",
       "      <td>2020-07-01 22:19:06.378970</td>\n",
       "    </tr>\n",
       "    <tr>\n",
       "      <th>4</th>\n",
       "      <td>5</td>\n",
       "      <td>2020-07-01 22:19:12.418819</td>\n",
       "      <td>2020-07-01 22:19:12.418819</td>\n",
       "    </tr>\n",
       "    <tr>\n",
       "      <th>5</th>\n",
       "      <td>6</td>\n",
       "      <td>2020-07-01 22:19:23.520136</td>\n",
       "      <td>2020-07-01 22:19:23.520136</td>\n",
       "    </tr>\n",
       "    <tr>\n",
       "      <th>...</th>\n",
       "      <td>...</td>\n",
       "      <td>...</td>\n",
       "      <td>...</td>\n",
       "    </tr>\n",
       "    <tr>\n",
       "      <th>1854</th>\n",
       "      <td>1855</td>\n",
       "      <td>2020-07-02 02:43:49.553087</td>\n",
       "      <td>2020-07-02 02:43:49.553087</td>\n",
       "    </tr>\n",
       "    <tr>\n",
       "      <th>1855</th>\n",
       "      <td>1856</td>\n",
       "      <td>2020-07-02 02:44:00.693588</td>\n",
       "      <td>2020-07-02 02:44:00.693588</td>\n",
       "    </tr>\n",
       "    <tr>\n",
       "      <th>1856</th>\n",
       "      <td>1857</td>\n",
       "      <td>2020-07-02 02:44:06.734364</td>\n",
       "      <td>2020-07-02 02:44:06.734364</td>\n",
       "    </tr>\n",
       "    <tr>\n",
       "      <th>1857</th>\n",
       "      <td>1858</td>\n",
       "      <td>2020-07-02 02:44:17.871546</td>\n",
       "      <td>2020-07-02 02:44:17.871546</td>\n",
       "    </tr>\n",
       "    <tr>\n",
       "      <th>1858</th>\n",
       "      <td>1859</td>\n",
       "      <td>2020-07-02 02:44:23.952632</td>\n",
       "      <td>2020-07-02 02:44:23.952632</td>\n",
       "    </tr>\n",
       "  </tbody>\n",
       "</table>\n",
       "<p>1858 rows × 3 columns</p>\n",
       "</div>"
      ],
      "text/plain": [
       "      count                     timings                   Datetime\n",
       "1         2  2020-07-01 22:18:49.157322 2020-07-01 22:18:49.157322\n",
       "2         3  2020-07-01 22:18:55.197844 2020-07-01 22:18:55.197844\n",
       "3         4  2020-07-01 22:19:06.378970 2020-07-01 22:19:06.378970\n",
       "4         5  2020-07-01 22:19:12.418819 2020-07-01 22:19:12.418819\n",
       "5         6  2020-07-01 22:19:23.520136 2020-07-01 22:19:23.520136\n",
       "...     ...                         ...                        ...\n",
       "1854   1855  2020-07-02 02:43:49.553087 2020-07-02 02:43:49.553087\n",
       "1855   1856  2020-07-02 02:44:00.693588 2020-07-02 02:44:00.693588\n",
       "1856   1857  2020-07-02 02:44:06.734364 2020-07-02 02:44:06.734364\n",
       "1857   1858  2020-07-02 02:44:17.871546 2020-07-02 02:44:17.871546\n",
       "1858   1859  2020-07-02 02:44:23.952632 2020-07-02 02:44:23.952632\n",
       "\n",
       "[1858 rows x 3 columns]"
      ]
     },
     "execution_count": 59,
     "metadata": {},
     "output_type": "execute_result"
    }
   ],
   "source": [
    "# Removing (the single) bad data point at head of data set\n",
    "\n",
    "ffx2_cleaned = ffx2.drop(labels=0, axis=0)\n",
    "ffx2_cleaned"
   ]
  },
  {
   "cell_type": "markdown",
   "metadata": {},
   "source": [
    "**Question: Should we combine these two dataframes?**\n",
    "\n",
    "**Answer:** First and most obviously, we know these two dataframes (ffx_cleaned & ffx2_cleaned) hold the exact same type of information, namely the count and timing data of lightning strikes. We also know that our main goal of this data analysis is to investigate the time differences in lightning strikes. \n",
    "\n",
    "This being said, the decision we will make is to **not combine the dataframes**. Here are my reasons:\n",
    "\n",
    "1. It does not make sense to combine them because the data was collected on during different time spans.\n",
    "\n",
    "2. If we were to combine the dataframes, the point where the two dataframes join, there will be a large discrepency in the time difference (infact, as large as a few days!).\n",
    "\n",
    "Ultimately, the easier path is to analyze the dataframes separately. This will also allow us to **compare the results of two independent data sets**, which is always a good thing to do!"
   ]
  },
  {
   "cell_type": "markdown",
   "metadata": {},
   "source": [
    "# Feature Engineering"
   ]
  },
  {
   "cell_type": "markdown",
   "metadata": {},
   "source": [
    "### Part 1/2 - Original Dataset Cleaned (ffx_cleaned)"
   ]
  },
  {
   "cell_type": "markdown",
   "metadata": {},
   "source": [
    "Of course, the main feature we wish to create is a \"time difference\" feature."
   ]
  },
  {
   "cell_type": "code",
   "execution_count": 60,
   "metadata": {},
   "outputs": [
    {
     "data": {
      "text/html": [
       "<div>\n",
       "<style scoped>\n",
       "    .dataframe tbody tr th:only-of-type {\n",
       "        vertical-align: middle;\n",
       "    }\n",
       "\n",
       "    .dataframe tbody tr th {\n",
       "        vertical-align: top;\n",
       "    }\n",
       "\n",
       "    .dataframe thead th {\n",
       "        text-align: right;\n",
       "    }\n",
       "</style>\n",
       "<table border=\"1\" class=\"dataframe\">\n",
       "  <thead>\n",
       "    <tr style=\"text-align: right;\">\n",
       "      <th></th>\n",
       "      <th>count</th>\n",
       "      <th>timings</th>\n",
       "      <th>Datetime</th>\n",
       "    </tr>\n",
       "  </thead>\n",
       "  <tbody>\n",
       "    <tr>\n",
       "      <th>0</th>\n",
       "      <td>1</td>\n",
       "      <td>20-06-28 16:40:11.538763</td>\n",
       "      <td>2028-06-20 16:40:11.538763</td>\n",
       "    </tr>\n",
       "    <tr>\n",
       "      <th>1</th>\n",
       "      <td>2</td>\n",
       "      <td>20-06-28 16:40:17.543537</td>\n",
       "      <td>2028-06-20 16:40:17.543537</td>\n",
       "    </tr>\n",
       "    <tr>\n",
       "      <th>2</th>\n",
       "      <td>3</td>\n",
       "      <td>20-06-28 16:40:28.666688</td>\n",
       "      <td>2028-06-20 16:40:28.666688</td>\n",
       "    </tr>\n",
       "    <tr>\n",
       "      <th>3</th>\n",
       "      <td>4</td>\n",
       "      <td>20-06-28 16:40:34.640885</td>\n",
       "      <td>2028-06-20 16:40:34.640885</td>\n",
       "    </tr>\n",
       "    <tr>\n",
       "      <th>4</th>\n",
       "      <td>5</td>\n",
       "      <td>20-06-28 16:40:45.889237</td>\n",
       "      <td>2028-06-20 16:40:45.889237</td>\n",
       "    </tr>\n",
       "  </tbody>\n",
       "</table>\n",
       "</div>"
      ],
      "text/plain": [
       "   count                   timings                   Datetime\n",
       "0      1  20-06-28 16:40:11.538763 2028-06-20 16:40:11.538763\n",
       "1      2  20-06-28 16:40:17.543537 2028-06-20 16:40:17.543537\n",
       "2      3  20-06-28 16:40:28.666688 2028-06-20 16:40:28.666688\n",
       "3      4  20-06-28 16:40:34.640885 2028-06-20 16:40:34.640885\n",
       "4      5  20-06-28 16:40:45.889237 2028-06-20 16:40:45.889237"
      ]
     },
     "execution_count": 60,
     "metadata": {},
     "output_type": "execute_result"
    }
   ],
   "source": [
    "ffx_cleaned.head()"
   ]
  },
  {
   "cell_type": "code",
   "execution_count": 73,
   "metadata": {},
   "outputs": [
    {
     "data": {
      "text/html": [
       "<div>\n",
       "<style scoped>\n",
       "    .dataframe tbody tr th:only-of-type {\n",
       "        vertical-align: middle;\n",
       "    }\n",
       "\n",
       "    .dataframe tbody tr th {\n",
       "        vertical-align: top;\n",
       "    }\n",
       "\n",
       "    .dataframe thead th {\n",
       "        text-align: right;\n",
       "    }\n",
       "</style>\n",
       "<table border=\"1\" class=\"dataframe\">\n",
       "  <thead>\n",
       "    <tr style=\"text-align: right;\">\n",
       "      <th></th>\n",
       "      <th>count</th>\n",
       "      <th>timings</th>\n",
       "      <th>Datetime</th>\n",
       "      <th>deltaT</th>\n",
       "    </tr>\n",
       "  </thead>\n",
       "  <tbody>\n",
       "    <tr>\n",
       "      <th>0</th>\n",
       "      <td>1</td>\n",
       "      <td>20-06-28 16:40:11.538763</td>\n",
       "      <td>2028-06-20 16:40:11.538763</td>\n",
       "      <td>NaT</td>\n",
       "    </tr>\n",
       "    <tr>\n",
       "      <th>1</th>\n",
       "      <td>2</td>\n",
       "      <td>20-06-28 16:40:17.543537</td>\n",
       "      <td>2028-06-20 16:40:17.543537</td>\n",
       "      <td>00:00:06.004774</td>\n",
       "    </tr>\n",
       "    <tr>\n",
       "      <th>2</th>\n",
       "      <td>3</td>\n",
       "      <td>20-06-28 16:40:28.666688</td>\n",
       "      <td>2028-06-20 16:40:28.666688</td>\n",
       "      <td>00:00:11.123151</td>\n",
       "    </tr>\n",
       "    <tr>\n",
       "      <th>3</th>\n",
       "      <td>4</td>\n",
       "      <td>20-06-28 16:40:34.640885</td>\n",
       "      <td>2028-06-20 16:40:34.640885</td>\n",
       "      <td>00:00:05.974197</td>\n",
       "    </tr>\n",
       "    <tr>\n",
       "      <th>4</th>\n",
       "      <td>5</td>\n",
       "      <td>20-06-28 16:40:45.889237</td>\n",
       "      <td>2028-06-20 16:40:45.889237</td>\n",
       "      <td>00:00:11.248352</td>\n",
       "    </tr>\n",
       "  </tbody>\n",
       "</table>\n",
       "</div>"
      ],
      "text/plain": [
       "   count                   timings                   Datetime          deltaT\n",
       "0      1  20-06-28 16:40:11.538763 2028-06-20 16:40:11.538763             NaT\n",
       "1      2  20-06-28 16:40:17.543537 2028-06-20 16:40:17.543537 00:00:06.004774\n",
       "2      3  20-06-28 16:40:28.666688 2028-06-20 16:40:28.666688 00:00:11.123151\n",
       "3      4  20-06-28 16:40:34.640885 2028-06-20 16:40:34.640885 00:00:05.974197\n",
       "4      5  20-06-28 16:40:45.889237 2028-06-20 16:40:45.889237 00:00:11.248352"
      ]
     },
     "execution_count": 73,
     "metadata": {},
     "output_type": "execute_result"
    },
    {
     "data": {
      "text/plain": [
       "pandas._libs.tslibs.timedeltas.Timedelta"
      ]
     },
     "execution_count": 73,
     "metadata": {},
     "output_type": "execute_result"
    }
   ],
   "source": [
    "# Creating the time difference feature\n",
    "\n",
    "ffx_cleaned[\"deltaT\"] = ffx_cleaned[\"Datetime\"] - ffx_cleaned[\"Datetime\"].shift(1)\n",
    "ffx_cleaned.head()\n",
    "type(ffx_cleaned[\"deltaT\"][1])"
   ]
  },
  {
   "cell_type": "markdown",
   "metadata": {},
   "source": [
    "Something that may be useful is to extract only the seconds information of each time difference. We create this feature below."
   ]
  },
  {
   "cell_type": "code",
   "execution_count": 76,
   "metadata": {},
   "outputs": [
    {
     "data": {
      "text/plain": [
       "Timedelta('0 days 00:00:05.974197')"
      ]
     },
     "execution_count": 76,
     "metadata": {},
     "output_type": "execute_result"
    },
    {
     "data": {
      "text/plain": [
       "5"
      ]
     },
     "execution_count": 76,
     "metadata": {},
     "output_type": "execute_result"
    },
    {
     "data": {
      "text/plain": [
       "974197"
      ]
     },
     "execution_count": 76,
     "metadata": {},
     "output_type": "execute_result"
    }
   ],
   "source": [
    "# Just for reference\n",
    "\n",
    "ffx_cleaned[\"deltaT\"][3]\n",
    "ffx_cleaned[\"deltaT\"][3].seconds\n",
    "ffx_cleaned[\"deltaT\"][3].microseconds"
   ]
  },
  {
   "cell_type": "code",
   "execution_count": 77,
   "metadata": {},
   "outputs": [],
   "source": [
    "# Creating the timedelta feature, in units of \"seconds\"\n",
    "\n",
    "ffx_cleaned[\"dT(seconds)\"] = [ffx_cleaned[\"deltaT\"][i].seconds + ffx_cleaned[\"deltaT\"][i].microseconds * 10**(-6) for i in range(0,len(ffx_cleaned[\"deltaT\"]))]"
   ]
  },
  {
   "cell_type": "code",
   "execution_count": 78,
   "metadata": {},
   "outputs": [
    {
     "data": {
      "text/html": [
       "<div>\n",
       "<style scoped>\n",
       "    .dataframe tbody tr th:only-of-type {\n",
       "        vertical-align: middle;\n",
       "    }\n",
       "\n",
       "    .dataframe tbody tr th {\n",
       "        vertical-align: top;\n",
       "    }\n",
       "\n",
       "    .dataframe thead th {\n",
       "        text-align: right;\n",
       "    }\n",
       "</style>\n",
       "<table border=\"1\" class=\"dataframe\">\n",
       "  <thead>\n",
       "    <tr style=\"text-align: right;\">\n",
       "      <th></th>\n",
       "      <th>count</th>\n",
       "      <th>timings</th>\n",
       "      <th>Datetime</th>\n",
       "      <th>deltaT</th>\n",
       "      <th>dT(seconds)</th>\n",
       "    </tr>\n",
       "  </thead>\n",
       "  <tbody>\n",
       "    <tr>\n",
       "      <th>0</th>\n",
       "      <td>1</td>\n",
       "      <td>20-06-28 16:40:11.538763</td>\n",
       "      <td>2028-06-20 16:40:11.538763</td>\n",
       "      <td>NaT</td>\n",
       "      <td>NaN</td>\n",
       "    </tr>\n",
       "    <tr>\n",
       "      <th>1</th>\n",
       "      <td>2</td>\n",
       "      <td>20-06-28 16:40:17.543537</td>\n",
       "      <td>2028-06-20 16:40:17.543537</td>\n",
       "      <td>00:00:06.004774</td>\n",
       "      <td>6.004774</td>\n",
       "    </tr>\n",
       "    <tr>\n",
       "      <th>2</th>\n",
       "      <td>3</td>\n",
       "      <td>20-06-28 16:40:28.666688</td>\n",
       "      <td>2028-06-20 16:40:28.666688</td>\n",
       "      <td>00:00:11.123151</td>\n",
       "      <td>11.123151</td>\n",
       "    </tr>\n",
       "    <tr>\n",
       "      <th>3</th>\n",
       "      <td>4</td>\n",
       "      <td>20-06-28 16:40:34.640885</td>\n",
       "      <td>2028-06-20 16:40:34.640885</td>\n",
       "      <td>00:00:05.974197</td>\n",
       "      <td>5.974197</td>\n",
       "    </tr>\n",
       "    <tr>\n",
       "      <th>4</th>\n",
       "      <td>5</td>\n",
       "      <td>20-06-28 16:40:45.889237</td>\n",
       "      <td>2028-06-20 16:40:45.889237</td>\n",
       "      <td>00:00:11.248352</td>\n",
       "      <td>11.248352</td>\n",
       "    </tr>\n",
       "    <tr>\n",
       "      <th>...</th>\n",
       "      <td>...</td>\n",
       "      <td>...</td>\n",
       "      <td>...</td>\n",
       "      <td>...</td>\n",
       "      <td>...</td>\n",
       "    </tr>\n",
       "    <tr>\n",
       "      <th>1113</th>\n",
       "      <td>1114</td>\n",
       "      <td>20-06-28 19:19:34.304837</td>\n",
       "      <td>2028-06-20 19:19:34.304837</td>\n",
       "      <td>00:00:05.934609</td>\n",
       "      <td>5.934609</td>\n",
       "    </tr>\n",
       "    <tr>\n",
       "      <th>1114</th>\n",
       "      <td>1115</td>\n",
       "      <td>20-06-28 19:19:45.509329</td>\n",
       "      <td>2028-06-20 19:19:45.509329</td>\n",
       "      <td>00:00:11.204492</td>\n",
       "      <td>11.204492</td>\n",
       "    </tr>\n",
       "    <tr>\n",
       "      <th>1115</th>\n",
       "      <td>1116</td>\n",
       "      <td>20-06-28 19:19:51.529480</td>\n",
       "      <td>2028-06-20 19:19:51.529480</td>\n",
       "      <td>00:00:06.020151</td>\n",
       "      <td>6.020151</td>\n",
       "    </tr>\n",
       "    <tr>\n",
       "      <th>1116</th>\n",
       "      <td>1117</td>\n",
       "      <td>20-06-28 19:20:02.690825</td>\n",
       "      <td>2028-06-20 19:20:02.690825</td>\n",
       "      <td>00:00:11.161345</td>\n",
       "      <td>11.161345</td>\n",
       "    </tr>\n",
       "    <tr>\n",
       "      <th>1117</th>\n",
       "      <td>1118</td>\n",
       "      <td>20-06-28 19:20:08.719560</td>\n",
       "      <td>2028-06-20 19:20:08.719560</td>\n",
       "      <td>00:00:06.028735</td>\n",
       "      <td>6.028735</td>\n",
       "    </tr>\n",
       "  </tbody>\n",
       "</table>\n",
       "<p>1118 rows × 5 columns</p>\n",
       "</div>"
      ],
      "text/plain": [
       "      count                   timings                   Datetime  \\\n",
       "0         1  20-06-28 16:40:11.538763 2028-06-20 16:40:11.538763   \n",
       "1         2  20-06-28 16:40:17.543537 2028-06-20 16:40:17.543537   \n",
       "2         3  20-06-28 16:40:28.666688 2028-06-20 16:40:28.666688   \n",
       "3         4  20-06-28 16:40:34.640885 2028-06-20 16:40:34.640885   \n",
       "4         5  20-06-28 16:40:45.889237 2028-06-20 16:40:45.889237   \n",
       "...     ...                       ...                        ...   \n",
       "1113   1114  20-06-28 19:19:34.304837 2028-06-20 19:19:34.304837   \n",
       "1114   1115  20-06-28 19:19:45.509329 2028-06-20 19:19:45.509329   \n",
       "1115   1116  20-06-28 19:19:51.529480 2028-06-20 19:19:51.529480   \n",
       "1116   1117  20-06-28 19:20:02.690825 2028-06-20 19:20:02.690825   \n",
       "1117   1118  20-06-28 19:20:08.719560 2028-06-20 19:20:08.719560   \n",
       "\n",
       "              deltaT  dT(seconds)  \n",
       "0                NaT          NaN  \n",
       "1    00:00:06.004774     6.004774  \n",
       "2    00:00:11.123151    11.123151  \n",
       "3    00:00:05.974197     5.974197  \n",
       "4    00:00:11.248352    11.248352  \n",
       "...              ...          ...  \n",
       "1113 00:00:05.934609     5.934609  \n",
       "1114 00:00:11.204492    11.204492  \n",
       "1115 00:00:06.020151     6.020151  \n",
       "1116 00:00:11.161345    11.161345  \n",
       "1117 00:00:06.028735     6.028735  \n",
       "\n",
       "[1118 rows x 5 columns]"
      ]
     },
     "execution_count": 78,
     "metadata": {},
     "output_type": "execute_result"
    }
   ],
   "source": [
    "ffx_cleaned"
   ]
  },
  {
   "cell_type": "markdown",
   "metadata": {},
   "source": [
    "### Part 2/2 - Second Dataset Cleaned (ffx2_cleaned)"
   ]
  },
  {
   "cell_type": "markdown",
   "metadata": {},
   "source": [
    "We create the same two features with the second data set (ffx2_cleaned)"
   ]
  },
  {
   "cell_type": "code",
   "execution_count": 79,
   "metadata": {},
   "outputs": [
    {
     "data": {
      "text/html": [
       "<div>\n",
       "<style scoped>\n",
       "    .dataframe tbody tr th:only-of-type {\n",
       "        vertical-align: middle;\n",
       "    }\n",
       "\n",
       "    .dataframe tbody tr th {\n",
       "        vertical-align: top;\n",
       "    }\n",
       "\n",
       "    .dataframe thead th {\n",
       "        text-align: right;\n",
       "    }\n",
       "</style>\n",
       "<table border=\"1\" class=\"dataframe\">\n",
       "  <thead>\n",
       "    <tr style=\"text-align: right;\">\n",
       "      <th></th>\n",
       "      <th>count</th>\n",
       "      <th>timings</th>\n",
       "      <th>Datetime</th>\n",
       "    </tr>\n",
       "  </thead>\n",
       "  <tbody>\n",
       "    <tr>\n",
       "      <th>1</th>\n",
       "      <td>2</td>\n",
       "      <td>2020-07-01 22:18:49.157322</td>\n",
       "      <td>2020-07-01 22:18:49.157322</td>\n",
       "    </tr>\n",
       "    <tr>\n",
       "      <th>2</th>\n",
       "      <td>3</td>\n",
       "      <td>2020-07-01 22:18:55.197844</td>\n",
       "      <td>2020-07-01 22:18:55.197844</td>\n",
       "    </tr>\n",
       "    <tr>\n",
       "      <th>3</th>\n",
       "      <td>4</td>\n",
       "      <td>2020-07-01 22:19:06.378970</td>\n",
       "      <td>2020-07-01 22:19:06.378970</td>\n",
       "    </tr>\n",
       "    <tr>\n",
       "      <th>4</th>\n",
       "      <td>5</td>\n",
       "      <td>2020-07-01 22:19:12.418819</td>\n",
       "      <td>2020-07-01 22:19:12.418819</td>\n",
       "    </tr>\n",
       "    <tr>\n",
       "      <th>5</th>\n",
       "      <td>6</td>\n",
       "      <td>2020-07-01 22:19:23.520136</td>\n",
       "      <td>2020-07-01 22:19:23.520136</td>\n",
       "    </tr>\n",
       "  </tbody>\n",
       "</table>\n",
       "</div>"
      ],
      "text/plain": [
       "   count                     timings                   Datetime\n",
       "1      2  2020-07-01 22:18:49.157322 2020-07-01 22:18:49.157322\n",
       "2      3  2020-07-01 22:18:55.197844 2020-07-01 22:18:55.197844\n",
       "3      4  2020-07-01 22:19:06.378970 2020-07-01 22:19:06.378970\n",
       "4      5  2020-07-01 22:19:12.418819 2020-07-01 22:19:12.418819\n",
       "5      6  2020-07-01 22:19:23.520136 2020-07-01 22:19:23.520136"
      ]
     },
     "execution_count": 79,
     "metadata": {},
     "output_type": "execute_result"
    }
   ],
   "source": [
    "ffx2_cleaned.head()"
   ]
  },
  {
   "cell_type": "code",
   "execution_count": 80,
   "metadata": {},
   "outputs": [],
   "source": [
    "# Creating the time difference features (as Timedelta objects)\n",
    "ffx2_cleaned[\"deltaT\"] = ffx2_cleaned[\"Datetime\"] - ffx2_cleaned[\"Datetime\"].shift(1)\n",
    "\n",
    "\n",
    "#Creating the time difference features (in units of \"seconds\")\n",
    "ffx2_cleaned[\"dT(seconds)\"] = [ffx2_cleaned[\"deltaT\"][i].seconds + ffx2_cleaned[\"deltaT\"][i].microseconds * 10**(-6) for i in range(1,len(ffx2_cleaned[\"deltaT\"])+1)]"
   ]
  },
  {
   "cell_type": "code",
   "execution_count": 81,
   "metadata": {},
   "outputs": [
    {
     "data": {
      "text/html": [
       "<div>\n",
       "<style scoped>\n",
       "    .dataframe tbody tr th:only-of-type {\n",
       "        vertical-align: middle;\n",
       "    }\n",
       "\n",
       "    .dataframe tbody tr th {\n",
       "        vertical-align: top;\n",
       "    }\n",
       "\n",
       "    .dataframe thead th {\n",
       "        text-align: right;\n",
       "    }\n",
       "</style>\n",
       "<table border=\"1\" class=\"dataframe\">\n",
       "  <thead>\n",
       "    <tr style=\"text-align: right;\">\n",
       "      <th></th>\n",
       "      <th>count</th>\n",
       "      <th>timings</th>\n",
       "      <th>Datetime</th>\n",
       "      <th>deltaT</th>\n",
       "      <th>dT(seconds)</th>\n",
       "    </tr>\n",
       "  </thead>\n",
       "  <tbody>\n",
       "    <tr>\n",
       "      <th>1</th>\n",
       "      <td>2</td>\n",
       "      <td>2020-07-01 22:18:49.157322</td>\n",
       "      <td>2020-07-01 22:18:49.157322</td>\n",
       "      <td>NaT</td>\n",
       "      <td>NaN</td>\n",
       "    </tr>\n",
       "    <tr>\n",
       "      <th>2</th>\n",
       "      <td>3</td>\n",
       "      <td>2020-07-01 22:18:55.197844</td>\n",
       "      <td>2020-07-01 22:18:55.197844</td>\n",
       "      <td>00:00:06.040522</td>\n",
       "      <td>6.040522</td>\n",
       "    </tr>\n",
       "    <tr>\n",
       "      <th>3</th>\n",
       "      <td>4</td>\n",
       "      <td>2020-07-01 22:19:06.378970</td>\n",
       "      <td>2020-07-01 22:19:06.378970</td>\n",
       "      <td>00:00:11.181126</td>\n",
       "      <td>11.181126</td>\n",
       "    </tr>\n",
       "    <tr>\n",
       "      <th>4</th>\n",
       "      <td>5</td>\n",
       "      <td>2020-07-01 22:19:12.418819</td>\n",
       "      <td>2020-07-01 22:19:12.418819</td>\n",
       "      <td>00:00:06.039849</td>\n",
       "      <td>6.039849</td>\n",
       "    </tr>\n",
       "    <tr>\n",
       "      <th>5</th>\n",
       "      <td>6</td>\n",
       "      <td>2020-07-01 22:19:23.520136</td>\n",
       "      <td>2020-07-01 22:19:23.520136</td>\n",
       "      <td>00:00:11.101317</td>\n",
       "      <td>11.101317</td>\n",
       "    </tr>\n",
       "    <tr>\n",
       "      <th>...</th>\n",
       "      <td>...</td>\n",
       "      <td>...</td>\n",
       "      <td>...</td>\n",
       "      <td>...</td>\n",
       "      <td>...</td>\n",
       "    </tr>\n",
       "    <tr>\n",
       "      <th>1854</th>\n",
       "      <td>1855</td>\n",
       "      <td>2020-07-02 02:43:49.553087</td>\n",
       "      <td>2020-07-02 02:43:49.553087</td>\n",
       "      <td>00:00:06.050874</td>\n",
       "      <td>6.050874</td>\n",
       "    </tr>\n",
       "    <tr>\n",
       "      <th>1855</th>\n",
       "      <td>1856</td>\n",
       "      <td>2020-07-02 02:44:00.693588</td>\n",
       "      <td>2020-07-02 02:44:00.693588</td>\n",
       "      <td>00:00:11.140501</td>\n",
       "      <td>11.140501</td>\n",
       "    </tr>\n",
       "    <tr>\n",
       "      <th>1856</th>\n",
       "      <td>1857</td>\n",
       "      <td>2020-07-02 02:44:06.734364</td>\n",
       "      <td>2020-07-02 02:44:06.734364</td>\n",
       "      <td>00:00:06.040776</td>\n",
       "      <td>6.040776</td>\n",
       "    </tr>\n",
       "    <tr>\n",
       "      <th>1857</th>\n",
       "      <td>1858</td>\n",
       "      <td>2020-07-02 02:44:17.871546</td>\n",
       "      <td>2020-07-02 02:44:17.871546</td>\n",
       "      <td>00:00:11.137182</td>\n",
       "      <td>11.137182</td>\n",
       "    </tr>\n",
       "    <tr>\n",
       "      <th>1858</th>\n",
       "      <td>1859</td>\n",
       "      <td>2020-07-02 02:44:23.952632</td>\n",
       "      <td>2020-07-02 02:44:23.952632</td>\n",
       "      <td>00:00:06.081086</td>\n",
       "      <td>6.081086</td>\n",
       "    </tr>\n",
       "  </tbody>\n",
       "</table>\n",
       "<p>1858 rows × 5 columns</p>\n",
       "</div>"
      ],
      "text/plain": [
       "      count                     timings                   Datetime  \\\n",
       "1         2  2020-07-01 22:18:49.157322 2020-07-01 22:18:49.157322   \n",
       "2         3  2020-07-01 22:18:55.197844 2020-07-01 22:18:55.197844   \n",
       "3         4  2020-07-01 22:19:06.378970 2020-07-01 22:19:06.378970   \n",
       "4         5  2020-07-01 22:19:12.418819 2020-07-01 22:19:12.418819   \n",
       "5         6  2020-07-01 22:19:23.520136 2020-07-01 22:19:23.520136   \n",
       "...     ...                         ...                        ...   \n",
       "1854   1855  2020-07-02 02:43:49.553087 2020-07-02 02:43:49.553087   \n",
       "1855   1856  2020-07-02 02:44:00.693588 2020-07-02 02:44:00.693588   \n",
       "1856   1857  2020-07-02 02:44:06.734364 2020-07-02 02:44:06.734364   \n",
       "1857   1858  2020-07-02 02:44:17.871546 2020-07-02 02:44:17.871546   \n",
       "1858   1859  2020-07-02 02:44:23.952632 2020-07-02 02:44:23.952632   \n",
       "\n",
       "              deltaT  dT(seconds)  \n",
       "1                NaT          NaN  \n",
       "2    00:00:06.040522     6.040522  \n",
       "3    00:00:11.181126    11.181126  \n",
       "4    00:00:06.039849     6.039849  \n",
       "5    00:00:11.101317    11.101317  \n",
       "...              ...          ...  \n",
       "1854 00:00:06.050874     6.050874  \n",
       "1855 00:00:11.140501    11.140501  \n",
       "1856 00:00:06.040776     6.040776  \n",
       "1857 00:00:11.137182    11.137182  \n",
       "1858 00:00:06.081086     6.081086  \n",
       "\n",
       "[1858 rows x 5 columns]"
      ]
     },
     "execution_count": 81,
     "metadata": {},
     "output_type": "execute_result"
    }
   ],
   "source": [
    "ffx2_cleaned"
   ]
  },
  {
   "cell_type": "markdown",
   "metadata": {},
   "source": [
    "# **Exploratory Data Analysis**"
   ]
  },
  {
   "cell_type": "markdown",
   "metadata": {},
   "source": [
    "Now that we have cleaned our datasets and created the main features of investigation, we move on to our EDA to see what patterns and information we can uncover.\n",
    "\n",
    "Just as we had observed in the data cleaning section, we again immediately see that there seems to be a periodic pattern to the time difference feature. To start investigating this, let's extract some basic information about the time difference feature."
   ]
  },
  {
   "cell_type": "code",
   "execution_count": 84,
   "metadata": {},
   "outputs": [
    {
     "data": {
      "text/html": [
       "<div>\n",
       "<style scoped>\n",
       "    .dataframe tbody tr th:only-of-type {\n",
       "        vertical-align: middle;\n",
       "    }\n",
       "\n",
       "    .dataframe tbody tr th {\n",
       "        vertical-align: top;\n",
       "    }\n",
       "\n",
       "    .dataframe thead th {\n",
       "        text-align: right;\n",
       "    }\n",
       "</style>\n",
       "<table border=\"1\" class=\"dataframe\">\n",
       "  <thead>\n",
       "    <tr style=\"text-align: right;\">\n",
       "      <th></th>\n",
       "      <th>count</th>\n",
       "      <th>timings</th>\n",
       "      <th>Datetime</th>\n",
       "      <th>deltaT</th>\n",
       "      <th>dT(seconds)</th>\n",
       "    </tr>\n",
       "  </thead>\n",
       "  <tbody>\n",
       "    <tr>\n",
       "      <th>0</th>\n",
       "      <td>1</td>\n",
       "      <td>20-06-28 16:40:11.538763</td>\n",
       "      <td>2028-06-20 16:40:11.538763</td>\n",
       "      <td>NaT</td>\n",
       "      <td>NaN</td>\n",
       "    </tr>\n",
       "    <tr>\n",
       "      <th>1</th>\n",
       "      <td>2</td>\n",
       "      <td>20-06-28 16:40:17.543537</td>\n",
       "      <td>2028-06-20 16:40:17.543537</td>\n",
       "      <td>00:00:06.004774</td>\n",
       "      <td>6.004774</td>\n",
       "    </tr>\n",
       "    <tr>\n",
       "      <th>2</th>\n",
       "      <td>3</td>\n",
       "      <td>20-06-28 16:40:28.666688</td>\n",
       "      <td>2028-06-20 16:40:28.666688</td>\n",
       "      <td>00:00:11.123151</td>\n",
       "      <td>11.123151</td>\n",
       "    </tr>\n",
       "    <tr>\n",
       "      <th>3</th>\n",
       "      <td>4</td>\n",
       "      <td>20-06-28 16:40:34.640885</td>\n",
       "      <td>2028-06-20 16:40:34.640885</td>\n",
       "      <td>00:00:05.974197</td>\n",
       "      <td>5.974197</td>\n",
       "    </tr>\n",
       "    <tr>\n",
       "      <th>4</th>\n",
       "      <td>5</td>\n",
       "      <td>20-06-28 16:40:45.889237</td>\n",
       "      <td>2028-06-20 16:40:45.889237</td>\n",
       "      <td>00:00:11.248352</td>\n",
       "      <td>11.248352</td>\n",
       "    </tr>\n",
       "    <tr>\n",
       "      <th>5</th>\n",
       "      <td>6</td>\n",
       "      <td>20-06-28 16:40:51.855336</td>\n",
       "      <td>2028-06-20 16:40:51.855336</td>\n",
       "      <td>00:00:05.966099</td>\n",
       "      <td>5.966099</td>\n",
       "    </tr>\n",
       "    <tr>\n",
       "      <th>6</th>\n",
       "      <td>7</td>\n",
       "      <td>20-06-28 16:41:03.071391</td>\n",
       "      <td>2028-06-20 16:41:03.071391</td>\n",
       "      <td>00:00:11.216055</td>\n",
       "      <td>11.216055</td>\n",
       "    </tr>\n",
       "    <tr>\n",
       "      <th>7</th>\n",
       "      <td>8</td>\n",
       "      <td>20-06-28 16:41:09.055359</td>\n",
       "      <td>2028-06-20 16:41:09.055359</td>\n",
       "      <td>00:00:05.983968</td>\n",
       "      <td>5.983968</td>\n",
       "    </tr>\n",
       "    <tr>\n",
       "      <th>8</th>\n",
       "      <td>9</td>\n",
       "      <td>20-06-28 16:41:20.245578</td>\n",
       "      <td>2028-06-20 16:41:20.245578</td>\n",
       "      <td>00:00:11.190219</td>\n",
       "      <td>11.190219</td>\n",
       "    </tr>\n",
       "    <tr>\n",
       "      <th>9</th>\n",
       "      <td>10</td>\n",
       "      <td>20-06-28 16:41:26.305111</td>\n",
       "      <td>2028-06-20 16:41:26.305111</td>\n",
       "      <td>00:00:06.059533</td>\n",
       "      <td>6.059533</td>\n",
       "    </tr>\n",
       "  </tbody>\n",
       "</table>\n",
       "</div>"
      ],
      "text/plain": [
       "   count                   timings                   Datetime          deltaT  \\\n",
       "0      1  20-06-28 16:40:11.538763 2028-06-20 16:40:11.538763             NaT   \n",
       "1      2  20-06-28 16:40:17.543537 2028-06-20 16:40:17.543537 00:00:06.004774   \n",
       "2      3  20-06-28 16:40:28.666688 2028-06-20 16:40:28.666688 00:00:11.123151   \n",
       "3      4  20-06-28 16:40:34.640885 2028-06-20 16:40:34.640885 00:00:05.974197   \n",
       "4      5  20-06-28 16:40:45.889237 2028-06-20 16:40:45.889237 00:00:11.248352   \n",
       "5      6  20-06-28 16:40:51.855336 2028-06-20 16:40:51.855336 00:00:05.966099   \n",
       "6      7  20-06-28 16:41:03.071391 2028-06-20 16:41:03.071391 00:00:11.216055   \n",
       "7      8  20-06-28 16:41:09.055359 2028-06-20 16:41:09.055359 00:00:05.983968   \n",
       "8      9  20-06-28 16:41:20.245578 2028-06-20 16:41:20.245578 00:00:11.190219   \n",
       "9     10  20-06-28 16:41:26.305111 2028-06-20 16:41:26.305111 00:00:06.059533   \n",
       "\n",
       "   dT(seconds)  \n",
       "0          NaN  \n",
       "1     6.004774  \n",
       "2    11.123151  \n",
       "3     5.974197  \n",
       "4    11.248352  \n",
       "5     5.966099  \n",
       "6    11.216055  \n",
       "7     5.983968  \n",
       "8    11.190219  \n",
       "9     6.059533  "
      ]
     },
     "execution_count": 84,
     "metadata": {},
     "output_type": "execute_result"
    }
   ],
   "source": [
    "ffx_cleaned.head(10)"
   ]
  },
  {
   "cell_type": "code",
   "execution_count": 85,
   "metadata": {},
   "outputs": [
    {
     "data": {
      "text/html": [
       "<div>\n",
       "<style scoped>\n",
       "    .dataframe tbody tr th:only-of-type {\n",
       "        vertical-align: middle;\n",
       "    }\n",
       "\n",
       "    .dataframe tbody tr th {\n",
       "        vertical-align: top;\n",
       "    }\n",
       "\n",
       "    .dataframe thead th {\n",
       "        text-align: right;\n",
       "    }\n",
       "</style>\n",
       "<table border=\"1\" class=\"dataframe\">\n",
       "  <thead>\n",
       "    <tr style=\"text-align: right;\">\n",
       "      <th></th>\n",
       "      <th>count</th>\n",
       "      <th>timings</th>\n",
       "      <th>Datetime</th>\n",
       "      <th>deltaT</th>\n",
       "      <th>dT(seconds)</th>\n",
       "    </tr>\n",
       "  </thead>\n",
       "  <tbody>\n",
       "    <tr>\n",
       "      <th>1</th>\n",
       "      <td>2</td>\n",
       "      <td>2020-07-01 22:18:49.157322</td>\n",
       "      <td>2020-07-01 22:18:49.157322</td>\n",
       "      <td>NaT</td>\n",
       "      <td>NaN</td>\n",
       "    </tr>\n",
       "    <tr>\n",
       "      <th>2</th>\n",
       "      <td>3</td>\n",
       "      <td>2020-07-01 22:18:55.197844</td>\n",
       "      <td>2020-07-01 22:18:55.197844</td>\n",
       "      <td>00:00:06.040522</td>\n",
       "      <td>6.040522</td>\n",
       "    </tr>\n",
       "    <tr>\n",
       "      <th>3</th>\n",
       "      <td>4</td>\n",
       "      <td>2020-07-01 22:19:06.378970</td>\n",
       "      <td>2020-07-01 22:19:06.378970</td>\n",
       "      <td>00:00:11.181126</td>\n",
       "      <td>11.181126</td>\n",
       "    </tr>\n",
       "    <tr>\n",
       "      <th>4</th>\n",
       "      <td>5</td>\n",
       "      <td>2020-07-01 22:19:12.418819</td>\n",
       "      <td>2020-07-01 22:19:12.418819</td>\n",
       "      <td>00:00:06.039849</td>\n",
       "      <td>6.039849</td>\n",
       "    </tr>\n",
       "    <tr>\n",
       "      <th>5</th>\n",
       "      <td>6</td>\n",
       "      <td>2020-07-01 22:19:23.520136</td>\n",
       "      <td>2020-07-01 22:19:23.520136</td>\n",
       "      <td>00:00:11.101317</td>\n",
       "      <td>11.101317</td>\n",
       "    </tr>\n",
       "    <tr>\n",
       "      <th>6</th>\n",
       "      <td>7</td>\n",
       "      <td>2020-07-01 22:19:29.611230</td>\n",
       "      <td>2020-07-01 22:19:29.611230</td>\n",
       "      <td>00:00:06.091094</td>\n",
       "      <td>6.091094</td>\n",
       "    </tr>\n",
       "    <tr>\n",
       "      <th>7</th>\n",
       "      <td>8</td>\n",
       "      <td>2020-07-01 22:19:40.801496</td>\n",
       "      <td>2020-07-01 22:19:40.801496</td>\n",
       "      <td>00:00:11.190266</td>\n",
       "      <td>11.190266</td>\n",
       "    </tr>\n",
       "    <tr>\n",
       "      <th>8</th>\n",
       "      <td>9</td>\n",
       "      <td>2020-07-01 22:19:46.788705</td>\n",
       "      <td>2020-07-01 22:19:46.788705</td>\n",
       "      <td>00:00:05.987209</td>\n",
       "      <td>5.987209</td>\n",
       "    </tr>\n",
       "    <tr>\n",
       "      <th>9</th>\n",
       "      <td>10</td>\n",
       "      <td>2020-07-01 22:19:57.940598</td>\n",
       "      <td>2020-07-01 22:19:57.940598</td>\n",
       "      <td>00:00:11.151893</td>\n",
       "      <td>11.151893</td>\n",
       "    </tr>\n",
       "    <tr>\n",
       "      <th>10</th>\n",
       "      <td>11</td>\n",
       "      <td>2020-07-01 22:20:03.941334</td>\n",
       "      <td>2020-07-01 22:20:03.941334</td>\n",
       "      <td>00:00:06.000736</td>\n",
       "      <td>6.000736</td>\n",
       "    </tr>\n",
       "  </tbody>\n",
       "</table>\n",
       "</div>"
      ],
      "text/plain": [
       "    count                     timings                   Datetime  \\\n",
       "1       2  2020-07-01 22:18:49.157322 2020-07-01 22:18:49.157322   \n",
       "2       3  2020-07-01 22:18:55.197844 2020-07-01 22:18:55.197844   \n",
       "3       4  2020-07-01 22:19:06.378970 2020-07-01 22:19:06.378970   \n",
       "4       5  2020-07-01 22:19:12.418819 2020-07-01 22:19:12.418819   \n",
       "5       6  2020-07-01 22:19:23.520136 2020-07-01 22:19:23.520136   \n",
       "6       7  2020-07-01 22:19:29.611230 2020-07-01 22:19:29.611230   \n",
       "7       8  2020-07-01 22:19:40.801496 2020-07-01 22:19:40.801496   \n",
       "8       9  2020-07-01 22:19:46.788705 2020-07-01 22:19:46.788705   \n",
       "9      10  2020-07-01 22:19:57.940598 2020-07-01 22:19:57.940598   \n",
       "10     11  2020-07-01 22:20:03.941334 2020-07-01 22:20:03.941334   \n",
       "\n",
       "            deltaT  dT(seconds)  \n",
       "1              NaT          NaN  \n",
       "2  00:00:06.040522     6.040522  \n",
       "3  00:00:11.181126    11.181126  \n",
       "4  00:00:06.039849     6.039849  \n",
       "5  00:00:11.101317    11.101317  \n",
       "6  00:00:06.091094     6.091094  \n",
       "7  00:00:11.190266    11.190266  \n",
       "8  00:00:05.987209     5.987209  \n",
       "9  00:00:11.151893    11.151893  \n",
       "10 00:00:06.000736     6.000736  "
      ]
     },
     "execution_count": 85,
     "metadata": {},
     "output_type": "execute_result"
    }
   ],
   "source": [
    "ffx2_cleaned.head(10)"
   ]
  },
  {
   "cell_type": "code",
   "execution_count": 88,
   "metadata": {},
   "outputs": [
    {
     "data": {
      "text/html": [
       "<div>\n",
       "<style scoped>\n",
       "    .dataframe tbody tr th:only-of-type {\n",
       "        vertical-align: middle;\n",
       "    }\n",
       "\n",
       "    .dataframe tbody tr th {\n",
       "        vertical-align: top;\n",
       "    }\n",
       "\n",
       "    .dataframe thead th {\n",
       "        text-align: right;\n",
       "    }\n",
       "</style>\n",
       "<table border=\"1\" class=\"dataframe\">\n",
       "  <thead>\n",
       "    <tr style=\"text-align: right;\">\n",
       "      <th></th>\n",
       "      <th>count</th>\n",
       "      <th>deltaT</th>\n",
       "      <th>dT(seconds)</th>\n",
       "    </tr>\n",
       "  </thead>\n",
       "  <tbody>\n",
       "    <tr>\n",
       "      <th>count</th>\n",
       "      <td>1118.000000</td>\n",
       "      <td>1117</td>\n",
       "      <td>1117.000000</td>\n",
       "    </tr>\n",
       "    <tr>\n",
       "      <th>mean</th>\n",
       "      <td>559.500000</td>\n",
       "      <td>0 days 00:00:08.591925</td>\n",
       "      <td>8.591926</td>\n",
       "    </tr>\n",
       "    <tr>\n",
       "      <th>std</th>\n",
       "      <td>322.883106</td>\n",
       "      <td>0 days 00:00:02.587277</td>\n",
       "      <td>2.587278</td>\n",
       "    </tr>\n",
       "    <tr>\n",
       "      <th>min</th>\n",
       "      <td>1.000000</td>\n",
       "      <td>0 days 00:00:05.909511</td>\n",
       "      <td>5.909511</td>\n",
       "    </tr>\n",
       "    <tr>\n",
       "      <th>25%</th>\n",
       "      <td>280.250000</td>\n",
       "      <td>0 days 00:00:06.004127</td>\n",
       "      <td>6.004127</td>\n",
       "    </tr>\n",
       "    <tr>\n",
       "      <th>50%</th>\n",
       "      <td>559.500000</td>\n",
       "      <td>0 days 00:00:06.112921</td>\n",
       "      <td>6.112921</td>\n",
       "    </tr>\n",
       "    <tr>\n",
       "      <th>75%</th>\n",
       "      <td>838.750000</td>\n",
       "      <td>0 days 00:00:11.173472</td>\n",
       "      <td>11.173472</td>\n",
       "    </tr>\n",
       "    <tr>\n",
       "      <th>max</th>\n",
       "      <td>1118.000000</td>\n",
       "      <td>0 days 00:00:11.320335</td>\n",
       "      <td>11.320335</td>\n",
       "    </tr>\n",
       "  </tbody>\n",
       "</table>\n",
       "</div>"
      ],
      "text/plain": [
       "             count                  deltaT  dT(seconds)\n",
       "count  1118.000000                    1117  1117.000000\n",
       "mean    559.500000  0 days 00:00:08.591925     8.591926\n",
       "std     322.883106  0 days 00:00:02.587277     2.587278\n",
       "min       1.000000  0 days 00:00:05.909511     5.909511\n",
       "25%     280.250000  0 days 00:00:06.004127     6.004127\n",
       "50%     559.500000  0 days 00:00:06.112921     6.112921\n",
       "75%     838.750000  0 days 00:00:11.173472    11.173472\n",
       "max    1118.000000  0 days 00:00:11.320335    11.320335"
      ]
     },
     "execution_count": 88,
     "metadata": {},
     "output_type": "execute_result"
    }
   ],
   "source": [
    "ffx_cleaned.describe()"
   ]
  },
  {
   "cell_type": "code",
   "execution_count": null,
   "metadata": {},
   "outputs": [],
   "source": []
  },
  {
   "cell_type": "code",
   "execution_count": null,
   "metadata": {},
   "outputs": [],
   "source": []
  },
  {
   "cell_type": "code",
   "execution_count": null,
   "metadata": {},
   "outputs": [],
   "source": []
  },
  {
   "cell_type": "code",
   "execution_count": 89,
   "metadata": {},
   "outputs": [
    {
     "data": {
      "text/html": [
       "<div>\n",
       "<style scoped>\n",
       "    .dataframe tbody tr th:only-of-type {\n",
       "        vertical-align: middle;\n",
       "    }\n",
       "\n",
       "    .dataframe tbody tr th {\n",
       "        vertical-align: top;\n",
       "    }\n",
       "\n",
       "    .dataframe thead th {\n",
       "        text-align: right;\n",
       "    }\n",
       "</style>\n",
       "<table border=\"1\" class=\"dataframe\">\n",
       "  <thead>\n",
       "    <tr style=\"text-align: right;\">\n",
       "      <th></th>\n",
       "      <th>count</th>\n",
       "      <th>deltaT</th>\n",
       "      <th>dT(seconds)</th>\n",
       "    </tr>\n",
       "  </thead>\n",
       "  <tbody>\n",
       "    <tr>\n",
       "      <th>count</th>\n",
       "      <td>1858.000000</td>\n",
       "      <td>1857</td>\n",
       "      <td>1857.000000</td>\n",
       "    </tr>\n",
       "    <tr>\n",
       "      <th>mean</th>\n",
       "      <td>930.500000</td>\n",
       "      <td>0 days 00:00:08.580934</td>\n",
       "      <td>8.580934</td>\n",
       "    </tr>\n",
       "    <tr>\n",
       "      <th>std</th>\n",
       "      <td>536.502718</td>\n",
       "      <td>0 days 00:00:02.589416</td>\n",
       "      <td>2.589416</td>\n",
       "    </tr>\n",
       "    <tr>\n",
       "      <th>min</th>\n",
       "      <td>2.000000</td>\n",
       "      <td>0 days 00:00:00.564302</td>\n",
       "      <td>0.564302</td>\n",
       "    </tr>\n",
       "    <tr>\n",
       "      <th>25%</th>\n",
       "      <td>466.250000</td>\n",
       "      <td>0 days 00:00:06.006229</td>\n",
       "      <td>6.006229</td>\n",
       "    </tr>\n",
       "    <tr>\n",
       "      <th>50%</th>\n",
       "      <td>930.500000</td>\n",
       "      <td>0 days 00:00:06.110464</td>\n",
       "      <td>6.110464</td>\n",
       "    </tr>\n",
       "    <tr>\n",
       "      <th>75%</th>\n",
       "      <td>1394.750000</td>\n",
       "      <td>0 days 00:00:11.169323</td>\n",
       "      <td>11.169323</td>\n",
       "    </tr>\n",
       "    <tr>\n",
       "      <th>max</th>\n",
       "      <td>1859.000000</td>\n",
       "      <td>0 days 00:00:11.352328</td>\n",
       "      <td>11.352328</td>\n",
       "    </tr>\n",
       "  </tbody>\n",
       "</table>\n",
       "</div>"
      ],
      "text/plain": [
       "             count                  deltaT  dT(seconds)\n",
       "count  1858.000000                    1857  1857.000000\n",
       "mean    930.500000  0 days 00:00:08.580934     8.580934\n",
       "std     536.502718  0 days 00:00:02.589416     2.589416\n",
       "min       2.000000  0 days 00:00:00.564302     0.564302\n",
       "25%     466.250000  0 days 00:00:06.006229     6.006229\n",
       "50%     930.500000  0 days 00:00:06.110464     6.110464\n",
       "75%    1394.750000  0 days 00:00:11.169323    11.169323\n",
       "max    1859.000000  0 days 00:00:11.352328    11.352328"
      ]
     },
     "execution_count": 89,
     "metadata": {},
     "output_type": "execute_result"
    }
   ],
   "source": [
    "ffx2_cleaned.describe()"
   ]
  },
  {
   "cell_type": "markdown",
   "metadata": {},
   "source": [
    "So apparantly, there are two datapoints in the second dataset that are well below the lower mode?!?!?"
   ]
  },
  {
   "cell_type": "code",
   "execution_count": null,
   "metadata": {},
   "outputs": [],
   "source": [
    "fig3, axes3 = plt.subplots(nrows=1, ncols=2, figsize=(15,3))\n",
    "# axes3[0].set_ylim([0,0.00001])\n",
    "# axes3[1].set_ylim([0,0.00001])\n",
    "\n",
    "sns.rugplot(ffx_cleaned[\"dT(seconds)\"], ax=axes3[0], height = 0.5)\n",
    "sns.rugplot(ffx2_cleaned[\"dT(seconds)\"], ax=axes3[1], height = 0.5)\n",
    "\n",
    "# ffx_cleaned[\"dT(seconds)\"].iplot(kind=ru)"
   ]
  },
  {
   "cell_type": "markdown",
   "metadata": {},
   "source": [
    "We see there are some clear outliers from the modes in the second dataset. I guess we'll try removing these to clean the data more...\n",
    "\n",
    "REASONING FOR REMOVING OUTLIERS (can I attribute them to a separate process?):\n",
    "    -maybe the webcam messed up? (not likely...)\n",
    "    -maybe there was fog at the same time as the lightning? (is likely, but would have seen more outliers then...)\n",
    "    -maybe a ps4 notification popped up in the top left corner of the screen (update)? (can I check this somehow?)\n",
    "    -looking at the first data set, we know that the \"good data\" should be clustered around ~6s and ~11s\n",
    "    -hence, these outlier data points are truly bad data, so we are okay to discard them...?"
   ]
  },
  {
   "cell_type": "code",
   "execution_count": null,
   "metadata": {},
   "outputs": [],
   "source": [
    "boom = ffx2_cleaned[((ffx2_cleaned[\"dT(seconds)\"]>6.2)  & (ffx2_cleaned[\"dT(seconds)\"]<11)) | (ffx2_cleaned[\"dT(seconds)\"] < 4)]\n",
    "boom\n",
    "# boom.sort_values(\"count\", axis=1)"
   ]
  },
  {
   "cell_type": "code",
   "execution_count": null,
   "metadata": {},
   "outputs": [],
   "source": [
    "ffx2_cleaned.shape\n",
    "ffx2_cleaned.drop(labels=[902,979,903,978,901], axis=0, inplace=True)\n",
    "ffx2_cleaned.shape"
   ]
  },
  {
   "cell_type": "code",
   "execution_count": null,
   "metadata": {},
   "outputs": [],
   "source": [
    "ffx2_cleaned"
   ]
  },
  {
   "cell_type": "code",
   "execution_count": null,
   "metadata": {},
   "outputs": [],
   "source": [
    "fig3, axes3 = plt.subplots(nrows=1, ncols=2, figsize=(15,3))\n",
    "\n",
    "sns.rugplot(ffx_cleaned[\"dT(seconds)\"], ax=axes3[0], height = 0.5)\n",
    "sns.rugplot(ffx2_cleaned[\"dT(seconds)\"], ax=axes3[1], height = 0.5)"
   ]
  },
  {
   "cell_type": "code",
   "execution_count": null,
   "metadata": {},
   "outputs": [],
   "source": []
  },
  {
   "cell_type": "markdown",
   "metadata": {},
   "source": [
    "Here's a really basic scatter plot"
   ]
  },
  {
   "cell_type": "code",
   "execution_count": null,
   "metadata": {},
   "outputs": [],
   "source": [
    "ffx_cleaned.plot.scatter(x=\"count\", y=\"dT(seconds)\", c=\"red\")\n",
    "ffx2_cleaned.plot.scatter(x=\"count\", y=\"dT(seconds)\", c=\"blue\")"
   ]
  },
  {
   "cell_type": "markdown",
   "metadata": {},
   "source": [
    "We can isolate the higher and lower values in their own scatter plots:"
   ]
  },
  {
   "cell_type": "code",
   "execution_count": null,
   "metadata": {},
   "outputs": [],
   "source": [
    "fig4, axes4 = plt.subplots(nrows=2, ncols=2, figsize=(12,12))\n",
    "\n",
    "condition1S = ffx_cleaned['dT(seconds)']<8\n",
    "condition1L = ffx_cleaned['dT(seconds)']>8\n",
    "condition2S = ffx2_cleaned['dT(seconds)']<8\n",
    "condition2L = ffx2_cleaned['dT(seconds)']>8\n",
    "\n",
    "ffx_cleaned[condition1S].plot.scatter(x=\"count\" , y=\"dT(seconds)\" , c=[(1,0,0,0.3)], ax=axes4[0,0])\n",
    "ffx_cleaned[condition1L].plot.scatter(x=\"count\" , y=\"dT(seconds)\" , c=[(1,0,0,0.9)], ax=axes4[0,1])\n",
    "ffx2_cleaned[condition2S].plot.scatter(x=\"count\" , y=\"dT(seconds)\" , c=[(0,0,1,0.3)], ax=axes4[1,0])\n",
    "ffx2_cleaned[condition2L].plot.scatter(x=\"count\" , y=\"dT(seconds)\" , c=[(0,0,1,0.9)], ax=axes4[1,1])\n"
   ]
  },
  {
   "cell_type": "markdown",
   "metadata": {},
   "source": [
    "We'll start with looking at a basic statistical histogram"
   ]
  },
  {
   "cell_type": "code",
   "execution_count": null,
   "metadata": {},
   "outputs": [],
   "source": [
    "fig, axes = plt.subplots(nrows=1, ncols=2)\n",
    "\n",
    "sns.distplot(ffx_cleaned[\"dT(seconds)\"], ax=axes[0])\n",
    "sns.distplot(ffx2_cleaned[\"dT(seconds)\"], ax=axes[1])\n",
    "\n",
    "axes[0].set_title(\"first dataset\")\n",
    "axes[1].set_title(\"second dataset\")"
   ]
  },
  {
   "cell_type": "markdown",
   "metadata": {},
   "source": [
    "We can see some very obvious patterns here, namely that the data exhibits a bi-modal distribution! Let's isolate the data around each mode.\n",
    "\n",
    "We start by extracting the modal data into a seperate dataframe, to make it easier to work with."
   ]
  },
  {
   "cell_type": "code",
   "execution_count": null,
   "metadata": {},
   "outputs": [],
   "source": [
    "data1 = ffx_cleaned[[\"count\", \"dT(seconds)\"]]\n",
    "data2 = ffx2_cleaned[[\"count\", \"dT(seconds)\"]]\n",
    "\n",
    "df1_styler = data1.head().style.set_table_attributes(\"style='display:inline'\").set_caption('Dataset 1')\n",
    "df2_styler = data2.head().style.set_table_attributes(\"style='display:inline'\").set_caption('Dataset 2')\n",
    "\n",
    "display_html(df1_styler._repr_html_()+\" .....  \"+df2_styler._repr_html_(), raw=True)"
   ]
  },
  {
   "cell_type": "code",
   "execution_count": null,
   "metadata": {},
   "outputs": [],
   "source": [
    "data1_small_mode = data1[data1[\"dT(seconds)\"]<8]\n",
    "data1_large_mode = data1[data1[\"dT(seconds)\"]>8]\n",
    "\n",
    "data2_small_mode = data2[data2[\"dT(seconds)\"]<8]\n",
    "data2_large_mode = data2[data2[\"dT(seconds)\"]>8]\n",
    "\n",
    "data1_small_styler = data1_small_mode.head().style.set_table_attributes(\"style='display:inline'\").set_caption('Data1 small')\n",
    "data1_large_styler = data1_large_mode.head().style.set_table_attributes(\"style='display:inline'\").set_caption('Data1 large')\n",
    "data2_small_styler = data2_small_mode.head().style.set_table_attributes(\"style='display:inline'\").set_caption('Data2 small')\n",
    "data2_large_styler = data2_large_mode.head().style.set_table_attributes(\"style='display:inline'\").set_caption('Data2 large')\n",
    "\n",
    "display_html(data1_small_styler._repr_html_()+\" \"+data1_large_styler._repr_html_()+\" \"+data2_small_styler._repr_html_()+\" \"+data2_large_styler._repr_html_(), raw=True)"
   ]
  },
  {
   "cell_type": "markdown",
   "metadata": {},
   "source": [
    "We can create box-and-whisker plots to see the quartiles???"
   ]
  },
  {
   "cell_type": "code",
   "execution_count": null,
   "metadata": {},
   "outputs": [],
   "source": []
  },
  {
   "cell_type": "markdown",
   "metadata": {},
   "source": [
    "Here are some histograms of the individual modes for each data set"
   ]
  },
  {
   "cell_type": "code",
   "execution_count": null,
   "metadata": {},
   "outputs": [],
   "source": [
    "fig2, axes2 = plt.subplots(nrows=2, ncols=2, figsize=(12,12))\n",
    "# plt.tight_layout()\n",
    "# axes2\n",
    "\n",
    "sns.distplot(data1_small_mode[\"dT(seconds)\"], ax=axes2[0,0])\n",
    "sns.distplot(data1_large_mode[\"dT(seconds)\"], ax=axes2[0,1])\n",
    "sns.distplot(data2_small_mode[\"dT(seconds)\"], ax=axes2[1,0])\n",
    "sns.distplot(data2_large_mode[\"dT(seconds)\"], ax=axes2[1,1])\n",
    "\n",
    "# Need to specify domain for data2 for some reason...\n",
    "axes2[1,0].set_xlim([5.85,6.15])\n",
    "\n",
    "\n",
    "axes2[0,0].set_title(\"first dataset (small mode)\")\n",
    "axes2[0,1].set_title(\"first dataset (large mode)\")\n",
    "axes2[1,0].set_title(\"second dataset (small mode)\")\n",
    "axes2[1,1].set_title(\"second dataset (large mode)\")"
   ]
  },
  {
   "cell_type": "markdown",
   "metadata": {},
   "source": [
    "We can see a more normal distribution! So obviously, let's get the mean and standard deviation!"
   ]
  },
  {
   "cell_type": "code",
   "execution_count": null,
   "metadata": {},
   "outputs": [],
   "source": [
    "mean1_small = np.mean(data1_small_mode[\"dT(seconds)\"])\n",
    "std1_small = np.std(data1_small_mode[\"dT(seconds)\"])\n",
    "\n",
    "mean1_large = np.mean(data1_large_mode[\"dT(seconds)\"])\n",
    "std1_large = np.std(data1_large_mode[\"dT(seconds)\"])\n",
    "\n",
    "mean2_small = np.mean(data2_small_mode[\"dT(seconds)\"])\n",
    "std2_small = np.std(data2_small_mode[\"dT(seconds)\"])\n",
    "\n",
    "mean2_large = np.mean(data2_large_mode[\"dT(seconds)\"])\n",
    "std2_large = np.std(data2_large_mode[\"dT(seconds)\"])\n",
    "\n",
    "stats = {'small1':(mean1_small,std1_small),\n",
    "         'large1':(mean1_large,std1_large),\n",
    "         'small2':(mean2_small,std2_small),\n",
    "         'large2':(mean2_large,std2_large)}\n",
    "\n",
    "print(\"(mean, std):\")\n",
    "stats"
   ]
  },
  {
   "cell_type": "markdown",
   "metadata": {},
   "source": [
    "We can see that the standard deviations are VERY SMALL, meaning that the time differences are very closely centered about the mean.\n",
    "\n",
    "We can compute the coefficient of variance: CoV = std/mean"
   ]
  },
  {
   "cell_type": "code",
   "execution_count": null,
   "metadata": {},
   "outputs": [],
   "source": [
    "cov1_small = stats['small1'][1]/stats['small1'][0]\n",
    "cov1_large = stats['large1'][1]/stats['large1'][0]\n",
    "cov2_small = stats['small2'][1]/stats['small2'][0]\n",
    "cov2_large = stats['large2'][1]/stats['large2'][0]\n",
    "\n",
    "cov1_small\n",
    "cov1_large\n",
    "cov2_small\n",
    "cov2_large"
   ]
  },
  {
   "cell_type": "markdown",
   "metadata": {},
   "source": [
    "Indeed, all our distributions have extremely low variance in general."
   ]
  },
  {
   "cell_type": "markdown",
   "metadata": {},
   "source": [
    "**Next, we see there may be a pattern in the data - the time differences seem to be alternating. Let's investigate and prove!**"
   ]
  },
  {
   "cell_type": "code",
   "execution_count": null,
   "metadata": {},
   "outputs": [],
   "source": [
    "ffx_cleaned.head()\n",
    "ffx2_cleaned.head()"
   ]
  },
  {
   "cell_type": "markdown",
   "metadata": {},
   "source": [
    "We determine if data is alternating by checking if all corresponding count's are either even or odd."
   ]
  },
  {
   "cell_type": "code",
   "execution_count": null,
   "metadata": {},
   "outputs": [],
   "source": [
    "# This function is no good anymore!!!\n",
    "# It won't work for the newer data, because I removed the outliers\n",
    "def all_even_or_odd(array):\n",
    "\n",
    "    remainders = list(map(lambda x: x % 2, array))\n",
    "    \n",
    "    if remainders.count(1) == len(array):\n",
    "        return \"The array contains all odd integers\"\n",
    "    elif remainders.count(0) == len(array):\n",
    "        return \"The array contains all even integers\"\n",
    "    else:\n",
    "        return \"The array contains both even and odd integers\""
   ]
  },
  {
   "cell_type": "code",
   "execution_count": null,
   "metadata": {},
   "outputs": [],
   "source": [
    "# Function to determine integer parity\n",
    "\n",
    "def alternating(array):\n",
    "    \"\"\"To check whether all elements are even or odd\"\"\"\n",
    "    \n",
    "    num = 0\n",
    "    for i in range(len(array)):\n",
    "        if (array[i]>8):\n",
    "            num+=1\n",
    "        else:\n",
    "            num-=1\n",
    "        \n",
    "        if (num == 2 or num == -2):\n",
    "            return \"There is some point where the array is not alternating\"\n",
    "    \n",
    "    return \"The array is alternating!\""
   ]
  },
  {
   "cell_type": "code",
   "execution_count": null,
   "metadata": {},
   "outputs": [],
   "source": [
    "ffx_cleaned[\"dT(seconds)\"]\n",
    "alternating(ffx_cleaned[\"dT(seconds)\"].values[1:])"
   ]
  },
  {
   "cell_type": "code",
   "execution_count": null,
   "metadata": {},
   "outputs": [],
   "source": [
    "ffx2_cleaned[\"dT(seconds)\"][900:1000]\n",
    "alternating(ffx2_cleaned[\"dT(seconds)\"].values[1:])"
   ]
  },
  {
   "cell_type": "code",
   "execution_count": null,
   "metadata": {},
   "outputs": [],
   "source": [
    "with pd.option_context('display.max_rows', None, 'display.max_columns', None):  # more options can be specified also\n",
    "    ffx2_cleaned[\"dT(seconds)\"][890:1000]"
   ]
  },
  {
   "cell_type": "markdown",
   "metadata": {},
   "source": [
    "So, we see that counts 978 & 979 were removed (they were outliers), which causes the time differences to go from 5.987260 to 6.048158, without an alternating value in between. The values that were taken out where 8.622982 & 2.472409, respectively. \n",
    "\n",
    "It is reasonable to assume that if these outliers did not exist, this sequence of numbers would still be alternating."
   ]
  },
  {
   "cell_type": "code",
   "execution_count": null,
   "metadata": {},
   "outputs": [],
   "source": []
  },
  {
   "cell_type": "code",
   "execution_count": null,
   "metadata": {},
   "outputs": [],
   "source": []
  }
 ],
 "metadata": {
  "kernelspec": {
   "display_name": "Python 3",
   "language": "python",
   "name": "python3"
  },
  "language_info": {
   "codemirror_mode": {
    "name": "ipython",
    "version": 3
   },
   "file_extension": ".py",
   "mimetype": "text/x-python",
   "name": "python",
   "nbconvert_exporter": "python",
   "pygments_lexer": "ipython3",
   "version": "3.7.6"
  }
 },
 "nbformat": 4,
 "nbformat_minor": 4
}
