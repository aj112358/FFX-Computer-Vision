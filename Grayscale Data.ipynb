{
 "cells": [
  {
   "cell_type": "markdown",
   "metadata": {},
   "source": [
    "# Importing Python Modules & Setting Up Jupyter Notebook Settings"
   ]
  },
  {
   "cell_type": "code",
   "execution_count": 1,
   "metadata": {},
   "outputs": [],
   "source": [
    "# The usual data visualization modules\n",
    "\n",
    "import numpy as np\n",
    "import pandas as pd\n",
    "\n",
    "import matplotlib.pyplot as plt\n",
    "%matplotlib inline\n",
    "\n",
    "import seaborn as sns\n",
    "sns.set(style=\"darkgrid\")\n",
    "\n",
    "# This is to increase the size of all figures\n",
    "plt.rcParams[\"figure.dpi\"] = 150"
   ]
  },
  {
   "cell_type": "code",
   "execution_count": 2,
   "metadata": {},
   "outputs": [],
   "source": [
    "# Other Python modules\n",
    "\n",
    "import datetime as dt\n",
    "import datetime\n",
    "from datetime import datetime\n",
    "\n",
    "from scipy import stats"
   ]
  },
  {
   "cell_type": "code",
   "execution_count": 3,
   "metadata": {},
   "outputs": [],
   "source": [
    "# Used to execute multple lines of code in a single cell\n",
    "\n",
    "from IPython.core.interactiveshell import InteractiveShell\n",
    "InteractiveShell.ast_node_interactivity = \"all\""
   ]
  },
  {
   "cell_type": "code",
   "execution_count": 4,
   "metadata": {},
   "outputs": [],
   "source": [
    "# # Used to display dataframes horizontally (instead of vertically)\n",
    "\n",
    "# from IPython.display import display_html\n",
    "# def display_side_by_side(*args):\n",
    "#     html_str=''\n",
    "#     for df in args:\n",
    "#         html_str+=df.to_html()\n",
    "#     display_html(html_str.replace('table','table style=\"display:inline\"'),raw=True)\n",
    "\n",
    "    \n",
    "## ABOVE CODE IS NOT USED! Instead I used the solution here:\n",
    "# https://stackoverflow.com/a/50899244\n",
    "from IPython.display import display_html"
   ]
  },
  {
   "cell_type": "code",
   "execution_count": 5,
   "metadata": {},
   "outputs": [
    {
     "data": {
      "text/html": [
       "        <script type=\"text/javascript\">\n",
       "        window.PlotlyConfig = {MathJaxConfig: 'local'};\n",
       "        if (window.MathJax) {MathJax.Hub.Config({SVG: {font: \"STIX-Web\"}});}\n",
       "        if (typeof require !== 'undefined') {\n",
       "        require.undef(\"plotly\");\n",
       "        requirejs.config({\n",
       "            paths: {\n",
       "                'plotly': ['https://cdn.plot.ly/plotly-latest.min']\n",
       "            }\n",
       "        });\n",
       "        require(['plotly'], function(Plotly) {\n",
       "            window._Plotly = Plotly;\n",
       "        });\n",
       "        }\n",
       "        </script>\n",
       "        "
      ]
     },
     "metadata": {},
     "output_type": "display_data"
    },
    {
     "data": {
      "text/html": [
       "        <script type=\"text/javascript\">\n",
       "        window.PlotlyConfig = {MathJaxConfig: 'local'};\n",
       "        if (window.MathJax) {MathJax.Hub.Config({SVG: {font: \"STIX-Web\"}});}\n",
       "        if (typeof require !== 'undefined') {\n",
       "        require.undef(\"plotly\");\n",
       "        requirejs.config({\n",
       "            paths: {\n",
       "                'plotly': ['https://cdn.plot.ly/plotly-latest.min']\n",
       "            }\n",
       "        });\n",
       "        require(['plotly'], function(Plotly) {\n",
       "            window._Plotly = Plotly;\n",
       "        });\n",
       "        }\n",
       "        </script>\n",
       "        "
      ]
     },
     "metadata": {},
     "output_type": "display_data"
    }
   ],
   "source": [
    "# Modules to create interactive plots\n",
    "\n",
    "import chart_studio.plotly as py\n",
    "import cufflinks as cf\n",
    "\n",
    "from plotly.offline import download_plotlyjs, init_notebook_mode, plot, iplot\n",
    "\n",
    "init_notebook_mode(connected=True)\n",
    "cf.go_offline()"
   ]
  },
  {
   "cell_type": "markdown",
   "metadata": {},
   "source": [
    "# Importing Raw Data Files"
   ]
  },
  {
   "cell_type": "code",
   "execution_count": 6,
   "metadata": {},
   "outputs": [],
   "source": [
    "# Lightning strike data (in case it is needed)\n",
    "\n",
    "ffx = pd.read_csv(\"ffxLighting_original_june28.txt\")\n",
    "ffx2 = pd.read_csv(\"ffxLighting_new_july1.txt\")"
   ]
  },
  {
   "cell_type": "code",
   "execution_count": 23,
   "metadata": {},
   "outputs": [],
   "source": [
    "# Importing grayscale data file\n",
    "#### NOTE: This data is associated with the SECOND lightning strike data!\n",
    "\n",
    "gray = pd.read_csv(\"gray_file_july1.txt\")"
   ]
  },
  {
   "cell_type": "markdown",
   "metadata": {},
   "source": [
    "**Initial Look At The Data**"
   ]
  },
  {
   "cell_type": "code",
   "execution_count": 24,
   "metadata": {},
   "outputs": [
    {
     "data": {
      "text/html": [
       "<div>\n",
       "<style scoped>\n",
       "    .dataframe tbody tr th:only-of-type {\n",
       "        vertical-align: middle;\n",
       "    }\n",
       "\n",
       "    .dataframe tbody tr th {\n",
       "        vertical-align: top;\n",
       "    }\n",
       "\n",
       "    .dataframe thead th {\n",
       "        text-align: right;\n",
       "    }\n",
       "</style>\n",
       "<table border=\"1\" class=\"dataframe\">\n",
       "  <thead>\n",
       "    <tr style=\"text-align: right;\">\n",
       "      <th></th>\n",
       "      <th>grayscale</th>\n",
       "      <th>timings</th>\n",
       "    </tr>\n",
       "  </thead>\n",
       "  <tbody>\n",
       "    <tr>\n",
       "      <th>0</th>\n",
       "      <td>235.556693</td>\n",
       "      <td>2020-07-01 22:18:21.991453</td>\n",
       "    </tr>\n",
       "    <tr>\n",
       "      <th>1</th>\n",
       "      <td>235.544079</td>\n",
       "      <td>2020-07-01 22:18:22.187393</td>\n",
       "    </tr>\n",
       "    <tr>\n",
       "      <th>2</th>\n",
       "      <td>229.834134</td>\n",
       "      <td>2020-07-01 22:18:22.202118</td>\n",
       "    </tr>\n",
       "    <tr>\n",
       "      <th>3</th>\n",
       "      <td>229.882272</td>\n",
       "      <td>2020-07-01 22:18:22.219390</td>\n",
       "    </tr>\n",
       "    <tr>\n",
       "      <th>4</th>\n",
       "      <td>229.889206</td>\n",
       "      <td>2020-07-01 22:18:22.234170</td>\n",
       "    </tr>\n",
       "    <tr>\n",
       "      <th>...</th>\n",
       "      <td>...</td>\n",
       "      <td>...</td>\n",
       "    </tr>\n",
       "    <tr>\n",
       "      <th>399534</th>\n",
       "      <td>127.633434</td>\n",
       "      <td>2020-07-02 02:44:34.593307</td>\n",
       "    </tr>\n",
       "    <tr>\n",
       "      <th>399535</th>\n",
       "      <td>127.033685</td>\n",
       "      <td>2020-07-02 02:44:34.625037</td>\n",
       "    </tr>\n",
       "    <tr>\n",
       "      <th>399536</th>\n",
       "      <td>126.286911</td>\n",
       "      <td>2020-07-02 02:44:34.661103</td>\n",
       "    </tr>\n",
       "    <tr>\n",
       "      <th>399537</th>\n",
       "      <td>131.466966</td>\n",
       "      <td>2020-07-02 02:44:34.693662</td>\n",
       "    </tr>\n",
       "    <tr>\n",
       "      <th>399538</th>\n",
       "      <td>194.291855</td>\n",
       "      <td>2020-07-02 02:44:34.729201</td>\n",
       "    </tr>\n",
       "  </tbody>\n",
       "</table>\n",
       "<p>399539 rows × 2 columns</p>\n",
       "</div>"
      ],
      "text/plain": [
       "         grayscale                      timings\n",
       "0       235.556693   2020-07-01 22:18:21.991453\n",
       "1       235.544079   2020-07-01 22:18:22.187393\n",
       "2       229.834134   2020-07-01 22:18:22.202118\n",
       "3       229.882272   2020-07-01 22:18:22.219390\n",
       "4       229.889206   2020-07-01 22:18:22.234170\n",
       "...            ...                          ...\n",
       "399534  127.633434   2020-07-02 02:44:34.593307\n",
       "399535  127.033685   2020-07-02 02:44:34.625037\n",
       "399536  126.286911   2020-07-02 02:44:34.661103\n",
       "399537  131.466966   2020-07-02 02:44:34.693662\n",
       "399538  194.291855   2020-07-02 02:44:34.729201\n",
       "\n",
       "[399539 rows x 2 columns]"
      ]
     },
     "execution_count": 24,
     "metadata": {},
     "output_type": "execute_result"
    }
   ],
   "source": [
    "gray"
   ]
  },
  {
   "cell_type": "markdown",
   "metadata": {},
   "source": [
    "**General Info About Raw Data**"
   ]
  },
  {
   "cell_type": "code",
   "execution_count": 25,
   "metadata": {},
   "outputs": [
    {
     "name": "stdout",
     "output_type": "stream",
     "text": [
      "<class 'pandas.core.frame.DataFrame'>\n",
      "RangeIndex: 399539 entries, 0 to 399538\n",
      "Data columns (total 2 columns):\n",
      " #   Column     Non-Null Count   Dtype  \n",
      "---  ------     --------------   -----  \n",
      " 0   grayscale  399539 non-null  float64\n",
      " 1    timings   399539 non-null  object \n",
      "dtypes: float64(1), object(1)\n",
      "memory usage: 6.1+ MB\n"
     ]
    }
   ],
   "source": [
    "gray.info()"
   ]
  },
  {
   "cell_type": "code",
   "execution_count": 26,
   "metadata": {},
   "outputs": [
    {
     "data": {
      "text/html": [
       "<div>\n",
       "<style scoped>\n",
       "    .dataframe tbody tr th:only-of-type {\n",
       "        vertical-align: middle;\n",
       "    }\n",
       "\n",
       "    .dataframe tbody tr th {\n",
       "        vertical-align: top;\n",
       "    }\n",
       "\n",
       "    .dataframe thead th {\n",
       "        text-align: right;\n",
       "    }\n",
       "</style>\n",
       "<table border=\"1\" class=\"dataframe\">\n",
       "  <thead>\n",
       "    <tr style=\"text-align: right;\">\n",
       "      <th></th>\n",
       "      <th>grayscale</th>\n",
       "    </tr>\n",
       "  </thead>\n",
       "  <tbody>\n",
       "    <tr>\n",
       "      <th>count</th>\n",
       "      <td>399539.000000</td>\n",
       "    </tr>\n",
       "    <tr>\n",
       "      <th>mean</th>\n",
       "      <td>137.480845</td>\n",
       "    </tr>\n",
       "    <tr>\n",
       "      <th>std</th>\n",
       "      <td>24.593026</td>\n",
       "    </tr>\n",
       "    <tr>\n",
       "      <th>min</th>\n",
       "      <td>21.499414</td>\n",
       "    </tr>\n",
       "    <tr>\n",
       "      <th>25%</th>\n",
       "      <td>129.019624</td>\n",
       "    </tr>\n",
       "    <tr>\n",
       "      <th>50%</th>\n",
       "      <td>133.231758</td>\n",
       "    </tr>\n",
       "    <tr>\n",
       "      <th>75%</th>\n",
       "      <td>139.700376</td>\n",
       "    </tr>\n",
       "    <tr>\n",
       "      <th>max</th>\n",
       "      <td>253.803958</td>\n",
       "    </tr>\n",
       "  </tbody>\n",
       "</table>\n",
       "</div>"
      ],
      "text/plain": [
       "           grayscale\n",
       "count  399539.000000\n",
       "mean      137.480845\n",
       "std        24.593026\n",
       "min        21.499414\n",
       "25%       129.019624\n",
       "50%       133.231758\n",
       "75%       139.700376\n",
       "max       253.803958"
      ]
     },
     "execution_count": 26,
     "metadata": {},
     "output_type": "execute_result"
    }
   ],
   "source": [
    "gray.describe()"
   ]
  },
  {
   "cell_type": "code",
   "execution_count": 27,
   "metadata": {},
   "outputs": [
    {
     "data": {
      "text/plain": [
       "Index(['grayscale', ' timings'], dtype='object')"
      ]
     },
     "execution_count": 27,
     "metadata": {},
     "output_type": "execute_result"
    }
   ],
   "source": [
    "gray.columns"
   ]
  },
  {
   "cell_type": "markdown",
   "metadata": {},
   "source": [
    "**Looking At Specific Data Entries**"
   ]
  },
  {
   "cell_type": "code",
   "execution_count": 28,
   "metadata": {},
   "outputs": [
    {
     "data": {
      "text/plain": [
       "235.55669270833332"
      ]
     },
     "execution_count": 28,
     "metadata": {},
     "output_type": "execute_result"
    },
    {
     "data": {
      "text/plain": [
       "' 2020-07-01 22:18:21.991453'"
      ]
     },
     "execution_count": 28,
     "metadata": {},
     "output_type": "execute_result"
    }
   ],
   "source": [
    "gray[\"grayscale\"][0]\n",
    "gray[\" timings\"][0]"
   ]
  },
  {
   "cell_type": "code",
   "execution_count": 29,
   "metadata": {},
   "outputs": [
    {
     "data": {
      "text/plain": [
       "numpy.float64"
      ]
     },
     "execution_count": 29,
     "metadata": {},
     "output_type": "execute_result"
    },
    {
     "data": {
      "text/plain": [
       "str"
      ]
     },
     "execution_count": 29,
     "metadata": {},
     "output_type": "execute_result"
    }
   ],
   "source": [
    "type(gray[\"grayscale\"][0])\n",
    "type(gray[\" timings\"][0])"
   ]
  },
  {
   "cell_type": "markdown",
   "metadata": {},
   "source": [
    "# **Data Cleaning**"
   ]
  },
  {
   "cell_type": "markdown",
   "metadata": {},
   "source": [
    "To start, let's get rid of the space in the 'timings' column and data."
   ]
  },
  {
   "cell_type": "code",
   "execution_count": 30,
   "metadata": {},
   "outputs": [
    {
     "data": {
      "text/plain": [
       "Index(['grayscale', 'timings'], dtype='object')"
      ]
     },
     "execution_count": 30,
     "metadata": {},
     "output_type": "execute_result"
    }
   ],
   "source": [
    "# Eliminate leading space in 'timings' column header\n",
    "\n",
    "gray.rename(mapper={\" timings\": \"timings\"}, axis=1, inplace=True)\n",
    "gray.columns"
   ]
  },
  {
   "cell_type": "code",
   "execution_count": 31,
   "metadata": {},
   "outputs": [
    {
     "data": {
      "text/plain": [
       "'2020-07-01 22:18:21.991453'"
      ]
     },
     "execution_count": 31,
     "metadata": {},
     "output_type": "execute_result"
    }
   ],
   "source": [
    "# Eliminate space in 'timings' data\n",
    "\n",
    "gray[\"timings\"] = gray[\"timings\"].apply(lambda string: string[1:])\n",
    "gray[\"timings\"][0]"
   ]
  },
  {
   "cell_type": "markdown",
   "metadata": {},
   "source": [
    "Next, we convert the timings data from string-type into Datetime-type."
   ]
  },
  {
   "cell_type": "code",
   "execution_count": 32,
   "metadata": {},
   "outputs": [
    {
     "data": {
      "text/html": [
       "<div>\n",
       "<style scoped>\n",
       "    .dataframe tbody tr th:only-of-type {\n",
       "        vertical-align: middle;\n",
       "    }\n",
       "\n",
       "    .dataframe tbody tr th {\n",
       "        vertical-align: top;\n",
       "    }\n",
       "\n",
       "    .dataframe thead th {\n",
       "        text-align: right;\n",
       "    }\n",
       "</style>\n",
       "<table border=\"1\" class=\"dataframe\">\n",
       "  <thead>\n",
       "    <tr style=\"text-align: right;\">\n",
       "      <th></th>\n",
       "      <th>grayscale</th>\n",
       "      <th>timings</th>\n",
       "      <th>Datetime</th>\n",
       "    </tr>\n",
       "  </thead>\n",
       "  <tbody>\n",
       "    <tr>\n",
       "      <th>0</th>\n",
       "      <td>235.556693</td>\n",
       "      <td>2020-07-01 22:18:21.991453</td>\n",
       "      <td>2020-07-01 22:18:21.991453</td>\n",
       "    </tr>\n",
       "    <tr>\n",
       "      <th>1</th>\n",
       "      <td>235.544079</td>\n",
       "      <td>2020-07-01 22:18:22.187393</td>\n",
       "      <td>2020-07-01 22:18:22.187393</td>\n",
       "    </tr>\n",
       "    <tr>\n",
       "      <th>2</th>\n",
       "      <td>229.834134</td>\n",
       "      <td>2020-07-01 22:18:22.202118</td>\n",
       "      <td>2020-07-01 22:18:22.202118</td>\n",
       "    </tr>\n",
       "    <tr>\n",
       "      <th>3</th>\n",
       "      <td>229.882272</td>\n",
       "      <td>2020-07-01 22:18:22.219390</td>\n",
       "      <td>2020-07-01 22:18:22.219390</td>\n",
       "    </tr>\n",
       "    <tr>\n",
       "      <th>4</th>\n",
       "      <td>229.889206</td>\n",
       "      <td>2020-07-01 22:18:22.234170</td>\n",
       "      <td>2020-07-01 22:18:22.234170</td>\n",
       "    </tr>\n",
       "  </tbody>\n",
       "</table>\n",
       "</div>"
      ],
      "text/plain": [
       "    grayscale                     timings                   Datetime\n",
       "0  235.556693  2020-07-01 22:18:21.991453 2020-07-01 22:18:21.991453\n",
       "1  235.544079  2020-07-01 22:18:22.187393 2020-07-01 22:18:22.187393\n",
       "2  229.834134  2020-07-01 22:18:22.202118 2020-07-01 22:18:22.202118\n",
       "3  229.882272  2020-07-01 22:18:22.219390 2020-07-01 22:18:22.219390\n",
       "4  229.889206  2020-07-01 22:18:22.234170 2020-07-01 22:18:22.234170"
      ]
     },
     "execution_count": 32,
     "metadata": {},
     "output_type": "execute_result"
    },
    {
     "data": {
      "text/plain": [
       "Timestamp('2020-07-01 22:18:21.991453')"
      ]
     },
     "execution_count": 32,
     "metadata": {},
     "output_type": "execute_result"
    },
    {
     "data": {
      "text/plain": [
       "pandas._libs.tslibs.timestamps.Timestamp"
      ]
     },
     "execution_count": 32,
     "metadata": {},
     "output_type": "execute_result"
    }
   ],
   "source": [
    "# Convering timing data to Datetime objects\n",
    "\n",
    "gray[\"Datetime\"] = pd.to_datetime(gray[\"timings\"])\n",
    "\n",
    "# Verify to see if it worked correctly\n",
    "gray.head()\n",
    "gray[\"Datetime\"][0]\n",
    "type(gray[\"Datetime\"][0])"
   ]
  },
  {
   "cell_type": "code",
   "execution_count": 35,
   "metadata": {},
   "outputs": [
    {
     "data": {
      "text/plain": [
       "grayscale    399539\n",
       "timings      399539\n",
       "Datetime     399539\n",
       "deltaT       399538\n",
       "dtype: int64"
      ]
     },
     "execution_count": 35,
     "metadata": {},
     "output_type": "execute_result"
    },
    {
     "data": {
      "text/plain": [
       "grayscale    399539\n",
       "timings      399539\n",
       "Datetime     399539\n",
       "deltaT       399539\n",
       "dtype: int64"
      ]
     },
     "execution_count": 35,
     "metadata": {},
     "output_type": "execute_result"
    }
   ],
   "source": [
    "# Check for null values\n",
    "\n",
    "gray.count()\n",
    "gray.isnull().count()"
   ]
  },
  {
   "cell_type": "markdown",
   "metadata": {},
   "source": [
    "# Feature Engineering"
   ]
  },
  {
   "cell_type": "markdown",
   "metadata": {},
   "source": [
    "**Create A 'Time Difference' Feature**"
   ]
  },
  {
   "cell_type": "code",
   "execution_count": 34,
   "metadata": {},
   "outputs": [],
   "source": [
    "# Creating 'time difference' feature column\n",
    "\n",
    "gray[\"deltaT\"] = gray[\"Datetime\"] - gray[\"Datetime\"].shift(1)"
   ]
  },
  {
   "cell_type": "code",
   "execution_count": 36,
   "metadata": {},
   "outputs": [],
   "source": [
    "# Extracting only 'seconds' from the time difference feature\n",
    "#### NOTE: This may take a long time to run!\n",
    "\n",
    "gray[\"dT(seconds)\"] = [gray[\"deltaT\"][i].seconds + gray[\"deltaT\"][i].microseconds * 10**(-6) for i in range(0,len(gray[\"deltaT\"]))]"
   ]
  },
  {
   "cell_type": "code",
   "execution_count": 43,
   "metadata": {},
   "outputs": [
    {
     "data": {
      "text/html": [
       "<div>\n",
       "<style scoped>\n",
       "    .dataframe tbody tr th:only-of-type {\n",
       "        vertical-align: middle;\n",
       "    }\n",
       "\n",
       "    .dataframe tbody tr th {\n",
       "        vertical-align: top;\n",
       "    }\n",
       "\n",
       "    .dataframe thead th {\n",
       "        text-align: right;\n",
       "    }\n",
       "</style>\n",
       "<table border=\"1\" class=\"dataframe\">\n",
       "  <thead>\n",
       "    <tr style=\"text-align: right;\">\n",
       "      <th></th>\n",
       "      <th>grayscale</th>\n",
       "      <th>timings</th>\n",
       "      <th>Datetime</th>\n",
       "      <th>deltaT</th>\n",
       "      <th>dT(seconds)</th>\n",
       "    </tr>\n",
       "  </thead>\n",
       "  <tbody>\n",
       "    <tr>\n",
       "      <th>0</th>\n",
       "      <td>235.556693</td>\n",
       "      <td>2020-07-01 22:18:21.991453</td>\n",
       "      <td>2020-07-01 22:18:21.991453</td>\n",
       "      <td>NaT</td>\n",
       "      <td>NaN</td>\n",
       "    </tr>\n",
       "    <tr>\n",
       "      <th>1</th>\n",
       "      <td>235.544079</td>\n",
       "      <td>2020-07-01 22:18:22.187393</td>\n",
       "      <td>2020-07-01 22:18:22.187393</td>\n",
       "      <td>00:00:00.195940</td>\n",
       "      <td>0.195940</td>\n",
       "    </tr>\n",
       "    <tr>\n",
       "      <th>2</th>\n",
       "      <td>229.834134</td>\n",
       "      <td>2020-07-01 22:18:22.202118</td>\n",
       "      <td>2020-07-01 22:18:22.202118</td>\n",
       "      <td>00:00:00.014725</td>\n",
       "      <td>0.014725</td>\n",
       "    </tr>\n",
       "    <tr>\n",
       "      <th>3</th>\n",
       "      <td>229.882272</td>\n",
       "      <td>2020-07-01 22:18:22.219390</td>\n",
       "      <td>2020-07-01 22:18:22.219390</td>\n",
       "      <td>00:00:00.017272</td>\n",
       "      <td>0.017272</td>\n",
       "    </tr>\n",
       "    <tr>\n",
       "      <th>4</th>\n",
       "      <td>229.889206</td>\n",
       "      <td>2020-07-01 22:18:22.234170</td>\n",
       "      <td>2020-07-01 22:18:22.234170</td>\n",
       "      <td>00:00:00.014780</td>\n",
       "      <td>0.014780</td>\n",
       "    </tr>\n",
       "  </tbody>\n",
       "</table>\n",
       "</div>"
      ],
      "text/plain": [
       "    grayscale                     timings                   Datetime  \\\n",
       "0  235.556693  2020-07-01 22:18:21.991453 2020-07-01 22:18:21.991453   \n",
       "1  235.544079  2020-07-01 22:18:22.187393 2020-07-01 22:18:22.187393   \n",
       "2  229.834134  2020-07-01 22:18:22.202118 2020-07-01 22:18:22.202118   \n",
       "3  229.882272  2020-07-01 22:18:22.219390 2020-07-01 22:18:22.219390   \n",
       "4  229.889206  2020-07-01 22:18:22.234170 2020-07-01 22:18:22.234170   \n",
       "\n",
       "           deltaT  dT(seconds)  \n",
       "0             NaT          NaN  \n",
       "1 00:00:00.195940     0.195940  \n",
       "2 00:00:00.014725     0.014725  \n",
       "3 00:00:00.017272     0.017272  \n",
       "4 00:00:00.014780     0.014780  "
      ]
     },
     "execution_count": 43,
     "metadata": {},
     "output_type": "execute_result"
    },
    {
     "data": {
      "text/plain": [
       "Timedelta('0 days 00:00:00.195940')"
      ]
     },
     "execution_count": 43,
     "metadata": {},
     "output_type": "execute_result"
    },
    {
     "data": {
      "text/plain": [
       "0"
      ]
     },
     "execution_count": 43,
     "metadata": {},
     "output_type": "execute_result"
    },
    {
     "data": {
      "text/plain": [
       "195940"
      ]
     },
     "execution_count": 43,
     "metadata": {},
     "output_type": "execute_result"
    },
    {
     "data": {
      "text/plain": [
       "0.19594"
      ]
     },
     "execution_count": 43,
     "metadata": {},
     "output_type": "execute_result"
    },
    {
     "data": {
      "text/plain": [
       "numpy.float64"
      ]
     },
     "execution_count": 43,
     "metadata": {},
     "output_type": "execute_result"
    }
   ],
   "source": [
    "# Just to verify everything done so far\n",
    "\n",
    "gray.head()\n",
    "\n",
    "gray['deltaT'][1]\n",
    "gray['deltaT'][1].seconds\n",
    "gray['deltaT'][1].microseconds\n",
    "\n",
    "gray['dT(seconds)'][1]\n",
    "type(gray['dT(seconds)'][1])"
   ]
  },
  {
   "cell_type": "markdown",
   "metadata": {},
   "source": [
    "Now, another feature that may be useful is the change in grayscale values, so we will make that feature as well."
   ]
  },
  {
   "cell_type": "code",
   "execution_count": 44,
   "metadata": {},
   "outputs": [],
   "source": [
    "# Creating 'grayscale difference' feature\n",
    "\n",
    "gray[\"dGray\"] = gray[\"grayscale\"] - gray[\"grayscale\"].shift(1)"
   ]
  },
  {
   "cell_type": "code",
   "execution_count": 47,
   "metadata": {},
   "outputs": [
    {
     "name": "stdout",
     "output_type": "stream",
     "text": [
      "22:18:22.187393\n"
     ]
    },
    {
     "data": {
      "text/plain": [
       "datetime.time"
      ]
     },
     "execution_count": 47,
     "metadata": {},
     "output_type": "execute_result"
    }
   ],
   "source": [
    "print(gray[\"Datetime\"][1].time())\n",
    "type(gray[\"Datetime\"][1].time())"
   ]
  },
  {
   "cell_type": "markdown",
   "metadata": {},
   "source": [
    "#### Do I need this next feature ?????"
   ]
  },
  {
   "cell_type": "code",
   "execution_count": null,
   "metadata": {},
   "outputs": [],
   "source": [
    "gray[\"time\"] = [gray[\"Datetime\"][i].time() for i in range(0,len(gray[\"Datetime\"]))]"
   ]
  },
  {
   "cell_type": "code",
   "execution_count": null,
   "metadata": {},
   "outputs": [],
   "source": [
    "gray.head(50)\n",
    "gray[\"time\"][1]\n",
    "print(gray[\"time\"][1])"
   ]
  },
  {
   "cell_type": "markdown",
   "metadata": {},
   "source": [
    "# **Exploratory Data Analysis**"
   ]
  },
  {
   "cell_type": "markdown",
   "metadata": {},
   "source": [
    "Now that our grayscale data set has been cleaned and we have created some features, let's begin our exploratory data analylsis. \n",
    "\n",
    "The first thing we will do is look at some basic information about our new features."
   ]
  },
  {
   "cell_type": "code",
   "execution_count": 49,
   "metadata": {},
   "outputs": [
    {
     "data": {
      "text/html": [
       "<div>\n",
       "<style scoped>\n",
       "    .dataframe tbody tr th:only-of-type {\n",
       "        vertical-align: middle;\n",
       "    }\n",
       "\n",
       "    .dataframe tbody tr th {\n",
       "        vertical-align: top;\n",
       "    }\n",
       "\n",
       "    .dataframe thead th {\n",
       "        text-align: right;\n",
       "    }\n",
       "</style>\n",
       "<table border=\"1\" class=\"dataframe\">\n",
       "  <thead>\n",
       "    <tr style=\"text-align: right;\">\n",
       "      <th></th>\n",
       "      <th>grayscale</th>\n",
       "      <th>timings</th>\n",
       "      <th>Datetime</th>\n",
       "      <th>deltaT</th>\n",
       "      <th>dT(seconds)</th>\n",
       "      <th>dGray</th>\n",
       "    </tr>\n",
       "  </thead>\n",
       "  <tbody>\n",
       "    <tr>\n",
       "      <th>0</th>\n",
       "      <td>235.556693</td>\n",
       "      <td>2020-07-01 22:18:21.991453</td>\n",
       "      <td>2020-07-01 22:18:21.991453</td>\n",
       "      <td>NaT</td>\n",
       "      <td>NaN</td>\n",
       "      <td>NaN</td>\n",
       "    </tr>\n",
       "    <tr>\n",
       "      <th>1</th>\n",
       "      <td>235.544079</td>\n",
       "      <td>2020-07-01 22:18:22.187393</td>\n",
       "      <td>2020-07-01 22:18:22.187393</td>\n",
       "      <td>00:00:00.195940</td>\n",
       "      <td>0.195940</td>\n",
       "      <td>-0.012614</td>\n",
       "    </tr>\n",
       "    <tr>\n",
       "      <th>2</th>\n",
       "      <td>229.834134</td>\n",
       "      <td>2020-07-01 22:18:22.202118</td>\n",
       "      <td>2020-07-01 22:18:22.202118</td>\n",
       "      <td>00:00:00.014725</td>\n",
       "      <td>0.014725</td>\n",
       "      <td>-5.709945</td>\n",
       "    </tr>\n",
       "    <tr>\n",
       "      <th>3</th>\n",
       "      <td>229.882272</td>\n",
       "      <td>2020-07-01 22:18:22.219390</td>\n",
       "      <td>2020-07-01 22:18:22.219390</td>\n",
       "      <td>00:00:00.017272</td>\n",
       "      <td>0.017272</td>\n",
       "      <td>0.048138</td>\n",
       "    </tr>\n",
       "    <tr>\n",
       "      <th>4</th>\n",
       "      <td>229.889206</td>\n",
       "      <td>2020-07-01 22:18:22.234170</td>\n",
       "      <td>2020-07-01 22:18:22.234170</td>\n",
       "      <td>00:00:00.014780</td>\n",
       "      <td>0.014780</td>\n",
       "      <td>0.006934</td>\n",
       "    </tr>\n",
       "  </tbody>\n",
       "</table>\n",
       "</div>"
      ],
      "text/plain": [
       "    grayscale                     timings                   Datetime  \\\n",
       "0  235.556693  2020-07-01 22:18:21.991453 2020-07-01 22:18:21.991453   \n",
       "1  235.544079  2020-07-01 22:18:22.187393 2020-07-01 22:18:22.187393   \n",
       "2  229.834134  2020-07-01 22:18:22.202118 2020-07-01 22:18:22.202118   \n",
       "3  229.882272  2020-07-01 22:18:22.219390 2020-07-01 22:18:22.219390   \n",
       "4  229.889206  2020-07-01 22:18:22.234170 2020-07-01 22:18:22.234170   \n",
       "\n",
       "           deltaT  dT(seconds)     dGray  \n",
       "0             NaT          NaN       NaN  \n",
       "1 00:00:00.195940     0.195940 -0.012614  \n",
       "2 00:00:00.014725     0.014725 -5.709945  \n",
       "3 00:00:00.017272     0.017272  0.048138  \n",
       "4 00:00:00.014780     0.014780  0.006934  "
      ]
     },
     "execution_count": 49,
     "metadata": {},
     "output_type": "execute_result"
    }
   ],
   "source": [
    "gray.head()"
   ]
  },
  {
   "cell_type": "code",
   "execution_count": 52,
   "metadata": {},
   "outputs": [
    {
     "name": "stdout",
     "output_type": "stream",
     "text": [
      "<class 'pandas.core.frame.DataFrame'>\n",
      "RangeIndex: 399539 entries, 0 to 399538\n",
      "Data columns (total 6 columns):\n",
      " #   Column       Non-Null Count   Dtype          \n",
      "---  ------       --------------   -----          \n",
      " 0   grayscale    399539 non-null  float64        \n",
      " 1   timings      399539 non-null  object         \n",
      " 2   Datetime     399539 non-null  datetime64[ns] \n",
      " 3   deltaT       399538 non-null  timedelta64[ns]\n",
      " 4   dT(seconds)  399538 non-null  float64        \n",
      " 5   dGray        399538 non-null  float64        \n",
      "dtypes: datetime64[ns](1), float64(3), object(1), timedelta64[ns](1)\n",
      "memory usage: 18.3+ MB\n"
     ]
    }
   ],
   "source": [
    "gray.info()"
   ]
  },
  {
   "cell_type": "code",
   "execution_count": 111,
   "metadata": {},
   "outputs": [
    {
     "data": {
      "text/html": [
       "<div>\n",
       "<style scoped>\n",
       "    .dataframe tbody tr th:only-of-type {\n",
       "        vertical-align: middle;\n",
       "    }\n",
       "\n",
       "    .dataframe tbody tr th {\n",
       "        vertical-align: top;\n",
       "    }\n",
       "\n",
       "    .dataframe thead th {\n",
       "        text-align: right;\n",
       "    }\n",
       "</style>\n",
       "<table border=\"1\" class=\"dataframe\">\n",
       "  <thead>\n",
       "    <tr style=\"text-align: right;\">\n",
       "      <th></th>\n",
       "      <th>grayscale</th>\n",
       "      <th>deltaT</th>\n",
       "      <th>dT(seconds)</th>\n",
       "      <th>dGray</th>\n",
       "    </tr>\n",
       "  </thead>\n",
       "  <tbody>\n",
       "    <tr>\n",
       "      <th>count</th>\n",
       "      <td>399539.000000</td>\n",
       "      <td>399538</td>\n",
       "      <td>399538.000000</td>\n",
       "      <td>399538.000000</td>\n",
       "    </tr>\n",
       "    <tr>\n",
       "      <th>mean</th>\n",
       "      <td>137.480845</td>\n",
       "      <td>0 days 00:00:00.039978</td>\n",
       "      <td>0.039978</td>\n",
       "      <td>-0.000103</td>\n",
       "    </tr>\n",
       "    <tr>\n",
       "      <th>std</th>\n",
       "      <td>24.593026</td>\n",
       "      <td>0 days 00:00:00.004090</td>\n",
       "      <td>0.004091</td>\n",
       "      <td>7.888612</td>\n",
       "    </tr>\n",
       "    <tr>\n",
       "      <th>min</th>\n",
       "      <td>21.499414</td>\n",
       "      <td>0 days 00:00:00.007505</td>\n",
       "      <td>0.007505</td>\n",
       "      <td>-72.504121</td>\n",
       "    </tr>\n",
       "    <tr>\n",
       "      <th>25%</th>\n",
       "      <td>129.019624</td>\n",
       "      <td>0 days 00:00:00.039483</td>\n",
       "      <td>0.039483</td>\n",
       "      <td>-0.316201</td>\n",
       "    </tr>\n",
       "    <tr>\n",
       "      <th>50%</th>\n",
       "      <td>133.231758</td>\n",
       "      <td>0 days 00:00:00.040147</td>\n",
       "      <td>0.040147</td>\n",
       "      <td>-0.030972</td>\n",
       "    </tr>\n",
       "    <tr>\n",
       "      <th>75%</th>\n",
       "      <td>139.700376</td>\n",
       "      <td>0 days 00:00:00.043763</td>\n",
       "      <td>0.043764</td>\n",
       "      <td>0.240620</td>\n",
       "    </tr>\n",
       "    <tr>\n",
       "      <th>max</th>\n",
       "      <td>253.803958</td>\n",
       "      <td>0 days 00:00:00.592564</td>\n",
       "      <td>0.592564</td>\n",
       "      <td>121.425983</td>\n",
       "    </tr>\n",
       "  </tbody>\n",
       "</table>\n",
       "</div>"
      ],
      "text/plain": [
       "           grayscale                  deltaT    dT(seconds)          dGray\n",
       "count  399539.000000                  399538  399538.000000  399538.000000\n",
       "mean      137.480845  0 days 00:00:00.039978       0.039978      -0.000103\n",
       "std        24.593026  0 days 00:00:00.004090       0.004091       7.888612\n",
       "min        21.499414  0 days 00:00:00.007505       0.007505     -72.504121\n",
       "25%       129.019624  0 days 00:00:00.039483       0.039483      -0.316201\n",
       "50%       133.231758  0 days 00:00:00.040147       0.040147      -0.030972\n",
       "75%       139.700376  0 days 00:00:00.043763       0.043764       0.240620\n",
       "max       253.803958  0 days 00:00:00.592564       0.592564     121.425983"
      ]
     },
     "execution_count": 111,
     "metadata": {},
     "output_type": "execute_result"
    }
   ],
   "source": [
    "gray.describe()"
   ]
  },
  {
   "cell_type": "markdown",
   "metadata": {},
   "source": [
    "There isn't really anything special that we can see from here. So what we will do is investigate some of the columns more in-depth individually."
   ]
  },
  {
   "cell_type": "markdown",
   "metadata": {},
   "source": [
    "### Part 1/2 - Grayscale Values"
   ]
  },
  {
   "cell_type": "markdown",
   "metadata": {},
   "source": [
    "First, let's investigate the grayscale values and see if we can uncover anything."
   ]
  },
  {
   "cell_type": "code",
   "execution_count": 108,
   "metadata": {},
   "outputs": [
    {
     "data": {
      "text/plain": [
       "0.17888306710893392"
      ]
     },
     "execution_count": 108,
     "metadata": {},
     "output_type": "execute_result"
    },
    {
     "data": {
      "text/plain": [
       "232.30454427083336"
      ]
     },
     "execution_count": 108,
     "metadata": {},
     "output_type": "execute_result"
    },
    {
     "data": {
      "text/plain": [
       "RepeatedResults(values=array([ 85.52067708,  87.9171875 ,  91.56175781, ..., 253.65216146,\n",
       "       253.66299154, 253.69137695]), counts=array([2, 2, 2, ..., 2, 2, 2], dtype=int64))"
      ]
     },
     "execution_count": 108,
     "metadata": {},
     "output_type": "execute_result"
    },
    {
     "data": {
      "text/plain": [
       "8055"
      ]
     },
     "execution_count": 108,
     "metadata": {},
     "output_type": "execute_result"
    }
   ],
   "source": [
    "# Performing some basic statistical calculations (using SciPy)\n",
    "\n",
    "var_gray = stats.variation(gray['grayscale'])\n",
    "range_gray = stats.iqr(gray['grayscale'], rng=(0,100))\n",
    "repeats_gray = stats.find_repeats(gray['grayscale'])\n",
    "\n",
    "var_gray\n",
    "range_gray\n",
    "repeats_gray\n",
    "len(repeats_gray.values)"
   ]
  },
  {
   "cell_type": "markdown",
   "metadata": {},
   "source": [
    "**Basic Summary Statistics - Grayscale Values**"
   ]
  },
  {
   "cell_type": "markdown",
   "metadata": {},
   "source": [
    "From the information above, we see the sample mean and sample standard deviation are $\\mu = 137.480845$ and $\\sigma = 24.593026$, respectively. This gives us a coefficient of variance of:\n",
    "\n",
    "$$C_V = \\frac{\\sigma}{\\mu} = \\frac{24.593026 \\,s}{137.480845 \\,s} =  0.17888306710893392 \\approx 0.179$$\n",
    "\n",
    "Since $C_V<1$, we can make the inference that the 'grayscale' feature dataset is of low variance, i.e. the values are more closely clustered to the mean grayscale value.\n",
    "\n",
    "We can also compute the range of the grayscale data to be: $\\max(grayscale) - \\min(grayscale) = 232.30454427083336\\,s \\approx 232.3$\n",
    "\n",
    "Finally, we see that there are 8055 grayscale values that are each repeated! Of which, 7910 are repeated twice, 142 are repeated three times, and 3 are repeated 4 times. This translates to approximately 2.04% of the total grayscale values that are repeated."
   ]
  },
  {
   "cell_type": "markdown",
   "metadata": {},
   "source": [
    "**Investigating Grayscale Repeated Data**"
   ]
  },
  {
   "cell_type": "markdown",
   "metadata": {},
   "source": [
    "We see that there are 8055 grayscale values that are repeated! Let's investigate this futher. We first store this repeated data into a Pandas dataframe."
   ]
  },
  {
   "cell_type": "code",
   "execution_count": 109,
   "metadata": {},
   "outputs": [],
   "source": [
    "# Storing repeated grayscale values and their counts into a dataframe\n",
    "\n",
    "# Intermediary dictionary to hold the RepeatedResults data\n",
    "my_dict = {'Values': repeats_gray.values, 'Counts': repeats_gray.counts}\n",
    "\n",
    "# Creating the 'repeated grayscale' dataframe\n",
    "repeated_grayscale_df = pd.DataFrame(my_dict)"
   ]
  },
  {
   "cell_type": "code",
   "execution_count": 110,
   "metadata": {},
   "outputs": [
    {
     "data": {
      "text/html": [
       "<div>\n",
       "<style scoped>\n",
       "    .dataframe tbody tr th:only-of-type {\n",
       "        vertical-align: middle;\n",
       "    }\n",
       "\n",
       "    .dataframe tbody tr th {\n",
       "        vertical-align: top;\n",
       "    }\n",
       "\n",
       "    .dataframe thead th {\n",
       "        text-align: right;\n",
       "    }\n",
       "</style>\n",
       "<table border=\"1\" class=\"dataframe\">\n",
       "  <thead>\n",
       "    <tr style=\"text-align: right;\">\n",
       "      <th></th>\n",
       "      <th>Values</th>\n",
       "      <th>Counts</th>\n",
       "    </tr>\n",
       "  </thead>\n",
       "  <tbody>\n",
       "    <tr>\n",
       "      <th>0</th>\n",
       "      <td>85.520677</td>\n",
       "      <td>2</td>\n",
       "    </tr>\n",
       "    <tr>\n",
       "      <th>1</th>\n",
       "      <td>87.917188</td>\n",
       "      <td>2</td>\n",
       "    </tr>\n",
       "    <tr>\n",
       "      <th>2</th>\n",
       "      <td>91.561758</td>\n",
       "      <td>2</td>\n",
       "    </tr>\n",
       "    <tr>\n",
       "      <th>3</th>\n",
       "      <td>94.643184</td>\n",
       "      <td>2</td>\n",
       "    </tr>\n",
       "    <tr>\n",
       "      <th>4</th>\n",
       "      <td>99.036094</td>\n",
       "      <td>2</td>\n",
       "    </tr>\n",
       "  </tbody>\n",
       "</table>\n",
       "</div>"
      ],
      "text/plain": [
       "      Values  Counts\n",
       "0  85.520677       2\n",
       "1  87.917188       2\n",
       "2  91.561758       2\n",
       "3  94.643184       2\n",
       "4  99.036094       2"
      ]
     },
     "execution_count": 110,
     "metadata": {},
     "output_type": "execute_result"
    },
    {
     "name": "stdout",
     "output_type": "stream",
     "text": [
      "<class 'pandas.core.frame.DataFrame'>\n",
      "RangeIndex: 8055 entries, 0 to 8054\n",
      "Data columns (total 2 columns):\n",
      " #   Column  Non-Null Count  Dtype  \n",
      "---  ------  --------------  -----  \n",
      " 0   Values  8055 non-null   float64\n",
      " 1   Counts  8055 non-null   int64  \n",
      "dtypes: float64(1), int64(1)\n",
      "memory usage: 126.0 KB\n"
     ]
    },
    {
     "data": {
      "text/plain": [
       "2    7910\n",
       "3     142\n",
       "4       3\n",
       "Name: Counts, dtype: int64"
      ]
     },
     "execution_count": 110,
     "metadata": {},
     "output_type": "execute_result"
    }
   ],
   "source": [
    "# Initial look at the 'repeated grayscale' dataframe\n",
    "\n",
    "repeated_grayscale_df.head()\n",
    "repeated_grayscale_df.info()\n",
    "repeated_grayscale_df['Counts'].value_counts()"
   ]
  },
  {
   "cell_type": "markdown",
   "metadata": {},
   "source": [
    "**Question: Why the repetitions?**\n",
    "\n",
    "**Answer:** It is very surprising to see that some grayscale values are being repeated at all. Sure, our data set has just under 400,000 data points in it, which is a very large number. BUT: The grayscale data collected has an accuracy of **14 decimal places**! For example, the first grayscale value recorded is: 235.55669270833332. This is why it is very surprising that there would be repetitions, given that all the the digits would have to match!\n",
    "\n",
    "We can investigate the likelihood of this to occur using probability theory.\n",
    "\n",
    "OR NOT...It's difficult, I will try again later."
   ]
  },
  {
   "cell_type": "markdown",
   "metadata": {},
   "source": [
    "**Data Visualization - Grayscale Values**"
   ]
  },
  {
   "cell_type": "markdown",
   "metadata": {},
   "source": [
    "We will now do some data visualization of the grayscale values. We can start with some of the basic plots."
   ]
  },
  {
   "cell_type": "code",
   "execution_count": 48,
   "metadata": {},
   "outputs": [
    {
     "data": {
      "text/plain": [
       "<matplotlib.axes._subplots.AxesSubplot at 0x22a9e12fec8>"
      ]
     },
     "execution_count": 48,
     "metadata": {},
     "output_type": "execute_result"
    },
    {
     "data": {
      "image/png": "[encoded data removed]",
      "text/plain": [
       "<Figure size 900x600 with 1 Axes>"
      ]
     },
     "metadata": {},
     "output_type": "display_data"
    }
   ],
   "source": [
    "# Plotting a basic histogram of the grayscale values\n",
    "\n",
    "sns.distplot(gray['grayscale'], bins=100)"
   ]
  },
  {
   "cell_type": "markdown",
   "metadata": {},
   "source": [
    "We see that the grayscale data exhibits a bi-modal distribution"
   ]
  },
  {
   "cell_type": "code",
   "execution_count": null,
   "metadata": {},
   "outputs": [],
   "source": []
  },
  {
   "cell_type": "code",
   "execution_count": null,
   "metadata": {},
   "outputs": [],
   "source": []
  },
  {
   "cell_type": "code",
   "execution_count": null,
   "metadata": {},
   "outputs": [],
   "source": []
  },
  {
   "cell_type": "code",
   "execution_count": null,
   "metadata": {},
   "outputs": [],
   "source": []
  },
  {
   "cell_type": "code",
   "execution_count": null,
   "metadata": {},
   "outputs": [],
   "source": []
  },
  {
   "cell_type": "code",
   "execution_count": null,
   "metadata": {},
   "outputs": [],
   "source": []
  },
  {
   "cell_type": "markdown",
   "metadata": {},
   "source": [
    "**Basic Summary Statistics - other feature**"
   ]
  },
  {
   "cell_type": "markdown",
   "metadata": {},
   "source": [
    "**Basic Summary Statistics - other feature 2**"
   ]
  },
  {
   "cell_type": "markdown",
   "metadata": {},
   "source": [
    "So, we see that most grayscale values are somewhere between 125-150, and there are a few that are around 250. The large grayscale values must be the bright lightning strikes. "
   ]
  },
  {
   "cell_type": "code",
   "execution_count": null,
   "metadata": {},
   "outputs": [],
   "source": [
    "sns.scatterplot(x=gray[\"timings\"][:300], y=gray[\"grayscale\"][:300])"
   ]
  },
  {
   "cell_type": "markdown",
   "metadata": {},
   "source": [
    "Looking at the above scatter plot, we can see that there are quite a few data points that seem to be clustered together! At least when the grayscale values are on a general decline, then there is some type of equilibrium.\n",
    "\n",
    "We will try to see if we can investigate further into the groupings by using an interactive plot."
   ]
  },
  {
   "cell_type": "code",
   "execution_count": null,
   "metadata": {},
   "outputs": [],
   "source": [
    "gray.head(300).iplot(kind='scatter',x=\"timings\", y=\"grayscale\")"
   ]
  },
  {
   "cell_type": "markdown",
   "metadata": {},
   "source": [
    "Sooooo!!!!! We see that each grouping in the first scatter plot always consists of exactly three grayscale data points! (Except for the step at around 222, which is only two points)\n",
    "\n",
    "So, perhaps a good idea is to group these triplets of datapoint into a single data point, whose grayscale value we we will define to the the average. This will GREATLY reduce the size of our dataframe, which would make it easier to analyze further.\n",
    "\n",
    "BUT: Something that is really weird is that a lightning strike doesn't occur for more than 11 seconds after the first initial one...what's up with that?!"
   ]
  },
  {
   "cell_type": "code",
   "execution_count": null,
   "metadata": {},
   "outputs": [],
   "source": [
    "with pd.option_context(\"display.max_rows\", None, \"display.max_columns\", None):\n",
    "    gray[:2000]"
   ]
  },
  {
   "cell_type": "markdown",
   "metadata": {},
   "source": [
    "OKAY!! So I know what the story is:\n",
    "\n",
    "(1) I turn the program on right as a lightning strike occurs. This is why we see some grayscale values of ~250's at the head of the data.\n",
    "\n",
    "\n",
    "(2) As the bright screen from the lightning started to die out, I went to the \"start\" menu.\n",
    "    - index: 37 - 576\n",
    "    - time: 18:23.48 - 18:41.4450\n",
    "    - at around 130 grayscale\n",
    "    - the grayscale of the start screen seems to therefore be [120,122)\n",
    "        - it's pretty much ~121.45\n",
    "    - I stay on the start screen for about ~18 seconds\n",
    "\n",
    "\n",
    "(3) Then, I exited from the \"start\" menu, and went back to the game.\n",
    "    - index: 578 - 603\n",
    "    - time: 18:41.509266 - 18:42.487482\n",
    "    - it takes a second to exit the \"start\" menu\n",
    "        - The screen goes to black when you do this\n",
    "        - Hence why the grayscale values are <<100 during this brief time\n",
    "        \n",
    "(4) Finally, the true data collection begins!\n",
    "    - index: 604...\n",
    "    - time: 18:42.531267"
   ]
  },
  {
   "cell_type": "markdown",
   "metadata": {},
   "source": [
    "So, what we will do is drop all the data points with index 603 and below"
   ]
  },
  {
   "cell_type": "code",
   "execution_count": null,
   "metadata": {},
   "outputs": [],
   "source": [
    "gray.drop(labels=range(604), axis=0, inplace=True)"
   ]
  },
  {
   "cell_type": "code",
   "execution_count": null,
   "metadata": {},
   "outputs": [],
   "source": [
    "gray.head(20)"
   ]
  },
  {
   "cell_type": "code",
   "execution_count": null,
   "metadata": {},
   "outputs": [],
   "source": [
    "sns.scatterplot(x=gray[\"timings\"][:300], y=gray[\"grayscale\"][:300])"
   ]
  },
  {
   "cell_type": "code",
   "execution_count": null,
   "metadata": {},
   "outputs": [],
   "source": [
    "gray.head(500).iplot(kind='scatter',x=\"timings\", y=\"grayscale\")"
   ]
  },
  {
   "cell_type": "markdown",
   "metadata": {},
   "source": [
    "Okay, now let's see if my original \"group by three\" idea would work"
   ]
  },
  {
   "cell_type": "code",
   "execution_count": null,
   "metadata": {
    "scrolled": true
   },
   "outputs": [],
   "source": [
    "with pd.option_context(\"display.max_rows\", None, \"display.max_columns\", None):\n",
    "    gray.loc[range(653,1500), gray.columns]"
   ]
  },
  {
   "cell_type": "markdown",
   "metadata": {},
   "source": [
    "To-Do:\n",
    "\n",
    "1: Investigate the grayscale values for each lightning strike\n",
    "\n",
    "2: Create a function to group the data (bins for milliseconds; group-by-threes; ...)\n",
    "\n",
    "3: Connect grayscale data with the lightning count data (ffx2_cleaned)\n",
    "\n",
    "4: Investigate the frequency of the fog?"
   ]
  },
  {
   "cell_type": "code",
   "execution_count": null,
   "metadata": {},
   "outputs": [],
   "source": [
    "test_gray = gray[\"grayscale\"].loc[817:824]\n",
    "test_gray\n",
    "np.std(test_gray.values)"
   ]
  },
  {
   "cell_type": "code",
   "execution_count": null,
   "metadata": {},
   "outputs": [],
   "source": [
    "test_gray = gray[\"grayscale\"].loc[700:705]\n",
    "test_gray\n",
    "np.std(test_gray.values)"
   ]
  },
  {
   "cell_type": "code",
   "execution_count": null,
   "metadata": {},
   "outputs": [],
   "source": [
    "test_gray = gray[\"grayscale\"].loc[718:723]\n",
    "test_gray\n",
    "np.std(test_gray.values)"
   ]
  },
  {
   "cell_type": "code",
   "execution_count": null,
   "metadata": {},
   "outputs": [],
   "source": [
    "test_gray = gray[\"grayscale\"].loc[748:753]\n",
    "test_gray\n",
    "np.std(test_gray.values)"
   ]
  },
  {
   "cell_type": "code",
   "execution_count": null,
   "metadata": {},
   "outputs": [],
   "source": [
    "test_gray = gray[\"grayscale\"].loc[766:771]\n",
    "test_gray\n",
    "np.std(test_gray.values)"
   ]
  },
  {
   "cell_type": "code",
   "execution_count": null,
   "metadata": {},
   "outputs": [],
   "source": [
    "test_gray = gray[\"grayscale\"].loc[787:794]\n",
    "test_gray\n",
    "np.std(test_gray.values)"
   ]
  },
  {
   "cell_type": "markdown",
   "metadata": {},
   "source": [
    "Based on the 6 testing group above, I've decided on groupings based on the milliseconds of time:\n",
    "\n",
    "    - [0,250000) U [250000,500000) U [500000,750000) U [750000,1000000)\n",
    "\n",
    "The decision criteria for whether or not to group a subset of data will be based on the threshold of 1 std:\n",
    "    - If std of grayscale values is <= 1, then I will average the grayscale and times to create a single data point\n",
    "    - Otherwise, if std>1, I will leave the data alone and move onto the next time grouping\n",
    "\n"
   ]
  },
  {
   "cell_type": "code",
   "execution_count": null,
   "metadata": {},
   "outputs": [],
   "source": [
    "with pd.option_context(\"display.max_rows\", None, \"display.max_columns\", None):\n",
    "    gray.loc[range(604,1000), gray.columns]"
   ]
  },
  {
   "cell_type": "code",
   "execution_count": null,
   "metadata": {},
   "outputs": [],
   "source": [
    "test_grayscale = gray[[\"grayscale\", \"Datetime\", \"deltaT\", \"dT(seconds)\"]]\n",
    "test_grayscale.head(20)"
   ]
  },
  {
   "cell_type": "code",
   "execution_count": null,
   "metadata": {},
   "outputs": [],
   "source": [
    "test_grayscale[\"Datetime\"][604]\n",
    "pd.to_datetime(test_grayscale[\"Datetime\"].values.astype(np.int64).mean())\n",
    "\n",
    "\n",
    "# np.mean(test_grayscale[\"time\"].loc[604:610].values)"
   ]
  },
  {
   "cell_type": "code",
   "execution_count": null,
   "metadata": {},
   "outputs": [],
   "source": [
    "# Just some practice to see how to average date/time values\n",
    "\n",
    "test_grayscale[\"grayscale\"].loc[604:606].mean()\n",
    "pd.to_datetime(test_grayscale[\"Datetime\"].loc[604:606].mean())\n",
    "pd.to_timedelta(test_grayscale[\"deltaT\"].loc[604:606].mean())\n",
    "test_grayscale[\"dT(seconds)\"].loc[604:606].mean()"
   ]
  },
  {
   "cell_type": "code",
   "execution_count": null,
   "metadata": {},
   "outputs": [],
   "source": [
    "test_grayscale[\"Datetime\"][604].time()\n",
    "test_grayscale[\"Datetime\"][604].time().microsecond"
   ]
  },
  {
   "cell_type": "code",
   "execution_count": null,
   "metadata": {},
   "outputs": [],
   "source": [
    "test_grayscale[\"grayscale\"].values[0]\n",
    "test_grayscale[\"Datetime\"]"
   ]
  },
  {
   "cell_type": "code",
   "execution_count": null,
   "metadata": {},
   "outputs": [],
   "source": [
    "def grouping(grayvalues, datetimes):\n",
    "    \n",
    "    grayscale_values = []\n",
    "    datetime_values = []\n",
    "    n=2\n",
    "    threshold = 750000\n",
    "    new_list = []\n",
    "    new_dict = {}\n",
    "#     new_df = pd.DataFrame(data=None, columns=[\"new_gray_value\", \"new_datetime\"])\n",
    "    \n",
    "    for i in range(len(grayvalues)): # -loop over all input values -> variable will be index 604 onwards\n",
    "    \n",
    "#         print(datetimes[i+604].time().microsecond)\n",
    "#         print(threshold)\n",
    "        if ( datetimes[i+604].time().microsecond < threshold and datetimes[i+604].time().microsecond > threshold-250000):\n",
    "            grayscale_values.append(grayvalues.values[i])\n",
    "            datetime_values.append(datetimes[i+604])\n",
    "        \n",
    "        else:\n",
    "            \n",
    "            if len(grayscale_values) > 0:\n",
    "                gray_std = np.std(grayscale_values)\n",
    "            else:\n",
    "                gray_std=0\n",
    "                \n",
    "#             print(\"gray_std = \", gray_std)\n",
    "#             print(\"The grayscale_values are:\", grayscale_values)\n",
    "#             print(\"The datetime_values are:\", datetime_values)\n",
    "            \n",
    "            if gray_std <= 1:\n",
    "                grayscale_mean = np.mean(grayscale_values)\n",
    "                datetime_mean = pd.to_datetime(datetime_values).mean()\n",
    "                new_dict.update({\"new_gray_value\": grayscale_mean})\n",
    "                new_dict.update({\"new_datetime\": datetime_mean})\n",
    "                new_list.append(new_dict)\n",
    "            \n",
    "            else:\n",
    "                for j in range(len(grayscale_values)):\n",
    "                    new_dict = {}\n",
    "                    new_dict.update({\"new_gray_value\": grayscale_values[j]})\n",
    "                    new_dict.update({\"new_datetime\": datetime_values[j]})\n",
    "                    new_list.append(new_dict)   \n",
    "            \n",
    "            n = (n+1) % 4\n",
    "            threshold = 250000 + 250000*n\n",
    "            \n",
    "            grayscale_values = []\n",
    "            datetime_values = []\n",
    "            new_dict = {}\n",
    "            \n",
    "            grayscale_values.append(grayvalues.values[i])\n",
    "            datetime_values.append(datetimes[i+604])\n",
    "                    \n",
    "    new_dict.update({\"new_gray_value\": grayscale_values[0]})\n",
    "    new_dict.update({\"new_datetime\": datetime_values[0]})\n",
    "    new_list.append(new_dict) \n",
    "    \n",
    "    \n",
    "    \n",
    "#     print(\"The new_list is:\", new_list)\n",
    "    \n",
    "    new_df = pd.DataFrame(data=new_list)#, columns=[\"new_gray_value\", \"new_datetime\"])\n",
    "    \n",
    "    return new_df \n",
    "    \n",
    "    "
   ]
  },
  {
   "cell_type": "code",
   "execution_count": null,
   "metadata": {},
   "outputs": [],
   "source": [
    "x = test_grayscale[\"grayscale\"]\n",
    "y = test_grayscale[\"Datetime\"]\n",
    "\n",
    "len(x)\n",
    "x\n",
    "y\n",
    "# my_list=[]\n",
    "# for i in range(5):\n",
    "#     my_list.append(y[i+604])\n",
    "    \n",
    "# pd.to_datetime(my_list).mean()"
   ]
  },
  {
   "cell_type": "code",
   "execution_count": null,
   "metadata": {},
   "outputs": [],
   "source": [
    "i=0\n",
    "y[i+604].time().microsecond\n",
    "\n",
    "x.values[i]\n",
    "y[i+604]"
   ]
  },
  {
   "cell_type": "code",
   "execution_count": null,
   "metadata": {},
   "outputs": [],
   "source": [
    "# This takes very long to execute\n",
    "boom = grouping(x, y)"
   ]
  },
  {
   "cell_type": "code",
   "execution_count": null,
   "metadata": {},
   "outputs": [],
   "source": [
    "boom[:100]"
   ]
  },
  {
   "cell_type": "code",
   "execution_count": null,
   "metadata": {},
   "outputs": [],
   "source": [
    "# # This takes up a lot of memory????\n",
    "# with pd.option_context(\"display.max_rows\", None, \"display.max_columns\", None):\n",
    "#     boom.loc[range(len(boom)), boom.columns]"
   ]
  },
  {
   "cell_type": "code",
   "execution_count": null,
   "metadata": {},
   "outputs": [],
   "source": [
    "boom[:100].iplot(kind='scatter',x=\"new_datetime\", y=\"new_gray_value\")"
   ]
  },
  {
   "cell_type": "code",
   "execution_count": null,
   "metadata": {},
   "outputs": [],
   "source": [
    "np.std(boom.loc[260:270][\"new_gray_value\"].values)"
   ]
  },
  {
   "cell_type": "code",
   "execution_count": null,
   "metadata": {},
   "outputs": [],
   "source": [
    "# This takes a while (b/c have to apply the anonymous function a lot)\n",
    "sns.scatterplot(x=boom[\"new_datetime\"][:300].apply(lambda x: x.strftime(\"%H:%M:%S.%f\")), y=boom[\"new_gray_value\"][:300])"
   ]
  },
  {
   "cell_type": "code",
   "execution_count": null,
   "metadata": {},
   "outputs": [],
   "source": [
    "boom[\"new_datetime\"][:300].apply(lambda x: x.strftime(\"%H:%M:%S.%f\"))"
   ]
  },
  {
   "cell_type": "code",
   "execution_count": null,
   "metadata": {},
   "outputs": [],
   "source": [
    "gray[\"Datetime\"][1000].strftime(\"%H:%M:%S\")"
   ]
  },
  {
   "cell_type": "markdown",
   "metadata": {},
   "source": [
    "# Let's try investigating the lightning strikes themselves"
   ]
  },
  {
   "cell_type": "code",
   "execution_count": null,
   "metadata": {},
   "outputs": [],
   "source": [
    "boom.describe()"
   ]
  },
  {
   "cell_type": "code",
   "execution_count": null,
   "metadata": {},
   "outputs": [],
   "source": [
    "with pd.option_context(\"display.max_rows\", None, \"display.max_columns\", None):\n",
    "    boom.loc[range(1500), boom.columns]"
   ]
  },
  {
   "cell_type": "markdown",
   "metadata": {},
   "source": [
    "Based on just a preliminary look at this grouped data, we see that a lightning strike is initiated by a grayscale value of around 150-180, then peaks at around 251-253, then is finished by around 165-180, then goes below 100, and then goes back to the usual 120's/130's.\n",
    "\n",
    "There are times where the grayscale data is below 100 for a long time, whereas at other lightning strikes it's only below 100 for around 4 data points. Maybe this has to do with whether or not there was fog on the screen????"
   ]
  },
  {
   "cell_type": "code",
   "execution_count": null,
   "metadata": {},
   "outputs": [],
   "source": [
    "strike_data = boom[(boom['new_gray_value'] < 100) | (boom['new_gray_value'] > 160)]\n",
    "strike_data.head()\n",
    "strike_data.describe()"
   ]
  },
  {
   "cell_type": "code",
   "execution_count": null,
   "metadata": {},
   "outputs": [],
   "source": [
    "with pd.option_context(\"display.max_rows\", None, \"display.max_columns\", None):\n",
    "    strike_data.reset_index().loc[range(1000), strike_data.columns]"
   ]
  },
  {
   "cell_type": "markdown",
   "metadata": {},
   "source": [
    "Okay!! So I think I found a new pattern: When the lightning strike starts, the grayscale values go above 200 and it's always the second one above 200 that is a maximum, and then the grayscale values decrease from there to below 100.\n",
    "\n",
    "But, when they are below 100, there doesn't seem to be any similar pattern.\n",
    "\n",
    "Regardless, let's try to prove this pattern is the case for all our data."
   ]
  },
  {
   "cell_type": "code",
   "execution_count": null,
   "metadata": {},
   "outputs": [],
   "source": [
    "# Function to check if my conjecture is correct\n",
    "\n",
    "def max_gray(grayscale, gray_threshold):\n",
    "    \n",
    "    max_gray = 0\n",
    "    max_index = 0\n",
    "    gs_array = []\n",
    "    off_count = 0\n",
    "    total_count = 0\n",
    "    \n",
    "    for i in range(len(grayscale)):\n",
    "        \n",
    "        if grayscale.values[i] > gray_threshold:\n",
    "            gs_array.append(grayscale.values[i])\n",
    "            \n",
    "        else:\n",
    "            total_count += 1\n",
    "            \n",
    "            if not len(gs_array):\n",
    "                continue\n",
    "            \n",
    "            max_gray = max(gs_array)\n",
    "            max_index = gs_array.index(max_gray)\n",
    "            \n",
    "            if max_index != 1:\n",
    "#                 print(f\"Nope, your conjecture is false! Look at values before index {i}\")\n",
    "                \n",
    "                off_count += 1\n",
    "                \n",
    "#                 return gs_array\n",
    "            elif max_index == 1:\n",
    "                gs_array = []\n",
    "    \n",
    "#     return \"Your conjecture is true!\"\n",
    "    print(f\"off_count = {off_count}\")\n",
    "    print(f\"total_count = {total_count}\")\n",
    "    \n",
    "    return f\"The number of strikes that DONT agree with your conjecture are: {off_count / total_count}\"\n"
   ]
  },
  {
   "cell_type": "code",
   "execution_count": null,
   "metadata": {},
   "outputs": [],
   "source": [
    "max_gray(strike_data[\"new_gray_value\"], 200)"
   ]
  },
  {
   "cell_type": "markdown",
   "metadata": {},
   "source": [
    "Well.....shit....lol. Okay okay, so looking at the data again, I think if I increase the bolt start grayscale to 220 instead of 200, then the pattern works."
   ]
  },
  {
   "cell_type": "code",
   "execution_count": null,
   "metadata": {},
   "outputs": [],
   "source": [
    "max_gray(strike_data[\"new_gray_value\"], 220)"
   ]
  },
  {
   "cell_type": "markdown",
   "metadata": {},
   "source": [
    "Alright, well, let's see how many strikes don't follow my conjecture."
   ]
  },
  {
   "cell_type": "code",
   "execution_count": null,
   "metadata": {},
   "outputs": [],
   "source": [
    "max_gray(strike_data[\"new_gray_value\"], 220)"
   ]
  },
  {
   "cell_type": "markdown",
   "metadata": {},
   "source": [
    "Okay, fine, I was wrong okay!\n",
    "\n",
    "In any case, we can still isolate the lightning strikes; let's try creating a function to do that for us."
   ]
  },
  {
   "cell_type": "code",
   "execution_count": null,
   "metadata": {},
   "outputs": [],
   "source": [
    "# Function to isolate the lightning strikes\n",
    "\n",
    "def lightning(grayvalues2, datetimes2 = None):\n",
    "    \n",
    "    count = 1\n",
    "    my_list = []\n",
    "    list_of_gray = []\n",
    "    my_dict = {}\n",
    "    \n",
    "    for i in range(len(grayvalues2)):\n",
    "        \n",
    "        if (grayvalues2.values[i] > 200):\n",
    "            \n",
    "            if not len(list_of_gray):\n",
    "                list_of_gray.append(grayvalues2.values[i-1])\n",
    "            \n",
    "            list_of_gray.append(grayvalues2.values[i])\n",
    "            \n",
    "        else:\n",
    "            \n",
    "            if not len(list_of_gray):\n",
    "                continue            \n",
    "            \n",
    "            list_of_gray.append(grayvalues2.values[i])\n",
    "            \n",
    "            my_dict.update({f\"strike_{count}\":list_of_gray})\n",
    "            my_list.append(my_dict)\n",
    "            \n",
    "            list_of_gray = []\n",
    "#             my_dict = {}\n",
    "            count+=1\n",
    "#     print(my_dict)                    \n",
    "    new_df = pd.DataFrame(data={k:pd.Series(v) for k,v in my_dict.items()})#, columns=[])\n",
    "    \n",
    "    return new_df"
   ]
  },
  {
   "cell_type": "code",
   "execution_count": null,
   "metadata": {},
   "outputs": [],
   "source": [
    "strikes = lightning(strike_data[\"new_gray_value\"])"
   ]
  },
  {
   "cell_type": "code",
   "execution_count": null,
   "metadata": {},
   "outputs": [],
   "source": [
    "strikes.describe()"
   ]
  },
  {
   "cell_type": "code",
   "execution_count": null,
   "metadata": {},
   "outputs": [],
   "source": [
    "strikes.transpose().describe()"
   ]
  },
  {
   "cell_type": "code",
   "execution_count": null,
   "metadata": {},
   "outputs": [],
   "source": [
    "strikes.head(50)"
   ]
  },
  {
   "cell_type": "code",
   "execution_count": null,
   "metadata": {},
   "outputs": [],
   "source": [
    "strikes.iloc[1].mean()"
   ]
  },
  {
   "cell_type": "raw",
   "metadata": {},
   "source": [
    "strikes.iloc[10].value_counts()"
   ]
  },
  {
   "cell_type": "raw",
   "metadata": {},
   "source": [
    "strikes.iloc[11].value_counts()"
   ]
  },
  {
   "cell_type": "raw",
   "metadata": {},
   "source": [
    "strikes.iloc[12].value_counts()"
   ]
  },
  {
   "cell_type": "raw",
   "metadata": {},
   "source": [
    "strikes.iloc[13].value_counts()"
   ]
  },
  {
   "cell_type": "raw",
   "metadata": {},
   "source": [
    "strikes.iloc[14].value_counts()"
   ]
  },
  {
   "cell_type": "raw",
   "metadata": {},
   "source": [
    "strikes.iloc[15].value_counts()"
   ]
  },
  {
   "cell_type": "raw",
   "metadata": {},
   "source": [
    "strikes.iloc[16].value_counts()"
   ]
  },
  {
   "cell_type": "raw",
   "metadata": {},
   "source": [
    "strikes.iloc[17].value_counts()"
   ]
  },
  {
   "cell_type": "raw",
   "metadata": {},
   "source": [
    "strikes.iloc[18].value_counts()"
   ]
  },
  {
   "cell_type": "raw",
   "metadata": {},
   "source": [
    "strikes.iloc[19].value_counts()"
   ]
  },
  {
   "cell_type": "code",
   "execution_count": null,
   "metadata": {},
   "outputs": [],
   "source": [
    "sns.heatmap(strikes.isnull(), yticklabels=True, cbar=False, cmap=\"viridis\")"
   ]
  },
  {
   "cell_type": "markdown",
   "metadata": {},
   "source": [
    "In the above heatmap, the yellow color represents a null value.\n",
    "\n",
    "We can see that most lightning strikes admit around 9-10 grayscale values. There are about 20-30 strikes that have around 4-6 grayscale values.\n",
    "\n",
    "We can actually compute these values exactly"
   ]
  },
  {
   "cell_type": "code",
   "execution_count": null,
   "metadata": {},
   "outputs": [],
   "source": [
    "strike_lengths = {f'length_{i}':strikes.iloc[i].nunique() for i in range(len(strikes.index))}"
   ]
  },
  {
   "cell_type": "code",
   "execution_count": null,
   "metadata": {
    "scrolled": true
   },
   "outputs": [],
   "source": [
    "strike_lengths"
   ]
  },
  {
   "cell_type": "code",
   "execution_count": null,
   "metadata": {},
   "outputs": [],
   "source": []
  },
  {
   "cell_type": "code",
   "execution_count": null,
   "metadata": {},
   "outputs": [],
   "source": []
  }
 ],
 "metadata": {
  "kernelspec": {
   "display_name": "Python 3",
   "language": "python",
   "name": "python3"
  },
  "language_info": {
   "codemirror_mode": {
    "name": "ipython",
    "version": 3
   },
   "file_extension": ".py",
   "mimetype": "text/x-python",
   "name": "python",
   "nbconvert_exporter": "python",
   "pygments_lexer": "ipython3",
   "version": "3.7.6"
  }
 },
 "nbformat": 4,
 "nbformat_minor": 4
}
